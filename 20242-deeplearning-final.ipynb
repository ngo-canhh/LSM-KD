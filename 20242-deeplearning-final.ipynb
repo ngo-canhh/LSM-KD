{
 "cells": [
  {
   "cell_type": "code",
   "execution_count": 1,
   "id": "e61910eb",
   "metadata": {
    "execution": {
     "iopub.execute_input": "2025-05-18T01:33:40.118990Z",
     "iopub.status.busy": "2025-05-18T01:33:40.118789Z",
     "iopub.status.idle": "2025-05-18T01:33:40.125093Z",
     "shell.execute_reply": "2025-05-18T01:33:40.124517Z"
    },
    "papermill": {
     "duration": 0.011589,
     "end_time": "2025-05-18T01:33:40.126145",
     "exception": false,
     "start_time": "2025-05-18T01:33:40.114556",
     "status": "completed"
    },
    "tags": []
   },
   "outputs": [
    {
     "name": "stdout",
     "output_type": "stream",
     "text": [
      "/kaggle/working\n"
     ]
    }
   ],
   "source": [
    "import os\n",
    "\n",
    "working_dir = os.getcwd()w\n",
    "print(working_dir)"
   ]
  },
  {
   "cell_type": "code",
   "execution_count": 2,
   "id": "66ee9072",
   "metadata": {
    "_cell_guid": "b1076dfc-b9ad-4769-8c92-a6c4dae69d19",
    "_uuid": "8f2839f25d086af736a60e9eeb907d3b93b6e0e5",
    "execution": {
     "iopub.execute_input": "2025-05-18T01:33:40.133208Z",
     "iopub.status.busy": "2025-05-18T01:33:40.132648Z",
     "iopub.status.idle": "2025-05-18T01:34:03.527493Z",
     "shell.execute_reply": "2025-05-18T01:34:03.526481Z"
    },
    "papermill": {
     "duration": 23.399682,
     "end_time": "2025-05-18T01:34:03.529122",
     "exception": false,
     "start_time": "2025-05-18T01:33:40.129440",
     "status": "completed"
    },
    "tags": []
   },
   "outputs": [],
   "source": [
    "!cp -r /kaggle/input/20242-deeplearning/* $working_dir"
   ]
  },
  {
   "cell_type": "code",
   "execution_count": 3,
   "id": "2a49cf9d",
   "metadata": {
    "execution": {
     "iopub.execute_input": "2025-05-18T01:34:03.536308Z",
     "iopub.status.busy": "2025-05-18T01:34:03.536082Z",
     "iopub.status.idle": "2025-05-18T01:35:27.811383Z",
     "shell.execute_reply": "2025-05-18T01:35:27.810685Z"
    },
    "papermill": {
     "duration": 84.28046,
     "end_time": "2025-05-18T01:35:27.812811",
     "exception": false,
     "start_time": "2025-05-18T01:34:03.532351",
     "status": "completed"
    },
    "tags": []
   },
   "outputs": [
    {
     "name": "stdout",
     "output_type": "stream",
     "text": [
      "\u001b[2K   \u001b[90m━━━━━━━━━━━━━━━━━━━━━━━━━━━━━━━━━━━━━━━━\u001b[0m \u001b[32m1.0/1.0 MB\u001b[0m \u001b[31m20.4 MB/s\u001b[0m eta \u001b[36m0:00:00\u001b[0m\r\n",
      "\u001b[2K   \u001b[90m━━━━━━━━━━━━━━━━━━━━━━━━━━━━━━━━━━━━━━━━\u001b[0m \u001b[32m363.4/363.4 MB\u001b[0m \u001b[31m4.2 MB/s\u001b[0m eta \u001b[36m0:00:00\u001b[0m\r\n",
      "\u001b[2K   \u001b[90m━━━━━━━━━━━━━━━━━━━━━━━━━━━━━━━━━━━━━━━━\u001b[0m \u001b[32m664.8/664.8 MB\u001b[0m \u001b[31m2.2 MB/s\u001b[0m eta \u001b[36m0:00:00\u001b[0m\r\n",
      "\u001b[2K   \u001b[90m━━━━━━━━━━━━━━━━━━━━━━━━━━━━━━━━━━━━━━━━\u001b[0m \u001b[32m211.5/211.5 MB\u001b[0m \u001b[31m6.2 MB/s\u001b[0m eta \u001b[36m0:00:00\u001b[0m\r\n",
      "\u001b[2K   \u001b[90m━━━━━━━━━━━━━━━━━━━━━━━━━━━━━━━━━━━━━━━━\u001b[0m \u001b[32m56.3/56.3 MB\u001b[0m \u001b[31m31.2 MB/s\u001b[0m eta \u001b[36m0:00:00\u001b[0m\r\n",
      "\u001b[2K   \u001b[90m━━━━━━━━━━━━━━━━━━━━━━━━━━━━━━━━━━━━━━━━\u001b[0m \u001b[32m127.9/127.9 MB\u001b[0m \u001b[31m13.6 MB/s\u001b[0m eta \u001b[36m0:00:00\u001b[0m\r\n",
      "\u001b[2K   \u001b[90m━━━━━━━━━━━━━━━━━━━━━━━━━━━━━━━━━━━━━━━━\u001b[0m \u001b[32m207.5/207.5 MB\u001b[0m \u001b[31m2.9 MB/s\u001b[0m eta \u001b[36m0:00:00\u001b[0m\r\n",
      "\u001b[2K   \u001b[90m━━━━━━━━━━━━━━━━━━━━━━━━━━━━━━━━━━━━━━━━\u001b[0m \u001b[32m21.1/21.1 MB\u001b[0m \u001b[31m75.4 MB/s\u001b[0m eta \u001b[36m0:00:00\u001b[0m\r\n",
      "\u001b[?25hProcessing ./LSM-YOLO\r\n",
      "  Preparing metadata (setup.py) ... \u001b[?25l\u001b[?25hdone\r\n",
      "Requirement already satisfied: matplotlib>=3.3.0 in /usr/local/lib/python3.11/dist-packages (from lsmyolo==8.0.202) (3.7.2)\r\n",
      "Requirement already satisfied: numpy>=1.22.2 in /usr/local/lib/python3.11/dist-packages (from lsmyolo==8.0.202) (1.26.4)\r\n",
      "Requirement already satisfied: opencv-python>=4.6.0 in /usr/local/lib/python3.11/dist-packages (from lsmyolo==8.0.202) (4.11.0.86)\r\n",
      "Requirement already satisfied: pillow>=7.1.2 in /usr/local/lib/python3.11/dist-packages (from lsmyolo==8.0.202) (11.1.0)\r\n",
      "Requirement already satisfied: pyyaml>=5.3.1 in /usr/local/lib/python3.11/dist-packages (from lsmyolo==8.0.202) (6.0.2)\r\n",
      "Requirement already satisfied: requests>=2.23.0 in /usr/local/lib/python3.11/dist-packages (from lsmyolo==8.0.202) (2.32.3)\r\n",
      "Requirement already satisfied: scipy>=1.4.1 in /usr/local/lib/python3.11/dist-packages (from lsmyolo==8.0.202) (1.15.2)\r\n",
      "Requirement already satisfied: torch>=1.8.0 in /usr/local/lib/python3.11/dist-packages (from lsmyolo==8.0.202) (2.6.0+cu124)\r\n",
      "Requirement already satisfied: torchvision>=0.9.0 in /usr/local/lib/python3.11/dist-packages (from lsmyolo==8.0.202) (0.21.0+cu124)\r\n",
      "Requirement already satisfied: tqdm>=4.64.0 in /usr/local/lib/python3.11/dist-packages (from lsmyolo==8.0.202) (4.67.1)\r\n",
      "Requirement already satisfied: pandas>=1.1.4 in /usr/local/lib/python3.11/dist-packages (from lsmyolo==8.0.202) (2.2.3)\r\n",
      "Requirement already satisfied: seaborn>=0.11.0 in /usr/local/lib/python3.11/dist-packages (from lsmyolo==8.0.202) (0.12.2)\r\n",
      "Requirement already satisfied: psutil in /usr/local/lib/python3.11/dist-packages (from lsmyolo==8.0.202) (7.0.0)\r\n",
      "Requirement already satisfied: py-cpuinfo in /usr/local/lib/python3.11/dist-packages (from lsmyolo==8.0.202) (9.0.0)\r\n",
      "Collecting thop>=0.1.1 (from lsmyolo==8.0.202)\r\n",
      "  Downloading thop-0.1.1.post2209072238-py3-none-any.whl.metadata (2.7 kB)\r\n",
      "Collecting albumentations==1.3.1 (from lsmyolo==8.0.202)\r\n",
      "  Downloading albumentations-1.3.1-py3-none-any.whl.metadata (34 kB)\r\n",
      "Requirement already satisfied: pycocotools>=2.0.6 in /usr/local/lib/python3.11/dist-packages (from lsmyolo==8.0.202) (2.0.8)\r\n",
      "Collecting timm==0.9.8 (from lsmyolo==8.0.202)\r\n",
      "  Downloading timm-0.9.8-py3-none-any.whl.metadata (59 kB)\r\n",
      "\u001b[2K     \u001b[90m━━━━━━━━━━━━━━━━━━━━━━━━━━━━━━━━━━━━━━━━\u001b[0m \u001b[32m59.3/59.3 kB\u001b[0m \u001b[31m4.4 MB/s\u001b[0m eta \u001b[36m0:00:00\u001b[0m\r\n",
      "\u001b[?25hCollecting efficientnet_pytorch==0.7.1 (from lsmyolo==8.0.202)\r\n",
      "  Downloading efficientnet_pytorch-0.7.1.tar.gz (21 kB)\r\n",
      "  Preparing metadata (setup.py) ... \u001b[?25l\u001b[?25hdone\r\n",
      "Requirement already satisfied: einops in /usr/local/lib/python3.11/dist-packages (from lsmyolo==8.0.202) (0.8.1)\r\n",
      "Requirement already satisfied: scikit-image>=0.16.1 in /usr/local/lib/python3.11/dist-packages (from albumentations==1.3.1->lsmyolo==8.0.202) (0.25.2)\r\n",
      "Collecting qudida>=0.0.4 (from albumentations==1.3.1->lsmyolo==8.0.202)\r\n",
      "  Downloading qudida-0.0.4-py3-none-any.whl.metadata (1.5 kB)\r\n",
      "Requirement already satisfied: opencv-python-headless>=4.1.1 in /usr/local/lib/python3.11/dist-packages (from albumentations==1.3.1->lsmyolo==8.0.202) (4.11.0.86)\r\n",
      "Requirement already satisfied: huggingface-hub in /usr/local/lib/python3.11/dist-packages (from timm==0.9.8->lsmyolo==8.0.202) (0.31.1)\r\n",
      "Requirement already satisfied: safetensors in /usr/local/lib/python3.11/dist-packages (from timm==0.9.8->lsmyolo==8.0.202) (0.5.3)\r\n",
      "Requirement already satisfied: contourpy>=1.0.1 in /usr/local/lib/python3.11/dist-packages (from matplotlib>=3.3.0->lsmyolo==8.0.202) (1.3.1)\r\n",
      "Requirement already satisfied: cycler>=0.10 in /usr/local/lib/python3.11/dist-packages (from matplotlib>=3.3.0->lsmyolo==8.0.202) (0.12.1)\r\n",
      "Requirement already satisfied: fonttools>=4.22.0 in /usr/local/lib/python3.11/dist-packages (from matplotlib>=3.3.0->lsmyolo==8.0.202) (4.57.0)\r\n",
      "Requirement already satisfied: kiwisolver>=1.0.1 in /usr/local/lib/python3.11/dist-packages (from matplotlib>=3.3.0->lsmyolo==8.0.202) (1.4.8)\r\n",
      "Requirement already satisfied: packaging>=20.0 in /usr/local/lib/python3.11/dist-packages (from matplotlib>=3.3.0->lsmyolo==8.0.202) (25.0)\r\n",
      "Requirement already satisfied: pyparsing<3.1,>=2.3.1 in /usr/local/lib/python3.11/dist-packages (from matplotlib>=3.3.0->lsmyolo==8.0.202) (3.0.9)\r\n",
      "Requirement already satisfied: python-dateutil>=2.7 in /usr/local/lib/python3.11/dist-packages (from matplotlib>=3.3.0->lsmyolo==8.0.202) (2.9.0.post0)\r\n",
      "Requirement already satisfied: mkl_fft in /usr/local/lib/python3.11/dist-packages (from numpy>=1.22.2->lsmyolo==8.0.202) (1.3.8)\r\n",
      "Requirement already satisfied: mkl_random in /usr/local/lib/python3.11/dist-packages (from numpy>=1.22.2->lsmyolo==8.0.202) (1.2.4)\r\n",
      "Requirement already satisfied: mkl_umath in /usr/local/lib/python3.11/dist-packages (from numpy>=1.22.2->lsmyolo==8.0.202) (0.1.1)\r\n",
      "Requirement already satisfied: mkl in /usr/local/lib/python3.11/dist-packages (from numpy>=1.22.2->lsmyolo==8.0.202) (2025.1.0)\r\n",
      "Requirement already satisfied: tbb4py in /usr/local/lib/python3.11/dist-packages (from numpy>=1.22.2->lsmyolo==8.0.202) (2022.1.0)\r\n",
      "Requirement already satisfied: mkl-service in /usr/local/lib/python3.11/dist-packages (from numpy>=1.22.2->lsmyolo==8.0.202) (2.4.1)\r\n",
      "Requirement already satisfied: pytz>=2020.1 in /usr/local/lib/python3.11/dist-packages (from pandas>=1.1.4->lsmyolo==8.0.202) (2025.2)\r\n",
      "Requirement already satisfied: tzdata>=2022.7 in /usr/local/lib/python3.11/dist-packages (from pandas>=1.1.4->lsmyolo==8.0.202) (2025.2)\r\n",
      "Requirement already satisfied: charset-normalizer<4,>=2 in /usr/local/lib/python3.11/dist-packages (from requests>=2.23.0->lsmyolo==8.0.202) (3.4.2)\r\n",
      "Requirement already satisfied: idna<4,>=2.5 in /usr/local/lib/python3.11/dist-packages (from requests>=2.23.0->lsmyolo==8.0.202) (3.10)\r\n",
      "Requirement already satisfied: urllib3<3,>=1.21.1 in /usr/local/lib/python3.11/dist-packages (from requests>=2.23.0->lsmyolo==8.0.202) (2.4.0)\r\n",
      "Requirement already satisfied: certifi>=2017.4.17 in /usr/local/lib/python3.11/dist-packages (from requests>=2.23.0->lsmyolo==8.0.202) (2025.4.26)\r\n",
      "Requirement already satisfied: filelock in /usr/local/lib/python3.11/dist-packages (from torch>=1.8.0->lsmyolo==8.0.202) (3.18.0)\r\n",
      "Requirement already satisfied: typing-extensions>=4.10.0 in /usr/local/lib/python3.11/dist-packages (from torch>=1.8.0->lsmyolo==8.0.202) (4.13.2)\r\n",
      "Requirement already satisfied: networkx in /usr/local/lib/python3.11/dist-packages (from torch>=1.8.0->lsmyolo==8.0.202) (3.4.2)\r\n",
      "Requirement already satisfied: jinja2 in /usr/local/lib/python3.11/dist-packages (from torch>=1.8.0->lsmyolo==8.0.202) (3.1.6)\r\n",
      "Requirement already satisfied: fsspec in /usr/local/lib/python3.11/dist-packages (from torch>=1.8.0->lsmyolo==8.0.202) (2025.3.2)\r\n",
      "Requirement already satisfied: nvidia-cuda-nvrtc-cu12==12.4.127 in /usr/local/lib/python3.11/dist-packages (from torch>=1.8.0->lsmyolo==8.0.202) (12.4.127)\r\n",
      "Requirement already satisfied: nvidia-cuda-runtime-cu12==12.4.127 in /usr/local/lib/python3.11/dist-packages (from torch>=1.8.0->lsmyolo==8.0.202) (12.4.127)\r\n",
      "Requirement already satisfied: nvidia-cuda-cupti-cu12==12.4.127 in /usr/local/lib/python3.11/dist-packages (from torch>=1.8.0->lsmyolo==8.0.202) (12.4.127)\r\n",
      "Requirement already satisfied: nvidia-cudnn-cu12==9.1.0.70 in /usr/local/lib/python3.11/dist-packages (from torch>=1.8.0->lsmyolo==8.0.202) (9.1.0.70)\r\n",
      "Requirement already satisfied: nvidia-cublas-cu12==12.4.5.8 in /usr/local/lib/python3.11/dist-packages (from torch>=1.8.0->lsmyolo==8.0.202) (12.4.5.8)\r\n",
      "Requirement already satisfied: nvidia-cufft-cu12==11.2.1.3 in /usr/local/lib/python3.11/dist-packages (from torch>=1.8.0->lsmyolo==8.0.202) (11.2.1.3)\r\n",
      "Requirement already satisfied: nvidia-curand-cu12==10.3.5.147 in /usr/local/lib/python3.11/dist-packages (from torch>=1.8.0->lsmyolo==8.0.202) (10.3.5.147)\r\n",
      "Requirement already satisfied: nvidia-cusolver-cu12==11.6.1.9 in /usr/local/lib/python3.11/dist-packages (from torch>=1.8.0->lsmyolo==8.0.202) (11.6.1.9)\r\n",
      "Requirement already satisfied: nvidia-cusparse-cu12==12.3.1.170 in /usr/local/lib/python3.11/dist-packages (from torch>=1.8.0->lsmyolo==8.0.202) (12.3.1.170)\r\n",
      "Requirement already satisfied: nvidia-cusparselt-cu12==0.6.2 in /usr/local/lib/python3.11/dist-packages (from torch>=1.8.0->lsmyolo==8.0.202) (0.6.2)\r\n",
      "Requirement already satisfied: nvidia-nccl-cu12==2.21.5 in /usr/local/lib/python3.11/dist-packages (from torch>=1.8.0->lsmyolo==8.0.202) (2.21.5)\r\n",
      "Requirement already satisfied: nvidia-nvtx-cu12==12.4.127 in /usr/local/lib/python3.11/dist-packages (from torch>=1.8.0->lsmyolo==8.0.202) (12.4.127)\r\n",
      "Requirement already satisfied: nvidia-nvjitlink-cu12==12.4.127 in /usr/local/lib/python3.11/dist-packages (from torch>=1.8.0->lsmyolo==8.0.202) (12.4.127)\r\n",
      "Requirement already satisfied: triton==3.2.0 in /usr/local/lib/python3.11/dist-packages (from torch>=1.8.0->lsmyolo==8.0.202) (3.2.0)\r\n",
      "Requirement already satisfied: sympy==1.13.1 in /usr/local/lib/python3.11/dist-packages (from torch>=1.8.0->lsmyolo==8.0.202) (1.13.1)\r\n",
      "Requirement already satisfied: mpmath<1.4,>=1.1.0 in /usr/local/lib/python3.11/dist-packages (from sympy==1.13.1->torch>=1.8.0->lsmyolo==8.0.202) (1.3.0)\r\n",
      "Requirement already satisfied: six>=1.5 in /usr/local/lib/python3.11/dist-packages (from python-dateutil>=2.7->matplotlib>=3.3.0->lsmyolo==8.0.202) (1.17.0)\r\n",
      "Requirement already satisfied: scikit-learn>=0.19.1 in /usr/local/lib/python3.11/dist-packages (from qudida>=0.0.4->albumentations==1.3.1->lsmyolo==8.0.202) (1.2.2)\r\n",
      "Requirement already satisfied: imageio!=2.35.0,>=2.33 in /usr/local/lib/python3.11/dist-packages (from scikit-image>=0.16.1->albumentations==1.3.1->lsmyolo==8.0.202) (2.37.0)\r\n",
      "Requirement already satisfied: tifffile>=2022.8.12 in /usr/local/lib/python3.11/dist-packages (from scikit-image>=0.16.1->albumentations==1.3.1->lsmyolo==8.0.202) (2025.3.30)\r\n",
      "Requirement already satisfied: lazy-loader>=0.4 in /usr/local/lib/python3.11/dist-packages (from scikit-image>=0.16.1->albumentations==1.3.1->lsmyolo==8.0.202) (0.4)\r\n",
      "Requirement already satisfied: hf-xet<2.0.0,>=1.1.0 in /usr/local/lib/python3.11/dist-packages (from huggingface-hub->timm==0.9.8->lsmyolo==8.0.202) (1.1.0)\r\n",
      "Requirement already satisfied: MarkupSafe>=2.0 in /usr/local/lib/python3.11/dist-packages (from jinja2->torch>=1.8.0->lsmyolo==8.0.202) (3.0.2)\r\n",
      "Requirement already satisfied: intel-openmp<2026,>=2024 in /usr/local/lib/python3.11/dist-packages (from mkl->numpy>=1.22.2->lsmyolo==8.0.202) (2024.2.0)\r\n",
      "Requirement already satisfied: tbb==2022.* in /usr/local/lib/python3.11/dist-packages (from mkl->numpy>=1.22.2->lsmyolo==8.0.202) (2022.1.0)\r\n",
      "Requirement already satisfied: tcmlib==1.* in /usr/local/lib/python3.11/dist-packages (from tbb==2022.*->mkl->numpy>=1.22.2->lsmyolo==8.0.202) (1.3.0)\r\n",
      "Requirement already satisfied: intel-cmplr-lib-rt in /usr/local/lib/python3.11/dist-packages (from mkl_umath->numpy>=1.22.2->lsmyolo==8.0.202) (2024.2.0)\r\n",
      "Requirement already satisfied: intel-cmplr-lib-ur==2024.2.0 in /usr/local/lib/python3.11/dist-packages (from intel-openmp<2026,>=2024->mkl->numpy>=1.22.2->lsmyolo==8.0.202) (2024.2.0)\r\n",
      "Requirement already satisfied: joblib>=1.1.1 in /usr/local/lib/python3.11/dist-packages (from scikit-learn>=0.19.1->qudida>=0.0.4->albumentations==1.3.1->lsmyolo==8.0.202) (1.5.0)\r\n",
      "Requirement already satisfied: threadpoolctl>=2.0.0 in /usr/local/lib/python3.11/dist-packages (from scikit-learn>=0.19.1->qudida>=0.0.4->albumentations==1.3.1->lsmyolo==8.0.202) (3.6.0)\r\n",
      "Downloading albumentations-1.3.1-py3-none-any.whl (125 kB)\r\n",
      "\u001b[2K   \u001b[90m━━━━━━━━━━━━━━━━━━━━━━━━━━━━━━━━━━━━━━━━\u001b[0m \u001b[32m125.7/125.7 kB\u001b[0m \u001b[31m6.1 MB/s\u001b[0m eta \u001b[36m0:00:00\u001b[0m\r\n",
      "\u001b[?25hDownloading timm-0.9.8-py3-none-any.whl (2.2 MB)\r\n",
      "\u001b[2K   \u001b[90m━━━━━━━━━━━━━━━━━━━━━━━━━━━━━━━━━━━━━━━━\u001b[0m \u001b[32m2.2/2.2 MB\u001b[0m \u001b[31m43.3 MB/s\u001b[0m eta \u001b[36m0:00:00\u001b[0m\r\n",
      "\u001b[?25hDownloading thop-0.1.1.post2209072238-py3-none-any.whl (15 kB)\r\n",
      "Downloading qudida-0.0.4-py3-none-any.whl (3.5 kB)\r\n",
      "Building wheels for collected packages: lsmyolo, efficientnet_pytorch\r\n",
      "  Building wheel for lsmyolo (setup.py) ... \u001b[?25l\u001b[?25hdone\r\n",
      "  Created wheel for lsmyolo: filename=lsmyolo-8.0.202-py3-none-any.whl size=327902 sha256=628607f0b1e17703f26987b1709861b6fafc3956f1ba145a19b7731f9e7b4843\r\n",
      "  Stored in directory: /root/.cache/pip/wheels/a6/d9/fe/267ab4269a32d70fb66881f1b9c91a169146b328984e1f4423\r\n",
      "  Building wheel for efficientnet_pytorch (setup.py) ... \u001b[?25l\u001b[?25hdone\r\n",
      "  Created wheel for efficientnet_pytorch: filename=efficientnet_pytorch-0.7.1-py3-none-any.whl size=16426 sha256=e841999d180fb732e0a9bc6a4fc012a052e27aefafc4ef59846038f2f65ed638\r\n",
      "  Stored in directory: /root/.cache/pip/wheels/8b/6f/9b/231a832f811ab6ebb1b32455b177ffc6b8b1cd8de19de70c09\r\n",
      "Successfully built lsmyolo efficientnet_pytorch\r\n",
      "Installing collected packages: thop, efficientnet_pytorch, qudida, timm, albumentations, lsmyolo\r\n",
      "  Attempting uninstall: timm\r\n",
      "    Found existing installation: timm 1.0.15\r\n",
      "    Uninstalling timm-1.0.15:\r\n",
      "      Successfully uninstalled timm-1.0.15\r\n",
      "  Attempting uninstall: albumentations\r\n",
      "    Found existing installation: albumentations 2.0.5\r\n",
      "    Uninstalling albumentations-2.0.5:\r\n",
      "      Successfully uninstalled albumentations-2.0.5\r\n",
      "Successfully installed albumentations-1.3.1 efficientnet_pytorch-0.7.1 lsmyolo-8.0.202 qudida-0.0.4 thop-0.1.1.post2209072238 timm-0.9.8\r\n"
     ]
    }
   ],
   "source": [
    "!pip install -q ultralytics\n",
    "!pip install $working_dir/LSM-YOLO"
   ]
  },
  {
   "cell_type": "code",
   "execution_count": 4,
   "id": "b67acb12",
   "metadata": {
    "execution": {
     "iopub.execute_input": "2025-05-18T01:35:27.859367Z",
     "iopub.status.busy": "2025-05-18T01:35:27.859135Z",
     "iopub.status.idle": "2025-05-18T01:35:35.424087Z",
     "shell.execute_reply": "2025-05-18T01:35:35.423489Z"
    },
    "papermill": {
     "duration": 7.590061,
     "end_time": "2025-05-18T01:35:35.425457",
     "exception": false,
     "start_time": "2025-05-18T01:35:27.835396",
     "status": "completed"
    },
    "tags": []
   },
   "outputs": [],
   "source": [
    "# --- Type hints and docstrings were generated by AI and reviewed by the author ngocanhh.---\n",
    "\n",
    "import torch\n",
    "from torch.utils.data import Dataset, DataLoader\n",
    "from torchvision import transforms as tfs\n",
    "from PIL import Image\n",
    "import os\n",
    "from typing import List, Tuple, Dict, Optional, Callable\n",
    "\n",
    "class CustomDataset(Dataset):\n",
    "    \"\"\"\n",
    "    A custom dataset class for loading images and their corresponding annotations.\n",
    "\n",
    "    The dataset expects a directory structure where 'data_path' contains\n",
    "    two subdirectories: 'images' and 'labels'.\n",
    "    - 'images': Contains image files (e.g., .jpg, .png, .webp).\n",
    "    - 'labels': Contains annotation files (e.g., .txt) with the same base name\n",
    "                as their corresponding images. Each line in a label file\n",
    "                represents an object annotation in the format:\n",
    "                <class_id> <x_center_norm> <y_center_norm> <width_norm> <height_norm>\n",
    "    \"\"\"\n",
    "    def __init__(self, data_path: str, transforms: Optional[Callable] = None):\n",
    "        \"\"\"\n",
    "        Initializes the CustomDataset.\n",
    "\n",
    "        Args:\n",
    "            data_path (str): The root path to the dataset directory.\n",
    "                             This directory should contain 'images' and 'labels' subfolders.\n",
    "            transforms (Optional[Callable]): A callable (e.g., torchvision.transforms.Compose)\n",
    "                                             to apply to the images. Defaults to None.\n",
    "\n",
    "        Raises:\n",
    "            FileNotFoundError: If `data_path` does not exist.\n",
    "        \"\"\"\n",
    "        if not os.path.exists(data_path):\n",
    "            raise FileNotFoundError(f'Path not found {data_path}')\n",
    "        self.data_path: str = data_path\n",
    "        self.image_dir: str = os.path.join(self.data_path, 'images')\n",
    "        self.label_dir: str = os.path.join(self.data_path, 'labels')\n",
    "        self.transforms: Optional[Callable] = transforms\n",
    "\n",
    "        # Prepare imgs, labels\n",
    "        self.images: List[str] = []\n",
    "        for f in os.listdir(self.image_dir):\n",
    "            if f.endswith(('.jpg', '.png', '.webp')):\n",
    "                self.images.append(f)\n",
    "        self.images.sort()\n",
    "\n",
    "\n",
    "    def __len__(self) -> int:\n",
    "        \"\"\"\n",
    "        Returns the total number of images in the dataset.\n",
    "\n",
    "        Returns:\n",
    "            int: The number of images.\n",
    "        \"\"\"\n",
    "        return len(self.images)\n",
    "\n",
    "    def __getitem__(self, idx: int) -> Tuple[torch.Tensor, torch.Tensor]:\n",
    "        \"\"\"\n",
    "        Retrieves an image and its annotations at the given index.\n",
    "\n",
    "        Args:\n",
    "            idx (int): The index of the item to retrieve.\n",
    "\n",
    "        Returns:\n",
    "            Tuple[torch.Tensor, torch.Tensor]:\n",
    "                - img (torch.Tensor): The transformed image tensor.\n",
    "                - annotations (torch.Tensor): A tensor of annotations.\n",
    "                  Each row is [class_id, x_center, y_center, width, height].\n",
    "                  If no annotations are found, an empty tensor of shape (0, 5)\n",
    "                  or similar (depending on `torch.tensor(annotations)`) is returned.\n",
    "                  If annotations exist, its shape is (num_annotations, 5).\n",
    "        \"\"\"\n",
    "        # Get image tensor\n",
    "        img_path: str = os.path.join(self.image_dir, self.images[idx])\n",
    "        img: Image.Image = Image.open(img_path).convert('RGB')\n",
    "        if self.transforms:\n",
    "            img_tensor: torch.Tensor = self.transforms(img)\n",
    "        else:\n",
    "            # If no transforms, convert to tensor manually (basic example)\n",
    "            img_tensor: torch.Tensor = tfs.ToTensor()(img)\n",
    "\n",
    "\n",
    "        # Get labels tensor\n",
    "        label_file_name: str = self.images[idx].split('.')[0] + '.txt'\n",
    "        label_path: str = os.path.join(self.label_dir, label_file_name)\n",
    "        annotations_list: List[List[float]] = []\n",
    "        if os.path.exists(label_path):\n",
    "            with open(label_path, 'r') as f:\n",
    "                lines: List[str] = f.readlines()\n",
    "            for line in lines:\n",
    "                anno: List[float] = list(map(float, line.split()))\n",
    "                if len(anno) == 5: # class_id, x_center, y_center, width, height\n",
    "                    annotations_list.append(anno)\n",
    "\n",
    "        # Ensure annotations tensor has 2 dimensions, even if empty.\n",
    "        # If annotations_list is empty, torch.tensor([]) creates a 1D tensor of size 0.\n",
    "        # We want (0, 5) for consistency if there are no annotations.\n",
    "        if not annotations_list:\n",
    "            annotations_tensor: torch.Tensor = torch.empty((0, 5), dtype=torch.float32)\n",
    "        else:\n",
    "            annotations_tensor: torch.Tensor = torch.tensor(annotations_list, dtype=torch.float32)\n",
    "\n",
    "        return img_tensor, annotations_tensor\n",
    "\n",
    "def custom_collate_fn(data_list: List[Tuple[torch.Tensor, torch.Tensor]]) -> Tuple[torch.Tensor, Dict[str, torch.Tensor]]:\n",
    "    \"\"\"\n",
    "    Custom collate function to process a batch of data from CustomDataset.\n",
    "\n",
    "    It combines images into a single tensor and organizes annotations into a\n",
    "    dictionary, mapping annotation components (batch_idx, cls, bboxes) to tensors.\n",
    "\n",
    "    Args:\n",
    "        data_list (List[Tuple[torch.Tensor, torch.Tensor]]):\n",
    "            A list of tuples, where each tuple contains:\n",
    "            - img (torch.Tensor): An image tensor.\n",
    "            - annotations (torch.Tensor): An annotation tensor of shape (N, 5)\n",
    "              where N is the number of objects in the image. Each row is\n",
    "              [class_id, x_center, y_center, width, height].\n",
    "\n",
    "    Returns:\n",
    "        Tuple[torch.Tensor, Dict[str, torch.Tensor]]:\n",
    "            - batch (Dict[str, torch.Tensor]): A dictionary containing:\n",
    "                - 'img' (torch.Tensor): A tensor of stacked images (B, C, H, W).\n",
    "                - 'batch_idx' (torch.Tensor): Tensor indicating the image index in the batch\n",
    "                                              for each bounding box. Shape (total_bboxes,).\n",
    "                - 'cls' (torch.Tensor): Tensor of class IDs for each bounding box.\n",
    "                                        Shape (total_bboxes,).\n",
    "                - 'bboxes' (torch.Tensor): Tensor of bounding boxes (x_center, y_center, width, height)\n",
    "                                           for all images in the batch. Shape (total_bboxes, 4).\n",
    "                                           If no bboxes in batch, shape is (0,4).\n",
    "    \"\"\"\n",
    "    imgs: List[torch.Tensor] = []\n",
    "    batch_index_list: List[int] = []\n",
    "    cls_list: List[float] = [] # Storing as float initially due to anno[0].item()\n",
    "    bboxes_list: List[torch.Tensor] = []\n",
    "\n",
    "    for i, (img, annotations) in enumerate(data_list):\n",
    "        imgs.append(img)\n",
    "        # annotations is expected to be (N, 5)\n",
    "        if annotations.numel() > 0: # Check if annotations tensor is not empty\n",
    "            for anno in annotations: # anno is a 1D tensor of shape (5,)\n",
    "                batch_index_list.append(i)\n",
    "                cls_list.append(anno[0].item()) # class_id\n",
    "                bboxes_list.append(anno[1:])    # bbox coordinates\n",
    "\n",
    "    batch: Dict[str, torch.Tensor] = {\n",
    "        'img': torch.stack(imgs, dim=0),\n",
    "        'batch_idx': torch.tensor(batch_index_list, dtype=torch.int64),\n",
    "        'cls': torch.tensor(cls_list, dtype=torch.int64), # Convert class IDs to int64\n",
    "        'bboxes': torch.empty((0, 4), dtype=torch.float32) if not bboxes_list else torch.stack(bboxes_list, dim=0)\n",
    "    }\n",
    "\n",
    "    return batch\n",
    "\n",
    "def get_dataloader(data_path: str,\n",
    "                   batch_size: int = 4,\n",
    "                   num_workers: int = 4,\n",
    "                   shuffle: bool = True) -> DataLoader:\n",
    "    \"\"\"\n",
    "    Creates and returns a DataLoader for the CustomDataset.\n",
    "\n",
    "    Args:\n",
    "        data_path (str): Path to the dataset.\n",
    "        batch_size (int): Number of samples per batch. Defaults to 4.\n",
    "        num_workers (int): Number of subprocesses to use for data loading.\n",
    "                           Defaults to 4.\n",
    "        pin_memory (bool): If True, the data loader will copy Tensors\n",
    "                           into CUDA pinned memory before returning them.\n",
    "                           Defaults to True.\n",
    "        shuffle (bool): Whether to shuffle the data at every epoch. Defaults to True.\n",
    "\n",
    "\n",
    "    Returns:\n",
    "        DataLoader: A PyTorch DataLoader instance.\n",
    "    \"\"\"\n",
    "    transforms: tfs.Compose = tfs.Compose([\n",
    "        tfs.Resize((640, 640)),\n",
    "        tfs.ToTensor()\n",
    "    ])\n",
    "    dataset: CustomDataset = CustomDataset(data_path, transforms)\n",
    "\n",
    "    return DataLoader(dataset,\n",
    "                      batch_size=batch_size,\n",
    "                      num_workers=num_workers,\n",
    "                      pin_memory=False,\n",
    "                      shuffle=shuffle,\n",
    "                      collate_fn=custom_collate_fn)"
   ]
  },
  {
   "cell_type": "code",
   "execution_count": null,
   "id": "74b39007",
   "metadata": {},
   "outputs": [],
   "source": []
  },
  {
   "cell_type": "code",
   "execution_count": 5,
   "id": "ebf27bac",
   "metadata": {
    "execution": {
     "iopub.execute_input": "2025-05-18T01:35:35.470904Z",
     "iopub.status.busy": "2025-05-18T01:35:35.470590Z",
     "iopub.status.idle": "2025-05-18T01:35:39.654442Z",
     "shell.execute_reply": "2025-05-18T01:35:39.653876Z"
    },
    "papermill": {
     "duration": 4.208116,
     "end_time": "2025-05-18T01:35:39.655831",
     "exception": false,
     "start_time": "2025-05-18T01:35:35.447715",
     "status": "completed"
    },
    "tags": []
   },
   "outputs": [
    {
     "name": "stdout",
     "output_type": "stream",
     "text": [
      "Creating new Ultralytics Settings v0.0.6 file ✅ \n",
      "View Ultralytics Settings with 'yolo settings' or at '/root/.config/Ultralytics/settings.json'\n",
      "Update Settings with 'yolo settings key=value', i.e. 'yolo settings runs_dir=path/to/dir'. For help see https://docs.ultralytics.com/quickstart/#ultralytics-settings.\n"
     ]
    }
   ],
   "source": [
    "import torch\n",
    "import torch.nn as nn\n",
    "import torch.nn.functional as F\n",
    "from ultralytics import YOLO as YOLO_ultra\n",
    "from lsmyolo import YOLO as YOLO_lsm\n",
    "import math\n",
    "import copy\n",
    "\n",
    "class KDModelConfig:\n",
    "    def __init__(self):\n",
    "        self.layers_name = ['head_p3', 'head_p4', 'head_p5', 'backbone_p3', 'backbone_p4', 'backbone_p5']\n",
    "        self.student_layers_idx = {\n",
    "            'head_p3': 21,\n",
    "            'head_p4': 24,\n",
    "            'head_p5': 27,\n",
    "            'backbone_p3': 4,\n",
    "            'backbone_p4': 6,\n",
    "            'backbone_p5': 9\n",
    "        }\n",
    "        self.teacher_layers_idx = {\n",
    "            'head_p3': 15,\n",
    "            'head_p4': 18,\n",
    "            'head_p5': 21,\n",
    "            'backbone_p3': 4,\n",
    "            'backbone_p4': 6,\n",
    "            'backbone_p5': 9\n",
    "        }\n",
    "        self.student_layers_output_channel = {\n",
    "            'head_p3': 64,\n",
    "            'head_p4': 128,\n",
    "            'head_p5': 256,\n",
    "            'backbone_p3': 64,\n",
    "            'backbone_p4': 128,\n",
    "            'backbone_p5': 256\n",
    "        }\n",
    "        self.teacher_layers_output_channel = {\n",
    "            'head_p3': 256,\n",
    "            'head_p4': 512,\n",
    "            'head_p5': 512,\n",
    "            'backbone_p3': 512,\n",
    "            'backbone_p4': 512,\n",
    "            'backbone_p5': 512\n",
    "        }\n",
    "\n",
    "    @classmethod\n",
    "    def from_dict(cls, config_dict):\n",
    "        \"\"\"\n",
    "        Create a KDModelConfig instance from a dictionary\n",
    "\n",
    "        Args:\n",
    "            config_dict (dict): Dictionary containing configuration parameters\n",
    "\n",
    "        Returns:\n",
    "            KDModelConfig: A new instance with parameters from the dictionary\n",
    "        \"\"\"\n",
    "        config = cls()\n",
    "\n",
    "        # Update config with values from dictionary\n",
    "        if 'layers_name' in config_dict:\n",
    "            config.layers_name = config_dict['layers_name']\n",
    "\n",
    "        if 'student_layers_idx' in config_dict:\n",
    "            config.student_layers_idx = config_dict['student_layers_idx']\n",
    "\n",
    "        if 'teacher_layers_idx' in config_dict:\n",
    "            config.teacher_layers_idx = config_dict['teacher_layers_idx']\n",
    "\n",
    "        if 'student_layers_output_channel' in config_dict:\n",
    "            config.student_layers_output_channel = config_dict['student_layers_output_channel']\n",
    "\n",
    "        if 'teacher_layers_output_channel' in config_dict:\n",
    "            config.teacher_layers_output_channel = config_dict['teacher_layers_output_channel']\n",
    "\n",
    "        return config\n",
    "\n",
    "class FeatureExtractor():\n",
    "    def __init__(self):\n",
    "        self.features = {}\n",
    "\n",
    "    def get_hook(self, name):\n",
    "\n",
    "        def hook(module, input, output):\n",
    "            self.features[name] = output\n",
    "            # print(module.__class__.__name__)\n",
    "            # print(output.shape)\n",
    "\n",
    "        return hook\n",
    "\n",
    "    def clear(self):\n",
    "        self.features.clear()\n",
    "\n",
    "class HyperParams:\n",
    "    def __init__(self, hyp_dict):\n",
    "        # Set default values\n",
    "        self.box = 7.5  # Default YOLOv8 values\n",
    "        self.cls = 0.5\n",
    "        self.dfl = 1.5\n",
    "\n",
    "        # Update with any values from the dict\n",
    "        for key, value in hyp_dict.items():\n",
    "            setattr(self, key, value)\n",
    "\n",
    "        # Ensure the hyp attribute exists\n",
    "        if not hasattr(self, 'hyp'):\n",
    "            self.hyp = self\n",
    "\n",
    "class Teacher(nn.Module):\n",
    "    def __init__(self, model, config):\n",
    "        super(Teacher, self).__init__()\n",
    "\n",
    "        # Get base model\n",
    "        yolo = YOLO_ultra(model)\n",
    "        self.model = yolo.model\n",
    "        self.config = config\n",
    "\n",
    "        # Feature extractor and register hooks\n",
    "        self.feature_extractor = FeatureExtractor()\n",
    "        for layer_name in self.config.layers_name:\n",
    "            layer = self.model.model[self.config.teacher_layers_idx[layer_name]]\n",
    "            layer.register_forward_hook(self.feature_extractor.get_hook(layer_name))\n",
    "\n",
    "        # Get hyperparams\n",
    "        self.model.args = HyperParams(self.model.args)\n",
    "\n",
    "        # Get number of classes\n",
    "        self.nc = self.model.model[-1].nc\n",
    "\n",
    "    def forward(self, x):\n",
    "        self.feature_extractor.clear()\n",
    "        x = self.model(x)\n",
    "\n",
    "        return x, self.feature_extractor.features\n",
    "\n",
    "class Student(nn.Module):\n",
    "    def __init__(self, model, config):\n",
    "        super(Student, self).__init__()\n",
    "\n",
    "        # Get base model\n",
    "        self.yolo = YOLO_lsm(model)\n",
    "        self.model = self.yolo.model\n",
    "        self.config = config\n",
    "\n",
    "        # Feature extractor and register hooks\n",
    "        self.feature_extractor = FeatureExtractor()\n",
    "        for layer_name in self.config.layers_name:\n",
    "            layer = self.model.model[self.config.student_layers_idx[layer_name]]\n",
    "            layer.register_forward_hook(self.feature_extractor.get_hook(layer_name))\n",
    "\n",
    "        # Get hyperparams\n",
    "        self.model.args = HyperParams(self.model.args)\n",
    "\n",
    "        # Get number of classes\n",
    "        self.nc = self.model.model[-1].nc\n",
    "\n",
    "    def eval(self):\n",
    "        self.training = False\n",
    "        self.model.eval()\n",
    "\n",
    "    def train(self):\n",
    "        self.training = True\n",
    "        self.model.train()\n",
    "\n",
    "    def forward(self, x):\n",
    "        self.feature_extractor.clear()\n",
    "        x = self.model(x)\n",
    "\n",
    "        return x, self.feature_extractor.features\n",
    "\n",
    "class KD_Model(nn.Module):\n",
    "    def __init__(self, teacher_model, student_model, config=None):\n",
    "        super(KD_Model, self).__init__()\n",
    "        self.config = config if config is not None else KDModelConfig()\n",
    "        self.teacher = Teacher(teacher_model, self.config)\n",
    "        self.student = Student(student_model, self.config)\n",
    "\n",
    "        # Get number of classes\n",
    "        self.nc = self.student.nc\n",
    "        self.adapters = nn.ModuleDict()\n",
    "\n",
    "        for layer_name in self.config.layers_name:\n",
    "            adapter = nn.Conv2d(\n",
    "                self.config.student_layers_output_channel[layer_name],\n",
    "                self.config.teacher_layers_output_channel[layer_name],\n",
    "                kernel_size=1,\n",
    "                stride=1,\n",
    "                padding=0\n",
    "            )\n",
    "\n",
    "            nn.init.kaiming_normal_(adapter.weight, a=math.sqrt(5))\n",
    "            if adapter.bias is not None:\n",
    "                fan_in, _ = nn.init._calculate_fan_in_and_fan_out(adapter.weight)\n",
    "                if fan_in != 0: # Tránh chia cho 0\n",
    "                    bound = 1 / math.sqrt(fan_in)\n",
    "                    nn.init.uniform_(adapter.bias, -bound, bound)\n",
    "                else:\n",
    "                    nn.init.constant_(adapter.bias, 0) # Fallback\n",
    "\n",
    "            self.adapters[layer_name] = adapter\n",
    "\n",
    "\n",
    "    def eval(self):\n",
    "        # super(KD_Model, self).eval()\n",
    "        self.training = False\n",
    "        self.student.eval()\n",
    "        self.teacher.eval()\n",
    "        self.adapters.eval()\n",
    "\n",
    "    def train(self):\n",
    "        # super(KD_Model, self).train()\n",
    "        self.training = True\n",
    "        self.student.train()\n",
    "        self.adapters.train()\n",
    "        self.teacher.eval()\n",
    "\n",
    "    def val(self, data_yaml_path, project, name, split='val', save=True):\n",
    "        yolo_to_val = copy.deepcopy(self.student.yolo)\n",
    "        metrics = yolo_to_val.val(\n",
    "            data=data_yaml_path,\n",
    "            split=split,\n",
    "            save_json=False,\n",
    "            project=project,\n",
    "            name=name,\n",
    "            save=save, \n",
    "        )\n",
    "        return metrics\n",
    "\n",
    "    def forward(self, x):\n",
    "        with torch.no_grad():\n",
    "            _, teacher_features = self.teacher(x)\n",
    "\n",
    "        student_output, original_student_features = self.student(x)\n",
    "\n",
    "        adapted_student_features = {}\n",
    "        for layer_name in self.config.layers_name:\n",
    "            adapted_student_features[layer_name] = self.adapters[layer_name](original_student_features[layer_name])\n",
    "            # print(student_features[layer_name].shape)\n",
    "        return student_output, adapted_student_features, teacher_features\n",
    "\n",
    "    def get_distillation_loss(self, adapted_student_features, teacher_features):\n",
    "        loss = 0\n",
    "        for layer_name in self.config.layers_name:\n",
    "            loss += F.mse_loss(adapted_student_features[layer_name], teacher_features[layer_name])\n",
    "        return loss"
   ]
  },
  {
   "cell_type": "code",
   "execution_count": 6,
   "id": "36a3e252",
   "metadata": {
    "execution": {
     "iopub.execute_input": "2025-05-18T01:35:39.701982Z",
     "iopub.status.busy": "2025-05-18T01:35:39.701630Z",
     "iopub.status.idle": "2025-05-18T01:35:39.708089Z",
     "shell.execute_reply": "2025-05-18T01:35:39.707376Z"
    },
    "papermill": {
     "duration": 0.030544,
     "end_time": "2025-05-18T01:35:39.709233",
     "exception": false,
     "start_time": "2025-05-18T01:35:39.678689",
     "status": "completed"
    },
    "tags": []
   },
   "outputs": [],
   "source": [
    "v9c_to_lsm = {\n",
    "    'layers_name': ['head_p3', 'head_p4', 'head_p5', 'backbone_p3', 'backbone_p4', 'backbone_p5'],\n",
    "    'student_layers_idx': {\n",
    "            'head_p3': 21,\n",
    "            'head_p4': 24,\n",
    "            'head_p5': 27,\n",
    "            'backbone_p3': 4,\n",
    "            'backbone_p4': 6,\n",
    "            'backbone_p5': 9\n",
    "    },\n",
    "    'teacher_layers_idx': {\n",
    "            'head_p3': 15,\n",
    "            'head_p4': 18,\n",
    "            'head_p5': 21,\n",
    "            'backbone_p3': 4,\n",
    "            'backbone_p4': 6,\n",
    "            'backbone_p5': 9\n",
    "    },\n",
    "    'student_layers_output_channel': {\n",
    "            'head_p3': 64,\n",
    "            'head_p4': 128,\n",
    "            'head_p5': 256,\n",
    "            'backbone_p3': 64,\n",
    "            'backbone_p4': 128,\n",
    "            'backbone_p5': 256\n",
    "    },\n",
    "    'teacher_layers_output_channel': {\n",
    "            'head_p3': 256,\n",
    "            'head_p4': 512,\n",
    "            'head_p5': 512,\n",
    "            'backbone_p3': 512,\n",
    "            'backbone_p4': 512,\n",
    "            'backbone_p5': 512\n",
    "    }\n",
    "}\n",
    "\n",
    "v8s_to_lsm = {\n",
    "    'layers_name': ['head_p3', 'head_p4', 'head_p5', 'backbone_p3', 'backbone_p4', 'backbone_p5'],\n",
    "    'student_layers_idx': {\n",
    "            'head_p3': 21,\n",
    "            'head_p4': 24,\n",
    "            'head_p5': 27,\n",
    "            'backbone_p3': 4,\n",
    "            'backbone_p4': 6,\n",
    "            'backbone_p5': 9\n",
    "    },\n",
    "    'teacher_layers_idx': {\n",
    "            'head_p3': 15,\n",
    "            'head_p4': 18,\n",
    "            'head_p5': 21,\n",
    "            'backbone_p3': 4,\n",
    "            'backbone_p4': 6,\n",
    "            'backbone_p5': 9\n",
    "    },\n",
    "    'student_layers_output_channel': {\n",
    "            'head_p3': 64,\n",
    "            'head_p4': 128,\n",
    "            'head_p5': 256,\n",
    "            'backbone_p3': 64,\n",
    "            'backbone_p4': 128,\n",
    "            'backbone_p5': 256\n",
    "    },\n",
    "    'teacher_layers_output_channel': {\n",
    "            'head_p3': 128,\n",
    "            'head_p4': 256,\n",
    "            'head_p5': 512,\n",
    "            'backbone_p3': 128,\n",
    "            'backbone_p4': 256,\n",
    "            'backbone_p5': 512\n",
    "    }\n",
    "}"
   ]
  },
  {
   "cell_type": "code",
   "execution_count": 7,
   "id": "a6944705",
   "metadata": {
    "execution": {
     "iopub.execute_input": "2025-05-18T01:35:39.757156Z",
     "iopub.status.busy": "2025-05-18T01:35:39.756937Z",
     "iopub.status.idle": "2025-05-18T01:35:39.766456Z",
     "shell.execute_reply": "2025-05-18T01:35:39.765912Z"
    },
    "papermill": {
     "duration": 0.035117,
     "end_time": "2025-05-18T01:35:39.767475",
     "exception": false,
     "start_time": "2025-05-18T01:35:39.732358",
     "status": "completed"
    },
    "tags": []
   },
   "outputs": [],
   "source": [
    "import torch\n",
    "import torch.optim as optim\n",
    "import torch.nn as nn\n",
    "import os\n",
    "from lsmyolo.utils.loss import v8DetectionLoss\n",
    "\n",
    "def evaluate(kd_model, val_dataloader, student_loss_fn, device, lambda_kd, epoch_num=-1, num_epochs=-1):\n",
    "    kd_model.eval()  # Đặt model ở chế độ evaluation\n",
    "    total_val_loss_epoch = 0\n",
    "    main_val_loss_epoch = 0\n",
    "    kd_val_loss_epoch = 0\n",
    "\n",
    "    # Tắt tính toán gradient cho quá trình evaluation\n",
    "    with torch.no_grad():\n",
    "        for batch_idx, batch_data in enumerate(val_dataloader):\n",
    "            # Di chuyển dữ liệu sang device\n",
    "            for key in batch_data:\n",
    "                if isinstance(batch_data[key], torch.Tensor):\n",
    "                    batch_data[key] = batch_data[key].to(device)\n",
    "\n",
    "            images = batch_data['img']\n",
    "\n",
    "            # 1. Forward pass\n",
    "            # Giả định kd_model.forward() trả về (student_raw_output, student_features_adapted, teacher_features)\n",
    "            # ngay cả trong chế độ eval. Nếu teacher_features không có sẵn, nó nên là None.\n",
    "            student_raw_output_for_loss_fn, student_features_adapted, teacher_features = kd_model(images)\n",
    "\n",
    "            # 2. Tính main loss (hiệu suất của student)\n",
    "            main_loss_total, main_loss_components = student_loss_fn(student_raw_output_for_loss_fn, batch_data)\n",
    "            main_loss = main_loss_total / images.shape[0]  # Chuẩn hóa theo batch size\n",
    "\n",
    "            # 3. Tính distillation loss\n",
    "            distillation_loss = kd_model.get_distillation_loss(student_features_adapted, teacher_features)\n",
    "\n",
    "            # 4. Kết hợp loss\n",
    "            combined_loss = main_loss + lambda_kd * distillation_loss\n",
    "\n",
    "            # 5. Cộng dồn loss\n",
    "            total_val_loss_epoch += combined_loss.item()\n",
    "            main_val_loss_epoch += main_loss.item()\n",
    "            kd_val_loss_epoch += distillation_loss.item()\n",
    "\n",
    "            # if batch_idx % 10 == 0:  # In log mỗi 10 batch cho validation\n",
    "            #     box_l, cls_l, dfl_l = main_loss_components\n",
    "            #     epoch_str = f\"Epoch {epoch_num+1}/{num_epochs} | \" if epoch_num != -1 else \"\"\n",
    "            #     print(f\"{epoch_str}Validation Batch {batch_idx}/{len(val_dataloader)} | \"\n",
    "            #           f\"Total Val Loss: {combined_loss.item():.4f} | \"\n",
    "            #           f\"Main Val Loss: {main_loss.item():.4f} (Box: {box_l.item():.4f}, \"\n",
    "            #           f\"Cls: {cls_l.item():.4f}, DFL: {dfl_l.item():.4f}) | \"\n",
    "            #           f\"KD Val Loss: {distillation_loss.item():.4f}\")\n",
    "\n",
    "    avg_total_val_loss = total_val_loss_epoch / len(val_dataloader)\n",
    "    avg_main_val_loss = main_val_loss_epoch / len(val_dataloader)\n",
    "    avg_kd_val_loss = kd_val_loss_epoch / len(val_dataloader)\n",
    "\n",
    "    # epoch_str_summary = f\"Epoch {epoch_num+1} \" if epoch_num != -1 else \"\"\n",
    "    # print(f\"--- {epoch_str_summary}Validation Summary ---\")\n",
    "    # print(f\"Avg Total Validation Loss: {avg_total_val_loss:.4f}\")\n",
    "    # print(f\"Avg Main Validation Loss: {avg_main_val_loss:.4f}\")\n",
    "    # print(f\"Avg KD Validation Loss: {avg_kd_val_loss:.4f}\")\n",
    "\n",
    "    return avg_total_val_loss, avg_main_val_loss, avg_kd_val_loss\n",
    "\n",
    "\n",
    "\n",
    "def train_one_epoch(kd_model, student_loss_fn, optimizer, dataloader, device, lambda_kd, epoch_num, num_epochs):\n",
    "    kd_model.train()\n",
    "    total_loss_epoch = 0\n",
    "    main_loss_epoch = 0\n",
    "    kd_loss_epoch = 0\n",
    "\n",
    "    for batch_idx, batch_data in enumerate(dataloader):\n",
    "        # Move data to device\n",
    "        for key in batch_data:\n",
    "            if isinstance(batch_data[key], torch.Tensor):\n",
    "                batch_data[key] = batch_data[key].to(device)\n",
    "\n",
    "        # 1. Forward pass\n",
    "        images = batch_data['img']\n",
    "        optimizer.zero_grad()\n",
    "\n",
    "        student_raw_output_for_loss_fn, student_features_adapted, teacher_features = kd_model(images)\n",
    "\n",
    "        # 2. Calculate main loss\n",
    "        main_loss_total, main_loss_components = student_loss_fn(student_raw_output_for_loss_fn, batch_data)\n",
    "        # Main loss is calculated with hyp gains (box, cls, dfl), components are detached and not scaled by hyp\n",
    "        main_loss = main_loss_total / images.shape[0] # Normalize by batch size\n",
    "\n",
    "        # 3. Calculate distillation loss\n",
    "        distillation_loss = kd_model.get_distillation_loss(student_features_adapted, teacher_features)\n",
    "\n",
    "        # 4. Combine loss\n",
    "        combined_loss = main_loss + lambda_kd * distillation_loss\n",
    "\n",
    "        # 5. Backward pass\n",
    "        combined_loss.backward()\n",
    "\n",
    "        # 6. Update parameters\n",
    "        optimizer.step()\n",
    "\n",
    "        # 7. Log loss\n",
    "        total_loss_epoch += combined_loss.item()\n",
    "        main_loss_epoch += main_loss.item()\n",
    "        kd_loss_epoch += distillation_loss.item()\n",
    "\n",
    "        if batch_idx % 10 == 0:\n",
    "            box_l, cls_l, dfl_l = main_loss_components\n",
    "            # print(f\"Epoch {epoch_num+1}/{num_epochs} | Batch {batch_idx}/{len(dataloader)} | \"\n",
    "            #       f\"Total Loss: {combined_loss.item():.4f} | \"\n",
    "            #       f\"Main Loss (avg): {main_loss.item():.4f} (Box: {box_l.item():.4f}, \"\n",
    "            #       f\"Cls: {cls_l.item():.4f}, DFL: {dfl_l.item():.4f}) | \"\n",
    "            #       f\"KD Loss: {distillation_loss.item():.4f}\")\n",
    "\n",
    "    avg_total_loss = total_loss_epoch / len(dataloader)\n",
    "    avg_main_loss = main_loss_epoch / len(dataloader)\n",
    "    avg_kd_loss = kd_loss_epoch / len(dataloader)\n",
    "    # print(f\"--- Epoch {epoch_num+1} Summary ---\")\n",
    "    # print(f\"Avg Total Loss: {avg_total_loss:.4f}\")\n",
    "    # print(f\"Avg Main Loss: {avg_main_loss:.4f}\")\n",
    "    # print(f\"Avg KD Loss: {avg_kd_loss:.4f}\")\n",
    "    return avg_total_loss, avg_main_loss, avg_kd_loss"
   ]
  },
  {
   "cell_type": "code",
   "execution_count": 8,
   "id": "ce9a665a",
   "metadata": {
    "execution": {
     "iopub.execute_input": "2025-05-18T01:35:39.813902Z",
     "iopub.status.busy": "2025-05-18T01:35:39.813639Z",
     "iopub.status.idle": "2025-05-18T01:35:44.542482Z",
     "shell.execute_reply": "2025-05-18T01:35:44.541635Z"
    },
    "papermill": {
     "duration": 4.753182,
     "end_time": "2025-05-18T01:35:44.543705",
     "exception": false,
     "start_time": "2025-05-18T01:35:39.790523",
     "status": "completed"
    },
    "tags": []
   },
   "outputs": [
    {
     "name": "stdout",
     "output_type": "stream",
     "text": [
      "Using device: cuda\n"
     ]
    },
    {
     "name": "stderr",
     "output_type": "stream",
     "text": [
      "WARNING ⚠️ no model scale passed. Assuming scale='n'.\n",
      "\n",
      "                   from  n    params  module                                       arguments                     \n",
      "  0                  -1  1       788  lsmyolo.nn.modules.RFAConv.RFAConv           [3, 16, 3, 2]                 \n",
      "  1                  -1  1      6400  lsmyolo.nn.modules.RFAConv.RFAConv           [16, 32, 3, 2]                \n",
      "  2                  -1  1      8736  lsmyolo.nn.modules.block.MSFM                [32, 32, 1, True]             \n",
      "  3                  -1  1     19776  lsmyolo.nn.modules.block.LAE                 [32]                          \n",
      "  4                  -1  2     58240  lsmyolo.nn.modules.block.MSFM                [32, 64, 2, True]             \n",
      "  5                  -1  1     41600  lsmyolo.nn.modules.block.LAE                 [64]                          \n",
      "  6                  -1  2    231168  lsmyolo.nn.modules.block.MSFM                [64, 128, 2, True]            \n",
      "  7                  -1  1     91392  lsmyolo.nn.modules.block.LAE                 [128]                         \n",
      "  8                  -1  1    510208  lsmyolo.nn.modules.block.MSFM                [128, 256, 1, True]           \n",
      "  9                  -1  1    164608  lsmyolo.nn.modules.block.SPPF                [256, 256, 5]                 \n",
      " 10                  -1  1         0  torch.nn.modules.upsampling.Upsample         [None, 2, 'nearest']          \n",
      " 11             [-1, 6]  1         0  lsmyolo.nn.modules.conv.Concat               [1]                           \n",
      " 12                  -1  1    169088  lsmyolo.nn.modules.block.MSFM                [384, 128, 1]                 \n",
      " 13                  -1  1         0  torch.nn.modules.upsampling.Upsample         [None, 2, 'nearest']          \n",
      " 14             [-1, 4]  1         0  lsmyolo.nn.modules.conv.Concat               [1]                           \n",
      " 15                  -1  1     42560  lsmyolo.nn.modules.block.MSFM                [192, 64, 1]                  \n",
      " 16                  -1  1         0  torch.nn.modules.upsampling.Upsample         [None, 2, 'nearest']          \n",
      " 17             [-1, 2]  1         0  lsmyolo.nn.modules.conv.Concat               [1]                           \n",
      " 18                  -1  1     10784  lsmyolo.nn.modules.block.MSFM                [96, 32, 1]                   \n",
      " 19                  -1  1     19776  lsmyolo.nn.modules.block.LAE                 [32]                          \n",
      " 20            [-1, 15]  1         0  lsmyolo.nn.modules.conv.Concat               [1]                           \n",
      " 21                  -1  1     36416  lsmyolo.nn.modules.block.MSFM                [96, 64, 1]                   \n",
      " 22                  -1  1     41600  lsmyolo.nn.modules.block.LAE                 [64]                          \n",
      " 23            [-1, 12]  1         0  lsmyolo.nn.modules.conv.Concat               [1]                           \n",
      " 24                  -1  1    144512  lsmyolo.nn.modules.block.MSFM                [192, 128, 1]                 \n",
      " 25                  -1  1     91392  lsmyolo.nn.modules.block.LAE                 [128]                         \n",
      " 26             [-1, 9]  1         0  lsmyolo.nn.modules.conv.Concat               [1]                           \n",
      " 27                  -1  1    575744  lsmyolo.nn.modules.block.MSFM                [384, 256, 1]                 \n",
      " 28    [18, 21, 24, 27]  1    617364  lsmyolo.nn.modules.head.Detect               [1, [32, 64, 128, 256]]       \n",
      "LSM-YOLO summary: 503 layers, 2882152 parameters, 2882136 gradients, 12.6 GFLOPs\n",
      "\n"
     ]
    },
    {
     "name": "stdout",
     "output_type": "stream",
     "text": [
      "Successfully initialized v8DetectionLoss for student model.\n",
      "Building AdamW optimizer for student model: DetectionModel\n",
      "Optimizer: AdamW(lr=0.001, betas=(0.9,0.999)) with parameter groups:\n",
      "  - Group 0 (Main Weights): 124 params, weight_decay=1e-05\n",
      "  - Group 1 (BN Weights/logit_scale): 114 params, weight_decay=0.0\n",
      "  - Group 2 (Biases): 122 params, weight_decay=0.0\n",
      "Adding adapter parameters to the AdamW optimizer.\n",
      "  - Group Adapters: 12 params, weight_decay=1e-05, lr=0.001\n"
     ]
    }
   ],
   "source": [
    "# 1. Set device\n",
    "if torch.backends.mps.is_available() and torch.backends.mps.is_built():\n",
    "    device = torch.device('mps')\n",
    "elif torch.cuda.is_available():\n",
    "    device = torch.device('cuda')\n",
    "else:\n",
    "    device = torch.device('cpu')\n",
    "print(f\"Using device: {device}\")\n",
    "\n",
    "# 2. Setup model\n",
    "model_name = 'yolov8n_best.pt'\n",
    "teacher_model_path = os.path.join(working_dir, 'pretrained_model', model_name)\n",
    "student_model_cfg_path = 'LSM-YOLO/LSM-YOLO.yaml'\n",
    "config = KDModelConfig.from_dict(v8s_to_lsm)\n",
    "kd_model = KD_Model(teacher_model_path, student_model_cfg_path, config)\n",
    "\n",
    "# # 2.1. Check multi-gpu\n",
    "# if torch.cuda.device_count() > 1 and device == torch.device('cuda'):\n",
    "#     print(f\"Using {torch.cuda.device_count()} GPUs\")\n",
    "#     kd_model = torch.nn.DataParallel(kd_model)\n",
    "\n",
    "kd_model.to(device)\n",
    "\n",
    "# 3. Setup loss fn\n",
    "try:\n",
    "    # v8DetectionLoss need an instance of ultralytics.nn.tasks.DectectionModel as parameter\n",
    "    student_loss_fn = v8DetectionLoss(kd_model.student.model)\n",
    "    print(\"Successfully initialized v8DetectionLoss for student model.\")\n",
    "except Exception as e:\n",
    "    print(f\"Error initializing student_loss_fn (v8DetectionLoss): {e}\")\n",
    "    print(\"Please ensure that:\")\n",
    "    print(\"1. `kd_model.student.model` is the correct LSM-YOLO model object (e.g., instance of DetectionModel).\")\n",
    "    print(\"2. The student model has a `model[-1]` (Detect layer) with `stride`, `nc`, `reg_max` attributes.\")\n",
    "    print(\"3. The student model has an `args` attribute (or `hyp`) containing hyperparameters like `box`, `cls`, `dfl` gains.\")\n",
    "    import traceback\n",
    "    traceback.print_exc()\n",
    "\n",
    "# 4. Setup optimizer\n",
    "student_model_to_optimize = kd_model.student.model\n",
    "\n",
    "# Hyperparameters cho AdamW theo kiểu Ultralytics (giá trị mặc định/phổ biến)\n",
    "lr = 0.001\n",
    "beta1 = 0.9\n",
    "beta2 = 0.999\n",
    "default_weight_decay = 1e-5 # Sẽ áp dụng cho nhóm g0\n",
    "\n",
    "print(f\"Building AdamW optimizer for student model: {type(student_model_to_optimize).__name__}\")\n",
    "\n",
    "g0, g1, g2 = [], [], []  # optimizer parameter groups\n",
    "bn = tuple(v for k, v in nn.__dict__.items() if \"Norm\" in k)  # normalization layers\n",
    "\n",
    "for module_name, module in student_model_to_optimize.named_modules():\n",
    "    for param_name, param in module.named_parameters(recurse=False):\n",
    "        if not param.requires_grad:\n",
    "            continue\n",
    "        fullname = f\"{module_name}.{param_name}\" if module_name else param_name\n",
    "        if \"bias\" in fullname:\n",
    "            g2.append(param)  # Biases\n",
    "        elif isinstance(module, bn) or \"logit_scale\" in fullname:\n",
    "            g1.append(param)  # BatchNorm weights, logit_scale\n",
    "        else:\n",
    "            g0.append(param)  # Other weights\n",
    "\n",
    "# Khởi tạo AdamW\n",
    "# Nhóm g2 (biases) được truyền vào constructor với weight_decay=0.0\n",
    "optimizer = optim.AdamW(g2, lr=lr, betas=(beta1, beta2), weight_decay=0.0)\n",
    "\n",
    "# Thêm nhóm g0 (weights chính) với weight_decay đã định nghĩa\n",
    "optimizer.add_param_group({\"params\": g0, \"weight_decay\": default_weight_decay})\n",
    "\n",
    "# Thêm nhóm g1 (BatchNorm weights, etc.) với weight_decay=0.0\n",
    "optimizer.add_param_group({\"params\": g1, \"weight_decay\": 0.0})\n",
    "\n",
    "print(\n",
    "    f\"Optimizer: AdamW(lr={lr}, betas=({beta1},{beta2})) with parameter groups:\\n\"\n",
    "    f\"  - Group 0 (Main Weights): {len(g0)} params, weight_decay={default_weight_decay}\\n\"\n",
    "    f\"  - Group 1 (BN Weights/logit_scale): {len(g1)} params, weight_decay=0.0\\n\"\n",
    "    f\"  - Group 2 (Biases): {len(g2)} params, weight_decay=0.0\"\n",
    ")\n",
    "\n",
    "# Thêm tham số của adapters vào optimizer\n",
    "if hasattr(kd_model, 'adapters') and list(kd_model.adapters.parameters()):\n",
    "    adapter_params = list(kd_model.adapters.parameters())\n",
    "    if adapter_params:\n",
    "        print(f\"Adding adapter parameters to the AdamW optimizer.\")\n",
    "        adapter_weight_decay = default_weight_decay \n",
    "        adapter_lr = lr\n",
    "        optimizer.add_param_group({\n",
    "            \"params\": adapter_params,\n",
    "            \"weight_decay\": adapter_weight_decay,\n",
    "            \"lr\": adapter_lr,\n",
    "            \"name\": \"adapters\" \n",
    "        })\n",
    "        print(f\"  - Group Adapters: {len(adapter_params)} params, weight_decay={adapter_weight_decay}, lr={adapter_lr}\")\n",
    "    else:\n",
    "        print(\"No trainable parameters found in kd_model.adapters.\")\n",
    "else:\n",
    "    print(\"kd_model.adapters not found or has no parameters.\")\n",
    "\n",
    "# params_to_optimize = [\n",
    "#     {'params': kd_model.student.parameters()},\n",
    "#     {'params': kd_model.adapters.parameters()},\n",
    "# ]\n",
    "# optimizer = optim.AdamW(params_to_optimize, lr=5e-4)\n",
    "\n",
    "# 5. Set dataloader\n",
    "data_dir = os.path.join(working_dir, 'Br35H-Mask-Prepared')\n",
    "train_data_dir = os.path.join(data_dir, 'train')\n",
    "val_data_dir = os.path.join(data_dir, 'val')\n",
    "data_yaml_path = os.path.join(data_dir, 'data.yaml')\n",
    "batch_size = 16\n",
    "num_workers = 2\n",
    "train_dataloader = get_dataloader(train_data_dir, batch_size, num_workers)\n",
    "val_dataloader = get_dataloader(val_data_dir, batch_size, num_workers)"
   ]
  },
  {
   "cell_type": "code",
   "execution_count": 9,
   "id": "cc26ce7a",
   "metadata": {
    "execution": {
     "iopub.execute_input": "2025-05-18T01:35:44.591088Z",
     "iopub.status.busy": "2025-05-18T01:35:44.590824Z",
     "iopub.status.idle": "2025-05-18T10:47:58.527202Z",
     "shell.execute_reply": "2025-05-18T10:47:58.525991Z"
    },
    "papermill": {
     "duration": 33133.961117,
     "end_time": "2025-05-18T10:47:58.528480",
     "exception": false,
     "start_time": "2025-05-18T01:35:44.567363",
     "status": "completed"
    },
    "tags": []
   },
   "outputs": [
    {
     "name": "stdout",
     "output_type": "stream",
     "text": [
      "***** START TRAINING WITH 300 EPOCHS, KD yolov8n_best.pt, LAMBDA_KD 3\n",
      "-------------------- EPOCH 1 START --------------------\n",
      "Training start ...\n",
      "TRAIN:\n",
      "\tAVG_LOSS: 15.59426754335814\n",
      "\tMAIN_LOSS: 12.899992037423049\n",
      "\tKD_LOSS: 0.898091854928415\n",
      "Evaluating start ...\n",
      "VAL:\n",
      "\tAVG_LOSS: 15.241217295328775\n",
      "\tMAIN_LOSS: 13.095138708750406\n",
      "\tKD_LOSS: 0.7153595263759295\n"
     ]
    },
    {
     "name": "stderr",
     "output_type": "stream",
     "text": [
      "LSM-YOLO summary (fused): 391 layers, 2873048 parameters, 18824 gradients, 12.4 GFLOPs\n",
      "Downloading https://ultralytics.com/assets/Arial.ttf to '/root/.config/Ultralytics/Arial.ttf'...\n",
      "100%|██████████| 755k/755k [00:00<00:00, 17.7MB/s]\n",
      "\u001b[34m\u001b[1mval: \u001b[0mScanning /kaggle/working/Br35H-Mask-Prepared/val/labels... 151 images, 225 backgrounds, 0 corrupt: 100%|██████████| 376/376 [00:00<00:00, 2000.15it/s]\n",
      "\u001b[34m\u001b[1mval: \u001b[0mNew cache created: /kaggle/working/Br35H-Mask-Prepared/val/labels.cache\n",
      "                 Class     Images  Instances      Box(P          R      mAP50  mAP50-95): 100%|██████████| 12/12 [00:09<00:00,  1.25it/s]\n",
      "                   all        376        181   0.000589      0.287   0.000536    0.00016\n",
      "/usr/local/lib/python3.11/dist-packages/matplotlib/colors.py:721: RuntimeWarning: invalid value encountered in less\n",
      "  xa[xa < 0] = -1\n",
      "/usr/local/lib/python3.11/dist-packages/matplotlib/colors.py:721: RuntimeWarning: invalid value encountered in less\n",
      "  xa[xa < 0] = -1\n",
      "Speed: 1.7ms preprocess, 17.1ms inference, 0.0ms loss, 0.9ms postprocess per image\n",
      "Results saved to \u001b[1mruns/epoch\u001b[0m\n"
     ]
    },
    {
     "name": "stdout",
     "output_type": "stream",
     "text": [
      "Epoch 1: New best mAP: 0.0002, model saved.\n",
      "-------------------- EPOCH 1 END --------------------\n",
      "-------------------- EPOCH 2 START --------------------\n",
      "Training start ...\n",
      "TRAIN:\n",
      "\tAVG_LOSS: 12.316650125044811\n",
      "\tMAIN_LOSS: 10.420361180848714\n",
      "\tKD_LOSS: 0.6320963154865217\n",
      "Evaluating start ...\n",
      "VAL:\n",
      "\tAVG_LOSS: 12.491517265637716\n",
      "\tMAIN_LOSS: 10.442134221394857\n",
      "\tKD_LOSS: 0.6831276789307594\n"
     ]
    },
    {
     "name": "stderr",
     "output_type": "stream",
     "text": [
      "LSM-YOLO summary (fused): 391 layers, 2873048 parameters, 18824 gradients, 12.4 GFLOPs\n",
      "\u001b[34m\u001b[1mval: \u001b[0mScanning /kaggle/working/Br35H-Mask-Prepared/val/labels.cache... 151 images, 225 backgrounds, 0 corrupt: 100%|██████████| 376/376 [00:00<?, ?it/s]\n",
      "                 Class     Images  Instances      Box(P          R      mAP50  mAP50-95): 100%|██████████| 12/12 [00:08<00:00,  1.40it/s]\n",
      "                   all        376        181    0.00151      0.492     0.0162    0.00478\n",
      "/usr/local/lib/python3.11/dist-packages/matplotlib/colors.py:721: RuntimeWarning: invalid value encountered in less\n",
      "  xa[xa < 0] = -1\n",
      "/usr/local/lib/python3.11/dist-packages/matplotlib/colors.py:721: RuntimeWarning: invalid value encountered in less\n",
      "  xa[xa < 0] = -1\n",
      "Speed: 2.0ms preprocess, 16.6ms inference, 0.0ms loss, 0.8ms postprocess per image\n",
      "Results saved to \u001b[1mruns/epoch2\u001b[0m\n"
     ]
    },
    {
     "name": "stdout",
     "output_type": "stream",
     "text": [
      "Epoch 2: New best mAP: 0.0048, model saved.\n",
      "-------------------- EPOCH 2 END --------------------\n",
      "-------------------- EPOCH 3 START --------------------\n",
      "Training start ...\n",
      "TRAIN:\n",
      "\tAVG_LOSS: 11.107416744473614\n",
      "\tMAIN_LOSS: 9.390781571593466\n",
      "\tKD_LOSS: 0.5722117307065409\n",
      "Evaluating start ...\n",
      "VAL:\n",
      "\tAVG_LOSS: 11.326274593671164\n",
      "\tMAIN_LOSS: 9.599076867103577\n",
      "\tKD_LOSS: 0.5757325937350591\n"
     ]
    },
    {
     "name": "stderr",
     "output_type": "stream",
     "text": [
      "LSM-YOLO summary (fused): 391 layers, 2873048 parameters, 18824 gradients, 12.4 GFLOPs\n",
      "\u001b[34m\u001b[1mval: \u001b[0mScanning /kaggle/working/Br35H-Mask-Prepared/val/labels.cache... 151 images, 225 backgrounds, 0 corrupt: 100%|██████████| 376/376 [00:00<?, ?it/s]\n",
      "                 Class     Images  Instances      Box(P          R      mAP50  mAP50-95): 100%|██████████| 12/12 [00:08<00:00,  1.43it/s]\n",
      "                   all        376        181    0.00226      0.536     0.0941     0.0289\n",
      "/usr/local/lib/python3.11/dist-packages/matplotlib/colors.py:721: RuntimeWarning: invalid value encountered in less\n",
      "  xa[xa < 0] = -1\n",
      "/usr/local/lib/python3.11/dist-packages/matplotlib/colors.py:721: RuntimeWarning: invalid value encountered in less\n",
      "  xa[xa < 0] = -1\n",
      "Speed: 1.7ms preprocess, 16.7ms inference, 0.0ms loss, 0.8ms postprocess per image\n",
      "Results saved to \u001b[1mruns/epoch3\u001b[0m\n"
     ]
    },
    {
     "name": "stdout",
     "output_type": "stream",
     "text": [
      "Epoch 3: New best mAP: 0.0289, model saved.\n",
      "-------------------- EPOCH 3 END --------------------\n",
      "-------------------- EPOCH 4 START --------------------\n",
      "Training start ...\n",
      "TRAIN:\n",
      "\tAVG_LOSS: 10.590548515319824\n",
      "\tMAIN_LOSS: 8.98556633237042\n",
      "\tKD_LOSS: 0.5349940755699254\n",
      "Evaluating start ...\n",
      "VAL:\n",
      "\tAVG_LOSS: 11.645959973335266\n",
      "\tMAIN_LOSS: 9.654433727264404\n",
      "\tKD_LOSS: 0.6638420969247818\n"
     ]
    },
    {
     "name": "stderr",
     "output_type": "stream",
     "text": [
      "LSM-YOLO summary (fused): 391 layers, 2873048 parameters, 18824 gradients, 12.4 GFLOPs\n",
      "\u001b[34m\u001b[1mval: \u001b[0mScanning /kaggle/working/Br35H-Mask-Prepared/val/labels.cache... 151 images, 225 backgrounds, 0 corrupt: 100%|██████████| 376/376 [00:00<?, ?it/s]\n",
      "                 Class     Images  Instances      Box(P          R      mAP50  mAP50-95): 100%|██████████| 12/12 [00:08<00:00,  1.40it/s]\n",
      "                   all        376        181     0.0867      0.182      0.049     0.0161\n",
      "/usr/local/lib/python3.11/dist-packages/matplotlib/colors.py:721: RuntimeWarning: invalid value encountered in less\n",
      "  xa[xa < 0] = -1\n",
      "/usr/local/lib/python3.11/dist-packages/matplotlib/colors.py:721: RuntimeWarning: invalid value encountered in less\n",
      "  xa[xa < 0] = -1\n",
      "Speed: 2.0ms preprocess, 16.7ms inference, 0.0ms loss, 0.8ms postprocess per image\n",
      "Results saved to \u001b[1mruns/epoch4\u001b[0m\n"
     ]
    },
    {
     "name": "stdout",
     "output_type": "stream",
     "text": [
      "-------------------- EPOCH 4 END --------------------\n",
      "-------------------- EPOCH 5 START --------------------\n",
      "Training start ...\n",
      "TRAIN:\n",
      "\tAVG_LOSS: 9.861418687844578\n",
      "\tMAIN_LOSS: 8.338327462160134\n",
      "\tKD_LOSS: 0.5076970808868166\n",
      "Evaluating start ...\n",
      "VAL:\n",
      "\tAVG_LOSS: 13.788251399993896\n",
      "\tMAIN_LOSS: 11.909088015556335\n",
      "\tKD_LOSS: 0.6263877662519614\n"
     ]
    },
    {
     "name": "stderr",
     "output_type": "stream",
     "text": [
      "LSM-YOLO summary (fused): 391 layers, 2873048 parameters, 18824 gradients, 12.4 GFLOPs\n",
      "\u001b[34m\u001b[1mval: \u001b[0mScanning /kaggle/working/Br35H-Mask-Prepared/val/labels.cache... 151 images, 225 backgrounds, 0 corrupt: 100%|██████████| 376/376 [00:00<?, ?it/s]\n",
      "                 Class     Images  Instances      Box(P          R      mAP50  mAP50-95): 100%|██████████| 12/12 [00:08<00:00,  1.41it/s]\n",
      "                   all        376        181     0.0816      0.232       0.04     0.0135\n",
      "/usr/local/lib/python3.11/dist-packages/matplotlib/colors.py:721: RuntimeWarning: invalid value encountered in less\n",
      "  xa[xa < 0] = -1\n",
      "/usr/local/lib/python3.11/dist-packages/matplotlib/colors.py:721: RuntimeWarning: invalid value encountered in less\n",
      "  xa[xa < 0] = -1\n",
      "Speed: 1.8ms preprocess, 16.7ms inference, 0.0ms loss, 0.7ms postprocess per image\n",
      "Results saved to \u001b[1mruns/epoch5\u001b[0m\n"
     ]
    },
    {
     "name": "stdout",
     "output_type": "stream",
     "text": [
      "-------------------- EPOCH 5 END --------------------\n",
      "-------------------- EPOCH 6 START --------------------\n",
      "Training start ...\n",
      "TRAIN:\n",
      "\tAVG_LOSS: 9.29403861564926\n",
      "\tMAIN_LOSS: 7.811424738244165\n",
      "\tKD_LOSS: 0.4942046302028849\n",
      "Evaluating start ...\n",
      "VAL:\n",
      "\tAVG_LOSS: 9.395620544751486\n",
      "\tMAIN_LOSS: 7.884124477704366\n",
      "\tKD_LOSS: 0.5038319776455561\n"
     ]
    },
    {
     "name": "stderr",
     "output_type": "stream",
     "text": [
      "LSM-YOLO summary (fused): 391 layers, 2873048 parameters, 18824 gradients, 12.4 GFLOPs\n",
      "\u001b[34m\u001b[1mval: \u001b[0mScanning /kaggle/working/Br35H-Mask-Prepared/val/labels.cache... 151 images, 225 backgrounds, 0 corrupt: 100%|██████████| 376/376 [00:00<?, ?it/s]\n",
      "                 Class     Images  Instances      Box(P          R      mAP50  mAP50-95): 100%|██████████| 12/12 [00:08<00:00,  1.41it/s]\n",
      "                   all        376        181      0.447      0.343      0.342      0.109\n",
      "/usr/local/lib/python3.11/dist-packages/matplotlib/colors.py:721: RuntimeWarning: invalid value encountered in less\n",
      "  xa[xa < 0] = -1\n",
      "/usr/local/lib/python3.11/dist-packages/matplotlib/colors.py:721: RuntimeWarning: invalid value encountered in less\n",
      "  xa[xa < 0] = -1\n",
      "Speed: 2.0ms preprocess, 16.7ms inference, 0.0ms loss, 0.6ms postprocess per image\n",
      "Results saved to \u001b[1mruns/epoch6\u001b[0m\n"
     ]
    },
    {
     "name": "stdout",
     "output_type": "stream",
     "text": [
      "Epoch 6: New best mAP: 0.1095, model saved.\n",
      "-------------------- EPOCH 6 END --------------------\n",
      "-------------------- EPOCH 7 START --------------------\n",
      "Training start ...\n",
      "TRAIN:\n",
      "\tAVG_LOSS: 9.016200192366973\n",
      "\tMAIN_LOSS: 7.562074981158292\n",
      "\tKD_LOSS: 0.48470840423921996\n",
      "Evaluating start ...\n",
      "VAL:\n",
      "\tAVG_LOSS: 9.078683455785116\n",
      "\tMAIN_LOSS: 7.4986625512441\n",
      "\tKD_LOSS: 0.5266736211876074\n"
     ]
    },
    {
     "name": "stderr",
     "output_type": "stream",
     "text": [
      "LSM-YOLO summary (fused): 391 layers, 2873048 parameters, 18824 gradients, 12.4 GFLOPs\n",
      "\u001b[34m\u001b[1mval: \u001b[0mScanning /kaggle/working/Br35H-Mask-Prepared/val/labels.cache... 151 images, 225 backgrounds, 0 corrupt: 100%|██████████| 376/376 [00:00<?, ?it/s]\n",
      "                 Class     Images  Instances      Box(P          R      mAP50  mAP50-95): 100%|██████████| 12/12 [00:08<00:00,  1.44it/s]\n",
      "                   all        376        181      0.523      0.431      0.401      0.149\n",
      "/usr/local/lib/python3.11/dist-packages/matplotlib/colors.py:721: RuntimeWarning: invalid value encountered in less\n",
      "  xa[xa < 0] = -1\n",
      "/usr/local/lib/python3.11/dist-packages/matplotlib/colors.py:721: RuntimeWarning: invalid value encountered in less\n",
      "  xa[xa < 0] = -1\n",
      "Speed: 1.7ms preprocess, 16.7ms inference, 0.0ms loss, 0.6ms postprocess per image\n",
      "Results saved to \u001b[1mruns/epoch7\u001b[0m\n"
     ]
    },
    {
     "name": "stdout",
     "output_type": "stream",
     "text": [
      "Epoch 7: New best mAP: 0.1485, model saved.\n",
      "-------------------- EPOCH 7 END --------------------\n",
      "-------------------- EPOCH 8 START --------------------\n",
      "Training start ...\n",
      "TRAIN:\n",
      "\tAVG_LOSS: 8.29080240032341\n",
      "\tMAIN_LOSS: 6.885422374628767\n",
      "\tKD_LOSS: 0.4684599947325791\n",
      "Evaluating start ...\n",
      "VAL:\n",
      "\tAVG_LOSS: 8.65201630194982\n",
      "\tMAIN_LOSS: 7.205700000127156\n",
      "\tKD_LOSS: 0.48210544635852176\n"
     ]
    },
    {
     "name": "stderr",
     "output_type": "stream",
     "text": [
      "LSM-YOLO summary (fused): 391 layers, 2873048 parameters, 18824 gradients, 12.4 GFLOPs\n",
      "\u001b[34m\u001b[1mval: \u001b[0mScanning /kaggle/working/Br35H-Mask-Prepared/val/labels.cache... 151 images, 225 backgrounds, 0 corrupt: 100%|██████████| 376/376 [00:00<?, ?it/s]\n",
      "                 Class     Images  Instances      Box(P          R      mAP50  mAP50-95): 100%|██████████| 12/12 [00:08<00:00,  1.44it/s]\n",
      "                   all        376        181      0.469      0.474      0.391      0.147\n",
      "/usr/local/lib/python3.11/dist-packages/matplotlib/colors.py:721: RuntimeWarning: invalid value encountered in less\n",
      "  xa[xa < 0] = -1\n",
      "/usr/local/lib/python3.11/dist-packages/matplotlib/colors.py:721: RuntimeWarning: invalid value encountered in less\n",
      "  xa[xa < 0] = -1\n",
      "Speed: 1.6ms preprocess, 16.7ms inference, 0.0ms loss, 0.6ms postprocess per image\n",
      "Results saved to \u001b[1mruns/epoch8\u001b[0m\n"
     ]
    },
    {
     "name": "stdout",
     "output_type": "stream",
     "text": [
      "-------------------- EPOCH 8 END --------------------\n",
      "-------------------- EPOCH 9 START --------------------\n",
      "Training start ...\n",
      "TRAIN:\n",
      "\tAVG_LOSS: 7.555525200276435\n",
      "\tMAIN_LOSS: 6.191751860365083\n",
      "\tKD_LOSS: 0.4545911128007913\n",
      "Evaluating start ...\n",
      "VAL:\n",
      "\tAVG_LOSS: 8.084715982278189\n",
      "\tMAIN_LOSS: 6.666765034198761\n",
      "\tKD_LOSS: 0.47265032306313515\n"
     ]
    },
    {
     "name": "stderr",
     "output_type": "stream",
     "text": [
      "LSM-YOLO summary (fused): 391 layers, 2873048 parameters, 18824 gradients, 12.4 GFLOPs\n",
      "\u001b[34m\u001b[1mval: \u001b[0mScanning /kaggle/working/Br35H-Mask-Prepared/val/labels.cache... 151 images, 225 backgrounds, 0 corrupt: 100%|██████████| 376/376 [00:00<?, ?it/s]\n",
      "                 Class     Images  Instances      Box(P          R      mAP50  mAP50-95): 100%|██████████| 12/12 [00:08<00:00,  1.45it/s]\n",
      "                   all        376        181      0.692      0.503       0.56      0.269\n",
      "/usr/local/lib/python3.11/dist-packages/matplotlib/colors.py:721: RuntimeWarning: invalid value encountered in less\n",
      "  xa[xa < 0] = -1\n",
      "/usr/local/lib/python3.11/dist-packages/matplotlib/colors.py:721: RuntimeWarning: invalid value encountered in less\n",
      "  xa[xa < 0] = -1\n",
      "Speed: 1.7ms preprocess, 16.8ms inference, 0.0ms loss, 0.5ms postprocess per image\n",
      "Results saved to \u001b[1mruns/epoch9\u001b[0m\n"
     ]
    },
    {
     "name": "stdout",
     "output_type": "stream",
     "text": [
      "Epoch 9: New best mAP: 0.2693, model saved.\n",
      "-------------------- EPOCH 9 END --------------------\n",
      "-------------------- EPOCH 10 START --------------------\n",
      "Training start ...\n",
      "TRAIN:\n",
      "\tAVG_LOSS: 7.161391330670707\n",
      "\tMAIN_LOSS: 5.825187248519704\n",
      "\tKD_LOSS: 0.44540135430384287\n",
      "Evaluating start ...\n",
      "VAL:\n",
      "\tAVG_LOSS: 7.395600577195485\n",
      "\tMAIN_LOSS: 6.010024785995483\n",
      "\tKD_LOSS: 0.4618585954109828\n"
     ]
    },
    {
     "name": "stderr",
     "output_type": "stream",
     "text": [
      "LSM-YOLO summary (fused): 391 layers, 2873048 parameters, 18824 gradients, 12.4 GFLOPs\n",
      "\u001b[34m\u001b[1mval: \u001b[0mScanning /kaggle/working/Br35H-Mask-Prepared/val/labels.cache... 151 images, 225 backgrounds, 0 corrupt: 100%|██████████| 376/376 [00:00<?, ?it/s]\n",
      "                 Class     Images  Instances      Box(P          R      mAP50  mAP50-95): 100%|██████████| 12/12 [00:08<00:00,  1.44it/s]\n",
      "                   all        376        181      0.632      0.456      0.514      0.253\n",
      "/usr/local/lib/python3.11/dist-packages/matplotlib/colors.py:721: RuntimeWarning: invalid value encountered in less\n",
      "  xa[xa < 0] = -1\n",
      "/usr/local/lib/python3.11/dist-packages/matplotlib/colors.py:721: RuntimeWarning: invalid value encountered in less\n",
      "  xa[xa < 0] = -1\n",
      "Speed: 1.7ms preprocess, 16.7ms inference, 0.0ms loss, 0.6ms postprocess per image\n",
      "Results saved to \u001b[1mruns/epoch10\u001b[0m\n"
     ]
    },
    {
     "name": "stdout",
     "output_type": "stream",
     "text": [
      "-------------------- EPOCH 10 END --------------------\n",
      "-------------------- EPOCH 11 START --------------------\n",
      "Training start ...\n",
      "TRAIN:\n",
      "\tAVG_LOSS: 6.238925161240976\n",
      "\tMAIN_LOSS: 4.942924831486955\n",
      "\tKD_LOSS: 0.43200011004375505\n",
      "Evaluating start ...\n",
      "VAL:\n",
      "\tAVG_LOSS: 6.742232342561086\n",
      "\tMAIN_LOSS: 5.461742242177327\n",
      "\tKD_LOSS: 0.42683002228538197\n"
     ]
    },
    {
     "name": "stderr",
     "output_type": "stream",
     "text": [
      "LSM-YOLO summary (fused): 391 layers, 2873048 parameters, 18824 gradients, 12.4 GFLOPs\n",
      "\u001b[34m\u001b[1mval: \u001b[0mScanning /kaggle/working/Br35H-Mask-Prepared/val/labels.cache... 151 images, 225 backgrounds, 0 corrupt: 100%|██████████| 376/376 [00:00<?, ?it/s]\n",
      "                 Class     Images  Instances      Box(P          R      mAP50  mAP50-95): 100%|██████████| 12/12 [00:08<00:00,  1.42it/s]\n",
      "                   all        376        181      0.713      0.618      0.661      0.373\n",
      "/usr/local/lib/python3.11/dist-packages/matplotlib/colors.py:721: RuntimeWarning: invalid value encountered in less\n",
      "  xa[xa < 0] = -1\n",
      "/usr/local/lib/python3.11/dist-packages/matplotlib/colors.py:721: RuntimeWarning: invalid value encountered in less\n",
      "  xa[xa < 0] = -1\n",
      "Speed: 1.8ms preprocess, 16.6ms inference, 0.0ms loss, 0.6ms postprocess per image\n",
      "Results saved to \u001b[1mruns/epoch11\u001b[0m\n"
     ]
    },
    {
     "name": "stdout",
     "output_type": "stream",
     "text": [
      "Epoch 11: New best mAP: 0.3730, model saved.\n",
      "-------------------- EPOCH 11 END --------------------\n",
      "-------------------- EPOCH 12 START --------------------\n",
      "Training start ...\n",
      "TRAIN:\n",
      "\tAVG_LOSS: 5.7186022287682645\n",
      "\tMAIN_LOSS: 4.449458188648466\n",
      "\tKD_LOSS: 0.4230480201636689\n",
      "Evaluating start ...\n",
      "VAL:\n",
      "\tAVG_LOSS: 6.695407609144847\n",
      "\tMAIN_LOSS: 5.377615948518117\n",
      "\tKD_LOSS: 0.43926388397812843\n"
     ]
    },
    {
     "name": "stderr",
     "output_type": "stream",
     "text": [
      "LSM-YOLO summary (fused): 391 layers, 2873048 parameters, 18824 gradients, 12.4 GFLOPs\n",
      "\u001b[34m\u001b[1mval: \u001b[0mScanning /kaggle/working/Br35H-Mask-Prepared/val/labels.cache... 151 images, 225 backgrounds, 0 corrupt: 100%|██████████| 376/376 [00:00<?, ?it/s]\n",
      "                 Class     Images  Instances      Box(P          R      mAP50  mAP50-95): 100%|██████████| 12/12 [00:08<00:00,  1.42it/s]\n",
      "                   all        376        181      0.657      0.536      0.618      0.348\n",
      "/usr/local/lib/python3.11/dist-packages/matplotlib/colors.py:721: RuntimeWarning: invalid value encountered in less\n",
      "  xa[xa < 0] = -1\n",
      "/usr/local/lib/python3.11/dist-packages/matplotlib/colors.py:721: RuntimeWarning: invalid value encountered in less\n",
      "  xa[xa < 0] = -1\n",
      "Speed: 1.9ms preprocess, 16.7ms inference, 0.0ms loss, 0.5ms postprocess per image\n",
      "Results saved to \u001b[1mruns/epoch12\u001b[0m\n"
     ]
    },
    {
     "name": "stdout",
     "output_type": "stream",
     "text": [
      "-------------------- EPOCH 12 END --------------------\n",
      "-------------------- EPOCH 13 START --------------------\n",
      "Training start ...\n",
      "TRAIN:\n",
      "\tAVG_LOSS: 5.458320768573616\n",
      "\tMAIN_LOSS: 4.208160804796822\n",
      "\tKD_LOSS: 0.41671998666811594\n",
      "Evaluating start ...\n",
      "VAL:\n",
      "\tAVG_LOSS: 6.33990091085434\n",
      "\tMAIN_LOSS: 5.0194153388341265\n",
      "\tKD_LOSS: 0.4401618614792824\n"
     ]
    },
    {
     "name": "stderr",
     "output_type": "stream",
     "text": [
      "LSM-YOLO summary (fused): 391 layers, 2873048 parameters, 18824 gradients, 12.4 GFLOPs\n",
      "\u001b[34m\u001b[1mval: \u001b[0mScanning /kaggle/working/Br35H-Mask-Prepared/val/labels.cache... 151 images, 225 backgrounds, 0 corrupt: 100%|██████████| 376/376 [00:00<?, ?it/s]\n",
      "                 Class     Images  Instances      Box(P          R      mAP50  mAP50-95): 100%|██████████| 12/12 [00:08<00:00,  1.43it/s]\n",
      "                   all        376        181      0.728      0.552      0.612      0.376\n",
      "/usr/local/lib/python3.11/dist-packages/matplotlib/colors.py:721: RuntimeWarning: invalid value encountered in less\n",
      "  xa[xa < 0] = -1\n",
      "/usr/local/lib/python3.11/dist-packages/matplotlib/colors.py:721: RuntimeWarning: invalid value encountered in less\n",
      "  xa[xa < 0] = -1\n",
      "Speed: 1.8ms preprocess, 16.7ms inference, 0.0ms loss, 0.5ms postprocess per image\n",
      "Results saved to \u001b[1mruns/epoch13\u001b[0m\n"
     ]
    },
    {
     "name": "stdout",
     "output_type": "stream",
     "text": [
      "Epoch 13: New best mAP: 0.3758, model saved.\n",
      "-------------------- EPOCH 13 END --------------------\n",
      "-------------------- EPOCH 14 START --------------------\n",
      "Training start ...\n",
      "TRAIN:\n",
      "\tAVG_LOSS: 5.033833425256271\n",
      "\tMAIN_LOSS: 3.8131538010850736\n",
      "\tKD_LOSS: 0.4068932080570656\n",
      "Evaluating start ...\n",
      "VAL:\n",
      "\tAVG_LOSS: 5.973801612854004\n",
      "\tMAIN_LOSS: 4.694401403268178\n",
      "\tKD_LOSS: 0.42646673570076626\n"
     ]
    },
    {
     "name": "stderr",
     "output_type": "stream",
     "text": [
      "LSM-YOLO summary (fused): 391 layers, 2873048 parameters, 18824 gradients, 12.4 GFLOPs\n",
      "\u001b[34m\u001b[1mval: \u001b[0mScanning /kaggle/working/Br35H-Mask-Prepared/val/labels.cache... 151 images, 225 backgrounds, 0 corrupt: 100%|██████████| 376/376 [00:00<?, ?it/s]\n",
      "                 Class     Images  Instances      Box(P          R      mAP50  mAP50-95): 100%|██████████| 12/12 [00:08<00:00,  1.43it/s]\n",
      "                   all        376        181      0.867      0.685      0.761      0.454\n",
      "/usr/local/lib/python3.11/dist-packages/matplotlib/colors.py:721: RuntimeWarning: invalid value encountered in less\n",
      "  xa[xa < 0] = -1\n",
      "/usr/local/lib/python3.11/dist-packages/matplotlib/colors.py:721: RuntimeWarning: invalid value encountered in less\n",
      "  xa[xa < 0] = -1\n",
      "Speed: 1.6ms preprocess, 16.7ms inference, 0.0ms loss, 0.6ms postprocess per image\n",
      "Results saved to \u001b[1mruns/epoch14\u001b[0m\n"
     ]
    },
    {
     "name": "stdout",
     "output_type": "stream",
     "text": [
      "Epoch 14: New best mAP: 0.4537, model saved.\n",
      "-------------------- EPOCH 14 END --------------------\n",
      "-------------------- EPOCH 15 START --------------------\n",
      "Training start ...\n",
      "TRAIN:\n",
      "\tAVG_LOSS: 4.923166631143304\n",
      "\tMAIN_LOSS: 3.7206191292291955\n",
      "\tKD_LOSS: 0.4008491688136813\n",
      "Evaluating start ...\n",
      "VAL:\n",
      "\tAVG_LOSS: 5.923094809055328\n",
      "\tMAIN_LOSS: 4.704565405845642\n",
      "\tKD_LOSS: 0.40617647518714267\n"
     ]
    },
    {
     "name": "stderr",
     "output_type": "stream",
     "text": [
      "LSM-YOLO summary (fused): 391 layers, 2873048 parameters, 18824 gradients, 12.4 GFLOPs\n",
      "\u001b[34m\u001b[1mval: \u001b[0mScanning /kaggle/working/Br35H-Mask-Prepared/val/labels.cache... 151 images, 225 backgrounds, 0 corrupt: 100%|██████████| 376/376 [00:00<?, ?it/s]\n",
      "                 Class     Images  Instances      Box(P          R      mAP50  mAP50-95): 100%|██████████| 12/12 [00:08<00:00,  1.43it/s]\n",
      "                   all        376        181      0.924      0.669      0.776      0.455\n",
      "/usr/local/lib/python3.11/dist-packages/matplotlib/colors.py:721: RuntimeWarning: invalid value encountered in less\n",
      "  xa[xa < 0] = -1\n",
      "/usr/local/lib/python3.11/dist-packages/matplotlib/colors.py:721: RuntimeWarning: invalid value encountered in less\n",
      "  xa[xa < 0] = -1\n",
      "Speed: 1.8ms preprocess, 16.7ms inference, 0.0ms loss, 0.5ms postprocess per image\n",
      "Results saved to \u001b[1mruns/epoch15\u001b[0m\n"
     ]
    },
    {
     "name": "stdout",
     "output_type": "stream",
     "text": [
      "Epoch 15: New best mAP: 0.4549, model saved.\n",
      "-------------------- EPOCH 15 END --------------------\n",
      "-------------------- EPOCH 16 START --------------------\n",
      "Training start ...\n",
      "TRAIN:\n",
      "\tAVG_LOSS: 4.706483255458783\n",
      "\tMAIN_LOSS: 3.5075226554387733\n",
      "\tKD_LOSS: 0.3996535335914998\n",
      "Evaluating start ...\n",
      "VAL:\n",
      "\tAVG_LOSS: 5.8976032336552935\n",
      "\tMAIN_LOSS: 4.6589013040065765\n",
      "\tKD_LOSS: 0.4129006552199523\n"
     ]
    },
    {
     "name": "stderr",
     "output_type": "stream",
     "text": [
      "LSM-YOLO summary (fused): 391 layers, 2873048 parameters, 18824 gradients, 12.4 GFLOPs\n",
      "\u001b[34m\u001b[1mval: \u001b[0mScanning /kaggle/working/Br35H-Mask-Prepared/val/labels.cache... 151 images, 225 backgrounds, 0 corrupt: 100%|██████████| 376/376 [00:00<?, ?it/s]\n",
      "                 Class     Images  Instances      Box(P          R      mAP50  mAP50-95): 100%|██████████| 12/12 [00:08<00:00,  1.44it/s]\n",
      "                   all        376        181      0.879      0.684      0.759      0.472\n",
      "/usr/local/lib/python3.11/dist-packages/matplotlib/colors.py:721: RuntimeWarning: invalid value encountered in less\n",
      "  xa[xa < 0] = -1\n",
      "/usr/local/lib/python3.11/dist-packages/matplotlib/colors.py:721: RuntimeWarning: invalid value encountered in less\n",
      "  xa[xa < 0] = -1\n",
      "Speed: 1.7ms preprocess, 16.7ms inference, 0.0ms loss, 0.5ms postprocess per image\n",
      "Results saved to \u001b[1mruns/epoch16\u001b[0m\n"
     ]
    },
    {
     "name": "stdout",
     "output_type": "stream",
     "text": [
      "Epoch 16: New best mAP: 0.4718, model saved.\n",
      "-------------------- EPOCH 16 END --------------------\n",
      "-------------------- EPOCH 17 START --------------------\n",
      "Training start ...\n",
      "TRAIN:\n",
      "\tAVG_LOSS: 4.232370889639553\n",
      "\tMAIN_LOSS: 3.0803569872168044\n",
      "\tKD_LOSS: 0.38400463854210287\n",
      "Evaluating start ...\n",
      "VAL:\n",
      "\tAVG_LOSS: 6.1217966477076216\n",
      "\tMAIN_LOSS: 4.925103187561035\n",
      "\tKD_LOSS: 0.39889781425396603\n"
     ]
    },
    {
     "name": "stderr",
     "output_type": "stream",
     "text": [
      "LSM-YOLO summary (fused): 391 layers, 2873048 parameters, 18824 gradients, 12.4 GFLOPs\n",
      "\u001b[34m\u001b[1mval: \u001b[0mScanning /kaggle/working/Br35H-Mask-Prepared/val/labels.cache... 151 images, 225 backgrounds, 0 corrupt: 100%|██████████| 376/376 [00:00<?, ?it/s]\n",
      "                 Class     Images  Instances      Box(P          R      mAP50  mAP50-95): 100%|██████████| 12/12 [00:08<00:00,  1.46it/s]\n",
      "                   all        376        181      0.811      0.641       0.74      0.451\n",
      "/usr/local/lib/python3.11/dist-packages/matplotlib/colors.py:721: RuntimeWarning: invalid value encountered in less\n",
      "  xa[xa < 0] = -1\n",
      "/usr/local/lib/python3.11/dist-packages/matplotlib/colors.py:721: RuntimeWarning: invalid value encountered in less\n",
      "  xa[xa < 0] = -1\n",
      "Speed: 1.6ms preprocess, 16.7ms inference, 0.0ms loss, 0.5ms postprocess per image\n",
      "Results saved to \u001b[1mruns/epoch17\u001b[0m\n"
     ]
    },
    {
     "name": "stdout",
     "output_type": "stream",
     "text": [
      "-------------------- EPOCH 17 END --------------------\n",
      "-------------------- EPOCH 18 START --------------------\n",
      "Training start ...\n",
      "TRAIN:\n",
      "\tAVG_LOSS: 4.272451947006998\n",
      "\tMAIN_LOSS: 3.1175387282914753\n",
      "\tKD_LOSS: 0.38497107919258405\n",
      "Evaluating start ...\n",
      "VAL:\n",
      "\tAVG_LOSS: 7.4446737964948015\n",
      "\tMAIN_LOSS: 5.954111615816752\n",
      "\tKD_LOSS: 0.4968540407717228\n"
     ]
    },
    {
     "name": "stderr",
     "output_type": "stream",
     "text": [
      "LSM-YOLO summary (fused): 391 layers, 2873048 parameters, 18824 gradients, 12.4 GFLOPs\n",
      "\u001b[34m\u001b[1mval: \u001b[0mScanning /kaggle/working/Br35H-Mask-Prepared/val/labels.cache... 151 images, 225 backgrounds, 0 corrupt: 100%|██████████| 376/376 [00:00<?, ?it/s]\n",
      "                 Class     Images  Instances      Box(P          R      mAP50  mAP50-95): 100%|██████████| 12/12 [00:08<00:00,  1.44it/s]\n",
      "                   all        376        181      0.483      0.541      0.495      0.233\n",
      "/usr/local/lib/python3.11/dist-packages/matplotlib/colors.py:721: RuntimeWarning: invalid value encountered in less\n",
      "  xa[xa < 0] = -1\n",
      "/usr/local/lib/python3.11/dist-packages/matplotlib/colors.py:721: RuntimeWarning: invalid value encountered in less\n",
      "  xa[xa < 0] = -1\n",
      "Speed: 1.7ms preprocess, 16.7ms inference, 0.0ms loss, 0.6ms postprocess per image\n",
      "Results saved to \u001b[1mruns/epoch18\u001b[0m\n"
     ]
    },
    {
     "name": "stdout",
     "output_type": "stream",
     "text": [
      "-------------------- EPOCH 18 END --------------------\n",
      "-------------------- EPOCH 19 START --------------------\n",
      "Training start ...\n",
      "TRAIN:\n",
      "\tAVG_LOSS: 4.688473016400881\n",
      "\tMAIN_LOSS: 3.4693601010720942\n",
      "\tKD_LOSS: 0.4063709597044353\n",
      "Evaluating start ...\n",
      "VAL:\n",
      "\tAVG_LOSS: 5.7259518802165985\n",
      "\tMAIN_LOSS: 4.479633043209712\n",
      "\tKD_LOSS: 0.4154396007458369\n"
     ]
    },
    {
     "name": "stderr",
     "output_type": "stream",
     "text": [
      "LSM-YOLO summary (fused): 391 layers, 2873048 parameters, 18824 gradients, 12.4 GFLOPs\n",
      "\u001b[34m\u001b[1mval: \u001b[0mScanning /kaggle/working/Br35H-Mask-Prepared/val/labels.cache... 151 images, 225 backgrounds, 0 corrupt: 100%|██████████| 376/376 [00:00<?, ?it/s]\n",
      "                 Class     Images  Instances      Box(P          R      mAP50  mAP50-95): 100%|██████████| 12/12 [00:08<00:00,  1.42it/s]\n",
      "                   all        376        181      0.861      0.729      0.783      0.475\n",
      "/usr/local/lib/python3.11/dist-packages/matplotlib/colors.py:721: RuntimeWarning: invalid value encountered in less\n",
      "  xa[xa < 0] = -1\n",
      "/usr/local/lib/python3.11/dist-packages/matplotlib/colors.py:721: RuntimeWarning: invalid value encountered in less\n",
      "  xa[xa < 0] = -1\n",
      "Speed: 1.8ms preprocess, 16.7ms inference, 0.0ms loss, 0.6ms postprocess per image\n",
      "Results saved to \u001b[1mruns/epoch19\u001b[0m\n"
     ]
    },
    {
     "name": "stdout",
     "output_type": "stream",
     "text": [
      "Epoch 19: New best mAP: 0.4746, model saved.\n",
      "-------------------- EPOCH 19 END --------------------\n",
      "-------------------- EPOCH 20 START --------------------\n",
      "Training start ...\n",
      "TRAIN:\n",
      "\tAVG_LOSS: 4.138295747056792\n",
      "\tMAIN_LOSS: 2.99291081066373\n",
      "\tKD_LOSS: 0.3817949864683272\n",
      "Evaluating start ...\n",
      "VAL:\n",
      "\tAVG_LOSS: 5.3004118005434675\n",
      "\tMAIN_LOSS: 4.144979437192281\n",
      "\tKD_LOSS: 0.38514412691195804\n"
     ]
    },
    {
     "name": "stderr",
     "output_type": "stream",
     "text": [
      "LSM-YOLO summary (fused): 391 layers, 2873048 parameters, 18824 gradients, 12.4 GFLOPs\n",
      "\u001b[34m\u001b[1mval: \u001b[0mScanning /kaggle/working/Br35H-Mask-Prepared/val/labels.cache... 151 images, 225 backgrounds, 0 corrupt: 100%|██████████| 376/376 [00:00<?, ?it/s]\n",
      "                 Class     Images  Instances      Box(P          R      mAP50  mAP50-95): 100%|██████████| 12/12 [00:08<00:00,  1.44it/s]\n",
      "                   all        376        181      0.851       0.74      0.791      0.502\n",
      "/usr/local/lib/python3.11/dist-packages/matplotlib/colors.py:721: RuntimeWarning: invalid value encountered in less\n",
      "  xa[xa < 0] = -1\n",
      "/usr/local/lib/python3.11/dist-packages/matplotlib/colors.py:721: RuntimeWarning: invalid value encountered in less\n",
      "  xa[xa < 0] = -1\n",
      "Speed: 1.6ms preprocess, 16.7ms inference, 0.0ms loss, 0.5ms postprocess per image\n",
      "Results saved to \u001b[1mruns/epoch20\u001b[0m\n"
     ]
    },
    {
     "name": "stdout",
     "output_type": "stream",
     "text": [
      "Epoch 20: New best mAP: 0.5022, model saved.\n",
      "-------------------- EPOCH 20 END --------------------\n",
      "-------------------- EPOCH 21 START --------------------\n",
      "Training start ...\n",
      "TRAIN:\n",
      "\tAVG_LOSS: 3.95783841459057\n",
      "\tMAIN_LOSS: 2.8455539308016813\n",
      "\tKD_LOSS: 0.37076149069810216\n",
      "Evaluating start ...\n",
      "VAL:\n",
      "\tAVG_LOSS: 5.174184739589691\n",
      "\tMAIN_LOSS: 4.037536422411601\n",
      "\tKD_LOSS: 0.3788827570776145\n"
     ]
    },
    {
     "name": "stderr",
     "output_type": "stream",
     "text": [
      "LSM-YOLO summary (fused): 391 layers, 2873048 parameters, 18824 gradients, 12.4 GFLOPs\n",
      "\u001b[34m\u001b[1mval: \u001b[0mScanning /kaggle/working/Br35H-Mask-Prepared/val/labels.cache... 151 images, 225 backgrounds, 0 corrupt: 100%|██████████| 376/376 [00:00<?, ?it/s]\n",
      "                 Class     Images  Instances      Box(P          R      mAP50  mAP50-95): 100%|██████████| 12/12 [00:08<00:00,  1.44it/s]\n",
      "                   all        376        181      0.865      0.724       0.79      0.521\n",
      "/usr/local/lib/python3.11/dist-packages/matplotlib/colors.py:721: RuntimeWarning: invalid value encountered in less\n",
      "  xa[xa < 0] = -1\n",
      "/usr/local/lib/python3.11/dist-packages/matplotlib/colors.py:721: RuntimeWarning: invalid value encountered in less\n",
      "  xa[xa < 0] = -1\n",
      "Speed: 1.6ms preprocess, 16.8ms inference, 0.0ms loss, 0.5ms postprocess per image\n",
      "Results saved to \u001b[1mruns/epoch21\u001b[0m\n"
     ]
    },
    {
     "name": "stdout",
     "output_type": "stream",
     "text": [
      "Epoch 21: New best mAP: 0.5209, model saved.\n",
      "-------------------- EPOCH 21 END --------------------\n",
      "-------------------- EPOCH 22 START --------------------\n",
      "Training start ...\n",
      "TRAIN:\n",
      "\tAVG_LOSS: 3.760465006285076\n",
      "\tMAIN_LOSS: 2.6665523293652114\n",
      "\tKD_LOSS: 0.3646375627457341\n",
      "Evaluating start ...\n",
      "VAL:\n",
      "\tAVG_LOSS: 5.0773466030756635\n",
      "\tMAIN_LOSS: 3.972451408704122\n",
      "\tKD_LOSS: 0.3682983952263991\n"
     ]
    },
    {
     "name": "stderr",
     "output_type": "stream",
     "text": [
      "LSM-YOLO summary (fused): 391 layers, 2873048 parameters, 18824 gradients, 12.4 GFLOPs\n",
      "\u001b[34m\u001b[1mval: \u001b[0mScanning /kaggle/working/Br35H-Mask-Prepared/val/labels.cache... 151 images, 225 backgrounds, 0 corrupt: 100%|██████████| 376/376 [00:00<?, ?it/s]\n",
      "                 Class     Images  Instances      Box(P          R      mAP50  mAP50-95): 100%|██████████| 12/12 [00:08<00:00,  1.44it/s]\n",
      "                   all        376        181      0.839      0.775      0.809      0.529\n",
      "/usr/local/lib/python3.11/dist-packages/matplotlib/colors.py:721: RuntimeWarning: invalid value encountered in less\n",
      "  xa[xa < 0] = -1\n",
      "/usr/local/lib/python3.11/dist-packages/matplotlib/colors.py:721: RuntimeWarning: invalid value encountered in less\n",
      "  xa[xa < 0] = -1\n",
      "Speed: 1.6ms preprocess, 16.7ms inference, 0.0ms loss, 0.5ms postprocess per image\n",
      "Results saved to \u001b[1mruns/epoch22\u001b[0m\n"
     ]
    },
    {
     "name": "stdout",
     "output_type": "stream",
     "text": [
      "Epoch 22: New best mAP: 0.5288, model saved.\n",
      "-------------------- EPOCH 22 END --------------------\n",
      "-------------------- EPOCH 23 START --------------------\n",
      "Training start ...\n",
      "TRAIN:\n",
      "\tAVG_LOSS: 3.623008124436004\n",
      "\tMAIN_LOSS: 2.5445538050011742\n",
      "\tKD_LOSS: 0.3594847717617132\n",
      "Evaluating start ...\n",
      "VAL:\n",
      "\tAVG_LOSS: 5.178357909123103\n",
      "\tMAIN_LOSS: 4.08194042245547\n",
      "\tKD_LOSS: 0.3654725005229314\n"
     ]
    },
    {
     "name": "stderr",
     "output_type": "stream",
     "text": [
      "LSM-YOLO summary (fused): 391 layers, 2873048 parameters, 18824 gradients, 12.4 GFLOPs\n",
      "\u001b[34m\u001b[1mval: \u001b[0mScanning /kaggle/working/Br35H-Mask-Prepared/val/labels.cache... 151 images, 225 backgrounds, 0 corrupt: 100%|██████████| 376/376 [00:00<?, ?it/s]\n",
      "                 Class     Images  Instances      Box(P          R      mAP50  mAP50-95): 100%|██████████| 12/12 [00:08<00:00,  1.45it/s]\n",
      "                   all        376        181      0.894      0.742       0.82      0.512\n",
      "/usr/local/lib/python3.11/dist-packages/matplotlib/colors.py:721: RuntimeWarning: invalid value encountered in less\n",
      "  xa[xa < 0] = -1\n",
      "/usr/local/lib/python3.11/dist-packages/matplotlib/colors.py:721: RuntimeWarning: invalid value encountered in less\n",
      "  xa[xa < 0] = -1\n",
      "Speed: 1.6ms preprocess, 16.7ms inference, 0.0ms loss, 0.6ms postprocess per image\n",
      "Results saved to \u001b[1mruns/epoch23\u001b[0m\n"
     ]
    },
    {
     "name": "stdout",
     "output_type": "stream",
     "text": [
      "-------------------- EPOCH 23 END --------------------\n",
      "-------------------- EPOCH 24 START --------------------\n",
      "Training start ...\n",
      "TRAIN:\n",
      "\tAVG_LOSS: 3.621293985390965\n",
      "\tMAIN_LOSS: 2.5502849258954012\n",
      "\tKD_LOSS: 0.3570030165624015\n",
      "Evaluating start ...\n",
      "VAL:\n",
      "\tAVG_LOSS: 5.024024625619252\n",
      "\tMAIN_LOSS: 3.9400611023108163\n",
      "\tKD_LOSS: 0.3613211587071419\n"
     ]
    },
    {
     "name": "stderr",
     "output_type": "stream",
     "text": [
      "LSM-YOLO summary (fused): 391 layers, 2873048 parameters, 18824 gradients, 12.4 GFLOPs\n",
      "\u001b[34m\u001b[1mval: \u001b[0mScanning /kaggle/working/Br35H-Mask-Prepared/val/labels.cache... 151 images, 225 backgrounds, 0 corrupt: 100%|██████████| 376/376 [00:00<?, ?it/s]\n",
      "                 Class     Images  Instances      Box(P          R      mAP50  mAP50-95): 100%|██████████| 12/12 [00:08<00:00,  1.44it/s]\n",
      "                   all        376        181       0.88      0.702      0.807      0.518\n",
      "/usr/local/lib/python3.11/dist-packages/matplotlib/colors.py:721: RuntimeWarning: invalid value encountered in less\n",
      "  xa[xa < 0] = -1\n",
      "/usr/local/lib/python3.11/dist-packages/matplotlib/colors.py:721: RuntimeWarning: invalid value encountered in less\n",
      "  xa[xa < 0] = -1\n",
      "Speed: 1.7ms preprocess, 16.7ms inference, 0.0ms loss, 0.5ms postprocess per image\n",
      "Results saved to \u001b[1mruns/epoch24\u001b[0m\n"
     ]
    },
    {
     "name": "stdout",
     "output_type": "stream",
     "text": [
      "-------------------- EPOCH 24 END --------------------\n",
      "-------------------- EPOCH 25 START --------------------\n",
      "Training start ...\n",
      "TRAIN:\n",
      "\tAVG_LOSS: 3.471521323240256\n",
      "\tMAIN_LOSS: 2.411292821546144\n",
      "\tKD_LOSS: 0.35340949553477613\n",
      "Evaluating start ...\n",
      "VAL:\n",
      "\tAVG_LOSS: 5.155325045188268\n",
      "\tMAIN_LOSS: 4.08083380262057\n",
      "\tKD_LOSS: 0.3581637529035409\n"
     ]
    },
    {
     "name": "stderr",
     "output_type": "stream",
     "text": [
      "LSM-YOLO summary (fused): 391 layers, 2873048 parameters, 18824 gradients, 12.4 GFLOPs\n",
      "\u001b[34m\u001b[1mval: \u001b[0mScanning /kaggle/working/Br35H-Mask-Prepared/val/labels.cache... 151 images, 225 backgrounds, 0 corrupt: 100%|██████████| 376/376 [00:00<?, ?it/s]\n",
      "                 Class     Images  Instances      Box(P          R      mAP50  mAP50-95): 100%|██████████| 12/12 [00:08<00:00,  1.45it/s]\n",
      "                   all        376        181      0.854       0.71      0.797      0.526\n",
      "/usr/local/lib/python3.11/dist-packages/matplotlib/colors.py:721: RuntimeWarning: invalid value encountered in less\n",
      "  xa[xa < 0] = -1\n",
      "/usr/local/lib/python3.11/dist-packages/matplotlib/colors.py:721: RuntimeWarning: invalid value encountered in less\n",
      "  xa[xa < 0] = -1\n",
      "Speed: 1.7ms preprocess, 16.7ms inference, 0.0ms loss, 0.5ms postprocess per image\n",
      "Results saved to \u001b[1mruns/epoch25\u001b[0m\n"
     ]
    },
    {
     "name": "stdout",
     "output_type": "stream",
     "text": [
      "-------------------- EPOCH 25 END --------------------\n",
      "-------------------- EPOCH 26 START --------------------\n",
      "Training start ...\n",
      "TRAIN:\n",
      "\tAVG_LOSS: 3.4142421981956383\n",
      "\tMAIN_LOSS: 2.3666102840930603\n",
      "\tKD_LOSS: 0.34921063652521445\n",
      "Evaluating start ...\n",
      "VAL:\n",
      "\tAVG_LOSS: 5.232114275296529\n",
      "\tMAIN_LOSS: 4.059316883484523\n",
      "\tKD_LOSS: 0.39093246931831044\n"
     ]
    },
    {
     "name": "stderr",
     "output_type": "stream",
     "text": [
      "LSM-YOLO summary (fused): 391 layers, 2873048 parameters, 18824 gradients, 12.4 GFLOPs\n",
      "\u001b[34m\u001b[1mval: \u001b[0mScanning /kaggle/working/Br35H-Mask-Prepared/val/labels.cache... 151 images, 225 backgrounds, 0 corrupt: 100%|██████████| 376/376 [00:00<?, ?it/s]\n",
      "                 Class     Images  Instances      Box(P          R      mAP50  mAP50-95): 100%|██████████| 12/12 [00:08<00:00,  1.44it/s]\n",
      "                   all        376        181       0.89      0.713      0.782      0.508\n",
      "/usr/local/lib/python3.11/dist-packages/matplotlib/colors.py:721: RuntimeWarning: invalid value encountered in less\n",
      "  xa[xa < 0] = -1\n",
      "/usr/local/lib/python3.11/dist-packages/matplotlib/colors.py:721: RuntimeWarning: invalid value encountered in less\n",
      "  xa[xa < 0] = -1\n",
      "Speed: 1.7ms preprocess, 16.7ms inference, 0.0ms loss, 0.5ms postprocess per image\n",
      "Results saved to \u001b[1mruns/epoch26\u001b[0m\n"
     ]
    },
    {
     "name": "stdout",
     "output_type": "stream",
     "text": [
      "-------------------- EPOCH 26 END --------------------\n",
      "-------------------- EPOCH 27 START --------------------\n",
      "Training start ...\n",
      "TRAIN:\n",
      "\tAVG_LOSS: 3.392547196979764\n",
      "\tMAIN_LOSS: 2.351260452330867\n",
      "\tKD_LOSS: 0.3470955789089203\n",
      "Evaluating start ...\n",
      "VAL:\n",
      "\tAVG_LOSS: 5.075500766436259\n",
      "\tMAIN_LOSS: 4.001242299874623\n",
      "\tKD_LOSS: 0.3580861526230971\n"
     ]
    },
    {
     "name": "stderr",
     "output_type": "stream",
     "text": [
      "LSM-YOLO summary (fused): 391 layers, 2873048 parameters, 18824 gradients, 12.4 GFLOPs\n",
      "\u001b[34m\u001b[1mval: \u001b[0mScanning /kaggle/working/Br35H-Mask-Prepared/val/labels.cache... 151 images, 225 backgrounds, 0 corrupt: 100%|██████████| 376/376 [00:00<?, ?it/s]\n",
      "                 Class     Images  Instances      Box(P          R      mAP50  mAP50-95): 100%|██████████| 12/12 [00:08<00:00,  1.40it/s]\n",
      "                   all        376        181      0.908      0.713      0.783      0.515\n",
      "/usr/local/lib/python3.11/dist-packages/matplotlib/colors.py:721: RuntimeWarning: invalid value encountered in less\n",
      "  xa[xa < 0] = -1\n",
      "/usr/local/lib/python3.11/dist-packages/matplotlib/colors.py:721: RuntimeWarning: invalid value encountered in less\n",
      "  xa[xa < 0] = -1\n",
      "Speed: 2.1ms preprocess, 16.7ms inference, 0.0ms loss, 0.6ms postprocess per image\n",
      "Results saved to \u001b[1mruns/epoch27\u001b[0m\n"
     ]
    },
    {
     "name": "stdout",
     "output_type": "stream",
     "text": [
      "-------------------- EPOCH 27 END --------------------\n",
      "-------------------- EPOCH 28 START --------------------\n",
      "Training start ...\n",
      "TRAIN:\n",
      "\tAVG_LOSS: 3.3665825928313824\n",
      "\tMAIN_LOSS: 2.3267070356803603\n",
      "\tKD_LOSS: 0.3466251858427555\n",
      "Evaluating start ...\n",
      "VAL:\n",
      "\tAVG_LOSS: 5.070733467737834\n",
      "\tMAIN_LOSS: 4.012211759885152\n",
      "\tKD_LOSS: 0.35284057383735973\n"
     ]
    },
    {
     "name": "stderr",
     "output_type": "stream",
     "text": [
      "LSM-YOLO summary (fused): 391 layers, 2873048 parameters, 18824 gradients, 12.4 GFLOPs\n",
      "\u001b[34m\u001b[1mval: \u001b[0mScanning /kaggle/working/Br35H-Mask-Prepared/val/labels.cache... 151 images, 225 backgrounds, 0 corrupt: 100%|██████████| 376/376 [00:00<?, ?it/s]\n",
      "                 Class     Images  Instances      Box(P          R      mAP50  mAP50-95): 100%|██████████| 12/12 [00:08<00:00,  1.45it/s]\n",
      "                   all        376        181      0.904      0.679      0.792      0.529\n",
      "/usr/local/lib/python3.11/dist-packages/matplotlib/colors.py:721: RuntimeWarning: invalid value encountered in less\n",
      "  xa[xa < 0] = -1\n",
      "/usr/local/lib/python3.11/dist-packages/matplotlib/colors.py:721: RuntimeWarning: invalid value encountered in less\n",
      "  xa[xa < 0] = -1\n",
      "Speed: 1.7ms preprocess, 16.7ms inference, 0.0ms loss, 0.4ms postprocess per image\n",
      "Results saved to \u001b[1mruns/epoch28\u001b[0m\n"
     ]
    },
    {
     "name": "stdout",
     "output_type": "stream",
     "text": [
      "Epoch 28: New best mAP: 0.5295, model saved.\n",
      "-------------------- EPOCH 28 END --------------------\n",
      "-------------------- EPOCH 29 START --------------------\n",
      "Training start ...\n",
      "TRAIN:\n",
      "\tAVG_LOSS: 3.304067038282563\n",
      "\tMAIN_LOSS: 2.282495214969297\n",
      "\tKD_LOSS: 0.3405239453798608\n",
      "Evaluating start ...\n",
      "VAL:\n",
      "\tAVG_LOSS: 5.228691866000493\n",
      "\tMAIN_LOSS: 4.170063475767772\n",
      "\tKD_LOSS: 0.3528761441508929\n"
     ]
    },
    {
     "name": "stderr",
     "output_type": "stream",
     "text": [
      "LSM-YOLO summary (fused): 391 layers, 2873048 parameters, 18824 gradients, 12.4 GFLOPs\n",
      "\u001b[34m\u001b[1mval: \u001b[0mScanning /kaggle/working/Br35H-Mask-Prepared/val/labels.cache... 151 images, 225 backgrounds, 0 corrupt: 100%|██████████| 376/376 [00:00<?, ?it/s]\n",
      "                 Class     Images  Instances      Box(P          R      mAP50  mAP50-95): 100%|██████████| 12/12 [00:08<00:00,  1.46it/s]\n",
      "                   all        376        181      0.951      0.608      0.758      0.503\n",
      "/usr/local/lib/python3.11/dist-packages/matplotlib/colors.py:721: RuntimeWarning: invalid value encountered in less\n",
      "  xa[xa < 0] = -1\n",
      "/usr/local/lib/python3.11/dist-packages/matplotlib/colors.py:721: RuntimeWarning: invalid value encountered in less\n",
      "  xa[xa < 0] = -1\n",
      "Speed: 1.6ms preprocess, 16.8ms inference, 0.0ms loss, 0.5ms postprocess per image\n",
      "Results saved to \u001b[1mruns/epoch29\u001b[0m\n"
     ]
    },
    {
     "name": "stdout",
     "output_type": "stream",
     "text": [
      "-------------------- EPOCH 29 END --------------------\n",
      "-------------------- EPOCH 30 START --------------------\n",
      "Training start ...\n",
      "TRAIN:\n",
      "\tAVG_LOSS: 3.1625000796740568\n",
      "\tMAIN_LOSS: 2.1540051155452486\n",
      "\tKD_LOSS: 0.33616498867167705\n",
      "Evaluating start ...\n",
      "VAL:\n",
      "\tAVG_LOSS: 5.109874347845714\n",
      "\tMAIN_LOSS: 4.084659695625305\n",
      "\tKD_LOSS: 0.3417382376889388\n"
     ]
    },
    {
     "name": "stderr",
     "output_type": "stream",
     "text": [
      "LSM-YOLO summary (fused): 391 layers, 2873048 parameters, 18824 gradients, 12.4 GFLOPs\n",
      "\u001b[34m\u001b[1mval: \u001b[0mScanning /kaggle/working/Br35H-Mask-Prepared/val/labels.cache... 151 images, 225 backgrounds, 0 corrupt: 100%|██████████| 376/376 [00:00<?, ?it/s]\n",
      "                 Class     Images  Instances      Box(P          R      mAP50  mAP50-95): 100%|██████████| 12/12 [00:08<00:00,  1.46it/s]\n",
      "                   all        376        181      0.915      0.718      0.824      0.552\n",
      "/usr/local/lib/python3.11/dist-packages/matplotlib/colors.py:721: RuntimeWarning: invalid value encountered in less\n",
      "  xa[xa < 0] = -1\n",
      "/usr/local/lib/python3.11/dist-packages/matplotlib/colors.py:721: RuntimeWarning: invalid value encountered in less\n",
      "  xa[xa < 0] = -1\n",
      "Speed: 1.8ms preprocess, 16.7ms inference, 0.0ms loss, 0.4ms postprocess per image\n",
      "Results saved to \u001b[1mruns/epoch30\u001b[0m\n"
     ]
    },
    {
     "name": "stdout",
     "output_type": "stream",
     "text": [
      "Epoch 30: New best mAP: 0.5522, model saved.\n",
      "-------------------- EPOCH 30 END --------------------\n",
      "-------------------- EPOCH 31 START --------------------\n",
      "Training start ...\n",
      "TRAIN:\n",
      "\tAVG_LOSS: 3.110950165157077\n",
      "\tMAIN_LOSS: 2.110696905775915\n",
      "\tKD_LOSS: 0.3334177513665791\n",
      "Evaluating start ...\n",
      "VAL:\n",
      "\tAVG_LOSS: 4.95588939388593\n",
      "\tMAIN_LOSS: 3.921128044525782\n",
      "\tKD_LOSS: 0.34492044523358345\n"
     ]
    },
    {
     "name": "stderr",
     "output_type": "stream",
     "text": [
      "LSM-YOLO summary (fused): 391 layers, 2873048 parameters, 18824 gradients, 12.4 GFLOPs\n",
      "\u001b[34m\u001b[1mval: \u001b[0mScanning /kaggle/working/Br35H-Mask-Prepared/val/labels.cache... 151 images, 225 backgrounds, 0 corrupt: 100%|██████████| 376/376 [00:00<?, ?it/s]\n",
      "                 Class     Images  Instances      Box(P          R      mAP50  mAP50-95): 100%|██████████| 12/12 [00:08<00:00,  1.44it/s]\n",
      "                   all        376        181      0.824      0.748      0.799      0.537\n",
      "/usr/local/lib/python3.11/dist-packages/matplotlib/colors.py:721: RuntimeWarning: invalid value encountered in less\n",
      "  xa[xa < 0] = -1\n",
      "/usr/local/lib/python3.11/dist-packages/matplotlib/colors.py:721: RuntimeWarning: invalid value encountered in less\n",
      "  xa[xa < 0] = -1\n",
      "Speed: 1.8ms preprocess, 16.7ms inference, 0.0ms loss, 0.4ms postprocess per image\n",
      "Results saved to \u001b[1mruns/epoch31\u001b[0m\n"
     ]
    },
    {
     "name": "stdout",
     "output_type": "stream",
     "text": [
      "-------------------- EPOCH 31 END --------------------\n",
      "-------------------- EPOCH 32 START --------------------\n",
      "Training start ...\n",
      "TRAIN:\n",
      "\tAVG_LOSS: 3.0861842994448505\n",
      "\tMAIN_LOSS: 2.093587089188491\n",
      "\tKD_LOSS: 0.3308657351173932\n",
      "Evaluating start ...\n",
      "VAL:\n",
      "\tAVG_LOSS: 4.81805020570755\n",
      "\tMAIN_LOSS: 3.80765766898791\n",
      "\tKD_LOSS: 0.3367975155512492\n"
     ]
    },
    {
     "name": "stderr",
     "output_type": "stream",
     "text": [
      "LSM-YOLO summary (fused): 391 layers, 2873048 parameters, 18824 gradients, 12.4 GFLOPs\n",
      "\u001b[34m\u001b[1mval: \u001b[0mScanning /kaggle/working/Br35H-Mask-Prepared/val/labels.cache... 151 images, 225 backgrounds, 0 corrupt: 100%|██████████| 376/376 [00:00<?, ?it/s]\n",
      "                 Class     Images  Instances      Box(P          R      mAP50  mAP50-95): 100%|██████████| 12/12 [00:08<00:00,  1.46it/s]\n",
      "                   all        376        181      0.959      0.707       0.81      0.531\n",
      "/usr/local/lib/python3.11/dist-packages/matplotlib/colors.py:721: RuntimeWarning: invalid value encountered in less\n",
      "  xa[xa < 0] = -1\n",
      "/usr/local/lib/python3.11/dist-packages/matplotlib/colors.py:721: RuntimeWarning: invalid value encountered in less\n",
      "  xa[xa < 0] = -1\n",
      "Speed: 1.7ms preprocess, 16.7ms inference, 0.0ms loss, 0.4ms postprocess per image\n",
      "Results saved to \u001b[1mruns/epoch32\u001b[0m\n"
     ]
    },
    {
     "name": "stdout",
     "output_type": "stream",
     "text": [
      "-------------------- EPOCH 32 END --------------------\n",
      "-------------------- EPOCH 33 START --------------------\n",
      "Training start ...\n",
      "TRAIN:\n",
      "\tAVG_LOSS: 2.9578373130363755\n",
      "\tMAIN_LOSS: 1.9801164201543302\n",
      "\tKD_LOSS: 0.32590696064731745\n",
      "Evaluating start ...\n",
      "VAL:\n",
      "\tAVG_LOSS: 4.955806503693263\n",
      "\tMAIN_LOSS: 3.945536414782206\n",
      "\tKD_LOSS: 0.33675671244661015\n"
     ]
    },
    {
     "name": "stderr",
     "output_type": "stream",
     "text": [
      "LSM-YOLO summary (fused): 391 layers, 2873048 parameters, 18824 gradients, 12.4 GFLOPs\n",
      "\u001b[34m\u001b[1mval: \u001b[0mScanning /kaggle/working/Br35H-Mask-Prepared/val/labels.cache... 151 images, 225 backgrounds, 0 corrupt: 100%|██████████| 376/376 [00:00<?, ?it/s]\n",
      "                 Class     Images  Instances      Box(P          R      mAP50  mAP50-95): 100%|██████████| 12/12 [00:08<00:00,  1.45it/s]\n",
      "                   all        376        181      0.846      0.718      0.794      0.512\n",
      "/usr/local/lib/python3.11/dist-packages/matplotlib/colors.py:721: RuntimeWarning: invalid value encountered in less\n",
      "  xa[xa < 0] = -1\n",
      "/usr/local/lib/python3.11/dist-packages/matplotlib/colors.py:721: RuntimeWarning: invalid value encountered in less\n",
      "  xa[xa < 0] = -1\n",
      "Speed: 1.7ms preprocess, 16.7ms inference, 0.0ms loss, 0.5ms postprocess per image\n",
      "Results saved to \u001b[1mruns/epoch33\u001b[0m\n"
     ]
    },
    {
     "name": "stdout",
     "output_type": "stream",
     "text": [
      "-------------------- EPOCH 33 END --------------------\n",
      "-------------------- EPOCH 34 START --------------------\n",
      "Training start ...\n",
      "TRAIN:\n",
      "\tAVG_LOSS: 2.9824737355678894\n",
      "\tMAIN_LOSS: 2.0110263054883935\n",
      "\tKD_LOSS: 0.32381581279295907\n",
      "Evaluating start ...\n",
      "VAL:\n",
      "\tAVG_LOSS: 5.086854537328084\n",
      "\tMAIN_LOSS: 4.0754395723342896\n",
      "\tKD_LOSS: 0.3371383150418599\n"
     ]
    },
    {
     "name": "stderr",
     "output_type": "stream",
     "text": [
      "LSM-YOLO summary (fused): 391 layers, 2873048 parameters, 18824 gradients, 12.4 GFLOPs\n",
      "\u001b[34m\u001b[1mval: \u001b[0mScanning /kaggle/working/Br35H-Mask-Prepared/val/labels.cache... 151 images, 225 backgrounds, 0 corrupt: 100%|██████████| 376/376 [00:00<?, ?it/s]\n",
      "                 Class     Images  Instances      Box(P          R      mAP50  mAP50-95): 100%|██████████| 12/12 [00:08<00:00,  1.45it/s]\n",
      "                   all        376        181      0.935       0.71       0.82      0.534\n",
      "/usr/local/lib/python3.11/dist-packages/matplotlib/colors.py:721: RuntimeWarning: invalid value encountered in less\n",
      "  xa[xa < 0] = -1\n",
      "/usr/local/lib/python3.11/dist-packages/matplotlib/colors.py:721: RuntimeWarning: invalid value encountered in less\n",
      "  xa[xa < 0] = -1\n",
      "Speed: 1.9ms preprocess, 16.8ms inference, 0.0ms loss, 0.4ms postprocess per image\n",
      "Results saved to \u001b[1mruns/epoch34\u001b[0m\n"
     ]
    },
    {
     "name": "stdout",
     "output_type": "stream",
     "text": [
      "-------------------- EPOCH 34 END --------------------\n",
      "-------------------- EPOCH 35 START --------------------\n",
      "Training start ...\n",
      "TRAIN:\n",
      "\tAVG_LOSS: 2.9788256144221825\n",
      "\tMAIN_LOSS: 2.0150732149051716\n",
      "\tKD_LOSS: 0.32125080688090263\n",
      "Evaluating start ...\n",
      "VAL:\n",
      "\tAVG_LOSS: 4.912209292252858\n",
      "\tMAIN_LOSS: 3.8884051938851676\n",
      "\tKD_LOSS: 0.34126803899804753\n"
     ]
    },
    {
     "name": "stderr",
     "output_type": "stream",
     "text": [
      "LSM-YOLO summary (fused): 391 layers, 2873048 parameters, 18824 gradients, 12.4 GFLOPs\n",
      "\u001b[34m\u001b[1mval: \u001b[0mScanning /kaggle/working/Br35H-Mask-Prepared/val/labels.cache... 151 images, 225 backgrounds, 0 corrupt: 100%|██████████| 376/376 [00:00<?, ?it/s]\n",
      "                 Class     Images  Instances      Box(P          R      mAP50  mAP50-95): 100%|██████████| 12/12 [00:08<00:00,  1.45it/s]\n",
      "                   all        376        181      0.869      0.718      0.791      0.534\n",
      "/usr/local/lib/python3.11/dist-packages/matplotlib/colors.py:721: RuntimeWarning: invalid value encountered in less\n",
      "  xa[xa < 0] = -1\n",
      "/usr/local/lib/python3.11/dist-packages/matplotlib/colors.py:721: RuntimeWarning: invalid value encountered in less\n",
      "  xa[xa < 0] = -1\n",
      "Speed: 1.8ms preprocess, 16.7ms inference, 0.0ms loss, 0.4ms postprocess per image\n",
      "Results saved to \u001b[1mruns/epoch35\u001b[0m\n"
     ]
    },
    {
     "name": "stdout",
     "output_type": "stream",
     "text": [
      "-------------------- EPOCH 35 END --------------------\n",
      "-------------------- EPOCH 36 START --------------------\n",
      "Training start ...\n",
      "TRAIN:\n",
      "\tAVG_LOSS: 2.9758261909967736\n",
      "\tMAIN_LOSS: 2.019125452524499\n",
      "\tKD_LOSS: 0.31890024339096457\n",
      "Evaluating start ...\n",
      "VAL:\n",
      "\tAVG_LOSS: 4.99422440926234\n",
      "\tMAIN_LOSS: 4.006336609522502\n",
      "\tKD_LOSS: 0.32929593821366626\n"
     ]
    },
    {
     "name": "stderr",
     "output_type": "stream",
     "text": [
      "LSM-YOLO summary (fused): 391 layers, 2873048 parameters, 18824 gradients, 12.4 GFLOPs\n",
      "\u001b[34m\u001b[1mval: \u001b[0mScanning /kaggle/working/Br35H-Mask-Prepared/val/labels.cache... 151 images, 225 backgrounds, 0 corrupt: 100%|██████████| 376/376 [00:00<?, ?it/s]\n",
      "                 Class     Images  Instances      Box(P          R      mAP50  mAP50-95): 100%|██████████| 12/12 [00:08<00:00,  1.46it/s]\n",
      "                   all        376        181      0.847      0.685      0.782       0.49\n",
      "/usr/local/lib/python3.11/dist-packages/matplotlib/colors.py:721: RuntimeWarning: invalid value encountered in less\n",
      "  xa[xa < 0] = -1\n",
      "/usr/local/lib/python3.11/dist-packages/matplotlib/colors.py:721: RuntimeWarning: invalid value encountered in less\n",
      "  xa[xa < 0] = -1\n",
      "Speed: 1.7ms preprocess, 16.7ms inference, 0.0ms loss, 0.4ms postprocess per image\n",
      "Results saved to \u001b[1mruns/epoch36\u001b[0m\n"
     ]
    },
    {
     "name": "stdout",
     "output_type": "stream",
     "text": [
      "-------------------- EPOCH 36 END --------------------\n",
      "-------------------- EPOCH 37 START --------------------\n",
      "Training start ...\n",
      "TRAIN:\n",
      "\tAVG_LOSS: 2.869973279252837\n",
      "\tMAIN_LOSS: 1.9239753771431838\n",
      "\tKD_LOSS: 0.31533263378505466\n",
      "Evaluating start ...\n",
      "VAL:\n",
      "\tAVG_LOSS: 4.730258186658223\n",
      "\tMAIN_LOSS: 3.7456742028395333\n",
      "\tKD_LOSS: 0.3281946542362372\n"
     ]
    },
    {
     "name": "stderr",
     "output_type": "stream",
     "text": [
      "LSM-YOLO summary (fused): 391 layers, 2873048 parameters, 18824 gradients, 12.4 GFLOPs\n",
      "\u001b[34m\u001b[1mval: \u001b[0mScanning /kaggle/working/Br35H-Mask-Prepared/val/labels.cache... 151 images, 225 backgrounds, 0 corrupt: 100%|██████████| 376/376 [00:00<?, ?it/s]\n",
      "                 Class     Images  Instances      Box(P          R      mAP50  mAP50-95): 100%|██████████| 12/12 [00:08<00:00,  1.44it/s]\n",
      "                   all        376        181      0.822       0.79      0.812      0.547\n",
      "/usr/local/lib/python3.11/dist-packages/matplotlib/colors.py:721: RuntimeWarning: invalid value encountered in less\n",
      "  xa[xa < 0] = -1\n",
      "/usr/local/lib/python3.11/dist-packages/matplotlib/colors.py:721: RuntimeWarning: invalid value encountered in less\n",
      "  xa[xa < 0] = -1\n",
      "Speed: 1.6ms preprocess, 16.7ms inference, 0.0ms loss, 0.5ms postprocess per image\n",
      "Results saved to \u001b[1mruns/epoch37\u001b[0m\n"
     ]
    },
    {
     "name": "stdout",
     "output_type": "stream",
     "text": [
      "-------------------- EPOCH 37 END --------------------\n",
      "-------------------- EPOCH 38 START --------------------\n",
      "Training start ...\n",
      "TRAIN:\n",
      "\tAVG_LOSS: 2.809727691396882\n",
      "\tMAIN_LOSS: 1.8721972477586963\n",
      "\tKD_LOSS: 0.31251014901112906\n",
      "Evaluating start ...\n",
      "VAL:\n",
      "\tAVG_LOSS: 4.727656831343968\n",
      "\tMAIN_LOSS: 3.7509538928667703\n",
      "\tKD_LOSS: 0.32556764284769696\n"
     ]
    },
    {
     "name": "stderr",
     "output_type": "stream",
     "text": [
      "LSM-YOLO summary (fused): 391 layers, 2873048 parameters, 18824 gradients, 12.4 GFLOPs\n",
      "\u001b[34m\u001b[1mval: \u001b[0mScanning /kaggle/working/Br35H-Mask-Prepared/val/labels.cache... 151 images, 225 backgrounds, 0 corrupt: 100%|██████████| 376/376 [00:00<?, ?it/s]\n",
      "                 Class     Images  Instances      Box(P          R      mAP50  mAP50-95): 100%|██████████| 12/12 [00:08<00:00,  1.45it/s]\n",
      "                   all        376        181      0.936       0.73      0.823      0.548\n",
      "/usr/local/lib/python3.11/dist-packages/matplotlib/colors.py:721: RuntimeWarning: invalid value encountered in less\n",
      "  xa[xa < 0] = -1\n",
      "/usr/local/lib/python3.11/dist-packages/matplotlib/colors.py:721: RuntimeWarning: invalid value encountered in less\n",
      "  xa[xa < 0] = -1\n",
      "Speed: 1.7ms preprocess, 16.7ms inference, 0.0ms loss, 0.4ms postprocess per image\n",
      "Results saved to \u001b[1mruns/epoch38\u001b[0m\n"
     ]
    },
    {
     "name": "stdout",
     "output_type": "stream",
     "text": [
      "-------------------- EPOCH 38 END --------------------\n",
      "-------------------- EPOCH 39 START --------------------\n",
      "Training start ...\n",
      "TRAIN:\n",
      "\tAVG_LOSS: 2.821709328059909\n",
      "\tMAIN_LOSS: 1.8885602996319155\n",
      "\tKD_LOSS: 0.31104968016660667\n",
      "Evaluating start ...\n",
      "VAL:\n",
      "\tAVG_LOSS: 4.643013149499893\n",
      "\tMAIN_LOSS: 3.679816355307897\n",
      "\tKD_LOSS: 0.32106559723615646\n"
     ]
    },
    {
     "name": "stderr",
     "output_type": "stream",
     "text": [
      "LSM-YOLO summary (fused): 391 layers, 2873048 parameters, 18824 gradients, 12.4 GFLOPs\n",
      "\u001b[34m\u001b[1mval: \u001b[0mScanning /kaggle/working/Br35H-Mask-Prepared/val/labels.cache... 151 images, 225 backgrounds, 0 corrupt: 100%|██████████| 376/376 [00:00<?, ?it/s]\n",
      "                 Class     Images  Instances      Box(P          R      mAP50  mAP50-95): 100%|██████████| 12/12 [00:08<00:00,  1.46it/s]\n",
      "                   all        376        181      0.928      0.691       0.81      0.554\n",
      "/usr/local/lib/python3.11/dist-packages/matplotlib/colors.py:721: RuntimeWarning: invalid value encountered in less\n",
      "  xa[xa < 0] = -1\n",
      "/usr/local/lib/python3.11/dist-packages/matplotlib/colors.py:721: RuntimeWarning: invalid value encountered in less\n",
      "  xa[xa < 0] = -1\n",
      "Speed: 1.6ms preprocess, 16.7ms inference, 0.0ms loss, 0.4ms postprocess per image\n",
      "Results saved to \u001b[1mruns/epoch39\u001b[0m\n"
     ]
    },
    {
     "name": "stdout",
     "output_type": "stream",
     "text": [
      "Epoch 39: New best mAP: 0.5544, model saved.\n",
      "-------------------- EPOCH 39 END --------------------\n",
      "-------------------- EPOCH 40 START --------------------\n",
      "Training start ...\n",
      "TRAIN:\n",
      "\tAVG_LOSS: 2.8113897782337816\n",
      "\tMAIN_LOSS: 1.8836539199080649\n",
      "\tKD_LOSS: 0.30924528384510475\n",
      "Evaluating start ...\n",
      "VAL:\n",
      "\tAVG_LOSS: 4.970606605211894\n",
      "\tMAIN_LOSS: 4.008232434590657\n",
      "\tKD_LOSS: 0.3207913798590501\n"
     ]
    },
    {
     "name": "stderr",
     "output_type": "stream",
     "text": [
      "LSM-YOLO summary (fused): 391 layers, 2873048 parameters, 18824 gradients, 12.4 GFLOPs\n",
      "\u001b[34m\u001b[1mval: \u001b[0mScanning /kaggle/working/Br35H-Mask-Prepared/val/labels.cache... 151 images, 225 backgrounds, 0 corrupt: 100%|██████████| 376/376 [00:00<?, ?it/s]\n",
      "                 Class     Images  Instances      Box(P          R      mAP50  mAP50-95): 100%|██████████| 12/12 [00:08<00:00,  1.46it/s]\n",
      "                   all        376        181      0.904      0.731       0.82      0.559\n",
      "/usr/local/lib/python3.11/dist-packages/matplotlib/colors.py:721: RuntimeWarning: invalid value encountered in less\n",
      "  xa[xa < 0] = -1\n",
      "/usr/local/lib/python3.11/dist-packages/matplotlib/colors.py:721: RuntimeWarning: invalid value encountered in less\n",
      "  xa[xa < 0] = -1\n",
      "Speed: 1.8ms preprocess, 16.7ms inference, 0.0ms loss, 0.4ms postprocess per image\n",
      "Results saved to \u001b[1mruns/epoch40\u001b[0m\n"
     ]
    },
    {
     "name": "stdout",
     "output_type": "stream",
     "text": [
      "Epoch 40: New best mAP: 0.5588, model saved.\n",
      "-------------------- EPOCH 40 END --------------------\n",
      "-------------------- EPOCH 41 START --------------------\n",
      "Training start ...\n",
      "TRAIN:\n",
      "\tAVG_LOSS: 2.757312077510206\n",
      "\tMAIN_LOSS: 1.8350793696657013\n",
      "\tKD_LOSS: 0.3074109003513674\n",
      "Evaluating start ...\n",
      "VAL:\n",
      "\tAVG_LOSS: 4.771541913350423\n",
      "\tMAIN_LOSS: 3.8311980168024697\n",
      "\tKD_LOSS: 0.3134479708969593\n"
     ]
    },
    {
     "name": "stderr",
     "output_type": "stream",
     "text": [
      "LSM-YOLO summary (fused): 391 layers, 2873048 parameters, 18824 gradients, 12.4 GFLOPs\n",
      "\u001b[34m\u001b[1mval: \u001b[0mScanning /kaggle/working/Br35H-Mask-Prepared/val/labels.cache... 151 images, 225 backgrounds, 0 corrupt: 100%|██████████| 376/376 [00:00<?, ?it/s]\n",
      "                 Class     Images  Instances      Box(P          R      mAP50  mAP50-95): 100%|██████████| 12/12 [00:08<00:00,  1.43it/s]\n",
      "                   all        376        181      0.943      0.737      0.822      0.561\n",
      "/usr/local/lib/python3.11/dist-packages/matplotlib/colors.py:721: RuntimeWarning: invalid value encountered in less\n",
      "  xa[xa < 0] = -1\n",
      "/usr/local/lib/python3.11/dist-packages/matplotlib/colors.py:721: RuntimeWarning: invalid value encountered in less\n",
      "  xa[xa < 0] = -1\n",
      "Speed: 1.8ms preprocess, 16.7ms inference, 0.0ms loss, 0.4ms postprocess per image\n",
      "Results saved to \u001b[1mruns/epoch41\u001b[0m\n"
     ]
    },
    {
     "name": "stdout",
     "output_type": "stream",
     "text": [
      "Epoch 41: New best mAP: 0.5610, model saved.\n",
      "-------------------- EPOCH 41 END --------------------\n",
      "-------------------- EPOCH 42 START --------------------\n",
      "Training start ...\n",
      "TRAIN:\n",
      "\tAVG_LOSS: 2.8358667711668377\n",
      "\tMAIN_LOSS: 1.9198694576190998\n",
      "\tKD_LOSS: 0.3053324377234978\n",
      "Evaluating start ...\n",
      "VAL:\n",
      "\tAVG_LOSS: 5.053786148627599\n",
      "\tMAIN_LOSS: 4.076216985781987\n",
      "\tKD_LOSS: 0.32585640003283817\n"
     ]
    },
    {
     "name": "stderr",
     "output_type": "stream",
     "text": [
      "LSM-YOLO summary (fused): 391 layers, 2873048 parameters, 18824 gradients, 12.4 GFLOPs\n",
      "\u001b[34m\u001b[1mval: \u001b[0mScanning /kaggle/working/Br35H-Mask-Prepared/val/labels.cache... 151 images, 225 backgrounds, 0 corrupt: 100%|██████████| 376/376 [00:00<?, ?it/s]\n",
      "                 Class     Images  Instances      Box(P          R      mAP50  mAP50-95): 100%|██████████| 12/12 [00:08<00:00,  1.44it/s]\n",
      "                   all        376        181      0.872      0.674      0.736      0.494\n",
      "/usr/local/lib/python3.11/dist-packages/matplotlib/colors.py:721: RuntimeWarning: invalid value encountered in less\n",
      "  xa[xa < 0] = -1\n",
      "/usr/local/lib/python3.11/dist-packages/matplotlib/colors.py:721: RuntimeWarning: invalid value encountered in less\n",
      "  xa[xa < 0] = -1\n",
      "Speed: 1.5ms preprocess, 16.8ms inference, 0.0ms loss, 0.5ms postprocess per image\n",
      "Results saved to \u001b[1mruns/epoch42\u001b[0m\n"
     ]
    },
    {
     "name": "stdout",
     "output_type": "stream",
     "text": [
      "-------------------- EPOCH 42 END --------------------\n",
      "-------------------- EPOCH 43 START --------------------\n",
      "Training start ...\n",
      "TRAIN:\n",
      "\tAVG_LOSS: 2.9113513367085515\n",
      "\tMAIN_LOSS: 1.98580068576185\n",
      "\tKD_LOSS: 0.30851688641536085\n",
      "Evaluating start ...\n",
      "VAL:\n",
      "\tAVG_LOSS: 5.056166052818298\n",
      "\tMAIN_LOSS: 4.036462088425954\n",
      "\tKD_LOSS: 0.33990132932861644\n"
     ]
    },
    {
     "name": "stderr",
     "output_type": "stream",
     "text": [
      "LSM-YOLO summary (fused): 391 layers, 2873048 parameters, 18824 gradients, 12.4 GFLOPs\n",
      "\u001b[34m\u001b[1mval: \u001b[0mScanning /kaggle/working/Br35H-Mask-Prepared/val/labels.cache... 151 images, 225 backgrounds, 0 corrupt: 100%|██████████| 376/376 [00:00<?, ?it/s]\n",
      "                 Class     Images  Instances      Box(P          R      mAP50  mAP50-95): 100%|██████████| 12/12 [00:08<00:00,  1.44it/s]\n",
      "                   all        376        181      0.876      0.729      0.803       0.52\n",
      "/usr/local/lib/python3.11/dist-packages/matplotlib/colors.py:721: RuntimeWarning: invalid value encountered in less\n",
      "  xa[xa < 0] = -1\n",
      "/usr/local/lib/python3.11/dist-packages/matplotlib/colors.py:721: RuntimeWarning: invalid value encountered in less\n",
      "  xa[xa < 0] = -1\n",
      "Speed: 1.7ms preprocess, 16.7ms inference, 0.0ms loss, 0.6ms postprocess per image\n",
      "Results saved to \u001b[1mruns/epoch43\u001b[0m\n"
     ]
    },
    {
     "name": "stdout",
     "output_type": "stream",
     "text": [
      "-------------------- EPOCH 43 END --------------------\n",
      "-------------------- EPOCH 44 START --------------------\n",
      "Training start ...\n",
      "TRAIN:\n",
      "\tAVG_LOSS: 2.7633792056313045\n",
      "\tMAIN_LOSS: 1.8451359347452092\n",
      "\tKD_LOSS: 0.30608108790614935\n",
      "Evaluating start ...\n",
      "VAL:\n",
      "\tAVG_LOSS: 4.7110914289951324\n",
      "\tMAIN_LOSS: 3.782068987687429\n",
      "\tKD_LOSS: 0.30967414875825244\n"
     ]
    },
    {
     "name": "stderr",
     "output_type": "stream",
     "text": [
      "LSM-YOLO summary (fused): 391 layers, 2873048 parameters, 18824 gradients, 12.4 GFLOPs\n",
      "\u001b[34m\u001b[1mval: \u001b[0mScanning /kaggle/working/Br35H-Mask-Prepared/val/labels.cache... 151 images, 225 backgrounds, 0 corrupt: 100%|██████████| 376/376 [00:00<?, ?it/s]\n",
      "                 Class     Images  Instances      Box(P          R      mAP50  mAP50-95): 100%|██████████| 12/12 [00:08<00:00,  1.44it/s]\n",
      "                   all        376        181       0.89      0.779      0.834      0.542\n",
      "/usr/local/lib/python3.11/dist-packages/matplotlib/colors.py:721: RuntimeWarning: invalid value encountered in less\n",
      "  xa[xa < 0] = -1\n",
      "/usr/local/lib/python3.11/dist-packages/matplotlib/colors.py:721: RuntimeWarning: invalid value encountered in less\n",
      "  xa[xa < 0] = -1\n",
      "Speed: 1.9ms preprocess, 16.7ms inference, 0.0ms loss, 0.5ms postprocess per image\n",
      "Results saved to \u001b[1mruns/epoch44\u001b[0m\n"
     ]
    },
    {
     "name": "stdout",
     "output_type": "stream",
     "text": [
      "-------------------- EPOCH 44 END --------------------\n",
      "-------------------- EPOCH 45 START --------------------\n",
      "Training start ...\n",
      "TRAIN:\n",
      "\tAVG_LOSS: 2.7044551976119418\n",
      "\tMAIN_LOSS: 1.811959372291082\n",
      "\tKD_LOSS: 0.2974986071828045\n",
      "Evaluating start ...\n",
      "VAL:\n",
      "\tAVG_LOSS: 4.529338618119557\n",
      "\tMAIN_LOSS: 3.5987007121245065\n",
      "\tKD_LOSS: 0.3102126295367877\n"
     ]
    },
    {
     "name": "stderr",
     "output_type": "stream",
     "text": [
      "LSM-YOLO summary (fused): 391 layers, 2873048 parameters, 18824 gradients, 12.4 GFLOPs\n",
      "\u001b[34m\u001b[1mval: \u001b[0mScanning /kaggle/working/Br35H-Mask-Prepared/val/labels.cache... 151 images, 225 backgrounds, 0 corrupt: 100%|██████████| 376/376 [00:00<?, ?it/s]\n",
      "                 Class     Images  Instances      Box(P          R      mAP50  mAP50-95): 100%|██████████| 12/12 [00:08<00:00,  1.42it/s]\n",
      "                   all        376        181      0.951      0.749      0.819      0.555\n",
      "/usr/local/lib/python3.11/dist-packages/matplotlib/colors.py:721: RuntimeWarning: invalid value encountered in less\n",
      "  xa[xa < 0] = -1\n",
      "/usr/local/lib/python3.11/dist-packages/matplotlib/colors.py:721: RuntimeWarning: invalid value encountered in less\n",
      "  xa[xa < 0] = -1\n",
      "Speed: 1.9ms preprocess, 16.7ms inference, 0.0ms loss, 0.6ms postprocess per image\n",
      "Results saved to \u001b[1mruns/epoch45\u001b[0m\n"
     ]
    },
    {
     "name": "stdout",
     "output_type": "stream",
     "text": [
      "-------------------- EPOCH 45 END --------------------\n",
      "-------------------- EPOCH 46 START --------------------\n",
      "Training start ...\n",
      "TRAIN:\n",
      "\tAVG_LOSS: 2.649179558210735\n",
      "\tMAIN_LOSS: 1.7606277164024642\n",
      "\tKD_LOSS: 0.2961839505388767\n",
      "Evaluating start ...\n",
      "VAL:\n",
      "\tAVG_LOSS: 4.707913766304652\n",
      "\tMAIN_LOSS: 3.788352201382319\n",
      "\tKD_LOSS: 0.3065205129484336\n"
     ]
    },
    {
     "name": "stderr",
     "output_type": "stream",
     "text": [
      "LSM-YOLO summary (fused): 391 layers, 2873048 parameters, 18824 gradients, 12.4 GFLOPs\n",
      "\u001b[34m\u001b[1mval: \u001b[0mScanning /kaggle/working/Br35H-Mask-Prepared/val/labels.cache... 151 images, 225 backgrounds, 0 corrupt: 100%|██████████| 376/376 [00:00<?, ?it/s]\n",
      "                 Class     Images  Instances      Box(P          R      mAP50  mAP50-95): 100%|██████████| 12/12 [00:08<00:00,  1.46it/s]\n",
      "                   all        376        181      0.919      0.713      0.809      0.547\n",
      "/usr/local/lib/python3.11/dist-packages/matplotlib/colors.py:721: RuntimeWarning: invalid value encountered in less\n",
      "  xa[xa < 0] = -1\n",
      "/usr/local/lib/python3.11/dist-packages/matplotlib/colors.py:721: RuntimeWarning: invalid value encountered in less\n",
      "  xa[xa < 0] = -1\n",
      "Speed: 1.7ms preprocess, 16.7ms inference, 0.0ms loss, 0.4ms postprocess per image\n",
      "Results saved to \u001b[1mruns/epoch46\u001b[0m\n"
     ]
    },
    {
     "name": "stdout",
     "output_type": "stream",
     "text": [
      "-------------------- EPOCH 46 END --------------------\n",
      "-------------------- EPOCH 47 START --------------------\n",
      "Training start ...\n",
      "TRAIN:\n",
      "\tAVG_LOSS: 2.6388038200668142\n",
      "\tMAIN_LOSS: 1.7548136318786234\n",
      "\tKD_LOSS: 0.29466339757170856\n",
      "Evaluating start ...\n",
      "VAL:\n",
      "\tAVG_LOSS: 4.715402394533157\n",
      "\tMAIN_LOSS: 3.787155866622925\n",
      "\tKD_LOSS: 0.309415506819884\n"
     ]
    },
    {
     "name": "stderr",
     "output_type": "stream",
     "text": [
      "LSM-YOLO summary (fused): 391 layers, 2873048 parameters, 18824 gradients, 12.4 GFLOPs\n",
      "\u001b[34m\u001b[1mval: \u001b[0mScanning /kaggle/working/Br35H-Mask-Prepared/val/labels.cache... 151 images, 225 backgrounds, 0 corrupt: 100%|██████████| 376/376 [00:00<?, ?it/s]\n",
      "                 Class     Images  Instances      Box(P          R      mAP50  mAP50-95): 100%|██████████| 12/12 [00:08<00:00,  1.46it/s]\n",
      "                   all        376        181      0.832      0.741      0.803       0.54\n",
      "/usr/local/lib/python3.11/dist-packages/matplotlib/colors.py:721: RuntimeWarning: invalid value encountered in less\n",
      "  xa[xa < 0] = -1\n",
      "/usr/local/lib/python3.11/dist-packages/matplotlib/colors.py:721: RuntimeWarning: invalid value encountered in less\n",
      "  xa[xa < 0] = -1\n",
      "Speed: 1.6ms preprocess, 16.7ms inference, 0.0ms loss, 0.4ms postprocess per image\n",
      "Results saved to \u001b[1mruns/epoch47\u001b[0m\n"
     ]
    },
    {
     "name": "stdout",
     "output_type": "stream",
     "text": [
      "-------------------- EPOCH 47 END --------------------\n",
      "-------------------- EPOCH 48 START --------------------\n",
      "Training start ...\n",
      "TRAIN:\n",
      "\tAVG_LOSS: 2.6173385366608826\n",
      "\tMAIN_LOSS: 1.7397198661973206\n",
      "\tKD_LOSS: 0.2925395599648922\n",
      "Evaluating start ...\n",
      "VAL:\n",
      "\tAVG_LOSS: 4.842408488194148\n",
      "\tMAIN_LOSS: 3.926638891299566\n",
      "\tKD_LOSS: 0.3052565244336923\n"
     ]
    },
    {
     "name": "stderr",
     "output_type": "stream",
     "text": [
      "LSM-YOLO summary (fused): 391 layers, 2873048 parameters, 18824 gradients, 12.4 GFLOPs\n",
      "\u001b[34m\u001b[1mval: \u001b[0mScanning /kaggle/working/Br35H-Mask-Prepared/val/labels.cache... 151 images, 225 backgrounds, 0 corrupt: 100%|██████████| 376/376 [00:00<?, ?it/s]\n",
      "                 Class     Images  Instances      Box(P          R      mAP50  mAP50-95): 100%|██████████| 12/12 [00:08<00:00,  1.45it/s]\n",
      "                   all        376        181      0.882      0.742       0.84      0.552\n",
      "/usr/local/lib/python3.11/dist-packages/matplotlib/colors.py:721: RuntimeWarning: invalid value encountered in less\n",
      "  xa[xa < 0] = -1\n",
      "/usr/local/lib/python3.11/dist-packages/matplotlib/colors.py:721: RuntimeWarning: invalid value encountered in less\n",
      "  xa[xa < 0] = -1\n",
      "Speed: 1.8ms preprocess, 16.7ms inference, 0.0ms loss, 0.4ms postprocess per image\n",
      "Results saved to \u001b[1mruns/epoch48\u001b[0m\n"
     ]
    },
    {
     "name": "stdout",
     "output_type": "stream",
     "text": [
      "-------------------- EPOCH 48 END --------------------\n",
      "-------------------- EPOCH 49 START --------------------\n",
      "Training start ...\n",
      "TRAIN:\n",
      "\tAVG_LOSS: 2.5789925388143033\n",
      "\tMAIN_LOSS: 1.711806491960453\n",
      "\tKD_LOSS: 0.2890620265580431\n",
      "Evaluating start ...\n",
      "VAL:\n",
      "\tAVG_LOSS: 4.556968649228414\n",
      "\tMAIN_LOSS: 3.668707460165024\n",
      "\tKD_LOSS: 0.29608705391486484\n"
     ]
    },
    {
     "name": "stderr",
     "output_type": "stream",
     "text": [
      "LSM-YOLO summary (fused): 391 layers, 2873048 parameters, 18824 gradients, 12.4 GFLOPs\n",
      "\u001b[34m\u001b[1mval: \u001b[0mScanning /kaggle/working/Br35H-Mask-Prepared/val/labels.cache... 151 images, 225 backgrounds, 0 corrupt: 100%|██████████| 376/376 [00:00<?, ?it/s]\n",
      "                 Class     Images  Instances      Box(P          R      mAP50  mAP50-95): 100%|██████████| 12/12 [00:08<00:00,  1.46it/s]\n",
      "                   all        376        181      0.938      0.768      0.843      0.578\n",
      "/usr/local/lib/python3.11/dist-packages/matplotlib/colors.py:721: RuntimeWarning: invalid value encountered in less\n",
      "  xa[xa < 0] = -1\n",
      "/usr/local/lib/python3.11/dist-packages/matplotlib/colors.py:721: RuntimeWarning: invalid value encountered in less\n",
      "  xa[xa < 0] = -1\n",
      "Speed: 1.8ms preprocess, 16.7ms inference, 0.0ms loss, 0.3ms postprocess per image\n",
      "Results saved to \u001b[1mruns/epoch49\u001b[0m\n"
     ]
    },
    {
     "name": "stdout",
     "output_type": "stream",
     "text": [
      "Epoch 49: New best mAP: 0.5781, model saved.\n",
      "-------------------- EPOCH 49 END --------------------\n",
      "-------------------- EPOCH 50 START --------------------\n",
      "Training start ...\n",
      "TRAIN:\n",
      "\tAVG_LOSS: 2.565548131737528\n",
      "\tMAIN_LOSS: 1.7005573677111276\n",
      "\tKD_LOSS: 0.2883302580706681\n",
      "Evaluating start ...\n",
      "VAL:\n",
      "\tAVG_LOSS: 4.757922222216924\n",
      "\tMAIN_LOSS: 3.8607184290885925\n",
      "\tKD_LOSS: 0.29906792504092056\n"
     ]
    },
    {
     "name": "stderr",
     "output_type": "stream",
     "text": [
      "LSM-YOLO summary (fused): 391 layers, 2873048 parameters, 18824 gradients, 12.4 GFLOPs\n",
      "\u001b[34m\u001b[1mval: \u001b[0mScanning /kaggle/working/Br35H-Mask-Prepared/val/labels.cache... 151 images, 225 backgrounds, 0 corrupt: 100%|██████████| 376/376 [00:00<?, ?it/s]\n",
      "                 Class     Images  Instances      Box(P          R      mAP50  mAP50-95): 100%|██████████| 12/12 [00:08<00:00,  1.45it/s]\n",
      "                   all        376        181      0.836      0.796      0.808      0.524\n",
      "/usr/local/lib/python3.11/dist-packages/matplotlib/colors.py:721: RuntimeWarning: invalid value encountered in less\n",
      "  xa[xa < 0] = -1\n",
      "/usr/local/lib/python3.11/dist-packages/matplotlib/colors.py:721: RuntimeWarning: invalid value encountered in less\n",
      "  xa[xa < 0] = -1\n",
      "Speed: 1.7ms preprocess, 16.7ms inference, 0.0ms loss, 0.4ms postprocess per image\n",
      "Results saved to \u001b[1mruns/epoch50\u001b[0m\n"
     ]
    },
    {
     "name": "stdout",
     "output_type": "stream",
     "text": [
      "-------------------- EPOCH 50 END --------------------\n",
      "-------------------- EPOCH 51 START --------------------\n",
      "Training start ...\n",
      "TRAIN:\n",
      "\tAVG_LOSS: 2.549621983419491\n",
      "\tMAIN_LOSS: 1.6947302576861805\n",
      "\tKD_LOSS: 0.2849639099610003\n",
      "Evaluating start ...\n",
      "VAL:\n",
      "\tAVG_LOSS: 4.572169651587804\n",
      "\tMAIN_LOSS: 3.6911808053652444\n",
      "\tKD_LOSS: 0.2936629590888818\n"
     ]
    },
    {
     "name": "stderr",
     "output_type": "stream",
     "text": [
      "LSM-YOLO summary (fused): 391 layers, 2873048 parameters, 18824 gradients, 12.4 GFLOPs\n",
      "\u001b[34m\u001b[1mval: \u001b[0mScanning /kaggle/working/Br35H-Mask-Prepared/val/labels.cache... 151 images, 225 backgrounds, 0 corrupt: 100%|██████████| 376/376 [00:00<?, ?it/s]\n",
      "                 Class     Images  Instances      Box(P          R      mAP50  mAP50-95): 100%|██████████| 12/12 [00:08<00:00,  1.46it/s]\n",
      "                   all        376        181      0.954      0.746      0.852      0.582\n",
      "/usr/local/lib/python3.11/dist-packages/matplotlib/colors.py:721: RuntimeWarning: invalid value encountered in less\n",
      "  xa[xa < 0] = -1\n",
      "/usr/local/lib/python3.11/dist-packages/matplotlib/colors.py:721: RuntimeWarning: invalid value encountered in less\n",
      "  xa[xa < 0] = -1\n",
      "Speed: 1.7ms preprocess, 16.7ms inference, 0.0ms loss, 0.3ms postprocess per image\n",
      "Results saved to \u001b[1mruns/epoch51\u001b[0m\n"
     ]
    },
    {
     "name": "stdout",
     "output_type": "stream",
     "text": [
      "Epoch 51: New best mAP: 0.5816, model saved.\n",
      "-------------------- EPOCH 51 END --------------------\n",
      "-------------------- EPOCH 52 START --------------------\n",
      "Training start ...\n",
      "TRAIN:\n",
      "\tAVG_LOSS: 2.5516392762147926\n",
      "\tMAIN_LOSS: 1.6949241704578641\n",
      "\tKD_LOSS: 0.28557169550581823\n",
      "Evaluating start ...\n",
      "VAL:\n",
      "\tAVG_LOSS: 4.478876968224843\n",
      "\tMAIN_LOSS: 3.572695324818293\n",
      "\tKD_LOSS: 0.3020605444908142\n"
     ]
    },
    {
     "name": "stderr",
     "output_type": "stream",
     "text": [
      "LSM-YOLO summary (fused): 391 layers, 2873048 parameters, 18824 gradients, 12.4 GFLOPs\n",
      "\u001b[34m\u001b[1mval: \u001b[0mScanning /kaggle/working/Br35H-Mask-Prepared/val/labels.cache... 151 images, 225 backgrounds, 0 corrupt: 100%|██████████| 376/376 [00:00<?, ?it/s]\n",
      "                 Class     Images  Instances      Box(P          R      mAP50  mAP50-95): 100%|██████████| 12/12 [00:08<00:00,  1.43it/s]\n",
      "                   all        376        181      0.925      0.753      0.835      0.557\n",
      "/usr/local/lib/python3.11/dist-packages/matplotlib/colors.py:721: RuntimeWarning: invalid value encountered in less\n",
      "  xa[xa < 0] = -1\n",
      "/usr/local/lib/python3.11/dist-packages/matplotlib/colors.py:721: RuntimeWarning: invalid value encountered in less\n",
      "  xa[xa < 0] = -1\n",
      "Speed: 2.0ms preprocess, 16.7ms inference, 0.0ms loss, 0.4ms postprocess per image\n",
      "Results saved to \u001b[1mruns/epoch52\u001b[0m\n"
     ]
    },
    {
     "name": "stdout",
     "output_type": "stream",
     "text": [
      "-------------------- EPOCH 52 END --------------------\n",
      "-------------------- EPOCH 53 START --------------------\n",
      "Training start ...\n",
      "TRAIN:\n",
      "\tAVG_LOSS: 2.5345306064509137\n",
      "\tMAIN_LOSS: 1.6852535839322247\n",
      "\tKD_LOSS: 0.2830923361868798\n",
      "Evaluating start ...\n",
      "VAL:\n",
      "\tAVG_LOSS: 4.517095257838567\n",
      "\tMAIN_LOSS: 3.6303204397360482\n",
      "\tKD_LOSS: 0.2955915952722232\n"
     ]
    },
    {
     "name": "stderr",
     "output_type": "stream",
     "text": [
      "LSM-YOLO summary (fused): 391 layers, 2873048 parameters, 18824 gradients, 12.4 GFLOPs\n",
      "\u001b[34m\u001b[1mval: \u001b[0mScanning /kaggle/working/Br35H-Mask-Prepared/val/labels.cache... 151 images, 225 backgrounds, 0 corrupt: 100%|██████████| 376/376 [00:00<?, ?it/s]\n",
      "                 Class     Images  Instances      Box(P          R      mAP50  mAP50-95): 100%|██████████| 12/12 [00:08<00:00,  1.45it/s]\n",
      "                   all        376        181      0.954      0.768      0.845      0.588\n",
      "/usr/local/lib/python3.11/dist-packages/matplotlib/colors.py:721: RuntimeWarning: invalid value encountered in less\n",
      "  xa[xa < 0] = -1\n",
      "/usr/local/lib/python3.11/dist-packages/matplotlib/colors.py:721: RuntimeWarning: invalid value encountered in less\n",
      "  xa[xa < 0] = -1\n",
      "Speed: 1.9ms preprocess, 16.7ms inference, 0.0ms loss, 0.4ms postprocess per image\n",
      "Results saved to \u001b[1mruns/epoch53\u001b[0m\n"
     ]
    },
    {
     "name": "stdout",
     "output_type": "stream",
     "text": [
      "Epoch 53: New best mAP: 0.5883, model saved.\n",
      "-------------------- EPOCH 53 END --------------------\n",
      "-------------------- EPOCH 54 START --------------------\n",
      "Training start ...\n",
      "TRAIN:\n",
      "\tAVG_LOSS: 2.5274320041077045\n",
      "\tMAIN_LOSS: 1.6825169143797476\n",
      "\tKD_LOSS: 0.28163835972170287\n",
      "Evaluating start ...\n",
      "VAL:\n",
      "\tAVG_LOSS: 4.393184840679169\n",
      "\tMAIN_LOSS: 3.5230082869529724\n",
      "\tKD_LOSS: 0.2900588425497214\n"
     ]
    },
    {
     "name": "stderr",
     "output_type": "stream",
     "text": [
      "LSM-YOLO summary (fused): 391 layers, 2873048 parameters, 18824 gradients, 12.4 GFLOPs\n",
      "\u001b[34m\u001b[1mval: \u001b[0mScanning /kaggle/working/Br35H-Mask-Prepared/val/labels.cache... 151 images, 225 backgrounds, 0 corrupt: 100%|██████████| 376/376 [00:00<?, ?it/s]\n",
      "                 Class     Images  Instances      Box(P          R      mAP50  mAP50-95): 100%|██████████| 12/12 [00:08<00:00,  1.44it/s]\n",
      "                   all        376        181      0.852      0.779       0.82      0.563\n",
      "/usr/local/lib/python3.11/dist-packages/matplotlib/colors.py:721: RuntimeWarning: invalid value encountered in less\n",
      "  xa[xa < 0] = -1\n",
      "/usr/local/lib/python3.11/dist-packages/matplotlib/colors.py:721: RuntimeWarning: invalid value encountered in less\n",
      "  xa[xa < 0] = -1\n",
      "Speed: 1.9ms preprocess, 16.7ms inference, 0.0ms loss, 0.4ms postprocess per image\n",
      "Results saved to \u001b[1mruns/epoch54\u001b[0m\n"
     ]
    },
    {
     "name": "stdout",
     "output_type": "stream",
     "text": [
      "-------------------- EPOCH 54 END --------------------\n",
      "-------------------- EPOCH 55 START --------------------\n",
      "Training start ...\n",
      "TRAIN:\n",
      "\tAVG_LOSS: 2.4915492549727234\n",
      "\tMAIN_LOSS: 1.6518820554395266\n",
      "\tKD_LOSS: 0.2798890709122525\n",
      "Evaluating start ...\n",
      "VAL:\n",
      "\tAVG_LOSS: 4.956875771284103\n",
      "\tMAIN_LOSS: 4.088376015424728\n",
      "\tKD_LOSS: 0.2894999136527379\n"
     ]
    },
    {
     "name": "stderr",
     "output_type": "stream",
     "text": [
      "LSM-YOLO summary (fused): 391 layers, 2873048 parameters, 18824 gradients, 12.4 GFLOPs\n",
      "\u001b[34m\u001b[1mval: \u001b[0mScanning /kaggle/working/Br35H-Mask-Prepared/val/labels.cache... 151 images, 225 backgrounds, 0 corrupt: 100%|██████████| 376/376 [00:00<?, ?it/s]\n",
      "                 Class     Images  Instances      Box(P          R      mAP50  mAP50-95): 100%|██████████| 12/12 [00:08<00:00,  1.46it/s]\n",
      "                   all        376        181      0.827      0.739      0.809      0.539\n",
      "/usr/local/lib/python3.11/dist-packages/matplotlib/colors.py:721: RuntimeWarning: invalid value encountered in less\n",
      "  xa[xa < 0] = -1\n",
      "/usr/local/lib/python3.11/dist-packages/matplotlib/colors.py:721: RuntimeWarning: invalid value encountered in less\n",
      "  xa[xa < 0] = -1\n",
      "Speed: 1.7ms preprocess, 16.8ms inference, 0.0ms loss, 0.4ms postprocess per image\n",
      "Results saved to \u001b[1mruns/epoch55\u001b[0m\n"
     ]
    },
    {
     "name": "stdout",
     "output_type": "stream",
     "text": [
      "-------------------- EPOCH 55 END --------------------\n",
      "-------------------- EPOCH 56 START --------------------\n",
      "Training start ...\n",
      "TRAIN:\n",
      "\tAVG_LOSS: 2.4733000156245653\n",
      "\tMAIN_LOSS: 1.6393694771996028\n",
      "\tKD_LOSS: 0.2779768469590175\n",
      "Evaluating start ...\n",
      "VAL:\n",
      "\tAVG_LOSS: 4.825514028469722\n",
      "\tMAIN_LOSS: 3.939943144718806\n",
      "\tKD_LOSS: 0.295190275957187\n"
     ]
    },
    {
     "name": "stderr",
     "output_type": "stream",
     "text": [
      "LSM-YOLO summary (fused): 391 layers, 2873048 parameters, 18824 gradients, 12.4 GFLOPs\n",
      "\u001b[34m\u001b[1mval: \u001b[0mScanning /kaggle/working/Br35H-Mask-Prepared/val/labels.cache... 151 images, 225 backgrounds, 0 corrupt: 100%|██████████| 376/376 [00:00<?, ?it/s]\n",
      "                 Class     Images  Instances      Box(P          R      mAP50  mAP50-95): 100%|██████████| 12/12 [00:08<00:00,  1.46it/s]\n",
      "                   all        376        181      0.939      0.707      0.795       0.54\n",
      "/usr/local/lib/python3.11/dist-packages/matplotlib/colors.py:721: RuntimeWarning: invalid value encountered in less\n",
      "  xa[xa < 0] = -1\n",
      "/usr/local/lib/python3.11/dist-packages/matplotlib/colors.py:721: RuntimeWarning: invalid value encountered in less\n",
      "  xa[xa < 0] = -1\n",
      "Speed: 1.7ms preprocess, 16.7ms inference, 0.0ms loss, 0.4ms postprocess per image\n",
      "Results saved to \u001b[1mruns/epoch56\u001b[0m\n"
     ]
    },
    {
     "name": "stdout",
     "output_type": "stream",
     "text": [
      "-------------------- EPOCH 56 END --------------------\n",
      "-------------------- EPOCH 57 START --------------------\n",
      "Training start ...\n",
      "TRAIN:\n",
      "\tAVG_LOSS: 2.4722810244258446\n",
      "\tMAIN_LOSS: 1.6400497457649135\n",
      "\tKD_LOSS: 0.27741042760354057\n",
      "Evaluating start ...\n",
      "VAL:\n",
      "\tAVG_LOSS: 4.604676773150762\n",
      "\tMAIN_LOSS: 3.747656971216202\n",
      "\tKD_LOSS: 0.28567326193054515\n"
     ]
    },
    {
     "name": "stderr",
     "output_type": "stream",
     "text": [
      "LSM-YOLO summary (fused): 391 layers, 2873048 parameters, 18824 gradients, 12.4 GFLOPs\n",
      "\u001b[34m\u001b[1mval: \u001b[0mScanning /kaggle/working/Br35H-Mask-Prepared/val/labels.cache... 151 images, 225 backgrounds, 0 corrupt: 100%|██████████| 376/376 [00:00<?, ?it/s]\n",
      "                 Class     Images  Instances      Box(P          R      mAP50  mAP50-95): 100%|██████████| 12/12 [00:08<00:00,  1.46it/s]\n",
      "                   all        376        181      0.882      0.741      0.817       0.56\n",
      "/usr/local/lib/python3.11/dist-packages/matplotlib/colors.py:721: RuntimeWarning: invalid value encountered in less\n",
      "  xa[xa < 0] = -1\n",
      "/usr/local/lib/python3.11/dist-packages/matplotlib/colors.py:721: RuntimeWarning: invalid value encountered in less\n",
      "  xa[xa < 0] = -1\n",
      "Speed: 1.7ms preprocess, 16.7ms inference, 0.0ms loss, 0.4ms postprocess per image\n",
      "Results saved to \u001b[1mruns/epoch57\u001b[0m\n"
     ]
    },
    {
     "name": "stdout",
     "output_type": "stream",
     "text": [
      "-------------------- EPOCH 57 END --------------------\n",
      "-------------------- EPOCH 58 START --------------------\n",
      "Training start ...\n",
      "TRAIN:\n",
      "\tAVG_LOSS: 2.3929101696497277\n",
      "\tMAIN_LOSS: 1.5702099302147008\n",
      "\tKD_LOSS: 0.27423341421386865\n",
      "Evaluating start ...\n",
      "VAL:\n",
      "\tAVG_LOSS: 4.639693935712178\n",
      "\tMAIN_LOSS: 3.7812934120496116\n",
      "\tKD_LOSS: 0.2861335178216298\n"
     ]
    },
    {
     "name": "stderr",
     "output_type": "stream",
     "text": [
      "LSM-YOLO summary (fused): 391 layers, 2873048 parameters, 18824 gradients, 12.4 GFLOPs\n",
      "\u001b[34m\u001b[1mval: \u001b[0mScanning /kaggle/working/Br35H-Mask-Prepared/val/labels.cache... 151 images, 225 backgrounds, 0 corrupt: 100%|██████████| 376/376 [00:00<?, ?it/s]\n",
      "                 Class     Images  Instances      Box(P          R      mAP50  mAP50-95): 100%|██████████| 12/12 [00:08<00:00,  1.45it/s]\n",
      "                   all        376        181      0.945      0.752      0.839      0.565\n",
      "/usr/local/lib/python3.11/dist-packages/matplotlib/colors.py:721: RuntimeWarning: invalid value encountered in less\n",
      "  xa[xa < 0] = -1\n",
      "/usr/local/lib/python3.11/dist-packages/matplotlib/colors.py:721: RuntimeWarning: invalid value encountered in less\n",
      "  xa[xa < 0] = -1\n",
      "Speed: 1.9ms preprocess, 16.7ms inference, 0.0ms loss, 0.4ms postprocess per image\n",
      "Results saved to \u001b[1mruns/epoch58\u001b[0m\n"
     ]
    },
    {
     "name": "stdout",
     "output_type": "stream",
     "text": [
      "-------------------- EPOCH 58 END --------------------\n",
      "-------------------- EPOCH 59 START --------------------\n",
      "Training start ...\n",
      "TRAIN:\n",
      "\tAVG_LOSS: 2.3995682800872418\n",
      "\tMAIN_LOSS: 1.5851826682875427\n",
      "\tKD_LOSS: 0.27146187236037433\n",
      "Evaluating start ...\n",
      "VAL:\n",
      "\tAVG_LOSS: 4.5072082579135895\n",
      "\tMAIN_LOSS: 3.657557566960653\n",
      "\tKD_LOSS: 0.28321688373883563\n"
     ]
    },
    {
     "name": "stderr",
     "output_type": "stream",
     "text": [
      "LSM-YOLO summary (fused): 391 layers, 2873048 parameters, 18824 gradients, 12.4 GFLOPs\n",
      "\u001b[34m\u001b[1mval: \u001b[0mScanning /kaggle/working/Br35H-Mask-Prepared/val/labels.cache... 151 images, 225 backgrounds, 0 corrupt: 100%|██████████| 376/376 [00:00<?, ?it/s]\n",
      "                 Class     Images  Instances      Box(P          R      mAP50  mAP50-95): 100%|██████████| 12/12 [00:08<00:00,  1.45it/s]\n",
      "                   all        376        181      0.872      0.753      0.824      0.556\n",
      "/usr/local/lib/python3.11/dist-packages/matplotlib/colors.py:721: RuntimeWarning: invalid value encountered in less\n",
      "  xa[xa < 0] = -1\n",
      "/usr/local/lib/python3.11/dist-packages/matplotlib/colors.py:721: RuntimeWarning: invalid value encountered in less\n",
      "  xa[xa < 0] = -1\n",
      "Speed: 1.8ms preprocess, 16.7ms inference, 0.0ms loss, 0.4ms postprocess per image\n",
      "Results saved to \u001b[1mruns/epoch59\u001b[0m\n"
     ]
    },
    {
     "name": "stdout",
     "output_type": "stream",
     "text": [
      "-------------------- EPOCH 59 END --------------------\n",
      "-------------------- EPOCH 60 START --------------------\n",
      "Training start ...\n",
      "TRAIN:\n",
      "\tAVG_LOSS: 2.4188589597050147\n",
      "\tMAIN_LOSS: 1.6030434430400027\n",
      "\tKD_LOSS: 0.2719385056178781\n",
      "Evaluating start ...\n",
      "VAL:\n",
      "\tAVG_LOSS: 4.56282714009285\n",
      "\tMAIN_LOSS: 3.7079987128575644\n",
      "\tKD_LOSS: 0.28494279955824214\n"
     ]
    },
    {
     "name": "stderr",
     "output_type": "stream",
     "text": [
      "LSM-YOLO summary (fused): 391 layers, 2873048 parameters, 18824 gradients, 12.4 GFLOPs\n",
      "\u001b[34m\u001b[1mval: \u001b[0mScanning /kaggle/working/Br35H-Mask-Prepared/val/labels.cache... 151 images, 225 backgrounds, 0 corrupt: 100%|██████████| 376/376 [00:00<?, ?it/s]\n",
      "                 Class     Images  Instances      Box(P          R      mAP50  mAP50-95): 100%|██████████| 12/12 [00:08<00:00,  1.45it/s]\n",
      "                   all        376        181      0.946       0.74      0.821      0.555\n",
      "/usr/local/lib/python3.11/dist-packages/matplotlib/colors.py:721: RuntimeWarning: invalid value encountered in less\n",
      "  xa[xa < 0] = -1\n",
      "/usr/local/lib/python3.11/dist-packages/matplotlib/colors.py:721: RuntimeWarning: invalid value encountered in less\n",
      "  xa[xa < 0] = -1\n",
      "Speed: 1.8ms preprocess, 16.7ms inference, 0.0ms loss, 0.4ms postprocess per image\n",
      "Results saved to \u001b[1mruns/epoch60\u001b[0m\n"
     ]
    },
    {
     "name": "stdout",
     "output_type": "stream",
     "text": [
      "-------------------- EPOCH 60 END --------------------\n",
      "-------------------- EPOCH 61 START --------------------\n",
      "Training start ...\n",
      "TRAIN:\n",
      "\tAVG_LOSS: 2.436843567256686\n",
      "\tMAIN_LOSS: 1.6201340397701989\n",
      "\tKD_LOSS: 0.2722365141292162\n",
      "Evaluating start ...\n",
      "VAL:\n",
      "\tAVG_LOSS: 4.50616188844045\n",
      "\tMAIN_LOSS: 3.6614034473896027\n",
      "\tKD_LOSS: 0.28158614163597423\n"
     ]
    },
    {
     "name": "stderr",
     "output_type": "stream",
     "text": [
      "LSM-YOLO summary (fused): 391 layers, 2873048 parameters, 18824 gradients, 12.4 GFLOPs\n",
      "\u001b[34m\u001b[1mval: \u001b[0mScanning /kaggle/working/Br35H-Mask-Prepared/val/labels.cache... 151 images, 225 backgrounds, 0 corrupt: 100%|██████████| 376/376 [00:00<?, ?it/s]\n",
      "                 Class     Images  Instances      Box(P          R      mAP50  mAP50-95): 100%|██████████| 12/12 [00:08<00:00,  1.45it/s]\n",
      "                   all        376        181      0.857      0.764      0.828       0.55\n",
      "/usr/local/lib/python3.11/dist-packages/matplotlib/colors.py:721: RuntimeWarning: invalid value encountered in less\n",
      "  xa[xa < 0] = -1\n",
      "/usr/local/lib/python3.11/dist-packages/matplotlib/colors.py:721: RuntimeWarning: invalid value encountered in less\n",
      "  xa[xa < 0] = -1\n",
      "Speed: 1.8ms preprocess, 16.8ms inference, 0.0ms loss, 0.4ms postprocess per image\n",
      "Results saved to \u001b[1mruns/epoch61\u001b[0m\n"
     ]
    },
    {
     "name": "stdout",
     "output_type": "stream",
     "text": [
      "-------------------- EPOCH 61 END --------------------\n",
      "-------------------- EPOCH 62 START --------------------\n",
      "Training start ...\n",
      "TRAIN:\n",
      "\tAVG_LOSS: 2.3899042938329\n",
      "\tMAIN_LOSS: 1.5838592988026292\n",
      "\tKD_LOSS: 0.2686816650100901\n",
      "Evaluating start ...\n",
      "VAL:\n",
      "\tAVG_LOSS: 4.492588599522908\n",
      "\tMAIN_LOSS: 3.6540056665738425\n",
      "\tKD_LOSS: 0.27952765735487145\n"
     ]
    },
    {
     "name": "stderr",
     "output_type": "stream",
     "text": [
      "LSM-YOLO summary (fused): 391 layers, 2873048 parameters, 18824 gradients, 12.4 GFLOPs\n",
      "\u001b[34m\u001b[1mval: \u001b[0mScanning /kaggle/working/Br35H-Mask-Prepared/val/labels.cache... 151 images, 225 backgrounds, 0 corrupt: 100%|██████████| 376/376 [00:00<?, ?it/s]\n",
      "                 Class     Images  Instances      Box(P          R      mAP50  mAP50-95): 100%|██████████| 12/12 [00:08<00:00,  1.45it/s]\n",
      "                   all        376        181       0.92      0.751       0.84      0.571\n",
      "/usr/local/lib/python3.11/dist-packages/matplotlib/colors.py:721: RuntimeWarning: invalid value encountered in less\n",
      "  xa[xa < 0] = -1\n",
      "/usr/local/lib/python3.11/dist-packages/matplotlib/colors.py:721: RuntimeWarning: invalid value encountered in less\n",
      "  xa[xa < 0] = -1\n",
      "Speed: 1.8ms preprocess, 16.7ms inference, 0.0ms loss, 0.3ms postprocess per image\n",
      "Results saved to \u001b[1mruns/epoch62\u001b[0m\n"
     ]
    },
    {
     "name": "stdout",
     "output_type": "stream",
     "text": [
      "-------------------- EPOCH 62 END --------------------\n",
      "-------------------- EPOCH 63 START --------------------\n",
      "Training start ...\n"
     ]
    },
    {
     "name": "stderr",
     "output_type": "stream",
     "text": [
      "Exception ignored in: <function _MultiProcessingDataLoaderIter.__del__ at 0x7a9dd01c2a20>\n",
      "Traceback (most recent call last):\n",
      "  File \"/usr/local/lib/python3.11/dist-packages/torch/utils/data/dataloader.py\", line 1618, in __del__\n",
      "    self._shutdown_workers()\n",
      "  File \"/usr/local/lib/python3.11/dist-packages/torch/utils/data/dataloader.py\", line 1601, in _shutdown_workers\n",
      "    if w.is_alive():\n",
      "       ^^^^^^^^^^^^\n",
      "  File \"/usr/lib/python3.11/multiprocessing/process.py\", line 160, in is_alive\n",
      "    assert self._parent_pid == os.getpid(), 'can only test a child process'\n",
      "           ^^^^^^^^^^^^^^^^^^^^^^^^^^^^^^^\n",
      "AssertionError: can only test a child process\n",
      "Exception ignored in: <function _MultiProcessingDataLoaderIter.__del__ at 0x7a9dd01c2a20>\n",
      "Traceback (most recent call last):\n",
      "  File \"/usr/local/lib/python3.11/dist-packages/torch/utils/data/dataloader.py\", line 1618, in __del__\n",
      "    self._shutdown_workers()\n",
      "  File \"/usr/local/lib/python3.11/dist-packages/torch/utils/data/dataloader.py\", line 1601, in _shutdown_workers\n",
      "    if w.is_alive():\n",
      "       ^^^^^^^^^^^^\n",
      "  File \"/usr/lib/python3.11/multiprocessing/process.py\", line 160, in is_alive\n",
      "    assert self._parent_pid == os.getpid(), 'can only test a child process'\n",
      "           ^^^^^^^^^^^^^^^^^^^^^^^^^^^^^^^\n",
      "AssertionError: can only test a child process\n",
      "Exception ignored in: <function _MultiProcessingDataLoaderIter.__del__ at 0x7a9dd01c2a20>\n",
      "Traceback (most recent call last):\n",
      "  File \"/usr/local/lib/python3.11/dist-packages/torch/utils/data/dataloader.py\", line 1618, in __del__\n",
      "    self._shutdown_workers()\n",
      "  File \"/usr/local/lib/python3.11/dist-packages/torch/utils/data/dataloader.py\", line 1601, in _shutdown_workers\n",
      "    if w.is_alive():\n",
      "       ^^^^^^^^^^^^\n",
      "  File \"/usr/lib/python3.11/multiprocessing/process.py\", line 160, in is_alive\n",
      "    assert self._parent_pid == os.getpid(), 'can only test a child process'\n",
      "           ^^^^^^^^^^^^^^^^^^^^^^^^^^^^^^^\n",
      "AssertionError: can only test a child process\n",
      "Exception ignored in: <function _MultiProcessingDataLoaderIter.__del__ at 0x7a9dd01c2a20>\n",
      "Traceback (most recent call last):\n",
      "  File \"/usr/local/lib/python3.11/dist-packages/torch/utils/data/dataloader.py\", line 1618, in __del__\n",
      "    self._shutdown_workers()\n",
      "  File \"/usr/local/lib/python3.11/dist-packages/torch/utils/data/dataloader.py\", line 1601, in _shutdown_workers\n",
      "    if w.is_alive():\n",
      "       ^^^^^^^^^^^^\n",
      "  File \"/usr/lib/python3.11/multiprocessing/process.py\", line 160, in is_alive\n",
      "    assert self._parent_pid == os.getpid(), 'can only test a child process'\n",
      "           ^^^^^^^^^^^^^^^^^^^^^^^^^^^^^^^\n",
      "AssertionError: can only test a child process\n",
      "Exception ignored in: <function _MultiProcessingDataLoaderIter.__del__ at 0x7a9dd01c2a20>\n",
      "Traceback (most recent call last):\n",
      "  File \"/usr/local/lib/python3.11/dist-packages/torch/utils/data/dataloader.py\", line 1618, in __del__\n",
      "    self._shutdown_workers()\n",
      "  File \"/usr/local/lib/python3.11/dist-packages/torch/utils/data/dataloader.py\", line 1601, in _shutdown_workers\n",
      "    if w.is_alive():\n",
      "       ^^^^^^^^^^^^\n",
      "  File \"/usr/lib/python3.11/multiprocessing/process.py\", line 160, in is_alive\n",
      "    assert self._parent_pid == os.getpid(), 'can only test a child process'\n",
      "           ^^^^^^^^^^^^^^^^^^^^^^^^^^^^^^^\n",
      "AssertionError: can only test a child process\n"
     ]
    },
    {
     "name": "stdout",
     "output_type": "stream",
     "text": [
      "TRAIN:\n",
      "\tAVG_LOSS: 2.430445861212815\n",
      "\tMAIN_LOSS: 1.622549701340591\n",
      "\tKD_LOSS: 0.26929871737957\n",
      "Evaluating start ...\n",
      "VAL:\n",
      "\tAVG_LOSS: 4.543274809916814\n",
      "\tMAIN_LOSS: 3.6795645554860434\n",
      "\tKD_LOSS: 0.28790343801180523\n"
     ]
    },
    {
     "name": "stderr",
     "output_type": "stream",
     "text": [
      "LSM-YOLO summary (fused): 391 layers, 2873048 parameters, 18824 gradients, 12.4 GFLOPs\n",
      "\u001b[34m\u001b[1mval: \u001b[0mScanning /kaggle/working/Br35H-Mask-Prepared/val/labels.cache... 151 images, 225 backgrounds, 0 corrupt: 100%|██████████| 376/376 [00:00<?, ?it/s]\n",
      "                 Class     Images  Instances      Box(P          R      mAP50  mAP50-95): 100%|██████████| 12/12 [00:08<00:00,  1.46it/s]\n",
      "                   all        376        181      0.907      0.735      0.835       0.56\n",
      "/usr/local/lib/python3.11/dist-packages/matplotlib/colors.py:721: RuntimeWarning: invalid value encountered in less\n",
      "  xa[xa < 0] = -1\n",
      "/usr/local/lib/python3.11/dist-packages/matplotlib/colors.py:721: RuntimeWarning: invalid value encountered in less\n",
      "  xa[xa < 0] = -1\n",
      "Speed: 1.7ms preprocess, 16.7ms inference, 0.0ms loss, 0.4ms postprocess per image\n",
      "Results saved to \u001b[1mruns/epoch63\u001b[0m\n"
     ]
    },
    {
     "name": "stdout",
     "output_type": "stream",
     "text": [
      "-------------------- EPOCH 63 END --------------------\n",
      "-------------------- EPOCH 64 START --------------------\n",
      "Training start ...\n",
      "TRAIN:\n",
      "\tAVG_LOSS: 2.411680847783632\n",
      "\tMAIN_LOSS: 1.6040392993371697\n",
      "\tKD_LOSS: 0.2692138509282583\n",
      "Evaluating start ...\n",
      "VAL:\n",
      "\tAVG_LOSS: 4.596754729747772\n",
      "\tMAIN_LOSS: 3.743888904651006\n",
      "\tKD_LOSS: 0.28428861995538074\n"
     ]
    },
    {
     "name": "stderr",
     "output_type": "stream",
     "text": [
      "LSM-YOLO summary (fused): 391 layers, 2873048 parameters, 18824 gradients, 12.4 GFLOPs\n",
      "\u001b[34m\u001b[1mval: \u001b[0mScanning /kaggle/working/Br35H-Mask-Prepared/val/labels.cache... 151 images, 225 backgrounds, 0 corrupt: 100%|██████████| 376/376 [00:00<?, ?it/s]\n",
      "                 Class     Images  Instances      Box(P          R      mAP50  mAP50-95): 100%|██████████| 12/12 [00:08<00:00,  1.45it/s]\n",
      "                   all        376        181      0.895      0.746      0.835      0.572\n",
      "/usr/local/lib/python3.11/dist-packages/matplotlib/colors.py:721: RuntimeWarning: invalid value encountered in less\n",
      "  xa[xa < 0] = -1\n",
      "/usr/local/lib/python3.11/dist-packages/matplotlib/colors.py:721: RuntimeWarning: invalid value encountered in less\n",
      "  xa[xa < 0] = -1\n",
      "Speed: 1.9ms preprocess, 16.7ms inference, 0.0ms loss, 0.4ms postprocess per image\n",
      "Results saved to \u001b[1mruns/epoch64\u001b[0m\n"
     ]
    },
    {
     "name": "stdout",
     "output_type": "stream",
     "text": [
      "-------------------- EPOCH 64 END --------------------\n",
      "-------------------- EPOCH 65 START --------------------\n",
      "Training start ...\n",
      "TRAIN:\n",
      "\tAVG_LOSS: 2.339993184125876\n",
      "\tMAIN_LOSS: 1.5433312986470475\n",
      "\tKD_LOSS: 0.2655539588083195\n",
      "Evaluating start ...\n",
      "VAL:\n",
      "\tAVG_LOSS: 4.428734342257182\n",
      "\tMAIN_LOSS: 3.600379784901937\n",
      "\tKD_LOSS: 0.2761181766788165\n"
     ]
    },
    {
     "name": "stderr",
     "output_type": "stream",
     "text": [
      "LSM-YOLO summary (fused): 391 layers, 2873048 parameters, 18824 gradients, 12.4 GFLOPs\n",
      "\u001b[34m\u001b[1mval: \u001b[0mScanning /kaggle/working/Br35H-Mask-Prepared/val/labels.cache... 151 images, 225 backgrounds, 0 corrupt: 100%|██████████| 376/376 [00:00<?, ?it/s]\n",
      "                 Class     Images  Instances      Box(P          R      mAP50  mAP50-95): 100%|██████████| 12/12 [00:08<00:00,  1.46it/s]\n",
      "                   all        376        181      0.873      0.796      0.825      0.566\n",
      "/usr/local/lib/python3.11/dist-packages/matplotlib/colors.py:721: RuntimeWarning: invalid value encountered in less\n",
      "  xa[xa < 0] = -1\n",
      "/usr/local/lib/python3.11/dist-packages/matplotlib/colors.py:721: RuntimeWarning: invalid value encountered in less\n",
      "  xa[xa < 0] = -1\n",
      "Speed: 1.7ms preprocess, 16.7ms inference, 0.0ms loss, 0.4ms postprocess per image\n",
      "Results saved to \u001b[1mruns/epoch65\u001b[0m\n"
     ]
    },
    {
     "name": "stdout",
     "output_type": "stream",
     "text": [
      "-------------------- EPOCH 65 END --------------------\n",
      "-------------------- EPOCH 66 START --------------------\n",
      "Training start ...\n",
      "TRAIN:\n",
      "\tAVG_LOSS: 2.325850693485405\n",
      "\tMAIN_LOSS: 1.5363447190840034\n",
      "\tKD_LOSS: 0.2631686556188366\n",
      "Evaluating start ...\n",
      "VAL:\n",
      "\tAVG_LOSS: 4.478929698467255\n",
      "\tMAIN_LOSS: 3.6552284558614097\n",
      "\tKD_LOSS: 0.27456708687047165\n"
     ]
    },
    {
     "name": "stderr",
     "output_type": "stream",
     "text": [
      "LSM-YOLO summary (fused): 391 layers, 2873048 parameters, 18824 gradients, 12.4 GFLOPs\n",
      "\u001b[34m\u001b[1mval: \u001b[0mScanning /kaggle/working/Br35H-Mask-Prepared/val/labels.cache... 151 images, 225 backgrounds, 0 corrupt: 100%|██████████| 376/376 [00:00<?, ?it/s]\n",
      "                 Class     Images  Instances      Box(P          R      mAP50  mAP50-95): 100%|██████████| 12/12 [00:08<00:00,  1.45it/s]\n",
      "                   all        376        181      0.879      0.762      0.823      0.548\n",
      "/usr/local/lib/python3.11/dist-packages/matplotlib/colors.py:721: RuntimeWarning: invalid value encountered in less\n",
      "  xa[xa < 0] = -1\n",
      "/usr/local/lib/python3.11/dist-packages/matplotlib/colors.py:721: RuntimeWarning: invalid value encountered in less\n",
      "  xa[xa < 0] = -1\n",
      "Speed: 1.8ms preprocess, 16.7ms inference, 0.0ms loss, 0.4ms postprocess per image\n",
      "Results saved to \u001b[1mruns/epoch66\u001b[0m\n"
     ]
    },
    {
     "name": "stdout",
     "output_type": "stream",
     "text": [
      "-------------------- EPOCH 66 END --------------------\n",
      "-------------------- EPOCH 67 START --------------------\n",
      "Training start ...\n",
      "TRAIN:\n",
      "\tAVG_LOSS: 2.30790637112871\n",
      "\tMAIN_LOSS: 1.5263475934161415\n",
      "\tKD_LOSS: 0.26051959357684173\n",
      "Evaluating start ...\n",
      "VAL:\n",
      "\tAVG_LOSS: 4.643362134695053\n",
      "\tMAIN_LOSS: 3.8365199069182077\n",
      "\tKD_LOSS: 0.26894741132855415\n"
     ]
    },
    {
     "name": "stderr",
     "output_type": "stream",
     "text": [
      "LSM-YOLO summary (fused): 391 layers, 2873048 parameters, 18824 gradients, 12.4 GFLOPs\n",
      "\u001b[34m\u001b[1mval: \u001b[0mScanning /kaggle/working/Br35H-Mask-Prepared/val/labels.cache... 151 images, 225 backgrounds, 0 corrupt: 100%|██████████| 376/376 [00:00<?, ?it/s]\n",
      "                 Class     Images  Instances      Box(P          R      mAP50  mAP50-95): 100%|██████████| 12/12 [00:08<00:00,  1.47it/s]\n",
      "                   all        376        181      0.916      0.757      0.851       0.59\n",
      "/usr/local/lib/python3.11/dist-packages/matplotlib/colors.py:721: RuntimeWarning: invalid value encountered in less\n",
      "  xa[xa < 0] = -1\n",
      "/usr/local/lib/python3.11/dist-packages/matplotlib/colors.py:721: RuntimeWarning: invalid value encountered in less\n",
      "  xa[xa < 0] = -1\n",
      "Speed: 1.6ms preprocess, 16.7ms inference, 0.0ms loss, 0.3ms postprocess per image\n",
      "Results saved to \u001b[1mruns/epoch67\u001b[0m\n"
     ]
    },
    {
     "name": "stdout",
     "output_type": "stream",
     "text": [
      "Epoch 67: New best mAP: 0.5898, model saved.\n",
      "-------------------- EPOCH 67 END --------------------\n",
      "-------------------- EPOCH 68 START --------------------\n",
      "Training start ...\n",
      "TRAIN:\n",
      "\tAVG_LOSS: 2.314845789836932\n",
      "\tMAIN_LOSS: 1.5332579386385181\n",
      "\tKD_LOSS: 0.2605292829154413\n",
      "Evaluating start ...\n",
      "VAL:\n",
      "\tAVG_LOSS: 4.458792199691136\n",
      "\tMAIN_LOSS: 3.6433717807133994\n",
      "\tKD_LOSS: 0.2718068150182565\n"
     ]
    },
    {
     "name": "stderr",
     "output_type": "stream",
     "text": [
      "LSM-YOLO summary (fused): 391 layers, 2873048 parameters, 18824 gradients, 12.4 GFLOPs\n",
      "\u001b[34m\u001b[1mval: \u001b[0mScanning /kaggle/working/Br35H-Mask-Prepared/val/labels.cache... 151 images, 225 backgrounds, 0 corrupt: 100%|██████████| 376/376 [00:00<?, ?it/s]\n",
      "                 Class     Images  Instances      Box(P          R      mAP50  mAP50-95): 100%|██████████| 12/12 [00:08<00:00,  1.45it/s]\n",
      "                   all        376        181      0.933      0.769      0.849      0.569\n",
      "/usr/local/lib/python3.11/dist-packages/matplotlib/colors.py:721: RuntimeWarning: invalid value encountered in less\n",
      "  xa[xa < 0] = -1\n",
      "/usr/local/lib/python3.11/dist-packages/matplotlib/colors.py:721: RuntimeWarning: invalid value encountered in less\n",
      "  xa[xa < 0] = -1\n",
      "Speed: 1.9ms preprocess, 16.7ms inference, 0.0ms loss, 0.4ms postprocess per image\n",
      "Results saved to \u001b[1mruns/epoch68\u001b[0m\n"
     ]
    },
    {
     "name": "stdout",
     "output_type": "stream",
     "text": [
      "-------------------- EPOCH 68 END --------------------\n",
      "-------------------- EPOCH 69 START --------------------\n",
      "Training start ...\n",
      "TRAIN:\n",
      "\tAVG_LOSS: 2.3072602733781067\n",
      "\tMAIN_LOSS: 1.5251216707350332\n",
      "\tKD_LOSS: 0.2607128682393062\n",
      "Evaluating start ...\n",
      "VAL:\n",
      "\tAVG_LOSS: 4.587842543919881\n",
      "\tMAIN_LOSS: 3.7885946134726205\n",
      "\tKD_LOSS: 0.2664159865429004\n"
     ]
    },
    {
     "name": "stderr",
     "output_type": "stream",
     "text": [
      "LSM-YOLO summary (fused): 391 layers, 2873048 parameters, 18824 gradients, 12.4 GFLOPs\n",
      "\u001b[34m\u001b[1mval: \u001b[0mScanning /kaggle/working/Br35H-Mask-Prepared/val/labels.cache... 151 images, 225 backgrounds, 0 corrupt: 100%|██████████| 376/376 [00:00<?, ?it/s]\n",
      "                 Class     Images  Instances      Box(P          R      mAP50  mAP50-95): 100%|██████████| 12/12 [00:08<00:00,  1.46it/s]\n",
      "                   all        376        181      0.956      0.757      0.838      0.588\n",
      "/usr/local/lib/python3.11/dist-packages/matplotlib/colors.py:721: RuntimeWarning: invalid value encountered in less\n",
      "  xa[xa < 0] = -1\n",
      "/usr/local/lib/python3.11/dist-packages/matplotlib/colors.py:721: RuntimeWarning: invalid value encountered in less\n",
      "  xa[xa < 0] = -1\n",
      "Speed: 1.7ms preprocess, 16.7ms inference, 0.0ms loss, 0.4ms postprocess per image\n",
      "Results saved to \u001b[1mruns/epoch69\u001b[0m\n"
     ]
    },
    {
     "name": "stdout",
     "output_type": "stream",
     "text": [
      "-------------------- EPOCH 69 END --------------------\n",
      "-------------------- EPOCH 70 START --------------------\n",
      "Training start ...\n",
      "TRAIN:\n",
      "\tAVG_LOSS: 2.255559167529963\n",
      "\tMAIN_LOSS: 1.4859634849089611\n",
      "\tKD_LOSS: 0.2565318928866447\n",
      "Evaluating start ...\n",
      "VAL:\n",
      "\tAVG_LOSS: 4.4228314359982805\n",
      "\tMAIN_LOSS: 3.6186350385348\n",
      "\tKD_LOSS: 0.26806545940538246\n"
     ]
    },
    {
     "name": "stderr",
     "output_type": "stream",
     "text": [
      "LSM-YOLO summary (fused): 391 layers, 2873048 parameters, 18824 gradients, 12.4 GFLOPs\n",
      "\u001b[34m\u001b[1mval: \u001b[0mScanning /kaggle/working/Br35H-Mask-Prepared/val/labels.cache... 151 images, 225 backgrounds, 0 corrupt: 100%|██████████| 376/376 [00:00<?, ?it/s]\n",
      "                 Class     Images  Instances      Box(P          R      mAP50  mAP50-95): 100%|██████████| 12/12 [00:08<00:00,  1.45it/s]\n",
      "                   all        376        181      0.923      0.746      0.806      0.548\n",
      "/usr/local/lib/python3.11/dist-packages/matplotlib/colors.py:721: RuntimeWarning: invalid value encountered in less\n",
      "  xa[xa < 0] = -1\n",
      "/usr/local/lib/python3.11/dist-packages/matplotlib/colors.py:721: RuntimeWarning: invalid value encountered in less\n",
      "  xa[xa < 0] = -1\n",
      "Speed: 1.9ms preprocess, 16.7ms inference, 0.0ms loss, 0.4ms postprocess per image\n",
      "Results saved to \u001b[1mruns/epoch70\u001b[0m\n"
     ]
    },
    {
     "name": "stdout",
     "output_type": "stream",
     "text": [
      "-------------------- EPOCH 70 END --------------------\n",
      "-------------------- EPOCH 71 START --------------------\n",
      "Training start ...\n",
      "TRAIN:\n",
      "\tAVG_LOSS: 2.216933890234066\n",
      "\tMAIN_LOSS: 1.452684314945076\n",
      "\tKD_LOSS: 0.25474985339973544\n",
      "Evaluating start ...\n",
      "VAL:\n",
      "\tAVG_LOSS: 4.445938259363174\n",
      "\tMAIN_LOSS: 3.6493645906448364\n",
      "\tKD_LOSS: 0.26552455065151054\n"
     ]
    },
    {
     "name": "stderr",
     "output_type": "stream",
     "text": [
      "LSM-YOLO summary (fused): 391 layers, 2873048 parameters, 18824 gradients, 12.4 GFLOPs\n",
      "\u001b[34m\u001b[1mval: \u001b[0mScanning /kaggle/working/Br35H-Mask-Prepared/val/labels.cache... 151 images, 225 backgrounds, 0 corrupt: 100%|██████████| 376/376 [00:00<?, ?it/s]\n",
      "                 Class     Images  Instances      Box(P          R      mAP50  mAP50-95): 100%|██████████| 12/12 [00:08<00:00,  1.46it/s]\n",
      "                   all        376        181      0.892      0.768      0.845      0.573\n",
      "/usr/local/lib/python3.11/dist-packages/matplotlib/colors.py:721: RuntimeWarning: invalid value encountered in less\n",
      "  xa[xa < 0] = -1\n",
      "/usr/local/lib/python3.11/dist-packages/matplotlib/colors.py:721: RuntimeWarning: invalid value encountered in less\n",
      "  xa[xa < 0] = -1\n",
      "Speed: 1.7ms preprocess, 16.7ms inference, 0.0ms loss, 0.3ms postprocess per image\n",
      "Results saved to \u001b[1mruns/epoch71\u001b[0m\n"
     ]
    },
    {
     "name": "stdout",
     "output_type": "stream",
     "text": [
      "-------------------- EPOCH 71 END --------------------\n",
      "-------------------- EPOCH 72 START --------------------\n",
      "Training start ...\n",
      "TRAIN:\n",
      "\tAVG_LOSS: 2.2447673263429087\n",
      "\tMAIN_LOSS: 1.4814033734647534\n",
      "\tKD_LOSS: 0.25445464857016936\n",
      "Evaluating start ...\n",
      "VAL:\n",
      "\tAVG_LOSS: 4.491568018992742\n",
      "\tMAIN_LOSS: 3.6850423514842987\n",
      "\tKD_LOSS: 0.2688418986896674\n"
     ]
    },
    {
     "name": "stderr",
     "output_type": "stream",
     "text": [
      "LSM-YOLO summary (fused): 391 layers, 2873048 parameters, 18824 gradients, 12.4 GFLOPs\n",
      "\u001b[34m\u001b[1mval: \u001b[0mScanning /kaggle/working/Br35H-Mask-Prepared/val/labels.cache... 151 images, 225 backgrounds, 0 corrupt: 100%|██████████| 376/376 [00:00<?, ?it/s]\n",
      "                 Class     Images  Instances      Box(P          R      mAP50  mAP50-95): 100%|██████████| 12/12 [00:08<00:00,  1.44it/s]\n",
      "                   all        376        181      0.952      0.768       0.84      0.574\n",
      "/usr/local/lib/python3.11/dist-packages/matplotlib/colors.py:721: RuntimeWarning: invalid value encountered in less\n",
      "  xa[xa < 0] = -1\n",
      "/usr/local/lib/python3.11/dist-packages/matplotlib/colors.py:721: RuntimeWarning: invalid value encountered in less\n",
      "  xa[xa < 0] = -1\n",
      "Speed: 2.0ms preprocess, 16.7ms inference, 0.0ms loss, 0.4ms postprocess per image\n",
      "Results saved to \u001b[1mruns/epoch72\u001b[0m\n"
     ]
    },
    {
     "name": "stdout",
     "output_type": "stream",
     "text": [
      "-------------------- EPOCH 72 END --------------------\n",
      "-------------------- EPOCH 73 START --------------------\n",
      "Training start ...\n",
      "TRAIN:\n",
      "\tAVG_LOSS: 2.283311093909831\n",
      "\tMAIN_LOSS: 1.4985016750383982\n",
      "\tKD_LOSS: 0.2616031384920772\n",
      "Evaluating start ...\n",
      "VAL:\n",
      "\tAVG_LOSS: 4.46750013033549\n",
      "\tMAIN_LOSS: 3.663948287566503\n",
      "\tKD_LOSS: 0.2678506051500638\n"
     ]
    },
    {
     "name": "stderr",
     "output_type": "stream",
     "text": [
      "LSM-YOLO summary (fused): 391 layers, 2873048 parameters, 18824 gradients, 12.4 GFLOPs\n",
      "\u001b[34m\u001b[1mval: \u001b[0mScanning /kaggle/working/Br35H-Mask-Prepared/val/labels.cache... 151 images, 225 backgrounds, 0 corrupt: 100%|██████████| 376/376 [00:00<?, ?it/s]\n",
      "                 Class     Images  Instances      Box(P          R      mAP50  mAP50-95): 100%|██████████| 12/12 [00:08<00:00,  1.44it/s]\n",
      "                   all        376        181      0.944      0.748      0.842      0.593\n",
      "/usr/local/lib/python3.11/dist-packages/matplotlib/colors.py:721: RuntimeWarning: invalid value encountered in less\n",
      "  xa[xa < 0] = -1\n",
      "/usr/local/lib/python3.11/dist-packages/matplotlib/colors.py:721: RuntimeWarning: invalid value encountered in less\n",
      "  xa[xa < 0] = -1\n",
      "Speed: 1.9ms preprocess, 16.7ms inference, 0.0ms loss, 0.3ms postprocess per image\n",
      "Results saved to \u001b[1mruns/epoch73\u001b[0m\n"
     ]
    },
    {
     "name": "stdout",
     "output_type": "stream",
     "text": [
      "Epoch 73: New best mAP: 0.5930, model saved.\n",
      "-------------------- EPOCH 73 END --------------------\n",
      "-------------------- EPOCH 74 START --------------------\n",
      "Training start ...\n",
      "TRAIN:\n",
      "\tAVG_LOSS: 2.2169604376901555\n",
      "\tMAIN_LOSS: 1.4550705997249749\n",
      "\tKD_LOSS: 0.2539632812708239\n",
      "Evaluating start ...\n",
      "VAL:\n",
      "\tAVG_LOSS: 4.368464608987172\n",
      "\tMAIN_LOSS: 3.5824801524480185\n",
      "\tKD_LOSS: 0.261994822571675\n"
     ]
    },
    {
     "name": "stderr",
     "output_type": "stream",
     "text": [
      "LSM-YOLO summary (fused): 391 layers, 2873048 parameters, 18824 gradients, 12.4 GFLOPs\n",
      "\u001b[34m\u001b[1mval: \u001b[0mScanning /kaggle/working/Br35H-Mask-Prepared/val/labels.cache... 151 images, 225 backgrounds, 0 corrupt: 100%|██████████| 376/376 [00:00<?, ?it/s]\n",
      "                 Class     Images  Instances      Box(P          R      mAP50  mAP50-95): 100%|██████████| 12/12 [00:08<00:00,  1.46it/s]\n",
      "                   all        376        181      0.884      0.779       0.84      0.583\n",
      "/usr/local/lib/python3.11/dist-packages/matplotlib/colors.py:721: RuntimeWarning: invalid value encountered in less\n",
      "  xa[xa < 0] = -1\n",
      "/usr/local/lib/python3.11/dist-packages/matplotlib/colors.py:721: RuntimeWarning: invalid value encountered in less\n",
      "  xa[xa < 0] = -1\n",
      "Speed: 1.7ms preprocess, 16.7ms inference, 0.0ms loss, 0.4ms postprocess per image\n",
      "Results saved to \u001b[1mruns/epoch74\u001b[0m\n"
     ]
    },
    {
     "name": "stdout",
     "output_type": "stream",
     "text": [
      "-------------------- EPOCH 74 END --------------------\n",
      "-------------------- EPOCH 75 START --------------------\n",
      "Training start ...\n",
      "TRAIN:\n",
      "\tAVG_LOSS: 2.227282048780707\n",
      "\tMAIN_LOSS: 1.4694665127162692\n",
      "\tKD_LOSS: 0.25260517944263505\n",
      "Evaluating start ...\n",
      "VAL:\n",
      "\tAVG_LOSS: 4.509823828935623\n",
      "\tMAIN_LOSS: 3.7168866197268167\n",
      "\tKD_LOSS: 0.2643123896171649\n"
     ]
    },
    {
     "name": "stderr",
     "output_type": "stream",
     "text": [
      "LSM-YOLO summary (fused): 391 layers, 2873048 parameters, 18824 gradients, 12.4 GFLOPs\n",
      "\u001b[34m\u001b[1mval: \u001b[0mScanning /kaggle/working/Br35H-Mask-Prepared/val/labels.cache... 151 images, 225 backgrounds, 0 corrupt: 100%|██████████| 376/376 [00:00<?, ?it/s]\n",
      "                 Class     Images  Instances      Box(P          R      mAP50  mAP50-95): 100%|██████████| 12/12 [00:08<00:00,  1.43it/s]\n",
      "                   all        376        181      0.969      0.694      0.821      0.568\n",
      "/usr/local/lib/python3.11/dist-packages/matplotlib/colors.py:721: RuntimeWarning: invalid value encountered in less\n",
      "  xa[xa < 0] = -1\n",
      "/usr/local/lib/python3.11/dist-packages/matplotlib/colors.py:721: RuntimeWarning: invalid value encountered in less\n",
      "  xa[xa < 0] = -1\n",
      "Speed: 1.9ms preprocess, 16.7ms inference, 0.0ms loss, 0.4ms postprocess per image\n",
      "Results saved to \u001b[1mruns/epoch75\u001b[0m\n"
     ]
    },
    {
     "name": "stdout",
     "output_type": "stream",
     "text": [
      "-------------------- EPOCH 75 END --------------------\n",
      "-------------------- EPOCH 76 START --------------------\n",
      "Training start ...\n",
      "TRAIN:\n",
      "\tAVG_LOSS: 2.2448797512658034\n",
      "\tMAIN_LOSS: 1.4864334667785257\n",
      "\tKD_LOSS: 0.2528154270935662\n",
      "Evaluating start ...\n",
      "VAL:\n",
      "\tAVG_LOSS: 4.4708340764045715\n",
      "\tMAIN_LOSS: 3.669907569885254\n",
      "\tKD_LOSS: 0.2669755021731059\n"
     ]
    },
    {
     "name": "stderr",
     "output_type": "stream",
     "text": [
      "LSM-YOLO summary (fused): 391 layers, 2873048 parameters, 18824 gradients, 12.4 GFLOPs\n",
      "\u001b[34m\u001b[1mval: \u001b[0mScanning /kaggle/working/Br35H-Mask-Prepared/val/labels.cache... 151 images, 225 backgrounds, 0 corrupt: 100%|██████████| 376/376 [00:00<?, ?it/s]\n",
      "                 Class     Images  Instances      Box(P          R      mAP50  mAP50-95): 100%|██████████| 12/12 [00:59<00:00,  4.93s/it]\n",
      "                   all        376        181       0.84      0.779      0.839      0.545\n",
      "/usr/local/lib/python3.11/dist-packages/matplotlib/colors.py:721: RuntimeWarning: invalid value encountered in less\n",
      "  xa[xa < 0] = -1\n",
      "/usr/local/lib/python3.11/dist-packages/matplotlib/colors.py:721: RuntimeWarning: invalid value encountered in less\n",
      "  xa[xa < 0] = -1\n",
      "Speed: 2.0ms preprocess, 16.9ms inference, 0.0ms loss, 0.5ms postprocess per image\n",
      "Results saved to \u001b[1mruns/epoch76\u001b[0m\n"
     ]
    },
    {
     "name": "stdout",
     "output_type": "stream",
     "text": [
      "-------------------- EPOCH 76 END --------------------\n",
      "-------------------- EPOCH 77 START --------------------\n",
      "Training start ...\n",
      "TRAIN:\n",
      "\tAVG_LOSS: 2.3002008154422424\n",
      "\tMAIN_LOSS: 1.5414076047607614\n",
      "\tKD_LOSS: 0.25293106576309926\n",
      "Evaluating start ...\n",
      "VAL:\n",
      "\tAVG_LOSS: 4.952233483393987\n",
      "\tMAIN_LOSS: 4.149754186471303\n",
      "\tKD_LOSS: 0.26749311077098054\n"
     ]
    },
    {
     "name": "stderr",
     "output_type": "stream",
     "text": [
      "LSM-YOLO summary (fused): 391 layers, 2873048 parameters, 18824 gradients, 12.4 GFLOPs\n",
      "\u001b[34m\u001b[1mval: \u001b[0mScanning /kaggle/working/Br35H-Mask-Prepared/val/labels.cache... 151 images, 225 backgrounds, 0 corrupt: 100%|██████████| 376/376 [00:00<?, ?it/s]\n",
      "                 Class     Images  Instances      Box(P          R      mAP50  mAP50-95): 100%|██████████| 12/12 [00:08<00:00,  1.44it/s]\n",
      "                   all        376        181      0.848      0.707      0.796      0.556\n",
      "/usr/local/lib/python3.11/dist-packages/matplotlib/colors.py:721: RuntimeWarning: invalid value encountered in less\n",
      "  xa[xa < 0] = -1\n",
      "/usr/local/lib/python3.11/dist-packages/matplotlib/colors.py:721: RuntimeWarning: invalid value encountered in less\n",
      "  xa[xa < 0] = -1\n",
      "Speed: 2.0ms preprocess, 16.7ms inference, 0.0ms loss, 0.4ms postprocess per image\n",
      "Results saved to \u001b[1mruns/epoch77\u001b[0m\n"
     ]
    },
    {
     "name": "stdout",
     "output_type": "stream",
     "text": [
      "-------------------- EPOCH 77 END --------------------\n",
      "-------------------- EPOCH 78 START --------------------\n",
      "Training start ...\n",
      "TRAIN:\n",
      "\tAVG_LOSS: 2.2871089539950407\n",
      "\tMAIN_LOSS: 1.5280113491830947\n",
      "\tKD_LOSS: 0.2530325362576714\n",
      "Evaluating start ...\n",
      "VAL:\n",
      "\tAVG_LOSS: 4.562266131242116\n",
      "\tMAIN_LOSS: 3.7025372087955475\n",
      "\tKD_LOSS: 0.2865763045847416\n"
     ]
    },
    {
     "name": "stderr",
     "output_type": "stream",
     "text": [
      "LSM-YOLO summary (fused): 391 layers, 2873048 parameters, 18824 gradients, 12.4 GFLOPs\n",
      "\u001b[34m\u001b[1mval: \u001b[0mScanning /kaggle/working/Br35H-Mask-Prepared/val/labels.cache... 151 images, 225 backgrounds, 0 corrupt: 100%|██████████| 376/376 [00:00<?, ?it/s]\n",
      "                 Class     Images  Instances      Box(P          R      mAP50  mAP50-95): 100%|██████████| 12/12 [00:08<00:00,  1.45it/s]\n",
      "                   all        376        181      0.896      0.729      0.822      0.556\n",
      "/usr/local/lib/python3.11/dist-packages/matplotlib/colors.py:721: RuntimeWarning: invalid value encountered in less\n",
      "  xa[xa < 0] = -1\n",
      "/usr/local/lib/python3.11/dist-packages/matplotlib/colors.py:721: RuntimeWarning: invalid value encountered in less\n",
      "  xa[xa < 0] = -1\n",
      "Speed: 1.9ms preprocess, 16.8ms inference, 0.0ms loss, 0.4ms postprocess per image\n",
      "Results saved to \u001b[1mruns/epoch78\u001b[0m\n"
     ]
    },
    {
     "name": "stdout",
     "output_type": "stream",
     "text": [
      "-------------------- EPOCH 78 END --------------------\n",
      "-------------------- EPOCH 79 START --------------------\n",
      "Training start ...\n",
      "TRAIN:\n",
      "\tAVG_LOSS: 2.23271248461325\n",
      "\tMAIN_LOSS: 1.4847885822948022\n",
      "\tKD_LOSS: 0.24930796555325954\n",
      "Evaluating start ...\n",
      "VAL:\n",
      "\tAVG_LOSS: 4.363621900478999\n",
      "\tMAIN_LOSS: 3.5899623533089957\n",
      "\tKD_LOSS: 0.257886507237951\n"
     ]
    },
    {
     "name": "stderr",
     "output_type": "stream",
     "text": [
      "LSM-YOLO summary (fused): 391 layers, 2873048 parameters, 18824 gradients, 12.4 GFLOPs\n",
      "\u001b[34m\u001b[1mval: \u001b[0mScanning /kaggle/working/Br35H-Mask-Prepared/val/labels.cache... 151 images, 225 backgrounds, 0 corrupt: 100%|██████████| 376/376 [00:00<?, ?it/s]\n",
      "                 Class     Images  Instances      Box(P          R      mAP50  mAP50-95): 100%|██████████| 12/12 [00:08<00:00,  1.46it/s]\n",
      "                   all        376        181      0.902      0.762      0.826      0.571\n",
      "/usr/local/lib/python3.11/dist-packages/matplotlib/colors.py:721: RuntimeWarning: invalid value encountered in less\n",
      "  xa[xa < 0] = -1\n",
      "/usr/local/lib/python3.11/dist-packages/matplotlib/colors.py:721: RuntimeWarning: invalid value encountered in less\n",
      "  xa[xa < 0] = -1\n",
      "Speed: 1.6ms preprocess, 16.7ms inference, 0.0ms loss, 0.4ms postprocess per image\n",
      "Results saved to \u001b[1mruns/epoch79\u001b[0m\n"
     ]
    },
    {
     "name": "stdout",
     "output_type": "stream",
     "text": [
      "-------------------- EPOCH 79 END --------------------\n",
      "-------------------- EPOCH 80 START --------------------\n",
      "Training start ...\n",
      "TRAIN:\n",
      "\tAVG_LOSS: 2.202847793132444\n",
      "\tMAIN_LOSS: 1.4653605781024015\n",
      "\tKD_LOSS: 0.2458290725569182\n",
      "Evaluating start ...\n",
      "VAL:\n",
      "\tAVG_LOSS: 4.509692708651225\n",
      "\tMAIN_LOSS: 3.728596866130829\n",
      "\tKD_LOSS: 0.26036528622110683\n"
     ]
    },
    {
     "name": "stderr",
     "output_type": "stream",
     "text": [
      "LSM-YOLO summary (fused): 391 layers, 2873048 parameters, 18824 gradients, 12.4 GFLOPs\n",
      "\u001b[34m\u001b[1mval: \u001b[0mScanning /kaggle/working/Br35H-Mask-Prepared/val/labels.cache... 151 images, 225 backgrounds, 0 corrupt: 100%|██████████| 376/376 [00:00<?, ?it/s]\n",
      "                 Class     Images  Instances      Box(P          R      mAP50  mAP50-95): 100%|██████████| 12/12 [00:08<00:00,  1.45it/s]\n",
      "                   all        376        181      0.943      0.732      0.837      0.568\n",
      "/usr/local/lib/python3.11/dist-packages/matplotlib/colors.py:721: RuntimeWarning: invalid value encountered in less\n",
      "  xa[xa < 0] = -1\n",
      "/usr/local/lib/python3.11/dist-packages/matplotlib/colors.py:721: RuntimeWarning: invalid value encountered in less\n",
      "  xa[xa < 0] = -1\n",
      "Speed: 1.9ms preprocess, 16.7ms inference, 0.0ms loss, 0.4ms postprocess per image\n",
      "Results saved to \u001b[1mruns/epoch80\u001b[0m\n"
     ]
    },
    {
     "name": "stdout",
     "output_type": "stream",
     "text": [
      "-------------------- EPOCH 80 END --------------------\n",
      "-------------------- EPOCH 81 START --------------------\n",
      "Training start ...\n",
      "TRAIN:\n",
      "\tAVG_LOSS: 2.183796534055396\n",
      "\tMAIN_LOSS: 1.4489510632768463\n",
      "\tKD_LOSS: 0.24494848504096647\n",
      "Evaluating start ...\n",
      "VAL:\n",
      "\tAVG_LOSS: 4.38923176129659\n",
      "\tMAIN_LOSS: 3.631705413262049\n",
      "\tKD_LOSS: 0.25250877750416595\n"
     ]
    },
    {
     "name": "stderr",
     "output_type": "stream",
     "text": [
      "LSM-YOLO summary (fused): 391 layers, 2873048 parameters, 18824 gradients, 12.4 GFLOPs\n",
      "\u001b[34m\u001b[1mval: \u001b[0mScanning /kaggle/working/Br35H-Mask-Prepared/val/labels.cache... 151 images, 225 backgrounds, 0 corrupt: 100%|██████████| 376/376 [00:00<?, ?it/s]\n",
      "                 Class     Images  Instances      Box(P          R      mAP50  mAP50-95): 100%|██████████| 12/12 [00:08<00:00,  1.44it/s]\n",
      "                   all        376        181      0.896      0.765      0.832      0.579\n",
      "/usr/local/lib/python3.11/dist-packages/matplotlib/colors.py:721: RuntimeWarning: invalid value encountered in less\n",
      "  xa[xa < 0] = -1\n",
      "/usr/local/lib/python3.11/dist-packages/matplotlib/colors.py:721: RuntimeWarning: invalid value encountered in less\n",
      "  xa[xa < 0] = -1\n",
      "Speed: 1.8ms preprocess, 16.7ms inference, 0.0ms loss, 0.4ms postprocess per image\n",
      "Results saved to \u001b[1mruns/epoch81\u001b[0m\n"
     ]
    },
    {
     "name": "stdout",
     "output_type": "stream",
     "text": [
      "-------------------- EPOCH 81 END --------------------\n",
      "-------------------- EPOCH 82 START --------------------\n",
      "Training start ...\n",
      "TRAIN:\n",
      "\tAVG_LOSS: 2.1451616755014733\n",
      "\tMAIN_LOSS: 1.4166903420339656\n",
      "\tKD_LOSS: 0.24282377543328684\n",
      "Evaluating start ...\n",
      "VAL:\n",
      "\tAVG_LOSS: 4.218879530827205\n",
      "\tMAIN_LOSS: 3.4658761819203696\n",
      "\tKD_LOSS: 0.2510011059542497\n"
     ]
    },
    {
     "name": "stderr",
     "output_type": "stream",
     "text": [
      "LSM-YOLO summary (fused): 391 layers, 2873048 parameters, 18824 gradients, 12.4 GFLOPs\n",
      "\u001b[34m\u001b[1mval: \u001b[0mScanning /kaggle/working/Br35H-Mask-Prepared/val/labels.cache... 151 images, 225 backgrounds, 0 corrupt: 100%|██████████| 376/376 [00:00<?, ?it/s]\n",
      "                 Class     Images  Instances      Box(P          R      mAP50  mAP50-95): 100%|██████████| 12/12 [00:08<00:00,  1.46it/s]\n",
      "                   all        376        181      0.913      0.768       0.83      0.591\n",
      "/usr/local/lib/python3.11/dist-packages/matplotlib/colors.py:721: RuntimeWarning: invalid value encountered in less\n",
      "  xa[xa < 0] = -1\n",
      "/usr/local/lib/python3.11/dist-packages/matplotlib/colors.py:721: RuntimeWarning: invalid value encountered in less\n",
      "  xa[xa < 0] = -1\n",
      "Speed: 1.7ms preprocess, 16.7ms inference, 0.0ms loss, 0.4ms postprocess per image\n",
      "Results saved to \u001b[1mruns/epoch82\u001b[0m\n"
     ]
    },
    {
     "name": "stdout",
     "output_type": "stream",
     "text": [
      "-------------------- EPOCH 82 END --------------------\n",
      "-------------------- EPOCH 83 START --------------------\n",
      "Training start ...\n",
      "TRAIN:\n",
      "\tAVG_LOSS: 2.1363068871860262\n",
      "\tMAIN_LOSS: 1.4073019269146496\n",
      "\tKD_LOSS: 0.24300165549863742\n",
      "Evaluating start ...\n",
      "VAL:\n",
      "\tAVG_LOSS: 4.554260979096095\n",
      "\tMAIN_LOSS: 3.783014545838038\n",
      "\tKD_LOSS: 0.25708214690287906\n"
     ]
    },
    {
     "name": "stderr",
     "output_type": "stream",
     "text": [
      "LSM-YOLO summary (fused): 391 layers, 2873048 parameters, 18824 gradients, 12.4 GFLOPs\n",
      "\u001b[34m\u001b[1mval: \u001b[0mScanning /kaggle/working/Br35H-Mask-Prepared/val/labels.cache... 151 images, 225 backgrounds, 0 corrupt: 100%|██████████| 376/376 [00:00<?, ?it/s]\n",
      "                 Class     Images  Instances      Box(P          R      mAP50  mAP50-95): 100%|██████████| 12/12 [00:08<00:00,  1.44it/s]\n",
      "                   all        376        181      0.906      0.757      0.828      0.576\n",
      "/usr/local/lib/python3.11/dist-packages/matplotlib/colors.py:721: RuntimeWarning: invalid value encountered in less\n",
      "  xa[xa < 0] = -1\n",
      "/usr/local/lib/python3.11/dist-packages/matplotlib/colors.py:721: RuntimeWarning: invalid value encountered in less\n",
      "  xa[xa < 0] = -1\n",
      "Speed: 2.0ms preprocess, 16.7ms inference, 0.0ms loss, 0.4ms postprocess per image\n",
      "Results saved to \u001b[1mruns/epoch83\u001b[0m\n"
     ]
    },
    {
     "name": "stdout",
     "output_type": "stream",
     "text": [
      "-------------------- EPOCH 83 END --------------------\n",
      "-------------------- EPOCH 84 START --------------------\n",
      "Training start ...\n",
      "TRAIN:\n",
      "\tAVG_LOSS: 2.129346062865438\n",
      "\tMAIN_LOSS: 1.4081481619726253\n",
      "\tKD_LOSS: 0.24039929916587058\n",
      "Evaluating start ...\n",
      "VAL:\n",
      "\tAVG_LOSS: 4.355969627698262\n",
      "\tMAIN_LOSS: 3.607896020015081\n",
      "\tKD_LOSS: 0.24935785991450152\n"
     ]
    },
    {
     "name": "stderr",
     "output_type": "stream",
     "text": [
      "LSM-YOLO summary (fused): 391 layers, 2873048 parameters, 18824 gradients, 12.4 GFLOPs\n",
      "\u001b[34m\u001b[1mval: \u001b[0mScanning /kaggle/working/Br35H-Mask-Prepared/val/labels.cache... 151 images, 225 backgrounds, 0 corrupt: 100%|██████████| 376/376 [00:00<?, ?it/s]\n",
      "                 Class     Images  Instances      Box(P          R      mAP50  mAP50-95): 100%|██████████| 12/12 [00:08<00:00,  1.44it/s]\n",
      "                   all        376        181      0.902       0.76      0.841      0.581\n",
      "/usr/local/lib/python3.11/dist-packages/matplotlib/colors.py:721: RuntimeWarning: invalid value encountered in less\n",
      "  xa[xa < 0] = -1\n",
      "/usr/local/lib/python3.11/dist-packages/matplotlib/colors.py:721: RuntimeWarning: invalid value encountered in less\n",
      "  xa[xa < 0] = -1\n",
      "Speed: 2.0ms preprocess, 16.7ms inference, 0.0ms loss, 0.4ms postprocess per image\n",
      "Results saved to \u001b[1mruns/epoch84\u001b[0m\n"
     ]
    },
    {
     "name": "stdout",
     "output_type": "stream",
     "text": [
      "-------------------- EPOCH 84 END --------------------\n",
      "-------------------- EPOCH 85 START --------------------\n",
      "Training start ...\n",
      "TRAIN:\n",
      "\tAVG_LOSS: 2.1531134028977985\n",
      "\tMAIN_LOSS: 1.4324161221709433\n",
      "\tKD_LOSS: 0.24023242709757406\n",
      "Evaluating start ...\n",
      "VAL:\n",
      "\tAVG_LOSS: 4.333691348632176\n",
      "\tMAIN_LOSS: 3.586383173863093\n",
      "\tKD_LOSS: 0.24910272223254046\n"
     ]
    },
    {
     "name": "stderr",
     "output_type": "stream",
     "text": [
      "LSM-YOLO summary (fused): 391 layers, 2873048 parameters, 18824 gradients, 12.4 GFLOPs\n",
      "\u001b[34m\u001b[1mval: \u001b[0mScanning /kaggle/working/Br35H-Mask-Prepared/val/labels.cache... 151 images, 225 backgrounds, 0 corrupt: 100%|██████████| 376/376 [00:00<?, ?it/s]\n",
      "                 Class     Images  Instances      Box(P          R      mAP50  mAP50-95): 100%|██████████| 12/12 [00:08<00:00,  1.45it/s]\n",
      "                   all        376        181        0.9      0.735      0.828      0.579\n",
      "/usr/local/lib/python3.11/dist-packages/matplotlib/colors.py:721: RuntimeWarning: invalid value encountered in less\n",
      "  xa[xa < 0] = -1\n",
      "/usr/local/lib/python3.11/dist-packages/matplotlib/colors.py:721: RuntimeWarning: invalid value encountered in less\n",
      "  xa[xa < 0] = -1\n",
      "Speed: 1.9ms preprocess, 16.7ms inference, 0.0ms loss, 0.4ms postprocess per image\n",
      "Results saved to \u001b[1mruns/epoch85\u001b[0m\n"
     ]
    },
    {
     "name": "stdout",
     "output_type": "stream",
     "text": [
      "-------------------- EPOCH 85 END --------------------\n",
      "-------------------- EPOCH 86 START --------------------\n",
      "Training start ...\n",
      "TRAIN:\n",
      "\tAVG_LOSS: 2.1160042104841787\n",
      "\tMAIN_LOSS: 1.4005228477188303\n",
      "\tKD_LOSS: 0.23849379148664354\n",
      "Evaluating start ...\n",
      "VAL:\n",
      "\tAVG_LOSS: 4.221422145764033\n",
      "\tMAIN_LOSS: 3.47145148118337\n",
      "\tKD_LOSS: 0.24999022980531058\n"
     ]
    },
    {
     "name": "stderr",
     "output_type": "stream",
     "text": [
      "LSM-YOLO summary (fused): 391 layers, 2873048 parameters, 18824 gradients, 12.4 GFLOPs\n",
      "\u001b[34m\u001b[1mval: \u001b[0mScanning /kaggle/working/Br35H-Mask-Prepared/val/labels.cache... 151 images, 225 backgrounds, 0 corrupt: 100%|██████████| 376/376 [00:00<?, ?it/s]\n",
      "                 Class     Images  Instances      Box(P          R      mAP50  mAP50-95): 100%|██████████| 12/12 [00:08<00:00,  1.44it/s]\n",
      "                   all        376        181      0.906      0.803      0.856      0.589\n",
      "/usr/local/lib/python3.11/dist-packages/matplotlib/colors.py:721: RuntimeWarning: invalid value encountered in less\n",
      "  xa[xa < 0] = -1\n",
      "/usr/local/lib/python3.11/dist-packages/matplotlib/colors.py:721: RuntimeWarning: invalid value encountered in less\n",
      "  xa[xa < 0] = -1\n",
      "Speed: 1.8ms preprocess, 16.7ms inference, 0.0ms loss, 0.4ms postprocess per image\n",
      "Results saved to \u001b[1mruns/epoch86\u001b[0m\n"
     ]
    },
    {
     "name": "stdout",
     "output_type": "stream",
     "text": [
      "-------------------- EPOCH 86 END --------------------\n",
      "-------------------- EPOCH 87 START --------------------\n",
      "Training start ...\n",
      "TRAIN:\n",
      "\tAVG_LOSS: 2.0944352904452552\n",
      "\tMAIN_LOSS: 1.3835687063917328\n",
      "\tKD_LOSS: 0.23695553216753126\n",
      "Evaluating start ...\n",
      "VAL:\n",
      "\tAVG_LOSS: 4.36507452527682\n",
      "\tMAIN_LOSS: 3.6225578586260476\n",
      "\tKD_LOSS: 0.24750555803378424\n"
     ]
    },
    {
     "name": "stderr",
     "output_type": "stream",
     "text": [
      "LSM-YOLO summary (fused): 391 layers, 2873048 parameters, 18824 gradients, 12.4 GFLOPs\n",
      "\u001b[34m\u001b[1mval: \u001b[0mScanning /kaggle/working/Br35H-Mask-Prepared/val/labels.cache... 151 images, 225 backgrounds, 0 corrupt: 100%|██████████| 376/376 [00:00<?, ?it/s]\n",
      "                 Class     Images  Instances      Box(P          R      mAP50  mAP50-95): 100%|██████████| 12/12 [00:08<00:00,  1.48it/s]\n",
      "                   all        376        181      0.964      0.739      0.847      0.593\n",
      "/usr/local/lib/python3.11/dist-packages/matplotlib/colors.py:721: RuntimeWarning: invalid value encountered in less\n",
      "  xa[xa < 0] = -1\n",
      "/usr/local/lib/python3.11/dist-packages/matplotlib/colors.py:721: RuntimeWarning: invalid value encountered in less\n",
      "  xa[xa < 0] = -1\n",
      "Speed: 1.5ms preprocess, 16.7ms inference, 0.0ms loss, 0.4ms postprocess per image\n",
      "Results saved to \u001b[1mruns/epoch87\u001b[0m\n"
     ]
    },
    {
     "name": "stdout",
     "output_type": "stream",
     "text": [
      "-------------------- EPOCH 87 END --------------------\n",
      "-------------------- EPOCH 88 START --------------------\n",
      "Training start ...\n",
      "TRAIN:\n",
      "\tAVG_LOSS: 2.0955989179731924\n",
      "\tMAIN_LOSS: 1.389323064043552\n",
      "\tKD_LOSS: 0.2354252840144725\n",
      "Evaluating start ...\n",
      "VAL:\n",
      "\tAVG_LOSS: 4.518008550008138\n",
      "\tMAIN_LOSS: 3.768478810787201\n",
      "\tKD_LOSS: 0.24984324350953102\n"
     ]
    },
    {
     "name": "stderr",
     "output_type": "stream",
     "text": [
      "LSM-YOLO summary (fused): 391 layers, 2873048 parameters, 18824 gradients, 12.4 GFLOPs\n",
      "\u001b[34m\u001b[1mval: \u001b[0mScanning /kaggle/working/Br35H-Mask-Prepared/val/labels.cache... 151 images, 225 backgrounds, 0 corrupt: 100%|██████████| 376/376 [00:00<?, ?it/s]\n",
      "                 Class     Images  Instances      Box(P          R      mAP50  mAP50-95): 100%|██████████| 12/12 [00:08<00:00,  1.46it/s]\n",
      "                   all        376        181      0.922       0.74      0.844      0.579\n",
      "/usr/local/lib/python3.11/dist-packages/matplotlib/colors.py:721: RuntimeWarning: invalid value encountered in less\n",
      "  xa[xa < 0] = -1\n",
      "/usr/local/lib/python3.11/dist-packages/matplotlib/colors.py:721: RuntimeWarning: invalid value encountered in less\n",
      "  xa[xa < 0] = -1\n",
      "Speed: 1.7ms preprocess, 16.7ms inference, 0.0ms loss, 0.4ms postprocess per image\n",
      "Results saved to \u001b[1mruns/epoch88\u001b[0m\n"
     ]
    },
    {
     "name": "stdout",
     "output_type": "stream",
     "text": [
      "-------------------- EPOCH 88 END --------------------\n",
      "-------------------- EPOCH 89 START --------------------\n",
      "Training start ...\n",
      "TRAIN:\n",
      "\tAVG_LOSS: 2.1263645917554443\n",
      "\tMAIN_LOSS: 1.4172484180595302\n",
      "\tKD_LOSS: 0.23637205682977847\n",
      "Evaluating start ...\n",
      "VAL:\n",
      "\tAVG_LOSS: 4.283265670140584\n",
      "\tMAIN_LOSS: 3.523081789414088\n",
      "\tKD_LOSS: 0.253394627943635\n"
     ]
    },
    {
     "name": "stderr",
     "output_type": "stream",
     "text": [
      "LSM-YOLO summary (fused): 391 layers, 2873048 parameters, 18824 gradients, 12.4 GFLOPs\n",
      "\u001b[34m\u001b[1mval: \u001b[0mScanning /kaggle/working/Br35H-Mask-Prepared/val/labels.cache... 151 images, 225 backgrounds, 0 corrupt: 100%|██████████| 376/376 [00:00<?, ?it/s]\n",
      "                 Class     Images  Instances      Box(P          R      mAP50  mAP50-95): 100%|██████████| 12/12 [00:08<00:00,  1.45it/s]\n",
      "                   all        376        181      0.944      0.751      0.838      0.574\n",
      "/usr/local/lib/python3.11/dist-packages/matplotlib/colors.py:721: RuntimeWarning: invalid value encountered in less\n",
      "  xa[xa < 0] = -1\n",
      "/usr/local/lib/python3.11/dist-packages/matplotlib/colors.py:721: RuntimeWarning: invalid value encountered in less\n",
      "  xa[xa < 0] = -1\n",
      "Speed: 1.8ms preprocess, 16.7ms inference, 0.0ms loss, 0.4ms postprocess per image\n",
      "Results saved to \u001b[1mruns/epoch89\u001b[0m\n"
     ]
    },
    {
     "name": "stdout",
     "output_type": "stream",
     "text": [
      "-------------------- EPOCH 89 END --------------------\n",
      "-------------------- EPOCH 90 START --------------------\n",
      "Training start ...\n",
      "TRAIN:\n",
      "\tAVG_LOSS: 2.1361791378335107\n",
      "\tMAIN_LOSS: 1.4214280028886432\n",
      "\tKD_LOSS: 0.23825037856645223\n",
      "Evaluating start ...\n",
      "VAL:\n",
      "\tAVG_LOSS: 4.496779143810272\n",
      "\tMAIN_LOSS: 3.7517250776290894\n",
      "\tKD_LOSS: 0.24835134235521159\n"
     ]
    },
    {
     "name": "stderr",
     "output_type": "stream",
     "text": [
      "LSM-YOLO summary (fused): 391 layers, 2873048 parameters, 18824 gradients, 12.4 GFLOPs\n",
      "\u001b[34m\u001b[1mval: \u001b[0mScanning /kaggle/working/Br35H-Mask-Prepared/val/labels.cache... 151 images, 225 backgrounds, 0 corrupt: 100%|██████████| 376/376 [00:00<?, ?it/s]\n",
      "                 Class     Images  Instances      Box(P          R      mAP50  mAP50-95): 100%|██████████| 12/12 [00:08<00:00,  1.45it/s]\n",
      "                   all        376        181      0.965       0.74       0.84      0.593\n",
      "/usr/local/lib/python3.11/dist-packages/matplotlib/colors.py:721: RuntimeWarning: invalid value encountered in less\n",
      "  xa[xa < 0] = -1\n",
      "/usr/local/lib/python3.11/dist-packages/matplotlib/colors.py:721: RuntimeWarning: invalid value encountered in less\n",
      "  xa[xa < 0] = -1\n",
      "Speed: 1.8ms preprocess, 16.7ms inference, 0.0ms loss, 0.3ms postprocess per image\n",
      "Results saved to \u001b[1mruns/epoch90\u001b[0m\n"
     ]
    },
    {
     "name": "stdout",
     "output_type": "stream",
     "text": [
      "-------------------- EPOCH 90 END --------------------\n",
      "-------------------- EPOCH 91 START --------------------\n",
      "Training start ...\n",
      "TRAIN:\n",
      "\tAVG_LOSS: 2.0671985013575496\n",
      "\tMAIN_LOSS: 1.366515905042238\n",
      "\tKD_LOSS: 0.23356086770190468\n",
      "Evaluating start ...\n",
      "VAL:\n",
      "\tAVG_LOSS: 4.3520208696524305\n",
      "\tMAIN_LOSS: 3.635620931784312\n",
      "\tKD_LOSS: 0.23879996997614703\n"
     ]
    },
    {
     "name": "stderr",
     "output_type": "stream",
     "text": [
      "LSM-YOLO summary (fused): 391 layers, 2873048 parameters, 18824 gradients, 12.4 GFLOPs\n",
      "\u001b[34m\u001b[1mval: \u001b[0mScanning /kaggle/working/Br35H-Mask-Prepared/val/labels.cache... 151 images, 225 backgrounds, 0 corrupt: 100%|██████████| 376/376 [00:00<?, ?it/s]\n",
      "                 Class     Images  Instances      Box(P          R      mAP50  mAP50-95): 100%|██████████| 12/12 [00:08<00:00,  1.45it/s]\n",
      "                   all        376        181      0.944      0.773      0.858      0.613\n",
      "/usr/local/lib/python3.11/dist-packages/matplotlib/colors.py:721: RuntimeWarning: invalid value encountered in less\n",
      "  xa[xa < 0] = -1\n",
      "/usr/local/lib/python3.11/dist-packages/matplotlib/colors.py:721: RuntimeWarning: invalid value encountered in less\n",
      "  xa[xa < 0] = -1\n",
      "Speed: 2.0ms preprocess, 16.7ms inference, 0.0ms loss, 0.4ms postprocess per image\n",
      "Results saved to \u001b[1mruns/epoch91\u001b[0m\n"
     ]
    },
    {
     "name": "stdout",
     "output_type": "stream",
     "text": [
      "Epoch 91: New best mAP: 0.6135, model saved.\n",
      "-------------------- EPOCH 91 END --------------------\n",
      "-------------------- EPOCH 92 START --------------------\n",
      "Training start ...\n",
      "TRAIN:\n",
      "\tAVG_LOSS: 2.0709433117999305\n",
      "\tMAIN_LOSS: 1.3778650941728037\n",
      "\tKD_LOSS: 0.2310260739884799\n",
      "Evaluating start ...\n",
      "VAL:\n",
      "\tAVG_LOSS: 4.339303682247798\n",
      "\tMAIN_LOSS: 3.6114788353443146\n",
      "\tKD_LOSS: 0.24260827588538328\n"
     ]
    },
    {
     "name": "stderr",
     "output_type": "stream",
     "text": [
      "LSM-YOLO summary (fused): 391 layers, 2873048 parameters, 18824 gradients, 12.4 GFLOPs\n",
      "\u001b[34m\u001b[1mval: \u001b[0mScanning /kaggle/working/Br35H-Mask-Prepared/val/labels.cache... 151 images, 225 backgrounds, 0 corrupt: 100%|██████████| 376/376 [00:00<?, ?it/s]\n",
      "                 Class     Images  Instances      Box(P          R      mAP50  mAP50-95): 100%|██████████| 12/12 [00:08<00:00,  1.46it/s]\n",
      "                   all        376        181      0.928      0.778      0.857      0.595\n",
      "/usr/local/lib/python3.11/dist-packages/matplotlib/colors.py:721: RuntimeWarning: invalid value encountered in less\n",
      "  xa[xa < 0] = -1\n",
      "/usr/local/lib/python3.11/dist-packages/matplotlib/colors.py:721: RuntimeWarning: invalid value encountered in less\n",
      "  xa[xa < 0] = -1\n",
      "Speed: 1.8ms preprocess, 16.7ms inference, 0.0ms loss, 0.3ms postprocess per image\n",
      "Results saved to \u001b[1mruns/epoch92\u001b[0m\n"
     ]
    },
    {
     "name": "stdout",
     "output_type": "stream",
     "text": [
      "-------------------- EPOCH 92 END --------------------\n",
      "-------------------- EPOCH 93 START --------------------\n",
      "Training start ...\n",
      "TRAIN:\n",
      "\tAVG_LOSS: 2.0861987690382366\n",
      "\tMAIN_LOSS: 1.3917510562305209\n",
      "\tKD_LOSS: 0.23148257351374324\n",
      "Evaluating start ...\n",
      "VAL:\n",
      "\tAVG_LOSS: 4.2207845946153\n",
      "\tMAIN_LOSS: 3.4832873890797296\n",
      "\tKD_LOSS: 0.2458324128141006\n"
     ]
    },
    {
     "name": "stderr",
     "output_type": "stream",
     "text": [
      "LSM-YOLO summary (fused): 391 layers, 2873048 parameters, 18824 gradients, 12.4 GFLOPs\n",
      "\u001b[34m\u001b[1mval: \u001b[0mScanning /kaggle/working/Br35H-Mask-Prepared/val/labels.cache... 151 images, 225 backgrounds, 0 corrupt: 100%|██████████| 376/376 [00:00<?, ?it/s]\n",
      "                 Class     Images  Instances      Box(P          R      mAP50  mAP50-95): 100%|██████████| 12/12 [00:08<00:00,  1.45it/s]\n",
      "                   all        376        181      0.906       0.79      0.851      0.591\n",
      "/usr/local/lib/python3.11/dist-packages/matplotlib/colors.py:721: RuntimeWarning: invalid value encountered in less\n",
      "  xa[xa < 0] = -1\n",
      "/usr/local/lib/python3.11/dist-packages/matplotlib/colors.py:721: RuntimeWarning: invalid value encountered in less\n",
      "  xa[xa < 0] = -1\n",
      "Speed: 1.9ms preprocess, 16.7ms inference, 0.0ms loss, 0.4ms postprocess per image\n",
      "Results saved to \u001b[1mruns/epoch93\u001b[0m\n"
     ]
    },
    {
     "name": "stdout",
     "output_type": "stream",
     "text": [
      "-------------------- EPOCH 93 END --------------------\n",
      "-------------------- EPOCH 94 START --------------------\n",
      "Training start ...\n",
      "TRAIN:\n",
      "\tAVG_LOSS: 2.1096781960016564\n",
      "\tMAIN_LOSS: 1.413908012305634\n",
      "\tKD_LOSS: 0.23192339041565038\n",
      "Evaluating start ...\n",
      "VAL:\n",
      "\tAVG_LOSS: 4.276152819395065\n",
      "\tMAIN_LOSS: 3.5492241183916726\n",
      "\tKD_LOSS: 0.24230957527955374\n"
     ]
    },
    {
     "name": "stderr",
     "output_type": "stream",
     "text": [
      "LSM-YOLO summary (fused): 391 layers, 2873048 parameters, 18824 gradients, 12.4 GFLOPs\n",
      "\u001b[34m\u001b[1mval: \u001b[0mScanning /kaggle/working/Br35H-Mask-Prepared/val/labels.cache... 151 images, 225 backgrounds, 0 corrupt: 100%|██████████| 376/376 [00:00<?, ?it/s]\n",
      "                 Class     Images  Instances      Box(P          R      mAP50  mAP50-95): 100%|██████████| 12/12 [00:08<00:00,  1.45it/s]\n",
      "                   all        376        181      0.913      0.757      0.841      0.586\n",
      "/usr/local/lib/python3.11/dist-packages/matplotlib/colors.py:721: RuntimeWarning: invalid value encountered in less\n",
      "  xa[xa < 0] = -1\n",
      "/usr/local/lib/python3.11/dist-packages/matplotlib/colors.py:721: RuntimeWarning: invalid value encountered in less\n",
      "  xa[xa < 0] = -1\n",
      "Speed: 1.9ms preprocess, 16.7ms inference, 0.0ms loss, 0.3ms postprocess per image\n",
      "Results saved to \u001b[1mruns/epoch94\u001b[0m\n"
     ]
    },
    {
     "name": "stdout",
     "output_type": "stream",
     "text": [
      "-------------------- EPOCH 94 END --------------------\n",
      "-------------------- EPOCH 95 START --------------------\n",
      "Training start ...\n",
      "TRAIN:\n",
      "\tAVG_LOSS: 2.073885869376267\n",
      "\tMAIN_LOSS: 1.3853734082813505\n",
      "\tKD_LOSS: 0.22950415558452847\n",
      "Evaluating start ...\n",
      "VAL:\n",
      "\tAVG_LOSS: 4.47928574681282\n",
      "\tMAIN_LOSS: 3.746209611495336\n",
      "\tKD_LOSS: 0.24435869914789995\n"
     ]
    },
    {
     "name": "stderr",
     "output_type": "stream",
     "text": [
      "LSM-YOLO summary (fused): 391 layers, 2873048 parameters, 18824 gradients, 12.4 GFLOPs\n",
      "\u001b[34m\u001b[1mval: \u001b[0mScanning /kaggle/working/Br35H-Mask-Prepared/val/labels.cache... 151 images, 225 backgrounds, 0 corrupt: 100%|██████████| 376/376 [00:00<?, ?it/s]\n",
      "                 Class     Images  Instances      Box(P          R      mAP50  mAP50-95): 100%|██████████| 12/12 [00:08<00:00,  1.46it/s]\n",
      "                   all        376        181       0.91      0.724      0.806      0.554\n",
      "/usr/local/lib/python3.11/dist-packages/matplotlib/colors.py:721: RuntimeWarning: invalid value encountered in less\n",
      "  xa[xa < 0] = -1\n",
      "/usr/local/lib/python3.11/dist-packages/matplotlib/colors.py:721: RuntimeWarning: invalid value encountered in less\n",
      "  xa[xa < 0] = -1\n",
      "Speed: 1.7ms preprocess, 16.7ms inference, 0.0ms loss, 0.4ms postprocess per image\n",
      "Results saved to \u001b[1mruns/epoch95\u001b[0m\n"
     ]
    },
    {
     "name": "stdout",
     "output_type": "stream",
     "text": [
      "-------------------- EPOCH 95 END --------------------\n",
      "-------------------- EPOCH 96 START --------------------\n",
      "Training start ...\n",
      "TRAIN:\n",
      "\tAVG_LOSS: 2.3074005706400813\n",
      "\tMAIN_LOSS: 1.556307524065428\n",
      "\tKD_LOSS: 0.2503643447085272\n",
      "Evaluating start ...\n",
      "VAL:\n",
      "\tAVG_LOSS: 4.550392031669617\n",
      "\tMAIN_LOSS: 3.785491555929184\n",
      "\tKD_LOSS: 0.2549668358018001\n"
     ]
    },
    {
     "name": "stderr",
     "output_type": "stream",
     "text": [
      "LSM-YOLO summary (fused): 391 layers, 2873048 parameters, 18824 gradients, 12.4 GFLOPs\n",
      "\u001b[34m\u001b[1mval: \u001b[0mScanning /kaggle/working/Br35H-Mask-Prepared/val/labels.cache... 151 images, 225 backgrounds, 0 corrupt: 100%|██████████| 376/376 [00:00<?, ?it/s]\n",
      "                 Class     Images  Instances      Box(P          R      mAP50  mAP50-95): 100%|██████████| 12/12 [00:08<00:00,  1.44it/s]\n",
      "                   all        376        181      0.874      0.735        0.8       0.54\n",
      "/usr/local/lib/python3.11/dist-packages/matplotlib/colors.py:721: RuntimeWarning: invalid value encountered in less\n",
      "  xa[xa < 0] = -1\n",
      "/usr/local/lib/python3.11/dist-packages/matplotlib/colors.py:721: RuntimeWarning: invalid value encountered in less\n",
      "  xa[xa < 0] = -1\n",
      "Speed: 1.8ms preprocess, 16.7ms inference, 0.0ms loss, 0.4ms postprocess per image\n",
      "Results saved to \u001b[1mruns/epoch96\u001b[0m\n"
     ]
    },
    {
     "name": "stdout",
     "output_type": "stream",
     "text": [
      "-------------------- EPOCH 96 END --------------------\n",
      "-------------------- EPOCH 97 START --------------------\n",
      "Training start ...\n",
      "TRAIN:\n",
      "\tAVG_LOSS: 2.1479475120954876\n",
      "\tMAIN_LOSS: 1.4311925097356868\n",
      "\tKD_LOSS: 0.23891833518879324\n",
      "Evaluating start ...\n",
      "VAL:\n",
      "\tAVG_LOSS: 4.173209647337596\n",
      "\tMAIN_LOSS: 3.4258992274602256\n",
      "\tKD_LOSS: 0.24910348219176134\n"
     ]
    },
    {
     "name": "stderr",
     "output_type": "stream",
     "text": [
      "LSM-YOLO summary (fused): 391 layers, 2873048 parameters, 18824 gradients, 12.4 GFLOPs\n",
      "\u001b[34m\u001b[1mval: \u001b[0mScanning /kaggle/working/Br35H-Mask-Prepared/val/labels.cache... 151 images, 225 backgrounds, 0 corrupt: 100%|██████████| 376/376 [00:00<?, ?it/s]\n",
      "                 Class     Images  Instances      Box(P          R      mAP50  mAP50-95): 100%|██████████| 12/12 [00:08<00:00,  1.45it/s]\n",
      "                   all        376        181      0.942      0.718      0.823      0.562\n",
      "/usr/local/lib/python3.11/dist-packages/matplotlib/colors.py:721: RuntimeWarning: invalid value encountered in less\n",
      "  xa[xa < 0] = -1\n",
      "/usr/local/lib/python3.11/dist-packages/matplotlib/colors.py:721: RuntimeWarning: invalid value encountered in less\n",
      "  xa[xa < 0] = -1\n",
      "Speed: 1.8ms preprocess, 16.7ms inference, 0.0ms loss, 0.4ms postprocess per image\n",
      "Results saved to \u001b[1mruns/epoch97\u001b[0m\n"
     ]
    },
    {
     "name": "stdout",
     "output_type": "stream",
     "text": [
      "-------------------- EPOCH 97 END --------------------\n",
      "-------------------- EPOCH 98 START --------------------\n",
      "Training start ...\n",
      "TRAIN:\n",
      "\tAVG_LOSS: 2.0927996590167663\n",
      "\tMAIN_LOSS: 1.3939597455761101\n",
      "\tKD_LOSS: 0.23294663957402675\n",
      "Evaluating start ...\n",
      "VAL:\n",
      "\tAVG_LOSS: 4.273048023382823\n",
      "\tMAIN_LOSS: 3.54525355497996\n",
      "\tKD_LOSS: 0.2425981443375349\n"
     ]
    },
    {
     "name": "stderr",
     "output_type": "stream",
     "text": [
      "LSM-YOLO summary (fused): 391 layers, 2873048 parameters, 18824 gradients, 12.4 GFLOPs\n",
      "\u001b[34m\u001b[1mval: \u001b[0mScanning /kaggle/working/Br35H-Mask-Prepared/val/labels.cache... 151 images, 225 backgrounds, 0 corrupt: 100%|██████████| 376/376 [00:00<?, ?it/s]\n",
      "                 Class     Images  Instances      Box(P          R      mAP50  mAP50-95): 100%|██████████| 12/12 [00:08<00:00,  1.43it/s]\n",
      "                   all        376        181      0.945      0.746      0.845      0.571\n",
      "/usr/local/lib/python3.11/dist-packages/matplotlib/colors.py:721: RuntimeWarning: invalid value encountered in less\n",
      "  xa[xa < 0] = -1\n",
      "/usr/local/lib/python3.11/dist-packages/matplotlib/colors.py:721: RuntimeWarning: invalid value encountered in less\n",
      "  xa[xa < 0] = -1\n",
      "Speed: 1.9ms preprocess, 16.8ms inference, 0.0ms loss, 0.4ms postprocess per image\n",
      "Results saved to \u001b[1mruns/epoch98\u001b[0m\n"
     ]
    },
    {
     "name": "stdout",
     "output_type": "stream",
     "text": [
      "-------------------- EPOCH 98 END --------------------\n",
      "-------------------- EPOCH 99 START --------------------\n",
      "Training start ...\n"
     ]
    },
    {
     "name": "stderr",
     "output_type": "stream",
     "text": [
      "Exception ignored in: <function _MultiProcessingDataLoaderIter.__del__ at 0x7a9dd01c2a20>\n",
      "Traceback (most recent call last):\n",
      "  File \"/usr/local/lib/python3.11/dist-packages/torch/utils/data/dataloader.py\", line 1618, in __del__\n",
      "    self._shutdown_workers()\n",
      "  File \"/usr/local/lib/python3.11/dist-packages/torch/utils/data/dataloader.py\", line 1601, in _shutdown_workers\n",
      "    if w.is_alive():\n",
      "       ^^^^^^^^^^^^\n",
      "  File \"/usr/lib/python3.11/multiprocessing/process.py\", line 160, in is_alive\n",
      "    assert self._parent_pid == os.getpid(), 'can only test a child process'\n",
      "           ^^^^^^^^^^^^^^^^^^^^^^^^^^^^^^^\n",
      "AssertionError: can only test a child process\n",
      "Exception ignored in: <function _MultiProcessingDataLoaderIter.__del__ at 0x7a9dd01c2a20>\n",
      "Traceback (most recent call last):\n",
      "  File \"/usr/local/lib/python3.11/dist-packages/torch/utils/data/dataloader.py\", line 1618, in __del__\n",
      "    self._shutdown_workers()\n",
      "  File \"/usr/local/lib/python3.11/dist-packages/torch/utils/data/dataloader.py\", line 1601, in _shutdown_workers\n",
      "    if w.is_alive():\n",
      "       ^^^^^^^^^^^^\n",
      "  File \"/usr/lib/python3.11/multiprocessing/process.py\", line 160, in is_alive\n",
      "    assert self._parent_pid == os.getpid(), 'can only test a child process'\n",
      "           ^^^^^^^^^^^^^^^^^^^^^^^^^^^^^^^\n",
      "AssertionError: can only test a child process\n",
      "Exception ignored in: <function _MultiProcessingDataLoaderIter.__del__ at 0x7a9dd01c2a20>\n",
      "Traceback (most recent call last):\n",
      "  File \"/usr/local/lib/python3.11/dist-packages/torch/utils/data/dataloader.py\", line 1618, in __del__\n",
      "    self._shutdown_workers()\n",
      "  File \"/usr/local/lib/python3.11/dist-packages/torch/utils/data/dataloader.py\", line 1601, in _shutdown_workers\n",
      "    if w.is_alive():\n",
      "       ^^^^^^^^^^^^\n",
      "  File \"/usr/lib/python3.11/multiprocessing/process.py\", line 160, in is_alive\n",
      "    assert self._parent_pid == os.getpid(), 'can only test a child process'\n",
      "           ^^^^^^^^^^^^^^^^^^^^^^^^^^^^^^^\n",
      "AssertionError: can only test a child process\n",
      "Exception ignored in: <function _MultiProcessingDataLoaderIter.__del__ at 0x7a9dd01c2a20>\n",
      "Traceback (most recent call last):\n",
      "  File \"/usr/local/lib/python3.11/dist-packages/torch/utils/data/dataloader.py\", line 1618, in __del__\n",
      "    self._shutdown_workers()\n",
      "  File \"/usr/local/lib/python3.11/dist-packages/torch/utils/data/dataloader.py\", line 1601, in _shutdown_workers\n",
      "    if w.is_alive():\n",
      "       ^^^^^^^^^^^^\n",
      "  File \"/usr/lib/python3.11/multiprocessing/process.py\", line 160, in is_alive\n",
      "    assert self._parent_pid == os.getpid(), 'can only test a child process'\n",
      "           ^^^^^^^^^^^^^^^^^^^^^^^^^^^^^^^\n",
      "AssertionError: can only test a child process\n",
      "Exception ignored in: <function _MultiProcessingDataLoaderIter.__del__ at 0x7a9dd01c2a20>\n",
      "Traceback (most recent call last):\n",
      "  File \"/usr/local/lib/python3.11/dist-packages/torch/utils/data/dataloader.py\", line 1618, in __del__\n",
      "    self._shutdown_workers()\n",
      "  File \"/usr/local/lib/python3.11/dist-packages/torch/utils/data/dataloader.py\", line 1601, in _shutdown_workers\n",
      "    if w.is_alive():\n",
      "       ^^^^^^^^^^^^\n",
      "  File \"/usr/lib/python3.11/multiprocessing/process.py\", line 160, in is_alive\n",
      "    assert self._parent_pid == os.getpid(), 'can only test a child process'\n",
      "           ^^^^^^^^^^^^^^^^^^^^^^^^^^^^^^^\n",
      "AssertionError: can only test a child process\n"
     ]
    },
    {
     "name": "stdout",
     "output_type": "stream",
     "text": [
      "TRAIN:\n",
      "\tAVG_LOSS: 2.0338255498982685\n",
      "\tMAIN_LOSS: 1.3494610514821885\n",
      "\tKD_LOSS: 0.22812150098100492\n",
      "Evaluating start ...\n",
      "VAL:\n",
      "\tAVG_LOSS: 4.305273542801539\n",
      "\tMAIN_LOSS: 3.592914491891861\n",
      "\tKD_LOSS: 0.23745302048822245\n"
     ]
    },
    {
     "name": "stderr",
     "output_type": "stream",
     "text": [
      "LSM-YOLO summary (fused): 391 layers, 2873048 parameters, 18824 gradients, 12.4 GFLOPs\n",
      "\u001b[34m\u001b[1mval: \u001b[0mScanning /kaggle/working/Br35H-Mask-Prepared/val/labels.cache... 151 images, 225 backgrounds, 0 corrupt: 100%|██████████| 376/376 [00:00<?, ?it/s]\n",
      "                 Class     Images  Instances      Box(P          R      mAP50  mAP50-95): 100%|██████████| 12/12 [00:08<00:00,  1.45it/s]\n",
      "                   all        376        181      0.956      0.724       0.85      0.607\n",
      "/usr/local/lib/python3.11/dist-packages/matplotlib/colors.py:721: RuntimeWarning: invalid value encountered in less\n",
      "  xa[xa < 0] = -1\n",
      "/usr/local/lib/python3.11/dist-packages/matplotlib/colors.py:721: RuntimeWarning: invalid value encountered in less\n",
      "  xa[xa < 0] = -1\n",
      "Speed: 1.9ms preprocess, 16.7ms inference, 0.0ms loss, 0.3ms postprocess per image\n",
      "Results saved to \u001b[1mruns/epoch99\u001b[0m\n"
     ]
    },
    {
     "name": "stdout",
     "output_type": "stream",
     "text": [
      "-------------------- EPOCH 99 END --------------------\n",
      "-------------------- EPOCH 100 START --------------------\n",
      "Training start ...\n",
      "TRAIN:\n",
      "\tAVG_LOSS: 2.023820252358159\n",
      "\tMAIN_LOSS: 1.3457623463642747\n",
      "\tKD_LOSS: 0.22601930476442167\n",
      "Evaluating start ...\n",
      "VAL:\n",
      "\tAVG_LOSS: 4.303116748730342\n",
      "\tMAIN_LOSS: 3.6000866889953613\n",
      "\tKD_LOSS: 0.23434334682921568\n"
     ]
    },
    {
     "name": "stderr",
     "output_type": "stream",
     "text": [
      "LSM-YOLO summary (fused): 391 layers, 2873048 parameters, 18824 gradients, 12.4 GFLOPs\n",
      "\u001b[34m\u001b[1mval: \u001b[0mScanning /kaggle/working/Br35H-Mask-Prepared/val/labels.cache... 151 images, 225 backgrounds, 0 corrupt: 100%|██████████| 376/376 [00:00<?, ?it/s]\n",
      "                 Class     Images  Instances      Box(P          R      mAP50  mAP50-95): 100%|██████████| 12/12 [00:08<00:00,  1.45it/s]\n",
      "                   all        376        181      0.968      0.768      0.861      0.616\n",
      "/usr/local/lib/python3.11/dist-packages/matplotlib/colors.py:721: RuntimeWarning: invalid value encountered in less\n",
      "  xa[xa < 0] = -1\n",
      "/usr/local/lib/python3.11/dist-packages/matplotlib/colors.py:721: RuntimeWarning: invalid value encountered in less\n",
      "  xa[xa < 0] = -1\n",
      "Speed: 1.8ms preprocess, 16.7ms inference, 0.0ms loss, 0.3ms postprocess per image\n",
      "Results saved to \u001b[1mruns/epoch100\u001b[0m\n"
     ]
    },
    {
     "name": "stdout",
     "output_type": "stream",
     "text": [
      "Epoch 100: New best mAP: 0.6159, model saved.\n",
      "-------------------- EPOCH 100 END --------------------\n",
      "-------------------- EPOCH 101 START --------------------\n",
      "Training start ...\n",
      "TRAIN:\n",
      "\tAVG_LOSS: 2.152487522439112\n",
      "\tMAIN_LOSS: 1.4380569201481492\n",
      "\tKD_LOSS: 0.23814353365686874\n",
      "Evaluating start ...\n",
      "VAL:\n",
      "\tAVG_LOSS: 4.587198098500569\n",
      "\tMAIN_LOSS: 3.7708590825398765\n",
      "\tKD_LOSS: 0.2721130009740591\n"
     ]
    },
    {
     "name": "stderr",
     "output_type": "stream",
     "text": [
      "LSM-YOLO summary (fused): 391 layers, 2873048 parameters, 18824 gradients, 12.4 GFLOPs\n",
      "\u001b[34m\u001b[1mval: \u001b[0mScanning /kaggle/working/Br35H-Mask-Prepared/val/labels.cache... 151 images, 225 backgrounds, 0 corrupt: 100%|██████████| 376/376 [00:00<?, ?it/s]\n",
      "                 Class     Images  Instances      Box(P          R      mAP50  mAP50-95): 100%|██████████| 12/12 [00:08<00:00,  1.44it/s]\n",
      "                   all        376        181      0.891      0.724      0.813      0.554\n",
      "/usr/local/lib/python3.11/dist-packages/matplotlib/colors.py:721: RuntimeWarning: invalid value encountered in less\n",
      "  xa[xa < 0] = -1\n",
      "/usr/local/lib/python3.11/dist-packages/matplotlib/colors.py:721: RuntimeWarning: invalid value encountered in less\n",
      "  xa[xa < 0] = -1\n",
      "Speed: 1.9ms preprocess, 16.7ms inference, 0.0ms loss, 0.4ms postprocess per image\n",
      "Results saved to \u001b[1mruns/epoch101\u001b[0m\n"
     ]
    },
    {
     "name": "stdout",
     "output_type": "stream",
     "text": [
      "-------------------- EPOCH 101 END --------------------\n",
      "-------------------- EPOCH 102 START --------------------\n",
      "Training start ...\n",
      "TRAIN:\n",
      "\tAVG_LOSS: 2.488315328767028\n",
      "\tMAIN_LOSS: 1.7031804081759876\n",
      "\tKD_LOSS: 0.2617116410143768\n",
      "Evaluating start ...\n",
      "VAL:\n",
      "\tAVG_LOSS: 4.5765491127967834\n",
      "\tMAIN_LOSS: 3.789893388748169\n",
      "\tKD_LOSS: 0.26221856909493607\n"
     ]
    },
    {
     "name": "stderr",
     "output_type": "stream",
     "text": [
      "LSM-YOLO summary (fused): 391 layers, 2873048 parameters, 18824 gradients, 12.4 GFLOPs\n",
      "\u001b[34m\u001b[1mval: \u001b[0mScanning /kaggle/working/Br35H-Mask-Prepared/val/labels.cache... 151 images, 225 backgrounds, 0 corrupt: 100%|██████████| 376/376 [00:00<?, ?it/s]\n",
      "                 Class     Images  Instances      Box(P          R      mAP50  mAP50-95): 100%|██████████| 12/12 [00:08<00:00,  1.44it/s]\n",
      "                   all        376        181      0.948      0.712       0.83      0.553\n",
      "/usr/local/lib/python3.11/dist-packages/matplotlib/colors.py:721: RuntimeWarning: invalid value encountered in less\n",
      "  xa[xa < 0] = -1\n",
      "/usr/local/lib/python3.11/dist-packages/matplotlib/colors.py:721: RuntimeWarning: invalid value encountered in less\n",
      "  xa[xa < 0] = -1\n",
      "Speed: 1.9ms preprocess, 16.7ms inference, 0.0ms loss, 0.4ms postprocess per image\n",
      "Results saved to \u001b[1mruns/epoch102\u001b[0m\n"
     ]
    },
    {
     "name": "stdout",
     "output_type": "stream",
     "text": [
      "-------------------- EPOCH 102 END --------------------\n",
      "-------------------- EPOCH 103 START --------------------\n",
      "Training start ...\n",
      "TRAIN:\n",
      "\tAVG_LOSS: 2.165478593940976\n",
      "\tMAIN_LOSS: 1.4459004658686965\n",
      "\tKD_LOSS: 0.2398593761498415\n",
      "Evaluating start ...\n",
      "VAL:\n",
      "\tAVG_LOSS: 4.4565389057000475\n",
      "\tMAIN_LOSS: 3.7200031876564026\n",
      "\tKD_LOSS: 0.24551190435886383\n"
     ]
    },
    {
     "name": "stderr",
     "output_type": "stream",
     "text": [
      "LSM-YOLO summary (fused): 391 layers, 2873048 parameters, 18824 gradients, 12.4 GFLOPs\n",
      "\u001b[34m\u001b[1mval: \u001b[0mScanning /kaggle/working/Br35H-Mask-Prepared/val/labels.cache... 151 images, 225 backgrounds, 0 corrupt: 100%|██████████| 376/376 [00:00<?, ?it/s]\n",
      "                 Class     Images  Instances      Box(P          R      mAP50  mAP50-95): 100%|██████████| 12/12 [00:08<00:00,  1.45it/s]\n",
      "                   all        376        181      0.958      0.761       0.86      0.604\n",
      "/usr/local/lib/python3.11/dist-packages/matplotlib/colors.py:721: RuntimeWarning: invalid value encountered in less\n",
      "  xa[xa < 0] = -1\n",
      "/usr/local/lib/python3.11/dist-packages/matplotlib/colors.py:721: RuntimeWarning: invalid value encountered in less\n",
      "  xa[xa < 0] = -1\n",
      "Speed: 1.7ms preprocess, 16.8ms inference, 0.0ms loss, 0.4ms postprocess per image\n",
      "Results saved to \u001b[1mruns/epoch103\u001b[0m\n"
     ]
    },
    {
     "name": "stdout",
     "output_type": "stream",
     "text": [
      "-------------------- EPOCH 103 END --------------------\n",
      "-------------------- EPOCH 104 START --------------------\n",
      "Training start ...\n",
      "TRAIN:\n",
      "\tAVG_LOSS: 2.0406031699120244\n",
      "\tMAIN_LOSS: 1.350072083593924\n",
      "\tKD_LOSS: 0.23017702770384052\n",
      "Evaluating start ...\n",
      "VAL:\n",
      "\tAVG_LOSS: 4.367384682099025\n",
      "\tMAIN_LOSS: 3.6584960917631784\n",
      "\tKD_LOSS: 0.23629620733360449\n"
     ]
    },
    {
     "name": "stderr",
     "output_type": "stream",
     "text": [
      "LSM-YOLO summary (fused): 391 layers, 2873048 parameters, 18824 gradients, 12.4 GFLOPs\n",
      "\u001b[34m\u001b[1mval: \u001b[0mScanning /kaggle/working/Br35H-Mask-Prepared/val/labels.cache... 151 images, 225 backgrounds, 0 corrupt: 100%|██████████| 376/376 [00:00<?, ?it/s]\n",
      "                 Class     Images  Instances      Box(P          R      mAP50  mAP50-95): 100%|██████████| 12/12 [00:08<00:00,  1.46it/s]\n",
      "                   all        376        181      0.916      0.782      0.852      0.591\n",
      "/usr/local/lib/python3.11/dist-packages/matplotlib/colors.py:721: RuntimeWarning: invalid value encountered in less\n",
      "  xa[xa < 0] = -1\n",
      "/usr/local/lib/python3.11/dist-packages/matplotlib/colors.py:721: RuntimeWarning: invalid value encountered in less\n",
      "  xa[xa < 0] = -1\n",
      "Speed: 1.7ms preprocess, 16.7ms inference, 0.0ms loss, 0.4ms postprocess per image\n",
      "Results saved to \u001b[1mruns/epoch104\u001b[0m\n"
     ]
    },
    {
     "name": "stdout",
     "output_type": "stream",
     "text": [
      "-------------------- EPOCH 104 END --------------------\n",
      "-------------------- EPOCH 105 START --------------------\n",
      "Training start ...\n",
      "TRAIN:\n",
      "\tAVG_LOSS: 1.9870212832583656\n",
      "\tMAIN_LOSS: 1.3077505057371115\n",
      "\tKD_LOSS: 0.22642359816575353\n",
      "Evaluating start ...\n",
      "VAL:\n",
      "\tAVG_LOSS: 4.277616639931996\n",
      "\tMAIN_LOSS: 3.5764316668113074\n",
      "\tKD_LOSS: 0.23372831692298254\n"
     ]
    },
    {
     "name": "stderr",
     "output_type": "stream",
     "text": [
      "LSM-YOLO summary (fused): 391 layers, 2873048 parameters, 18824 gradients, 12.4 GFLOPs\n",
      "\u001b[34m\u001b[1mval: \u001b[0mScanning /kaggle/working/Br35H-Mask-Prepared/val/labels.cache... 151 images, 225 backgrounds, 0 corrupt: 100%|██████████| 376/376 [00:00<?, ?it/s]\n",
      "                 Class     Images  Instances      Box(P          R      mAP50  mAP50-95): 100%|██████████| 12/12 [00:08<00:00,  1.45it/s]\n",
      "                   all        376        181      0.953      0.782      0.863      0.599\n",
      "/usr/local/lib/python3.11/dist-packages/matplotlib/colors.py:721: RuntimeWarning: invalid value encountered in less\n",
      "  xa[xa < 0] = -1\n",
      "/usr/local/lib/python3.11/dist-packages/matplotlib/colors.py:721: RuntimeWarning: invalid value encountered in less\n",
      "  xa[xa < 0] = -1\n",
      "Speed: 1.9ms preprocess, 16.7ms inference, 0.0ms loss, 0.4ms postprocess per image\n",
      "Results saved to \u001b[1mruns/epoch105\u001b[0m\n"
     ]
    },
    {
     "name": "stdout",
     "output_type": "stream",
     "text": [
      "-------------------- EPOCH 105 END --------------------\n",
      "-------------------- EPOCH 106 START --------------------\n",
      "Training start ...\n",
      "TRAIN:\n",
      "\tAVG_LOSS: 1.9617157616192782\n",
      "\tMAIN_LOSS: 1.2903432483914532\n",
      "\tKD_LOSS: 0.22379084025757223\n",
      "Evaluating start ...\n",
      "VAL:\n",
      "\tAVG_LOSS: 4.337716648976008\n",
      "\tMAIN_LOSS: 3.643470197916031\n",
      "\tKD_LOSS: 0.2314154909302791\n"
     ]
    },
    {
     "name": "stderr",
     "output_type": "stream",
     "text": [
      "LSM-YOLO summary (fused): 391 layers, 2873048 parameters, 18824 gradients, 12.4 GFLOPs\n",
      "\u001b[34m\u001b[1mval: \u001b[0mScanning /kaggle/working/Br35H-Mask-Prepared/val/labels.cache... 151 images, 225 backgrounds, 0 corrupt: 100%|██████████| 376/376 [00:00<?, ?it/s]\n",
      "                 Class     Images  Instances      Box(P          R      mAP50  mAP50-95): 100%|██████████| 12/12 [00:08<00:00,  1.45it/s]\n",
      "                   all        376        181      0.937      0.796      0.866      0.615\n",
      "/usr/local/lib/python3.11/dist-packages/matplotlib/colors.py:721: RuntimeWarning: invalid value encountered in less\n",
      "  xa[xa < 0] = -1\n",
      "/usr/local/lib/python3.11/dist-packages/matplotlib/colors.py:721: RuntimeWarning: invalid value encountered in less\n",
      "  xa[xa < 0] = -1\n",
      "Speed: 2.0ms preprocess, 16.7ms inference, 0.0ms loss, 0.3ms postprocess per image\n",
      "Results saved to \u001b[1mruns/epoch106\u001b[0m\n"
     ]
    },
    {
     "name": "stdout",
     "output_type": "stream",
     "text": [
      "-------------------- EPOCH 106 END --------------------\n",
      "-------------------- EPOCH 107 START --------------------\n",
      "Training start ...\n",
      "TRAIN:\n",
      "\tAVG_LOSS: 1.9917699083497253\n",
      "\tMAIN_LOSS: 1.3214607329308232\n",
      "\tKD_LOSS: 0.22343639312665672\n",
      "Evaluating start ...\n",
      "VAL:\n",
      "\tAVG_LOSS: 4.2105040947596235\n",
      "\tMAIN_LOSS: 3.522680252790451\n",
      "\tKD_LOSS: 0.22927460571130118\n"
     ]
    },
    {
     "name": "stderr",
     "output_type": "stream",
     "text": [
      "LSM-YOLO summary (fused): 391 layers, 2873048 parameters, 18824 gradients, 12.4 GFLOPs\n",
      "\u001b[34m\u001b[1mval: \u001b[0mScanning /kaggle/working/Br35H-Mask-Prepared/val/labels.cache... 151 images, 225 backgrounds, 0 corrupt: 100%|██████████| 376/376 [00:00<?, ?it/s]\n",
      "                 Class     Images  Instances      Box(P          R      mAP50  mAP50-95): 100%|██████████| 12/12 [00:08<00:00,  1.45it/s]\n",
      "                   all        376        181      0.951      0.753      0.858      0.605\n",
      "/usr/local/lib/python3.11/dist-packages/matplotlib/colors.py:721: RuntimeWarning: invalid value encountered in less\n",
      "  xa[xa < 0] = -1\n",
      "/usr/local/lib/python3.11/dist-packages/matplotlib/colors.py:721: RuntimeWarning: invalid value encountered in less\n",
      "  xa[xa < 0] = -1\n",
      "Speed: 1.9ms preprocess, 16.7ms inference, 0.0ms loss, 0.3ms postprocess per image\n",
      "Results saved to \u001b[1mruns/epoch107\u001b[0m\n"
     ]
    },
    {
     "name": "stdout",
     "output_type": "stream",
     "text": [
      "-------------------- EPOCH 107 END --------------------\n",
      "-------------------- EPOCH 108 START --------------------\n",
      "Training start ...\n",
      "TRAIN:\n",
      "\tAVG_LOSS: 1.9592520919027208\n",
      "\tMAIN_LOSS: 1.2957023457635808\n",
      "\tKD_LOSS: 0.22118324927891356\n",
      "Evaluating start ...\n",
      "VAL:\n",
      "\tAVG_LOSS: 4.213363726933797\n",
      "\tMAIN_LOSS: 3.5309770504633584\n",
      "\tKD_LOSS: 0.22746223459641138\n"
     ]
    },
    {
     "name": "stderr",
     "output_type": "stream",
     "text": [
      "LSM-YOLO summary (fused): 391 layers, 2873048 parameters, 18824 gradients, 12.4 GFLOPs\n",
      "\u001b[34m\u001b[1mval: \u001b[0mScanning /kaggle/working/Br35H-Mask-Prepared/val/labels.cache... 151 images, 225 backgrounds, 0 corrupt: 100%|██████████| 376/376 [00:00<?, ?it/s]\n",
      "                 Class     Images  Instances      Box(P          R      mAP50  mAP50-95): 100%|██████████| 12/12 [00:08<00:00,  1.45it/s]\n",
      "                   all        376        181      0.975      0.762       0.87       0.62\n",
      "/usr/local/lib/python3.11/dist-packages/matplotlib/colors.py:721: RuntimeWarning: invalid value encountered in less\n",
      "  xa[xa < 0] = -1\n",
      "/usr/local/lib/python3.11/dist-packages/matplotlib/colors.py:721: RuntimeWarning: invalid value encountered in less\n",
      "  xa[xa < 0] = -1\n",
      "Speed: 1.9ms preprocess, 16.7ms inference, 0.0ms loss, 0.3ms postprocess per image\n",
      "Results saved to \u001b[1mruns/epoch108\u001b[0m\n"
     ]
    },
    {
     "name": "stdout",
     "output_type": "stream",
     "text": [
      "Epoch 108: New best mAP: 0.6196, model saved.\n",
      "-------------------- EPOCH 108 END --------------------\n",
      "-------------------- EPOCH 109 START --------------------\n",
      "Training start ...\n",
      "TRAIN:\n",
      "\tAVG_LOSS: 1.9617717507519299\n",
      "\tMAIN_LOSS: 1.2984068982208832\n",
      "\tKD_LOSS: 0.22112161977381645\n",
      "Evaluating start ...\n",
      "VAL:\n",
      "\tAVG_LOSS: 4.180754731098811\n",
      "\tMAIN_LOSS: 3.4892856180667877\n",
      "\tKD_LOSS: 0.2304896948238214\n"
     ]
    },
    {
     "name": "stderr",
     "output_type": "stream",
     "text": [
      "LSM-YOLO summary (fused): 391 layers, 2873048 parameters, 18824 gradients, 12.4 GFLOPs\n",
      "\u001b[34m\u001b[1mval: \u001b[0mScanning /kaggle/working/Br35H-Mask-Prepared/val/labels.cache... 151 images, 225 backgrounds, 0 corrupt: 100%|██████████| 376/376 [00:00<?, ?it/s]\n",
      "                 Class     Images  Instances      Box(P          R      mAP50  mAP50-95): 100%|██████████| 12/12 [00:08<00:00,  1.46it/s]\n",
      "                   all        376        181      0.946      0.746      0.855      0.604\n",
      "/usr/local/lib/python3.11/dist-packages/matplotlib/colors.py:721: RuntimeWarning: invalid value encountered in less\n",
      "  xa[xa < 0] = -1\n",
      "/usr/local/lib/python3.11/dist-packages/matplotlib/colors.py:721: RuntimeWarning: invalid value encountered in less\n",
      "  xa[xa < 0] = -1\n",
      "Speed: 1.8ms preprocess, 16.7ms inference, 0.0ms loss, 0.3ms postprocess per image\n",
      "Results saved to \u001b[1mruns/epoch109\u001b[0m\n"
     ]
    },
    {
     "name": "stdout",
     "output_type": "stream",
     "text": [
      "-------------------- EPOCH 109 END --------------------\n",
      "-------------------- EPOCH 110 START --------------------\n",
      "Training start ...\n",
      "TRAIN:\n",
      "\tAVG_LOSS: 1.9395295607892773\n",
      "\tMAIN_LOSS: 1.2835968974270398\n",
      "\tKD_LOSS: 0.21864422080637533\n",
      "Evaluating start ...\n",
      "VAL:\n",
      "\tAVG_LOSS: 4.385481894016266\n",
      "\tMAIN_LOSS: 3.674127846956253\n",
      "\tKD_LOSS: 0.23711800823609033\n"
     ]
    },
    {
     "name": "stderr",
     "output_type": "stream",
     "text": [
      "LSM-YOLO summary (fused): 391 layers, 2873048 parameters, 18824 gradients, 12.4 GFLOPs\n",
      "\u001b[34m\u001b[1mval: \u001b[0mScanning /kaggle/working/Br35H-Mask-Prepared/val/labels.cache... 151 images, 225 backgrounds, 0 corrupt: 100%|██████████| 376/376 [00:00<?, ?it/s]\n",
      "                 Class     Images  Instances      Box(P          R      mAP50  mAP50-95): 100%|██████████| 12/12 [00:08<00:00,  1.46it/s]\n",
      "                   all        376        181      0.933       0.79       0.87      0.618\n",
      "/usr/local/lib/python3.11/dist-packages/matplotlib/colors.py:721: RuntimeWarning: invalid value encountered in less\n",
      "  xa[xa < 0] = -1\n",
      "/usr/local/lib/python3.11/dist-packages/matplotlib/colors.py:721: RuntimeWarning: invalid value encountered in less\n",
      "  xa[xa < 0] = -1\n",
      "Speed: 1.8ms preprocess, 16.8ms inference, 0.0ms loss, 0.3ms postprocess per image\n",
      "Results saved to \u001b[1mruns/epoch110\u001b[0m\n"
     ]
    },
    {
     "name": "stdout",
     "output_type": "stream",
     "text": [
      "-------------------- EPOCH 110 END --------------------\n",
      "-------------------- EPOCH 111 START --------------------\n",
      "Training start ...\n",
      "TRAIN:\n",
      "\tAVG_LOSS: 1.9540028209927716\n",
      "\tMAIN_LOSS: 1.2985230156137972\n",
      "\tKD_LOSS: 0.21849326864828036\n",
      "Evaluating start ...\n",
      "VAL:\n",
      "\tAVG_LOSS: 4.4605322778224945\n",
      "\tMAIN_LOSS: 3.7706619600454965\n",
      "\tKD_LOSS: 0.22995677528282008\n"
     ]
    },
    {
     "name": "stderr",
     "output_type": "stream",
     "text": [
      "LSM-YOLO summary (fused): 391 layers, 2873048 parameters, 18824 gradients, 12.4 GFLOPs\n",
      "\u001b[34m\u001b[1mval: \u001b[0mScanning /kaggle/working/Br35H-Mask-Prepared/val/labels.cache... 151 images, 225 backgrounds, 0 corrupt: 100%|██████████| 376/376 [00:00<?, ?it/s]\n",
      "                 Class     Images  Instances      Box(P          R      mAP50  mAP50-95): 100%|██████████| 12/12 [00:08<00:00,  1.42it/s]\n",
      "                   all        376        181      0.928      0.782      0.848      0.582\n",
      "/usr/local/lib/python3.11/dist-packages/matplotlib/colors.py:721: RuntimeWarning: invalid value encountered in less\n",
      "  xa[xa < 0] = -1\n",
      "/usr/local/lib/python3.11/dist-packages/matplotlib/colors.py:721: RuntimeWarning: invalid value encountered in less\n",
      "  xa[xa < 0] = -1\n",
      "Speed: 1.8ms preprocess, 16.7ms inference, 0.0ms loss, 0.5ms postprocess per image\n",
      "Results saved to \u001b[1mruns/epoch111\u001b[0m\n"
     ]
    },
    {
     "name": "stdout",
     "output_type": "stream",
     "text": [
      "-------------------- EPOCH 111 END --------------------\n",
      "-------------------- EPOCH 112 START --------------------\n",
      "Training start ...\n",
      "TRAIN:\n",
      "\tAVG_LOSS: 1.9584881565238856\n",
      "\tMAIN_LOSS: 1.3057324765603753\n",
      "\tKD_LOSS: 0.21758522847785225\n",
      "Evaluating start ...\n",
      "VAL:\n",
      "\tAVG_LOSS: 4.2326156596342726\n",
      "\tMAIN_LOSS: 3.5537887712319693\n",
      "\tKD_LOSS: 0.2262756358832121\n"
     ]
    },
    {
     "name": "stderr",
     "output_type": "stream",
     "text": [
      "LSM-YOLO summary (fused): 391 layers, 2873048 parameters, 18824 gradients, 12.4 GFLOPs\n",
      "\u001b[34m\u001b[1mval: \u001b[0mScanning /kaggle/working/Br35H-Mask-Prepared/val/labels.cache... 151 images, 225 backgrounds, 0 corrupt: 100%|██████████| 376/376 [00:00<?, ?it/s]\n",
      "                 Class     Images  Instances      Box(P          R      mAP50  mAP50-95): 100%|██████████| 12/12 [00:08<00:00,  1.44it/s]\n",
      "                   all        376        181      0.913      0.768      0.847      0.581\n",
      "/usr/local/lib/python3.11/dist-packages/matplotlib/colors.py:721: RuntimeWarning: invalid value encountered in less\n",
      "  xa[xa < 0] = -1\n",
      "/usr/local/lib/python3.11/dist-packages/matplotlib/colors.py:721: RuntimeWarning: invalid value encountered in less\n",
      "  xa[xa < 0] = -1\n",
      "Speed: 1.9ms preprocess, 16.8ms inference, 0.0ms loss, 0.4ms postprocess per image\n",
      "Results saved to \u001b[1mruns/epoch112\u001b[0m\n"
     ]
    },
    {
     "name": "stdout",
     "output_type": "stream",
     "text": [
      "-------------------- EPOCH 112 END --------------------\n",
      "-------------------- EPOCH 113 START --------------------\n",
      "Training start ...\n",
      "TRAIN:\n",
      "\tAVG_LOSS: 1.9469896781293652\n",
      "\tMAIN_LOSS: 1.293977447702915\n",
      "\tKD_LOSS: 0.21767074303536477\n",
      "Evaluating start ...\n",
      "VAL:\n",
      "\tAVG_LOSS: 4.139044473568599\n",
      "\tMAIN_LOSS: 3.467589924732844\n",
      "\tKD_LOSS: 0.22381818356613317\n"
     ]
    },
    {
     "name": "stderr",
     "output_type": "stream",
     "text": [
      "LSM-YOLO summary (fused): 391 layers, 2873048 parameters, 18824 gradients, 12.4 GFLOPs\n",
      "\u001b[34m\u001b[1mval: \u001b[0mScanning /kaggle/working/Br35H-Mask-Prepared/val/labels.cache... 151 images, 225 backgrounds, 0 corrupt: 100%|██████████| 376/376 [00:00<?, ?it/s]\n",
      "                 Class     Images  Instances      Box(P          R      mAP50  mAP50-95): 100%|██████████| 12/12 [00:08<00:00,  1.47it/s]\n",
      "                   all        376        181       0.95      0.768      0.866      0.616\n",
      "/usr/local/lib/python3.11/dist-packages/matplotlib/colors.py:721: RuntimeWarning: invalid value encountered in less\n",
      "  xa[xa < 0] = -1\n",
      "/usr/local/lib/python3.11/dist-packages/matplotlib/colors.py:721: RuntimeWarning: invalid value encountered in less\n",
      "  xa[xa < 0] = -1\n",
      "Speed: 1.6ms preprocess, 16.8ms inference, 0.0ms loss, 0.3ms postprocess per image\n",
      "Results saved to \u001b[1mruns/epoch113\u001b[0m\n"
     ]
    },
    {
     "name": "stdout",
     "output_type": "stream",
     "text": [
      "-------------------- EPOCH 113 END --------------------\n",
      "-------------------- EPOCH 114 START --------------------\n",
      "Training start ...\n",
      "TRAIN:\n",
      "\tAVG_LOSS: 1.9058370937274982\n",
      "\tMAIN_LOSS: 1.2626152310190322\n",
      "\tKD_LOSS: 0.21440728744374046\n",
      "Evaluating start ...\n",
      "VAL:\n",
      "\tAVG_LOSS: 4.130851189295451\n",
      "\tMAIN_LOSS: 3.463595529397329\n",
      "\tKD_LOSS: 0.22241853860517344\n"
     ]
    },
    {
     "name": "stderr",
     "output_type": "stream",
     "text": [
      "LSM-YOLO summary (fused): 391 layers, 2873048 parameters, 18824 gradients, 12.4 GFLOPs\n",
      "\u001b[34m\u001b[1mval: \u001b[0mScanning /kaggle/working/Br35H-Mask-Prepared/val/labels.cache... 151 images, 225 backgrounds, 0 corrupt: 100%|██████████| 376/376 [00:00<?, ?it/s]\n",
      "                 Class     Images  Instances      Box(P          R      mAP50  mAP50-95): 100%|██████████| 12/12 [00:08<00:00,  1.47it/s]\n",
      "                   all        376        181      0.986      0.777      0.867      0.613\n",
      "/usr/local/lib/python3.11/dist-packages/matplotlib/colors.py:721: RuntimeWarning: invalid value encountered in less\n",
      "  xa[xa < 0] = -1\n",
      "/usr/local/lib/python3.11/dist-packages/matplotlib/colors.py:721: RuntimeWarning: invalid value encountered in less\n",
      "  xa[xa < 0] = -1\n",
      "Speed: 1.6ms preprocess, 16.8ms inference, 0.0ms loss, 0.3ms postprocess per image\n",
      "Results saved to \u001b[1mruns/epoch114\u001b[0m\n"
     ]
    },
    {
     "name": "stdout",
     "output_type": "stream",
     "text": [
      "-------------------- EPOCH 114 END --------------------\n",
      "-------------------- EPOCH 115 START --------------------\n",
      "Training start ...\n",
      "TRAIN:\n",
      "\tAVG_LOSS: 1.9133656462536583\n",
      "\tMAIN_LOSS: 1.2688099311876901\n",
      "\tKD_LOSS: 0.21485190640521956\n",
      "Evaluating start ...\n",
      "VAL:\n",
      "\tAVG_LOSS: 4.097302118937175\n",
      "\tMAIN_LOSS: 3.4335149625937142\n",
      "\tKD_LOSS: 0.22126239848633608\n"
     ]
    },
    {
     "name": "stderr",
     "output_type": "stream",
     "text": [
      "LSM-YOLO summary (fused): 391 layers, 2873048 parameters, 18824 gradients, 12.4 GFLOPs\n",
      "\u001b[34m\u001b[1mval: \u001b[0mScanning /kaggle/working/Br35H-Mask-Prepared/val/labels.cache... 151 images, 225 backgrounds, 0 corrupt: 100%|██████████| 376/376 [00:00<?, ?it/s]\n",
      "                 Class     Images  Instances      Box(P          R      mAP50  mAP50-95): 100%|██████████| 12/12 [00:08<00:00,  1.47it/s]\n",
      "                   all        376        181      0.924      0.785      0.857      0.607\n",
      "/usr/local/lib/python3.11/dist-packages/matplotlib/colors.py:721: RuntimeWarning: invalid value encountered in less\n",
      "  xa[xa < 0] = -1\n",
      "/usr/local/lib/python3.11/dist-packages/matplotlib/colors.py:721: RuntimeWarning: invalid value encountered in less\n",
      "  xa[xa < 0] = -1\n",
      "Speed: 1.8ms preprocess, 16.7ms inference, 0.0ms loss, 0.3ms postprocess per image\n",
      "Results saved to \u001b[1mruns/epoch115\u001b[0m\n"
     ]
    },
    {
     "name": "stdout",
     "output_type": "stream",
     "text": [
      "-------------------- EPOCH 115 END --------------------\n",
      "-------------------- EPOCH 116 START --------------------\n",
      "Training start ...\n",
      "TRAIN:\n",
      "\tAVG_LOSS: 1.9207345813135557\n",
      "\tMAIN_LOSS: 1.280826609345931\n",
      "\tKD_LOSS: 0.21330265851714944\n",
      "Evaluating start ...\n",
      "VAL:\n",
      "\tAVG_LOSS: 4.269140472014745\n",
      "\tMAIN_LOSS: 3.602605710426966\n",
      "\tKD_LOSS: 0.2221782598644495\n"
     ]
    },
    {
     "name": "stderr",
     "output_type": "stream",
     "text": [
      "LSM-YOLO summary (fused): 391 layers, 2873048 parameters, 18824 gradients, 12.4 GFLOPs\n",
      "\u001b[34m\u001b[1mval: \u001b[0mScanning /kaggle/working/Br35H-Mask-Prepared/val/labels.cache... 151 images, 225 backgrounds, 0 corrupt: 100%|██████████| 376/376 [00:00<?, ?it/s]\n",
      "                 Class     Images  Instances      Box(P          R      mAP50  mAP50-95): 100%|██████████| 12/12 [00:08<00:00,  1.44it/s]\n",
      "                   all        376        181      0.951      0.755      0.856      0.603\n",
      "/usr/local/lib/python3.11/dist-packages/matplotlib/colors.py:721: RuntimeWarning: invalid value encountered in less\n",
      "  xa[xa < 0] = -1\n",
      "/usr/local/lib/python3.11/dist-packages/matplotlib/colors.py:721: RuntimeWarning: invalid value encountered in less\n",
      "  xa[xa < 0] = -1\n",
      "Speed: 1.9ms preprocess, 16.7ms inference, 0.0ms loss, 0.3ms postprocess per image\n",
      "Results saved to \u001b[1mruns/epoch116\u001b[0m\n"
     ]
    },
    {
     "name": "stdout",
     "output_type": "stream",
     "text": [
      "-------------------- EPOCH 116 END --------------------\n",
      "-------------------- EPOCH 117 START --------------------\n",
      "Training start ...\n",
      "TRAIN:\n",
      "\tAVG_LOSS: 1.9322815016855168\n",
      "\tMAIN_LOSS: 1.2937945791437655\n",
      "\tKD_LOSS: 0.21282897531231748\n",
      "Evaluating start ...\n",
      "VAL:\n",
      "\tAVG_LOSS: 4.199056555827458\n",
      "\tMAIN_LOSS: 3.525560140609741\n",
      "\tKD_LOSS: 0.22449879782895246\n"
     ]
    },
    {
     "name": "stderr",
     "output_type": "stream",
     "text": [
      "LSM-YOLO summary (fused): 391 layers, 2873048 parameters, 18824 gradients, 12.4 GFLOPs\n",
      "\u001b[34m\u001b[1mval: \u001b[0mScanning /kaggle/working/Br35H-Mask-Prepared/val/labels.cache... 151 images, 225 backgrounds, 0 corrupt: 100%|██████████| 376/376 [00:00<?, ?it/s]\n",
      "                 Class     Images  Instances      Box(P          R      mAP50  mAP50-95): 100%|██████████| 12/12 [00:08<00:00,  1.45it/s]\n",
      "                   all        376        181      0.975      0.757      0.856      0.608\n",
      "/usr/local/lib/python3.11/dist-packages/matplotlib/colors.py:721: RuntimeWarning: invalid value encountered in less\n",
      "  xa[xa < 0] = -1\n",
      "/usr/local/lib/python3.11/dist-packages/matplotlib/colors.py:721: RuntimeWarning: invalid value encountered in less\n",
      "  xa[xa < 0] = -1\n",
      "Speed: 1.8ms preprocess, 16.7ms inference, 0.0ms loss, 0.4ms postprocess per image\n",
      "Results saved to \u001b[1mruns/epoch117\u001b[0m\n"
     ]
    },
    {
     "name": "stdout",
     "output_type": "stream",
     "text": [
      "-------------------- EPOCH 117 END --------------------\n",
      "-------------------- EPOCH 118 START --------------------\n",
      "Training start ...\n",
      "TRAIN:\n",
      "\tAVG_LOSS: 1.902965818779378\n",
      "\tMAIN_LOSS: 1.2683444189119943\n",
      "\tKD_LOSS: 0.2115404675655727\n",
      "Evaluating start ...\n",
      "VAL:\n",
      "\tAVG_LOSS: 4.149932493766149\n",
      "\tMAIN_LOSS: 3.4914332131544747\n",
      "\tKD_LOSS: 0.2194997655848662\n"
     ]
    },
    {
     "name": "stderr",
     "output_type": "stream",
     "text": [
      "LSM-YOLO summary (fused): 391 layers, 2873048 parameters, 18824 gradients, 12.4 GFLOPs\n",
      "\u001b[34m\u001b[1mval: \u001b[0mScanning /kaggle/working/Br35H-Mask-Prepared/val/labels.cache... 151 images, 225 backgrounds, 0 corrupt: 100%|██████████| 376/376 [00:00<?, ?it/s]\n",
      "                 Class     Images  Instances      Box(P          R      mAP50  mAP50-95): 100%|██████████| 12/12 [00:08<00:00,  1.45it/s]\n",
      "                   all        376        181      0.959      0.782      0.869      0.617\n",
      "/usr/local/lib/python3.11/dist-packages/matplotlib/colors.py:721: RuntimeWarning: invalid value encountered in less\n",
      "  xa[xa < 0] = -1\n",
      "/usr/local/lib/python3.11/dist-packages/matplotlib/colors.py:721: RuntimeWarning: invalid value encountered in less\n",
      "  xa[xa < 0] = -1\n",
      "Speed: 1.8ms preprocess, 16.7ms inference, 0.0ms loss, 0.3ms postprocess per image\n",
      "Results saved to \u001b[1mruns/epoch118\u001b[0m\n"
     ]
    },
    {
     "name": "stdout",
     "output_type": "stream",
     "text": [
      "-------------------- EPOCH 118 END --------------------\n",
      "-------------------- EPOCH 119 START --------------------\n",
      "Training start ...\n",
      "TRAIN:\n",
      "\tAVG_LOSS: 1.887412277958061\n",
      "\tMAIN_LOSS: 1.2557913246034067\n",
      "\tKD_LOSS: 0.21054031935673725\n",
      "Evaluating start ...\n",
      "VAL:\n",
      "\tAVG_LOSS: 4.06394828359286\n",
      "\tMAIN_LOSS: 3.4077523350715637\n",
      "\tKD_LOSS: 0.2187319758037726\n"
     ]
    },
    {
     "name": "stderr",
     "output_type": "stream",
     "text": [
      "LSM-YOLO summary (fused): 391 layers, 2873048 parameters, 18824 gradients, 12.4 GFLOPs\n",
      "\u001b[34m\u001b[1mval: \u001b[0mScanning /kaggle/working/Br35H-Mask-Prepared/val/labels.cache... 151 images, 225 backgrounds, 0 corrupt: 100%|██████████| 376/376 [00:00<?, ?it/s]\n",
      "                 Class     Images  Instances      Box(P          R      mAP50  mAP50-95): 100%|██████████| 12/12 [00:08<00:00,  1.45it/s]\n",
      "                   all        376        181      0.928      0.762      0.849      0.611\n",
      "/usr/local/lib/python3.11/dist-packages/matplotlib/colors.py:721: RuntimeWarning: invalid value encountered in less\n",
      "  xa[xa < 0] = -1\n",
      "/usr/local/lib/python3.11/dist-packages/matplotlib/colors.py:721: RuntimeWarning: invalid value encountered in less\n",
      "  xa[xa < 0] = -1\n",
      "Speed: 1.8ms preprocess, 16.8ms inference, 0.0ms loss, 0.3ms postprocess per image\n",
      "Results saved to \u001b[1mruns/epoch119\u001b[0m\n"
     ]
    },
    {
     "name": "stdout",
     "output_type": "stream",
     "text": [
      "-------------------- EPOCH 119 END --------------------\n",
      "-------------------- EPOCH 120 START --------------------\n",
      "Training start ...\n",
      "TRAIN:\n",
      "\tAVG_LOSS: 1.9399625636354279\n",
      "\tMAIN_LOSS: 1.2957463226740873\n",
      "\tKD_LOSS: 0.21473874415777908\n",
      "Evaluating start ...\n",
      "VAL:\n",
      "\tAVG_LOSS: 4.11267818013827\n",
      "\tMAIN_LOSS: 3.4482011000315347\n",
      "\tKD_LOSS: 0.2214923519641161\n"
     ]
    },
    {
     "name": "stderr",
     "output_type": "stream",
     "text": [
      "LSM-YOLO summary (fused): 391 layers, 2873048 parameters, 18824 gradients, 12.4 GFLOPs\n",
      "\u001b[34m\u001b[1mval: \u001b[0mScanning /kaggle/working/Br35H-Mask-Prepared/val/labels.cache... 151 images, 225 backgrounds, 0 corrupt: 100%|██████████| 376/376 [00:00<?, ?it/s]\n",
      "                 Class     Images  Instances      Box(P          R      mAP50  mAP50-95): 100%|██████████| 12/12 [00:08<00:00,  1.47it/s]\n",
      "                   all        376        181      0.933      0.768      0.849       0.59\n",
      "/usr/local/lib/python3.11/dist-packages/matplotlib/colors.py:721: RuntimeWarning: invalid value encountered in less\n",
      "  xa[xa < 0] = -1\n",
      "/usr/local/lib/python3.11/dist-packages/matplotlib/colors.py:721: RuntimeWarning: invalid value encountered in less\n",
      "  xa[xa < 0] = -1\n",
      "Speed: 1.8ms preprocess, 16.7ms inference, 0.0ms loss, 0.3ms postprocess per image\n",
      "Results saved to \u001b[1mruns/epoch120\u001b[0m\n"
     ]
    },
    {
     "name": "stdout",
     "output_type": "stream",
     "text": [
      "-------------------- EPOCH 120 END --------------------\n",
      "-------------------- EPOCH 121 START --------------------\n",
      "Training start ...\n",
      "TRAIN:\n",
      "\tAVG_LOSS: 1.9017770893966095\n",
      "\tMAIN_LOSS: 1.2711663729027858\n",
      "\tKD_LOSS: 0.21020357235323026\n",
      "Evaluating start ...\n",
      "VAL:\n",
      "\tAVG_LOSS: 4.22830605506897\n",
      "\tMAIN_LOSS: 3.5745268960793815\n",
      "\tKD_LOSS: 0.2179263966778914\n"
     ]
    },
    {
     "name": "stderr",
     "output_type": "stream",
     "text": [
      "LSM-YOLO summary (fused): 391 layers, 2873048 parameters, 18824 gradients, 12.4 GFLOPs\n",
      "\u001b[34m\u001b[1mval: \u001b[0mScanning /kaggle/working/Br35H-Mask-Prepared/val/labels.cache... 151 images, 225 backgrounds, 0 corrupt: 100%|██████████| 376/376 [00:00<?, ?it/s]\n",
      "                 Class     Images  Instances      Box(P          R      mAP50  mAP50-95): 100%|██████████| 12/12 [00:08<00:00,  1.44it/s]\n",
      "                   all        376        181      0.959      0.782      0.867      0.617\n",
      "/usr/local/lib/python3.11/dist-packages/matplotlib/colors.py:721: RuntimeWarning: invalid value encountered in less\n",
      "  xa[xa < 0] = -1\n",
      "/usr/local/lib/python3.11/dist-packages/matplotlib/colors.py:721: RuntimeWarning: invalid value encountered in less\n",
      "  xa[xa < 0] = -1\n",
      "Speed: 2.0ms preprocess, 16.7ms inference, 0.0ms loss, 0.3ms postprocess per image\n",
      "Results saved to \u001b[1mruns/epoch121\u001b[0m\n"
     ]
    },
    {
     "name": "stdout",
     "output_type": "stream",
     "text": [
      "-------------------- EPOCH 121 END --------------------\n",
      "-------------------- EPOCH 122 START --------------------\n",
      "Training start ...\n",
      "TRAIN:\n",
      "\tAVG_LOSS: 1.8617643359341198\n",
      "\tMAIN_LOSS: 1.2340668726570998\n",
      "\tKD_LOSS: 0.20923248669014702\n",
      "Evaluating start ...\n",
      "VAL:\n",
      "\tAVG_LOSS: 4.268617590268453\n",
      "\tMAIN_LOSS: 3.6067312558492026\n",
      "\tKD_LOSS: 0.22062878186504045\n"
     ]
    },
    {
     "name": "stderr",
     "output_type": "stream",
     "text": [
      "LSM-YOLO summary (fused): 391 layers, 2873048 parameters, 18824 gradients, 12.4 GFLOPs\n",
      "\u001b[34m\u001b[1mval: \u001b[0mScanning /kaggle/working/Br35H-Mask-Prepared/val/labels.cache... 151 images, 225 backgrounds, 0 corrupt: 100%|██████████| 376/376 [00:00<?, ?it/s]\n",
      "                 Class     Images  Instances      Box(P          R      mAP50  mAP50-95): 100%|██████████| 12/12 [00:08<00:00,  1.45it/s]\n",
      "                   all        376        181      0.947      0.773      0.863       0.62\n",
      "/usr/local/lib/python3.11/dist-packages/matplotlib/colors.py:721: RuntimeWarning: invalid value encountered in less\n",
      "  xa[xa < 0] = -1\n",
      "/usr/local/lib/python3.11/dist-packages/matplotlib/colors.py:721: RuntimeWarning: invalid value encountered in less\n",
      "  xa[xa < 0] = -1\n",
      "Speed: 1.9ms preprocess, 16.7ms inference, 0.0ms loss, 0.4ms postprocess per image\n",
      "Results saved to \u001b[1mruns/epoch122\u001b[0m\n"
     ]
    },
    {
     "name": "stdout",
     "output_type": "stream",
     "text": [
      "Epoch 122: New best mAP: 0.6203, model saved.\n",
      "-------------------- EPOCH 122 END --------------------\n",
      "-------------------- EPOCH 123 START --------------------\n",
      "Training start ...\n",
      "TRAIN:\n",
      "\tAVG_LOSS: 1.894247738620903\n",
      "\tMAIN_LOSS: 1.2693481913095788\n",
      "\tKD_LOSS: 0.20829985054987896\n",
      "Evaluating start ...\n",
      "VAL:\n",
      "\tAVG_LOSS: 4.189510216315587\n",
      "\tMAIN_LOSS: 3.535335789124171\n",
      "\tKD_LOSS: 0.2180581372231245\n"
     ]
    },
    {
     "name": "stderr",
     "output_type": "stream",
     "text": [
      "LSM-YOLO summary (fused): 391 layers, 2873048 parameters, 18824 gradients, 12.4 GFLOPs\n",
      "\u001b[34m\u001b[1mval: \u001b[0mScanning /kaggle/working/Br35H-Mask-Prepared/val/labels.cache... 151 images, 225 backgrounds, 0 corrupt: 100%|██████████| 376/376 [00:00<?, ?it/s]\n",
      "                 Class     Images  Instances      Box(P          R      mAP50  mAP50-95): 100%|██████████| 12/12 [00:08<00:00,  1.47it/s]\n",
      "                   all        376        181      0.935      0.794      0.867      0.614\n",
      "/usr/local/lib/python3.11/dist-packages/matplotlib/colors.py:721: RuntimeWarning: invalid value encountered in less\n",
      "  xa[xa < 0] = -1\n",
      "/usr/local/lib/python3.11/dist-packages/matplotlib/colors.py:721: RuntimeWarning: invalid value encountered in less\n",
      "  xa[xa < 0] = -1\n",
      "Speed: 1.7ms preprocess, 16.7ms inference, 0.0ms loss, 0.3ms postprocess per image\n",
      "Results saved to \u001b[1mruns/epoch123\u001b[0m\n"
     ]
    },
    {
     "name": "stdout",
     "output_type": "stream",
     "text": [
      "-------------------- EPOCH 123 END --------------------\n",
      "-------------------- EPOCH 124 START --------------------\n",
      "Training start ...\n",
      "TRAIN:\n",
      "\tAVG_LOSS: 1.899335195746603\n",
      "\tMAIN_LOSS: 1.2741662641114826\n",
      "\tKD_LOSS: 0.2083896443813662\n",
      "Evaluating start ...\n",
      "VAL:\n",
      "\tAVG_LOSS: 4.061302840709686\n",
      "\tMAIN_LOSS: 3.405370165904363\n",
      "\tKD_LOSS: 0.21864421293139458\n"
     ]
    },
    {
     "name": "stderr",
     "output_type": "stream",
     "text": [
      "LSM-YOLO summary (fused): 391 layers, 2873048 parameters, 18824 gradients, 12.4 GFLOPs\n",
      "\u001b[34m\u001b[1mval: \u001b[0mScanning /kaggle/working/Br35H-Mask-Prepared/val/labels.cache... 151 images, 225 backgrounds, 0 corrupt: 100%|██████████| 376/376 [00:00<?, ?it/s]\n",
      "                 Class     Images  Instances      Box(P          R      mAP50  mAP50-95): 100%|██████████| 12/12 [00:08<00:00,  1.47it/s]\n",
      "                   all        376        181       0.96      0.779      0.866      0.618\n",
      "/usr/local/lib/python3.11/dist-packages/matplotlib/colors.py:721: RuntimeWarning: invalid value encountered in less\n",
      "  xa[xa < 0] = -1\n",
      "/usr/local/lib/python3.11/dist-packages/matplotlib/colors.py:721: RuntimeWarning: invalid value encountered in less\n",
      "  xa[xa < 0] = -1\n",
      "Speed: 1.8ms preprocess, 16.7ms inference, 0.0ms loss, 0.3ms postprocess per image\n",
      "Results saved to \u001b[1mruns/epoch124\u001b[0m\n"
     ]
    },
    {
     "name": "stdout",
     "output_type": "stream",
     "text": [
      "-------------------- EPOCH 124 END --------------------\n",
      "-------------------- EPOCH 125 START --------------------\n",
      "Training start ...\n",
      "TRAIN:\n",
      "\tAVG_LOSS: 1.9360237000863763\n",
      "\tMAIN_LOSS: 1.3080781245533424\n",
      "\tKD_LOSS: 0.20931519077548497\n",
      "Evaluating start ...\n",
      "VAL:\n",
      "\tAVG_LOSS: 4.399623016516368\n",
      "\tMAIN_LOSS: 3.7374963760375977\n",
      "\tKD_LOSS: 0.22070887995262942\n"
     ]
    },
    {
     "name": "stderr",
     "output_type": "stream",
     "text": [
      "LSM-YOLO summary (fused): 391 layers, 2873048 parameters, 18824 gradients, 12.4 GFLOPs\n",
      "\u001b[34m\u001b[1mval: \u001b[0mScanning /kaggle/working/Br35H-Mask-Prepared/val/labels.cache... 151 images, 225 backgrounds, 0 corrupt: 100%|██████████| 376/376 [00:00<?, ?it/s]\n",
      "                 Class     Images  Instances      Box(P          R      mAP50  mAP50-95): 100%|██████████| 12/12 [00:08<00:00,  1.46it/s]\n",
      "                   all        376        181      0.876      0.751      0.849      0.612\n",
      "/usr/local/lib/python3.11/dist-packages/matplotlib/colors.py:721: RuntimeWarning: invalid value encountered in less\n",
      "  xa[xa < 0] = -1\n",
      "/usr/local/lib/python3.11/dist-packages/matplotlib/colors.py:721: RuntimeWarning: invalid value encountered in less\n",
      "  xa[xa < 0] = -1\n",
      "Speed: 1.8ms preprocess, 16.7ms inference, 0.0ms loss, 0.3ms postprocess per image\n",
      "Results saved to \u001b[1mruns/epoch125\u001b[0m\n"
     ]
    },
    {
     "name": "stdout",
     "output_type": "stream",
     "text": [
      "-------------------- EPOCH 125 END --------------------\n",
      "-------------------- EPOCH 126 START --------------------\n",
      "Training start ...\n",
      "TRAIN:\n",
      "\tAVG_LOSS: 1.8691849784006047\n",
      "\tMAIN_LOSS: 1.2487512087520165\n",
      "\tKD_LOSS: 0.20681125736689265\n",
      "Evaluating start ...\n",
      "VAL:\n",
      "\tAVG_LOSS: 4.135743310054143\n",
      "\tMAIN_LOSS: 3.489815870920817\n",
      "\tKD_LOSS: 0.2153091368575891\n"
     ]
    },
    {
     "name": "stderr",
     "output_type": "stream",
     "text": [
      "LSM-YOLO summary (fused): 391 layers, 2873048 parameters, 18824 gradients, 12.4 GFLOPs\n",
      "\u001b[34m\u001b[1mval: \u001b[0mScanning /kaggle/working/Br35H-Mask-Prepared/val/labels.cache... 151 images, 225 backgrounds, 0 corrupt: 100%|██████████| 376/376 [00:00<?, ?it/s]\n",
      "                 Class     Images  Instances      Box(P          R      mAP50  mAP50-95): 100%|██████████| 12/12 [00:08<00:00,  1.45it/s]\n",
      "                   all        376        181      0.952       0.77      0.858      0.609\n",
      "/usr/local/lib/python3.11/dist-packages/matplotlib/colors.py:721: RuntimeWarning: invalid value encountered in less\n",
      "  xa[xa < 0] = -1\n",
      "/usr/local/lib/python3.11/dist-packages/matplotlib/colors.py:721: RuntimeWarning: invalid value encountered in less\n",
      "  xa[xa < 0] = -1\n",
      "Speed: 1.9ms preprocess, 16.7ms inference, 0.0ms loss, 0.3ms postprocess per image\n",
      "Results saved to \u001b[1mruns/epoch126\u001b[0m\n"
     ]
    },
    {
     "name": "stdout",
     "output_type": "stream",
     "text": [
      "-------------------- EPOCH 126 END --------------------\n",
      "-------------------- EPOCH 127 START --------------------\n",
      "Training start ...\n",
      "TRAIN:\n",
      "\tAVG_LOSS: 1.8499124419840076\n",
      "\tMAIN_LOSS: 1.233029708077636\n",
      "\tKD_LOSS: 0.2056275768370568\n",
      "Evaluating start ...\n",
      "VAL:\n",
      "\tAVG_LOSS: 4.243170231580734\n",
      "\tMAIN_LOSS: 3.6015020608901978\n",
      "\tKD_LOSS: 0.21388938340047994\n"
     ]
    },
    {
     "name": "stderr",
     "output_type": "stream",
     "text": [
      "LSM-YOLO summary (fused): 391 layers, 2873048 parameters, 18824 gradients, 12.4 GFLOPs\n",
      "\u001b[34m\u001b[1mval: \u001b[0mScanning /kaggle/working/Br35H-Mask-Prepared/val/labels.cache... 151 images, 225 backgrounds, 0 corrupt: 100%|██████████| 376/376 [00:00<?, ?it/s]\n",
      "                 Class     Images  Instances      Box(P          R      mAP50  mAP50-95): 100%|██████████| 12/12 [00:08<00:00,  1.45it/s]\n",
      "                   all        376        181      0.925      0.773       0.86      0.617\n",
      "/usr/local/lib/python3.11/dist-packages/matplotlib/colors.py:721: RuntimeWarning: invalid value encountered in less\n",
      "  xa[xa < 0] = -1\n",
      "/usr/local/lib/python3.11/dist-packages/matplotlib/colors.py:721: RuntimeWarning: invalid value encountered in less\n",
      "  xa[xa < 0] = -1\n",
      "Speed: 1.8ms preprocess, 16.7ms inference, 0.0ms loss, 0.3ms postprocess per image\n",
      "Results saved to \u001b[1mruns/epoch127\u001b[0m\n"
     ]
    },
    {
     "name": "stdout",
     "output_type": "stream",
     "text": [
      "-------------------- EPOCH 127 END --------------------\n",
      "-------------------- EPOCH 128 START --------------------\n",
      "Training start ...\n",
      "TRAIN:\n",
      "\tAVG_LOSS: 1.9320862112166006\n",
      "\tMAIN_LOSS: 1.302780330935611\n",
      "\tKD_LOSS: 0.20976862801781185\n",
      "Evaluating start ...\n",
      "VAL:\n",
      "\tAVG_LOSS: 4.071435580650966\n",
      "\tMAIN_LOSS: 3.428184986114502\n",
      "\tKD_LOSS: 0.2144168590505918\n"
     ]
    },
    {
     "name": "stderr",
     "output_type": "stream",
     "text": [
      "LSM-YOLO summary (fused): 391 layers, 2873048 parameters, 18824 gradients, 12.4 GFLOPs\n",
      "\u001b[34m\u001b[1mval: \u001b[0mScanning /kaggle/working/Br35H-Mask-Prepared/val/labels.cache... 151 images, 225 backgrounds, 0 corrupt: 100%|██████████| 376/376 [00:00<?, ?it/s]\n",
      "                 Class     Images  Instances      Box(P          R      mAP50  mAP50-95): 100%|██████████| 12/12 [00:08<00:00,  1.43it/s]\n",
      "                   all        376        181      0.919      0.768      0.843      0.593\n",
      "/usr/local/lib/python3.11/dist-packages/matplotlib/colors.py:721: RuntimeWarning: invalid value encountered in less\n",
      "  xa[xa < 0] = -1\n",
      "/usr/local/lib/python3.11/dist-packages/matplotlib/colors.py:721: RuntimeWarning: invalid value encountered in less\n",
      "  xa[xa < 0] = -1\n",
      "Speed: 1.9ms preprocess, 16.7ms inference, 0.0ms loss, 0.4ms postprocess per image\n",
      "Results saved to \u001b[1mruns/epoch128\u001b[0m\n"
     ]
    },
    {
     "name": "stdout",
     "output_type": "stream",
     "text": [
      "-------------------- EPOCH 128 END --------------------\n",
      "-------------------- EPOCH 129 START --------------------\n",
      "Training start ...\n",
      "TRAIN:\n",
      "\tAVG_LOSS: 1.86211881305598\n",
      "\tMAIN_LOSS: 1.2483689453028426\n",
      "\tKD_LOSS: 0.20458328837080847\n",
      "Evaluating start ...\n",
      "VAL:\n",
      "\tAVG_LOSS: 4.127151757478714\n",
      "\tMAIN_LOSS: 3.4814225236574807\n",
      "\tKD_LOSS: 0.21524308125178018\n"
     ]
    },
    {
     "name": "stderr",
     "output_type": "stream",
     "text": [
      "LSM-YOLO summary (fused): 391 layers, 2873048 parameters, 18824 gradients, 12.4 GFLOPs\n",
      "\u001b[34m\u001b[1mval: \u001b[0mScanning /kaggle/working/Br35H-Mask-Prepared/val/labels.cache... 151 images, 225 backgrounds, 0 corrupt: 100%|██████████| 376/376 [00:00<?, ?it/s]\n",
      "                 Class     Images  Instances      Box(P          R      mAP50  mAP50-95): 100%|██████████| 12/12 [00:08<00:00,  1.46it/s]\n",
      "                   all        376        181      0.969      0.773      0.861      0.618\n",
      "/usr/local/lib/python3.11/dist-packages/matplotlib/colors.py:721: RuntimeWarning: invalid value encountered in less\n",
      "  xa[xa < 0] = -1\n",
      "/usr/local/lib/python3.11/dist-packages/matplotlib/colors.py:721: RuntimeWarning: invalid value encountered in less\n",
      "  xa[xa < 0] = -1\n",
      "Speed: 1.7ms preprocess, 16.7ms inference, 0.0ms loss, 0.3ms postprocess per image\n",
      "Results saved to \u001b[1mruns/epoch129\u001b[0m\n"
     ]
    },
    {
     "name": "stdout",
     "output_type": "stream",
     "text": [
      "-------------------- EPOCH 129 END --------------------\n",
      "-------------------- EPOCH 130 START --------------------\n",
      "Training start ...\n",
      "TRAIN:\n",
      "\tAVG_LOSS: 1.8874966871889332\n",
      "\tMAIN_LOSS: 1.2717176042025602\n",
      "\tKD_LOSS: 0.2052596905563451\n",
      "Evaluating start ...\n",
      "VAL:\n",
      "\tAVG_LOSS: 4.280877113342285\n",
      "\tMAIN_LOSS: 3.6251516342163086\n",
      "\tKD_LOSS: 0.21857516281306744\n"
     ]
    },
    {
     "name": "stderr",
     "output_type": "stream",
     "text": [
      "LSM-YOLO summary (fused): 391 layers, 2873048 parameters, 18824 gradients, 12.4 GFLOPs\n",
      "\u001b[34m\u001b[1mval: \u001b[0mScanning /kaggle/working/Br35H-Mask-Prepared/val/labels.cache... 151 images, 225 backgrounds, 0 corrupt: 100%|██████████| 376/376 [00:00<?, ?it/s]\n",
      "                 Class     Images  Instances      Box(P          R      mAP50  mAP50-95): 100%|██████████| 12/12 [00:08<00:00,  1.41it/s]\n",
      "                   all        376        181      0.872      0.718      0.744      0.516\n",
      "/usr/local/lib/python3.11/dist-packages/matplotlib/colors.py:721: RuntimeWarning: invalid value encountered in less\n",
      "  xa[xa < 0] = -1\n",
      "/usr/local/lib/python3.11/dist-packages/matplotlib/colors.py:721: RuntimeWarning: invalid value encountered in less\n",
      "  xa[xa < 0] = -1\n",
      "Speed: 1.8ms preprocess, 16.8ms inference, 0.0ms loss, 0.6ms postprocess per image\n",
      "Results saved to \u001b[1mruns/epoch130\u001b[0m\n"
     ]
    },
    {
     "name": "stdout",
     "output_type": "stream",
     "text": [
      "-------------------- EPOCH 130 END --------------------\n",
      "-------------------- EPOCH 131 START --------------------\n",
      "Training start ...\n",
      "TRAIN:\n",
      "\tAVG_LOSS: 1.8855065288422983\n",
      "\tMAIN_LOSS: 1.269545766371715\n",
      "\tKD_LOSS: 0.20532025151614902\n",
      "Evaluating start ...\n",
      "VAL:\n",
      "\tAVG_LOSS: 4.166531801223755\n",
      "\tMAIN_LOSS: 3.5243727564811707\n",
      "\tKD_LOSS: 0.214053005600969\n"
     ]
    },
    {
     "name": "stderr",
     "output_type": "stream",
     "text": [
      "LSM-YOLO summary (fused): 391 layers, 2873048 parameters, 18824 gradients, 12.4 GFLOPs\n",
      "\u001b[34m\u001b[1mval: \u001b[0mScanning /kaggle/working/Br35H-Mask-Prepared/val/labels.cache... 151 images, 225 backgrounds, 0 corrupt: 100%|██████████| 376/376 [00:00<?, ?it/s]\n",
      "                 Class     Images  Instances      Box(P          R      mAP50  mAP50-95): 100%|██████████| 12/12 [00:08<00:00,  1.42it/s]\n",
      "                   all        376        181      0.979      0.773      0.869      0.609\n",
      "/usr/local/lib/python3.11/dist-packages/matplotlib/colors.py:721: RuntimeWarning: invalid value encountered in less\n",
      "  xa[xa < 0] = -1\n",
      "/usr/local/lib/python3.11/dist-packages/matplotlib/colors.py:721: RuntimeWarning: invalid value encountered in less\n",
      "  xa[xa < 0] = -1\n",
      "Speed: 2.0ms preprocess, 16.7ms inference, 0.0ms loss, 0.4ms postprocess per image\n",
      "Results saved to \u001b[1mruns/epoch131\u001b[0m\n"
     ]
    },
    {
     "name": "stdout",
     "output_type": "stream",
     "text": [
      "-------------------- EPOCH 131 END --------------------\n",
      "-------------------- EPOCH 132 START --------------------\n",
      "Training start ...\n",
      "TRAIN:\n",
      "\tAVG_LOSS: 1.9205300536336778\n",
      "\tMAIN_LOSS: 1.2959672710563563\n",
      "\tKD_LOSS: 0.20818759312358084\n",
      "Evaluating start ...\n",
      "VAL:\n",
      "\tAVG_LOSS: 4.491570025682449\n",
      "\tMAIN_LOSS: 3.8380641043186188\n",
      "\tKD_LOSS: 0.21783530339598656\n"
     ]
    },
    {
     "name": "stderr",
     "output_type": "stream",
     "text": [
      "LSM-YOLO summary (fused): 391 layers, 2873048 parameters, 18824 gradients, 12.4 GFLOPs\n",
      "\u001b[34m\u001b[1mval: \u001b[0mScanning /kaggle/working/Br35H-Mask-Prepared/val/labels.cache... 151 images, 225 backgrounds, 0 corrupt: 100%|██████████| 376/376 [00:00<?, ?it/s]\n",
      "                 Class     Images  Instances      Box(P          R      mAP50  mAP50-95): 100%|██████████| 12/12 [00:08<00:00,  1.43it/s]\n",
      "                   all        376        181       0.94      0.774      0.847      0.576\n",
      "/usr/local/lib/python3.11/dist-packages/matplotlib/colors.py:721: RuntimeWarning: invalid value encountered in less\n",
      "  xa[xa < 0] = -1\n",
      "/usr/local/lib/python3.11/dist-packages/matplotlib/colors.py:721: RuntimeWarning: invalid value encountered in less\n",
      "  xa[xa < 0] = -1\n",
      "Speed: 1.8ms preprocess, 16.7ms inference, 0.0ms loss, 0.5ms postprocess per image\n",
      "Results saved to \u001b[1mruns/epoch132\u001b[0m\n"
     ]
    },
    {
     "name": "stdout",
     "output_type": "stream",
     "text": [
      "-------------------- EPOCH 132 END --------------------\n",
      "-------------------- EPOCH 133 START --------------------\n",
      "Training start ...\n",
      "TRAIN:\n",
      "\tAVG_LOSS: 1.864907448050342\n",
      "\tMAIN_LOSS: 1.2489132986793035\n",
      "\tKD_LOSS: 0.2053313830608054\n",
      "Evaluating start ...\n",
      "VAL:\n",
      "\tAVG_LOSS: 3.951044410467148\n",
      "\tMAIN_LOSS: 3.3194519678751626\n",
      "\tKD_LOSS: 0.21053081626693407\n"
     ]
    },
    {
     "name": "stderr",
     "output_type": "stream",
     "text": [
      "LSM-YOLO summary (fused): 391 layers, 2873048 parameters, 18824 gradients, 12.4 GFLOPs\n",
      "\u001b[34m\u001b[1mval: \u001b[0mScanning /kaggle/working/Br35H-Mask-Prepared/val/labels.cache... 151 images, 225 backgrounds, 0 corrupt: 100%|██████████| 376/376 [00:00<?, ?it/s]\n",
      "                 Class     Images  Instances      Box(P          R      mAP50  mAP50-95): 100%|██████████| 12/12 [00:08<00:00,  1.46it/s]\n",
      "                   all        376        181       0.88      0.768      0.844      0.612\n",
      "/usr/local/lib/python3.11/dist-packages/matplotlib/colors.py:721: RuntimeWarning: invalid value encountered in less\n",
      "  xa[xa < 0] = -1\n",
      "/usr/local/lib/python3.11/dist-packages/matplotlib/colors.py:721: RuntimeWarning: invalid value encountered in less\n",
      "  xa[xa < 0] = -1\n",
      "Speed: 1.7ms preprocess, 16.7ms inference, 0.0ms loss, 0.3ms postprocess per image\n",
      "Results saved to \u001b[1mruns/epoch133\u001b[0m\n"
     ]
    },
    {
     "name": "stdout",
     "output_type": "stream",
     "text": [
      "-------------------- EPOCH 133 END --------------------\n",
      "-------------------- EPOCH 134 START --------------------\n",
      "Training start ...\n",
      "TRAIN:\n",
      "\tAVG_LOSS: 1.832599552371834\n",
      "\tMAIN_LOSS: 1.2283331035058709\n",
      "\tKD_LOSS: 0.201422147924387\n",
      "Evaluating start ...\n",
      "VAL:\n",
      "\tAVG_LOSS: 3.9479437867800393\n",
      "\tMAIN_LOSS: 3.319946805636088\n",
      "\tKD_LOSS: 0.20933232208093008\n"
     ]
    },
    {
     "name": "stderr",
     "output_type": "stream",
     "text": [
      "LSM-YOLO summary (fused): 391 layers, 2873048 parameters, 18824 gradients, 12.4 GFLOPs\n",
      "\u001b[34m\u001b[1mval: \u001b[0mScanning /kaggle/working/Br35H-Mask-Prepared/val/labels.cache... 151 images, 225 backgrounds, 0 corrupt: 100%|██████████| 376/376 [00:00<?, ?it/s]\n",
      "                 Class     Images  Instances      Box(P          R      mAP50  mAP50-95): 100%|██████████| 12/12 [00:08<00:00,  1.45it/s]\n",
      "                   all        376        181      0.959      0.762      0.872       0.62\n",
      "/usr/local/lib/python3.11/dist-packages/matplotlib/colors.py:721: RuntimeWarning: invalid value encountered in less\n",
      "  xa[xa < 0] = -1\n",
      "/usr/local/lib/python3.11/dist-packages/matplotlib/colors.py:721: RuntimeWarning: invalid value encountered in less\n",
      "  xa[xa < 0] = -1\n",
      "Speed: 1.9ms preprocess, 16.7ms inference, 0.0ms loss, 0.3ms postprocess per image\n",
      "Results saved to \u001b[1mruns/epoch134\u001b[0m\n"
     ]
    },
    {
     "name": "stdout",
     "output_type": "stream",
     "text": [
      "-------------------- EPOCH 134 END --------------------\n",
      "-------------------- EPOCH 135 START --------------------\n",
      "Training start ...\n",
      "TRAIN:\n",
      "\tAVG_LOSS: 1.852000485492658\n",
      "\tMAIN_LOSS: 1.2490814924240112\n",
      "\tKD_LOSS: 0.20097299712368205\n",
      "Evaluating start ...\n",
      "VAL:\n",
      "\tAVG_LOSS: 4.016949911912282\n",
      "\tMAIN_LOSS: 3.381897429625193\n",
      "\tKD_LOSS: 0.21168415683011213\n"
     ]
    },
    {
     "name": "stderr",
     "output_type": "stream",
     "text": [
      "LSM-YOLO summary (fused): 391 layers, 2873048 parameters, 18824 gradients, 12.4 GFLOPs\n",
      "\u001b[34m\u001b[1mval: \u001b[0mScanning /kaggle/working/Br35H-Mask-Prepared/val/labels.cache... 151 images, 225 backgrounds, 0 corrupt: 100%|██████████| 376/376 [00:00<?, ?it/s]\n",
      "                 Class     Images  Instances      Box(P          R      mAP50  mAP50-95): 100%|██████████| 12/12 [00:08<00:00,  1.44it/s]\n",
      "                   all        376        181      0.945       0.76      0.868      0.607\n",
      "/usr/local/lib/python3.11/dist-packages/matplotlib/colors.py:721: RuntimeWarning: invalid value encountered in less\n",
      "  xa[xa < 0] = -1\n",
      "/usr/local/lib/python3.11/dist-packages/matplotlib/colors.py:721: RuntimeWarning: invalid value encountered in less\n",
      "  xa[xa < 0] = -1\n",
      "Speed: 2.0ms preprocess, 16.7ms inference, 0.0ms loss, 0.3ms postprocess per image\n",
      "Results saved to \u001b[1mruns/epoch135\u001b[0m\n"
     ]
    },
    {
     "name": "stdout",
     "output_type": "stream",
     "text": [
      "-------------------- EPOCH 135 END --------------------\n",
      "-------------------- EPOCH 136 START --------------------\n",
      "Training start ...\n",
      "TRAIN:\n",
      "\tAVG_LOSS: 1.8496384892282607\n",
      "\tMAIN_LOSS: 1.2473424084578888\n",
      "\tKD_LOSS: 0.20076535962804964\n",
      "Evaluating start ...\n",
      "VAL:\n",
      "\tAVG_LOSS: 4.176447083552678\n",
      "\tMAIN_LOSS: 3.537525157133738\n",
      "\tKD_LOSS: 0.21297397402425608\n"
     ]
    },
    {
     "name": "stderr",
     "output_type": "stream",
     "text": [
      "LSM-YOLO summary (fused): 391 layers, 2873048 parameters, 18824 gradients, 12.4 GFLOPs\n",
      "\u001b[34m\u001b[1mval: \u001b[0mScanning /kaggle/working/Br35H-Mask-Prepared/val/labels.cache... 151 images, 225 backgrounds, 0 corrupt: 100%|██████████| 376/376 [00:00<?, ?it/s]\n",
      "                 Class     Images  Instances      Box(P          R      mAP50  mAP50-95): 100%|██████████| 12/12 [00:08<00:00,  1.47it/s]\n",
      "                   all        376        181       0.95      0.785      0.871      0.609\n",
      "/usr/local/lib/python3.11/dist-packages/matplotlib/colors.py:721: RuntimeWarning: invalid value encountered in less\n",
      "  xa[xa < 0] = -1\n",
      "/usr/local/lib/python3.11/dist-packages/matplotlib/colors.py:721: RuntimeWarning: invalid value encountered in less\n",
      "  xa[xa < 0] = -1\n",
      "Speed: 1.7ms preprocess, 16.7ms inference, 0.0ms loss, 0.3ms postprocess per image\n",
      "Results saved to \u001b[1mruns/epoch136\u001b[0m\n"
     ]
    },
    {
     "name": "stdout",
     "output_type": "stream",
     "text": [
      "-------------------- EPOCH 136 END --------------------\n",
      "-------------------- EPOCH 137 START --------------------\n",
      "Training start ...\n",
      "TRAIN:\n",
      "\tAVG_LOSS: 1.888884321043763\n",
      "\tMAIN_LOSS: 1.2739978002596506\n",
      "\tKD_LOSS: 0.2049621747264379\n",
      "Evaluating start ...\n",
      "VAL:\n",
      "\tAVG_LOSS: 4.369419038295746\n",
      "\tMAIN_LOSS: 3.592990587155024\n",
      "\tKD_LOSS: 0.2588094733655453\n"
     ]
    },
    {
     "name": "stderr",
     "output_type": "stream",
     "text": [
      "LSM-YOLO summary (fused): 391 layers, 2873048 parameters, 18824 gradients, 12.4 GFLOPs\n",
      "\u001b[34m\u001b[1mval: \u001b[0mScanning /kaggle/working/Br35H-Mask-Prepared/val/labels.cache... 151 images, 225 backgrounds, 0 corrupt: 100%|██████████| 376/376 [00:00<?, ?it/s]\n",
      "                 Class     Images  Instances      Box(P          R      mAP50  mAP50-95): 100%|██████████| 12/12 [00:08<00:00,  1.46it/s]\n",
      "                   all        376        181      0.851      0.746      0.834      0.562\n",
      "/usr/local/lib/python3.11/dist-packages/matplotlib/colors.py:721: RuntimeWarning: invalid value encountered in less\n",
      "  xa[xa < 0] = -1\n",
      "/usr/local/lib/python3.11/dist-packages/matplotlib/colors.py:721: RuntimeWarning: invalid value encountered in less\n",
      "  xa[xa < 0] = -1\n",
      "Speed: 1.7ms preprocess, 16.7ms inference, 0.0ms loss, 0.4ms postprocess per image\n",
      "Results saved to \u001b[1mruns/epoch137\u001b[0m\n"
     ]
    },
    {
     "name": "stdout",
     "output_type": "stream",
     "text": [
      "-------------------- EPOCH 137 END --------------------\n",
      "-------------------- EPOCH 138 START --------------------\n",
      "Training start ...\n",
      "TRAIN:\n",
      "\tAVG_LOSS: 2.695860704289207\n",
      "\tMAIN_LOSS: 1.8824257548851302\n",
      "\tKD_LOSS: 0.2711449846436706\n",
      "Evaluating start ...\n",
      "VAL:\n",
      "\tAVG_LOSS: 4.364572674036026\n",
      "\tMAIN_LOSS: 3.5817291140556335\n",
      "\tKD_LOSS: 0.26094787071148556\n"
     ]
    },
    {
     "name": "stderr",
     "output_type": "stream",
     "text": [
      "LSM-YOLO summary (fused): 391 layers, 2873048 parameters, 18824 gradients, 12.4 GFLOPs\n",
      "\u001b[34m\u001b[1mval: \u001b[0mScanning /kaggle/working/Br35H-Mask-Prepared/val/labels.cache... 151 images, 225 backgrounds, 0 corrupt: 100%|██████████| 376/376 [00:00<?, ?it/s]\n",
      "                 Class     Images  Instances      Box(P          R      mAP50  mAP50-95): 100%|██████████| 12/12 [00:08<00:00,  1.43it/s]\n",
      "                   all        376        181      0.924      0.737      0.841      0.556\n",
      "/usr/local/lib/python3.11/dist-packages/matplotlib/colors.py:721: RuntimeWarning: invalid value encountered in less\n",
      "  xa[xa < 0] = -1\n",
      "/usr/local/lib/python3.11/dist-packages/matplotlib/colors.py:721: RuntimeWarning: invalid value encountered in less\n",
      "  xa[xa < 0] = -1\n",
      "Speed: 1.9ms preprocess, 16.7ms inference, 0.0ms loss, 0.5ms postprocess per image\n",
      "Results saved to \u001b[1mruns/epoch138\u001b[0m\n"
     ]
    },
    {
     "name": "stdout",
     "output_type": "stream",
     "text": [
      "-------------------- EPOCH 138 END --------------------\n",
      "-------------------- EPOCH 139 START --------------------\n",
      "Training start ...\n",
      "TRAIN:\n",
      "\tAVG_LOSS: 2.130959118468852\n",
      "\tMAIN_LOSS: 1.4389435233949106\n",
      "\tKD_LOSS: 0.2306718654647658\n",
      "Evaluating start ...\n",
      "VAL:\n",
      "\tAVG_LOSS: 4.416238139073054\n",
      "\tMAIN_LOSS: 3.7102707425753274\n",
      "\tKD_LOSS: 0.23532245929042497\n"
     ]
    },
    {
     "name": "stderr",
     "output_type": "stream",
     "text": [
      "LSM-YOLO summary (fused): 391 layers, 2873048 parameters, 18824 gradients, 12.4 GFLOPs\n",
      "\u001b[34m\u001b[1mval: \u001b[0mScanning /kaggle/working/Br35H-Mask-Prepared/val/labels.cache... 151 images, 225 backgrounds, 0 corrupt: 100%|██████████| 376/376 [00:00<?, ?it/s]\n",
      "                 Class     Images  Instances      Box(P          R      mAP50  mAP50-95): 100%|██████████| 12/12 [00:08<00:00,  1.45it/s]\n",
      "                   all        376        181      0.985      0.731      0.852      0.582\n",
      "/usr/local/lib/python3.11/dist-packages/matplotlib/colors.py:721: RuntimeWarning: invalid value encountered in less\n",
      "  xa[xa < 0] = -1\n",
      "/usr/local/lib/python3.11/dist-packages/matplotlib/colors.py:721: RuntimeWarning: invalid value encountered in less\n",
      "  xa[xa < 0] = -1\n",
      "Speed: 1.8ms preprocess, 16.7ms inference, 0.0ms loss, 0.4ms postprocess per image\n",
      "Results saved to \u001b[1mruns/epoch139\u001b[0m\n"
     ]
    },
    {
     "name": "stdout",
     "output_type": "stream",
     "text": [
      "-------------------- EPOCH 139 END --------------------\n",
      "-------------------- EPOCH 140 START --------------------\n",
      "Training start ...\n",
      "TRAIN:\n",
      "\tAVG_LOSS: 1.9371455153332482\n",
      "\tMAIN_LOSS: 1.2881414075440998\n",
      "\tKD_LOSS: 0.21633470586583584\n",
      "Evaluating start ...\n",
      "VAL:\n",
      "\tAVG_LOSS: 4.257754564285278\n",
      "\tMAIN_LOSS: 3.587207814057668\n",
      "\tKD_LOSS: 0.2235155695428451\n"
     ]
    },
    {
     "name": "stderr",
     "output_type": "stream",
     "text": [
      "LSM-YOLO summary (fused): 391 layers, 2873048 parameters, 18824 gradients, 12.4 GFLOPs\n",
      "\u001b[34m\u001b[1mval: \u001b[0mScanning /kaggle/working/Br35H-Mask-Prepared/val/labels.cache... 151 images, 225 backgrounds, 0 corrupt: 100%|██████████| 376/376 [00:00<?, ?it/s]\n",
      "                 Class     Images  Instances      Box(P          R      mAP50  mAP50-95): 100%|██████████| 12/12 [00:08<00:00,  1.44it/s]\n",
      "                   all        376        181      0.969       0.74      0.872      0.603\n",
      "/usr/local/lib/python3.11/dist-packages/matplotlib/colors.py:721: RuntimeWarning: invalid value encountered in less\n",
      "  xa[xa < 0] = -1\n",
      "/usr/local/lib/python3.11/dist-packages/matplotlib/colors.py:721: RuntimeWarning: invalid value encountered in less\n",
      "  xa[xa < 0] = -1\n",
      "Speed: 1.6ms preprocess, 16.8ms inference, 0.0ms loss, 0.4ms postprocess per image\n",
      "Results saved to \u001b[1mruns/epoch140\u001b[0m\n"
     ]
    },
    {
     "name": "stdout",
     "output_type": "stream",
     "text": [
      "-------------------- EPOCH 140 END --------------------\n",
      "-------------------- EPOCH 141 START --------------------\n",
      "Training start ...\n",
      "TRAIN:\n",
      "\tAVG_LOSS: 1.9341566396664969\n",
      "\tMAIN_LOSS: 1.289541279213338\n",
      "\tKD_LOSS: 0.2148717888925649\n",
      "Evaluating start ...\n",
      "VAL:\n",
      "\tAVG_LOSS: 4.32872490088145\n",
      "\tMAIN_LOSS: 3.6731335719426474\n",
      "\tKD_LOSS: 0.2185304413239161\n"
     ]
    },
    {
     "name": "stderr",
     "output_type": "stream",
     "text": [
      "LSM-YOLO summary (fused): 391 layers, 2873048 parameters, 18824 gradients, 12.4 GFLOPs\n",
      "\u001b[34m\u001b[1mval: \u001b[0mScanning /kaggle/working/Br35H-Mask-Prepared/val/labels.cache... 151 images, 225 backgrounds, 0 corrupt: 100%|██████████| 376/376 [00:00<?, ?it/s]\n",
      "                 Class     Images  Instances      Box(P          R      mAP50  mAP50-95): 100%|██████████| 12/12 [00:08<00:00,  1.44it/s]\n",
      "                   all        376        181      0.921      0.768      0.858      0.596\n",
      "/usr/local/lib/python3.11/dist-packages/matplotlib/colors.py:721: RuntimeWarning: invalid value encountered in less\n",
      "  xa[xa < 0] = -1\n",
      "/usr/local/lib/python3.11/dist-packages/matplotlib/colors.py:721: RuntimeWarning: invalid value encountered in less\n",
      "  xa[xa < 0] = -1\n",
      "Speed: 1.9ms preprocess, 16.7ms inference, 0.0ms loss, 0.3ms postprocess per image\n",
      "Results saved to \u001b[1mruns/epoch141\u001b[0m\n"
     ]
    },
    {
     "name": "stdout",
     "output_type": "stream",
     "text": [
      "-------------------- EPOCH 141 END --------------------\n",
      "-------------------- EPOCH 142 START --------------------\n",
      "Training start ...\n",
      "TRAIN:\n",
      "\tAVG_LOSS: 1.83308531513697\n",
      "\tMAIN_LOSS: 1.2074096595184713\n",
      "\tKD_LOSS: 0.20855855243869975\n",
      "Evaluating start ...\n",
      "VAL:\n",
      "\tAVG_LOSS: 4.051804502805074\n",
      "\tMAIN_LOSS: 3.4102487564086914\n",
      "\tKD_LOSS: 0.2138519256065289\n"
     ]
    },
    {
     "name": "stderr",
     "output_type": "stream",
     "text": [
      "LSM-YOLO summary (fused): 391 layers, 2873048 parameters, 18824 gradients, 12.4 GFLOPs\n",
      "\u001b[34m\u001b[1mval: \u001b[0mScanning /kaggle/working/Br35H-Mask-Prepared/val/labels.cache... 151 images, 225 backgrounds, 0 corrupt: 100%|██████████| 376/376 [00:00<?, ?it/s]\n",
      "                 Class     Images  Instances      Box(P          R      mAP50  mAP50-95): 100%|██████████| 12/12 [00:08<00:00,  1.45it/s]\n",
      "                   all        376        181       0.95      0.762      0.874      0.603\n",
      "/usr/local/lib/python3.11/dist-packages/matplotlib/colors.py:721: RuntimeWarning: invalid value encountered in less\n",
      "  xa[xa < 0] = -1\n",
      "/usr/local/lib/python3.11/dist-packages/matplotlib/colors.py:721: RuntimeWarning: invalid value encountered in less\n",
      "  xa[xa < 0] = -1\n",
      "Speed: 1.9ms preprocess, 16.7ms inference, 0.0ms loss, 0.3ms postprocess per image\n",
      "Results saved to \u001b[1mruns/epoch142\u001b[0m\n"
     ]
    },
    {
     "name": "stdout",
     "output_type": "stream",
     "text": [
      "-------------------- EPOCH 142 END --------------------\n",
      "-------------------- EPOCH 143 START --------------------\n",
      "Training start ...\n",
      "TRAIN:\n",
      "\tAVG_LOSS: 1.8391209765325618\n",
      "\tMAIN_LOSS: 1.2241391252867784\n",
      "\tKD_LOSS: 0.20499395135837264\n",
      "Evaluating start ...\n",
      "VAL:\n",
      "\tAVG_LOSS: 4.024379154046376\n",
      "\tMAIN_LOSS: 3.396363159020742\n",
      "\tKD_LOSS: 0.20933866066237292\n"
     ]
    },
    {
     "name": "stderr",
     "output_type": "stream",
     "text": [
      "LSM-YOLO summary (fused): 391 layers, 2873048 parameters, 18824 gradients, 12.4 GFLOPs\n",
      "\u001b[34m\u001b[1mval: \u001b[0mScanning /kaggle/working/Br35H-Mask-Prepared/val/labels.cache... 151 images, 225 backgrounds, 0 corrupt: 100%|██████████| 376/376 [00:00<?, ?it/s]\n",
      "                 Class     Images  Instances      Box(P          R      mAP50  mAP50-95): 100%|██████████| 12/12 [00:08<00:00,  1.46it/s]\n",
      "                   all        376        181      0.951      0.757      0.879      0.624\n",
      "/usr/local/lib/python3.11/dist-packages/matplotlib/colors.py:721: RuntimeWarning: invalid value encountered in less\n",
      "  xa[xa < 0] = -1\n",
      "/usr/local/lib/python3.11/dist-packages/matplotlib/colors.py:721: RuntimeWarning: invalid value encountered in less\n",
      "  xa[xa < 0] = -1\n",
      "Speed: 1.8ms preprocess, 16.7ms inference, 0.0ms loss, 0.3ms postprocess per image\n",
      "Results saved to \u001b[1mruns/epoch143\u001b[0m\n"
     ]
    },
    {
     "name": "stdout",
     "output_type": "stream",
     "text": [
      "Epoch 143: New best mAP: 0.6235, model saved.\n",
      "-------------------- EPOCH 143 END --------------------\n",
      "-------------------- EPOCH 144 START --------------------\n",
      "Training start ...\n",
      "TRAIN:\n",
      "\tAVG_LOSS: 1.8002912605865091\n",
      "\tMAIN_LOSS: 1.1950519054750852\n",
      "\tKD_LOSS: 0.20174644849722898\n",
      "Evaluating start ...\n",
      "VAL:\n",
      "\tAVG_LOSS: 4.025092959403992\n",
      "\tMAIN_LOSS: 3.3967397610346475\n",
      "\tKD_LOSS: 0.20945106881360212\n"
     ]
    },
    {
     "name": "stderr",
     "output_type": "stream",
     "text": [
      "LSM-YOLO summary (fused): 391 layers, 2873048 parameters, 18824 gradients, 12.4 GFLOPs\n",
      "\u001b[34m\u001b[1mval: \u001b[0mScanning /kaggle/working/Br35H-Mask-Prepared/val/labels.cache... 151 images, 225 backgrounds, 0 corrupt: 100%|██████████| 376/376 [00:00<?, ?it/s]\n",
      "                 Class     Images  Instances      Box(P          R      mAP50  mAP50-95): 100%|██████████| 12/12 [00:08<00:00,  1.47it/s]\n",
      "                   all        376        181      0.949      0.768      0.887      0.615\n",
      "/usr/local/lib/python3.11/dist-packages/matplotlib/colors.py:721: RuntimeWarning: invalid value encountered in less\n",
      "  xa[xa < 0] = -1\n",
      "/usr/local/lib/python3.11/dist-packages/matplotlib/colors.py:721: RuntimeWarning: invalid value encountered in less\n",
      "  xa[xa < 0] = -1\n",
      "Speed: 1.7ms preprocess, 16.7ms inference, 0.0ms loss, 0.3ms postprocess per image\n",
      "Results saved to \u001b[1mruns/epoch144\u001b[0m\n"
     ]
    },
    {
     "name": "stdout",
     "output_type": "stream",
     "text": [
      "-------------------- EPOCH 144 END --------------------\n",
      "-------------------- EPOCH 145 START --------------------\n",
      "Training start ...\n",
      "TRAIN:\n",
      "\tAVG_LOSS: 1.7697342256956463\n",
      "\tMAIN_LOSS: 1.1704013106189197\n",
      "\tKD_LOSS: 0.19977763766729378\n",
      "Evaluating start ...\n",
      "VAL:\n",
      "\tAVG_LOSS: 4.110872954130173\n",
      "\tMAIN_LOSS: 3.4860864778359733\n",
      "\tKD_LOSS: 0.2082621535907189\n"
     ]
    },
    {
     "name": "stderr",
     "output_type": "stream",
     "text": [
      "LSM-YOLO summary (fused): 391 layers, 2873048 parameters, 18824 gradients, 12.4 GFLOPs\n",
      "\u001b[34m\u001b[1mval: \u001b[0mScanning /kaggle/working/Br35H-Mask-Prepared/val/labels.cache... 151 images, 225 backgrounds, 0 corrupt: 100%|██████████| 376/376 [00:00<?, ?it/s]\n",
      "                 Class     Images  Instances      Box(P          R      mAP50  mAP50-95): 100%|██████████| 12/12 [00:08<00:00,  1.45it/s]\n",
      "                   all        376        181      0.932      0.779      0.871      0.611\n",
      "/usr/local/lib/python3.11/dist-packages/matplotlib/colors.py:721: RuntimeWarning: invalid value encountered in less\n",
      "  xa[xa < 0] = -1\n",
      "/usr/local/lib/python3.11/dist-packages/matplotlib/colors.py:721: RuntimeWarning: invalid value encountered in less\n",
      "  xa[xa < 0] = -1\n",
      "Speed: 1.9ms preprocess, 16.7ms inference, 0.0ms loss, 0.4ms postprocess per image\n",
      "Results saved to \u001b[1mruns/epoch145\u001b[0m\n"
     ]
    },
    {
     "name": "stdout",
     "output_type": "stream",
     "text": [
      "-------------------- EPOCH 145 END --------------------\n",
      "-------------------- EPOCH 146 START --------------------\n",
      "Training start ...\n",
      "TRAIN:\n",
      "\tAVG_LOSS: 1.7743838105020644\n",
      "\tMAIN_LOSS: 1.1774316467816317\n",
      "\tKD_LOSS: 0.19898405199563957\n",
      "Evaluating start ...\n",
      "VAL:\n",
      "\tAVG_LOSS: 4.160083721081416\n",
      "\tMAIN_LOSS: 3.5425712168216705\n",
      "\tKD_LOSS: 0.20583749189972878\n"
     ]
    },
    {
     "name": "stderr",
     "output_type": "stream",
     "text": [
      "LSM-YOLO summary (fused): 391 layers, 2873048 parameters, 18824 gradients, 12.4 GFLOPs\n",
      "\u001b[34m\u001b[1mval: \u001b[0mScanning /kaggle/working/Br35H-Mask-Prepared/val/labels.cache... 151 images, 225 backgrounds, 0 corrupt: 100%|██████████| 376/376 [00:00<?, ?it/s]\n",
      "                 Class     Images  Instances      Box(P          R      mAP50  mAP50-95): 100%|██████████| 12/12 [00:08<00:00,  1.45it/s]\n",
      "                   all        376        181      0.917      0.762       0.87      0.608\n",
      "/usr/local/lib/python3.11/dist-packages/matplotlib/colors.py:721: RuntimeWarning: invalid value encountered in less\n",
      "  xa[xa < 0] = -1\n",
      "/usr/local/lib/python3.11/dist-packages/matplotlib/colors.py:721: RuntimeWarning: invalid value encountered in less\n",
      "  xa[xa < 0] = -1\n",
      "Speed: 1.8ms preprocess, 16.8ms inference, 0.0ms loss, 0.3ms postprocess per image\n",
      "Results saved to \u001b[1mruns/epoch146\u001b[0m\n"
     ]
    },
    {
     "name": "stdout",
     "output_type": "stream",
     "text": [
      "-------------------- EPOCH 146 END --------------------\n",
      "-------------------- EPOCH 147 START --------------------\n",
      "Training start ...\n",
      "TRAIN:\n",
      "\tAVG_LOSS: 1.7770478997049453\n",
      "\tMAIN_LOSS: 1.184012921550606\n",
      "\tKD_LOSS: 0.1976783247310904\n",
      "Evaluating start ...\n",
      "VAL:\n",
      "\tAVG_LOSS: 4.2056905428568525\n",
      "\tMAIN_LOSS: 3.591330031553904\n",
      "\tKD_LOSS: 0.20478682840863863\n"
     ]
    },
    {
     "name": "stderr",
     "output_type": "stream",
     "text": [
      "LSM-YOLO summary (fused): 391 layers, 2873048 parameters, 18824 gradients, 12.4 GFLOPs\n",
      "\u001b[34m\u001b[1mval: \u001b[0mScanning /kaggle/working/Br35H-Mask-Prepared/val/labels.cache... 151 images, 225 backgrounds, 0 corrupt: 100%|██████████| 376/376 [00:00<?, ?it/s]\n",
      "                 Class     Images  Instances      Box(P          R      mAP50  mAP50-95): 100%|██████████| 12/12 [00:08<00:00,  1.46it/s]\n",
      "                   all        376        181      0.953      0.751      0.863      0.601\n",
      "/usr/local/lib/python3.11/dist-packages/matplotlib/colors.py:721: RuntimeWarning: invalid value encountered in less\n",
      "  xa[xa < 0] = -1\n",
      "/usr/local/lib/python3.11/dist-packages/matplotlib/colors.py:721: RuntimeWarning: invalid value encountered in less\n",
      "  xa[xa < 0] = -1\n",
      "Speed: 1.6ms preprocess, 16.7ms inference, 0.0ms loss, 0.3ms postprocess per image\n",
      "Results saved to \u001b[1mruns/epoch147\u001b[0m\n"
     ]
    },
    {
     "name": "stdout",
     "output_type": "stream",
     "text": [
      "-------------------- EPOCH 147 END --------------------\n",
      "-------------------- EPOCH 148 START --------------------\n",
      "Training start ...\n",
      "TRAIN:\n",
      "\tAVG_LOSS: 1.7805347487896304\n",
      "\tMAIN_LOSS: 1.1918974443327022\n",
      "\tKD_LOSS: 0.19621243469322783\n",
      "Evaluating start ...\n",
      "VAL:\n",
      "\tAVG_LOSS: 4.081305623054504\n",
      "\tMAIN_LOSS: 3.465507080157598\n",
      "\tKD_LOSS: 0.20526618945101896\n"
     ]
    },
    {
     "name": "stderr",
     "output_type": "stream",
     "text": [
      "LSM-YOLO summary (fused): 391 layers, 2873048 parameters, 18824 gradients, 12.4 GFLOPs\n",
      "\u001b[34m\u001b[1mval: \u001b[0mScanning /kaggle/working/Br35H-Mask-Prepared/val/labels.cache... 151 images, 225 backgrounds, 0 corrupt: 100%|██████████| 376/376 [00:00<?, ?it/s]\n",
      "                 Class     Images  Instances      Box(P          R      mAP50  mAP50-95): 100%|██████████| 12/12 [00:08<00:00,  1.43it/s]\n",
      "                   all        376        181      0.909      0.762      0.858      0.611\n",
      "/usr/local/lib/python3.11/dist-packages/matplotlib/colors.py:721: RuntimeWarning: invalid value encountered in less\n",
      "  xa[xa < 0] = -1\n",
      "/usr/local/lib/python3.11/dist-packages/matplotlib/colors.py:721: RuntimeWarning: invalid value encountered in less\n",
      "  xa[xa < 0] = -1\n",
      "Speed: 2.0ms preprocess, 16.7ms inference, 0.0ms loss, 0.3ms postprocess per image\n",
      "Results saved to \u001b[1mruns/epoch148\u001b[0m\n"
     ]
    },
    {
     "name": "stdout",
     "output_type": "stream",
     "text": [
      "-------------------- EPOCH 148 END --------------------\n",
      "-------------------- EPOCH 149 START --------------------\n",
      "Training start ...\n",
      "TRAIN:\n",
      "\tAVG_LOSS: 1.788670076599604\n",
      "\tMAIN_LOSS: 1.2021505108362511\n",
      "\tKD_LOSS: 0.19550652292710316\n",
      "Evaluating start ...\n",
      "VAL:\n",
      "\tAVG_LOSS: 4.033347855011622\n",
      "\tMAIN_LOSS: 3.4261801739533744\n",
      "\tKD_LOSS: 0.20238922163844109\n"
     ]
    },
    {
     "name": "stderr",
     "output_type": "stream",
     "text": [
      "LSM-YOLO summary (fused): 391 layers, 2873048 parameters, 18824 gradients, 12.4 GFLOPs\n",
      "\u001b[34m\u001b[1mval: \u001b[0mScanning /kaggle/working/Br35H-Mask-Prepared/val/labels.cache... 151 images, 225 backgrounds, 0 corrupt: 100%|██████████| 376/376 [00:00<?, ?it/s]\n",
      "                 Class     Images  Instances      Box(P          R      mAP50  mAP50-95): 100%|██████████| 12/12 [00:08<00:00,  1.41it/s]\n",
      "                   all        376        181      0.889      0.796      0.864      0.608\n",
      "/usr/local/lib/python3.11/dist-packages/matplotlib/colors.py:721: RuntimeWarning: invalid value encountered in less\n",
      "  xa[xa < 0] = -1\n",
      "/usr/local/lib/python3.11/dist-packages/matplotlib/colors.py:721: RuntimeWarning: invalid value encountered in less\n",
      "  xa[xa < 0] = -1\n",
      "Speed: 2.0ms preprocess, 16.7ms inference, 0.0ms loss, 0.4ms postprocess per image\n",
      "Results saved to \u001b[1mruns/epoch149\u001b[0m\n"
     ]
    },
    {
     "name": "stdout",
     "output_type": "stream",
     "text": [
      "-------------------- EPOCH 149 END --------------------\n",
      "-------------------- EPOCH 150 START --------------------\n",
      "Training start ...\n",
      "TRAIN:\n",
      "\tAVG_LOSS: 1.8098721519301209\n",
      "\tMAIN_LOSS: 1.2171343715885017\n",
      "\tKD_LOSS: 0.1975792614342291\n",
      "Evaluating start ...\n",
      "VAL:\n",
      "\tAVG_LOSS: 4.145207166671753\n",
      "\tMAIN_LOSS: 3.532486925522486\n",
      "\tKD_LOSS: 0.2042400762438774\n"
     ]
    },
    {
     "name": "stderr",
     "output_type": "stream",
     "text": [
      "LSM-YOLO summary (fused): 391 layers, 2873048 parameters, 18824 gradients, 12.4 GFLOPs\n",
      "\u001b[34m\u001b[1mval: \u001b[0mScanning /kaggle/working/Br35H-Mask-Prepared/val/labels.cache... 151 images, 225 backgrounds, 0 corrupt: 100%|██████████| 376/376 [00:00<?, ?it/s]\n",
      "                 Class     Images  Instances      Box(P          R      mAP50  mAP50-95): 100%|██████████| 12/12 [00:08<00:00,  1.43it/s]\n",
      "                   all        376        181      0.936      0.751       0.87      0.611\n",
      "/usr/local/lib/python3.11/dist-packages/matplotlib/colors.py:721: RuntimeWarning: invalid value encountered in less\n",
      "  xa[xa < 0] = -1\n",
      "/usr/local/lib/python3.11/dist-packages/matplotlib/colors.py:721: RuntimeWarning: invalid value encountered in less\n",
      "  xa[xa < 0] = -1\n",
      "Speed: 1.8ms preprocess, 16.7ms inference, 0.0ms loss, 0.3ms postprocess per image\n",
      "Results saved to \u001b[1mruns/epoch150\u001b[0m\n"
     ]
    },
    {
     "name": "stdout",
     "output_type": "stream",
     "text": [
      "-------------------- EPOCH 150 END --------------------\n",
      "-------------------- EPOCH 151 START --------------------\n",
      "Training start ...\n",
      "TRAIN:\n",
      "\tAVG_LOSS: 1.7551655543001392\n",
      "\tMAIN_LOSS: 1.1704681296891803\n",
      "\tKD_LOSS: 0.1948991402795043\n",
      "Evaluating start ...\n",
      "VAL:\n",
      "\tAVG_LOSS: 4.137174238761266\n",
      "\tMAIN_LOSS: 3.535364826520284\n",
      "\tKD_LOSS: 0.2006031380345424\n"
     ]
    },
    {
     "name": "stderr",
     "output_type": "stream",
     "text": [
      "LSM-YOLO summary (fused): 391 layers, 2873048 parameters, 18824 gradients, 12.4 GFLOPs\n",
      "\u001b[34m\u001b[1mval: \u001b[0mScanning /kaggle/working/Br35H-Mask-Prepared/val/labels.cache... 151 images, 225 backgrounds, 0 corrupt: 100%|██████████| 376/376 [00:00<?, ?it/s]\n",
      "                 Class     Images  Instances      Box(P          R      mAP50  mAP50-95): 100%|██████████| 12/12 [00:08<00:00,  1.46it/s]\n",
      "                   all        376        181      0.965      0.766      0.875      0.629\n",
      "/usr/local/lib/python3.11/dist-packages/matplotlib/colors.py:721: RuntimeWarning: invalid value encountered in less\n",
      "  xa[xa < 0] = -1\n",
      "/usr/local/lib/python3.11/dist-packages/matplotlib/colors.py:721: RuntimeWarning: invalid value encountered in less\n",
      "  xa[xa < 0] = -1\n",
      "Speed: 1.8ms preprocess, 16.8ms inference, 0.0ms loss, 0.3ms postprocess per image\n",
      "Results saved to \u001b[1mruns/epoch151\u001b[0m\n"
     ]
    },
    {
     "name": "stdout",
     "output_type": "stream",
     "text": [
      "Epoch 151: New best mAP: 0.6285, model saved.\n",
      "-------------------- EPOCH 151 END --------------------\n",
      "-------------------- EPOCH 152 START --------------------\n",
      "Training start ...\n",
      "TRAIN:\n",
      "\tAVG_LOSS: 1.7670330729665635\n",
      "\tMAIN_LOSS: 1.1868606338018104\n",
      "\tKD_LOSS: 0.19339081248905085\n",
      "Evaluating start ...\n",
      "VAL:\n",
      "\tAVG_LOSS: 4.139088879028956\n",
      "\tMAIN_LOSS: 3.541630908846855\n",
      "\tKD_LOSS: 0.19915266645451388\n"
     ]
    },
    {
     "name": "stderr",
     "output_type": "stream",
     "text": [
      "LSM-YOLO summary (fused): 391 layers, 2873048 parameters, 18824 gradients, 12.4 GFLOPs\n",
      "\u001b[34m\u001b[1mval: \u001b[0mScanning /kaggle/working/Br35H-Mask-Prepared/val/labels.cache... 151 images, 225 backgrounds, 0 corrupt: 100%|██████████| 376/376 [00:00<?, ?it/s]\n",
      "                 Class     Images  Instances      Box(P          R      mAP50  mAP50-95): 100%|██████████| 12/12 [00:08<00:00,  1.46it/s]\n",
      "                   all        376        181      0.961      0.751      0.881       0.63\n",
      "/usr/local/lib/python3.11/dist-packages/matplotlib/colors.py:721: RuntimeWarning: invalid value encountered in less\n",
      "  xa[xa < 0] = -1\n",
      "/usr/local/lib/python3.11/dist-packages/matplotlib/colors.py:721: RuntimeWarning: invalid value encountered in less\n",
      "  xa[xa < 0] = -1\n",
      "Speed: 1.8ms preprocess, 16.7ms inference, 0.0ms loss, 0.3ms postprocess per image\n",
      "Results saved to \u001b[1mruns/epoch152\u001b[0m\n"
     ]
    },
    {
     "name": "stdout",
     "output_type": "stream",
     "text": [
      "Epoch 152: New best mAP: 0.6298, model saved.\n",
      "-------------------- EPOCH 152 END --------------------\n",
      "-------------------- EPOCH 153 START --------------------\n",
      "Training start ...\n",
      "TRAIN:\n",
      "\tAVG_LOSS: 1.7624483153789858\n",
      "\tMAIN_LOSS: 1.1832111349588708\n",
      "\tKD_LOSS: 0.19307905925980098\n",
      "Evaluating start ...\n",
      "VAL:\n",
      "\tAVG_LOSS: 4.120504220326741\n",
      "\tMAIN_LOSS: 3.5183311303456626\n",
      "\tKD_LOSS: 0.20072436146438122\n"
     ]
    },
    {
     "name": "stderr",
     "output_type": "stream",
     "text": [
      "LSM-YOLO summary (fused): 391 layers, 2873048 parameters, 18824 gradients, 12.4 GFLOPs\n",
      "\u001b[34m\u001b[1mval: \u001b[0mScanning /kaggle/working/Br35H-Mask-Prepared/val/labels.cache... 151 images, 225 backgrounds, 0 corrupt: 100%|██████████| 376/376 [00:00<?, ?it/s]\n",
      "                 Class     Images  Instances      Box(P          R      mAP50  mAP50-95): 100%|██████████| 12/12 [00:08<00:00,  1.43it/s]\n",
      "                   all        376        181      0.972      0.766      0.883      0.634\n",
      "/usr/local/lib/python3.11/dist-packages/matplotlib/colors.py:721: RuntimeWarning: invalid value encountered in less\n",
      "  xa[xa < 0] = -1\n",
      "/usr/local/lib/python3.11/dist-packages/matplotlib/colors.py:721: RuntimeWarning: invalid value encountered in less\n",
      "  xa[xa < 0] = -1\n",
      "Speed: 2.1ms preprocess, 16.7ms inference, 0.0ms loss, 0.3ms postprocess per image\n",
      "Results saved to \u001b[1mruns/epoch153\u001b[0m\n"
     ]
    },
    {
     "name": "stdout",
     "output_type": "stream",
     "text": [
      "Epoch 153: New best mAP: 0.6338, model saved.\n",
      "-------------------- EPOCH 153 END --------------------\n",
      "-------------------- EPOCH 154 START --------------------\n",
      "Training start ...\n",
      "TRAIN:\n",
      "\tAVG_LOSS: 1.7588683412044863\n",
      "\tMAIN_LOSS: 1.1824437108220933\n",
      "\tKD_LOSS: 0.192141544969776\n",
      "Evaluating start ...\n",
      "VAL:\n",
      "\tAVG_LOSS: 4.000717490911484\n",
      "\tMAIN_LOSS: 3.4069241086641946\n",
      "\tKD_LOSS: 0.19793113258977732\n"
     ]
    },
    {
     "name": "stderr",
     "output_type": "stream",
     "text": [
      "LSM-YOLO summary (fused): 391 layers, 2873048 parameters, 18824 gradients, 12.4 GFLOPs\n",
      "\u001b[34m\u001b[1mval: \u001b[0mScanning /kaggle/working/Br35H-Mask-Prepared/val/labels.cache... 151 images, 225 backgrounds, 0 corrupt: 100%|██████████| 376/376 [00:00<?, ?it/s]\n",
      "                 Class     Images  Instances      Box(P          R      mAP50  mAP50-95): 100%|██████████| 12/12 [00:08<00:00,  1.42it/s]\n",
      "                   all        376        181      0.965      0.772      0.876      0.625\n",
      "/usr/local/lib/python3.11/dist-packages/matplotlib/colors.py:721: RuntimeWarning: invalid value encountered in less\n",
      "  xa[xa < 0] = -1\n",
      "/usr/local/lib/python3.11/dist-packages/matplotlib/colors.py:721: RuntimeWarning: invalid value encountered in less\n",
      "  xa[xa < 0] = -1\n",
      "Speed: 1.8ms preprocess, 16.7ms inference, 0.0ms loss, 0.4ms postprocess per image\n",
      "Results saved to \u001b[1mruns/epoch154\u001b[0m\n"
     ]
    },
    {
     "name": "stdout",
     "output_type": "stream",
     "text": [
      "-------------------- EPOCH 154 END --------------------\n",
      "-------------------- EPOCH 155 START --------------------\n",
      "Training start ...\n",
      "TRAIN:\n",
      "\tAVG_LOSS: 1.7457079766671868\n",
      "\tMAIN_LOSS: 1.175527170489106\n",
      "\tKD_LOSS: 0.19006027262422104\n",
      "Evaluating start ...\n",
      "VAL:\n",
      "\tAVG_LOSS: 4.0741338928540545\n",
      "\tMAIN_LOSS: 3.479044477144877\n",
      "\tKD_LOSS: 0.19836314767599106\n"
     ]
    },
    {
     "name": "stderr",
     "output_type": "stream",
     "text": [
      "LSM-YOLO summary (fused): 391 layers, 2873048 parameters, 18824 gradients, 12.4 GFLOPs\n",
      "\u001b[34m\u001b[1mval: \u001b[0mScanning /kaggle/working/Br35H-Mask-Prepared/val/labels.cache... 151 images, 225 backgrounds, 0 corrupt: 100%|██████████| 376/376 [00:00<?, ?it/s]\n",
      "                 Class     Images  Instances      Box(P          R      mAP50  mAP50-95): 100%|██████████| 12/12 [00:08<00:00,  1.44it/s]\n",
      "                   all        376        181      0.971      0.768      0.886      0.628\n",
      "/usr/local/lib/python3.11/dist-packages/matplotlib/colors.py:721: RuntimeWarning: invalid value encountered in less\n",
      "  xa[xa < 0] = -1\n",
      "/usr/local/lib/python3.11/dist-packages/matplotlib/colors.py:721: RuntimeWarning: invalid value encountered in less\n",
      "  xa[xa < 0] = -1\n",
      "Speed: 1.7ms preprocess, 16.8ms inference, 0.0ms loss, 0.4ms postprocess per image\n",
      "Results saved to \u001b[1mruns/epoch155\u001b[0m\n"
     ]
    },
    {
     "name": "stdout",
     "output_type": "stream",
     "text": [
      "-------------------- EPOCH 155 END --------------------\n",
      "-------------------- EPOCH 156 START --------------------\n",
      "Training start ...\n",
      "TRAIN:\n",
      "\tAVG_LOSS: 1.7575092677828632\n",
      "\tMAIN_LOSS: 1.1869429199001458\n",
      "\tKD_LOSS: 0.190188782313202\n",
      "Evaluating start ...\n",
      "VAL:\n",
      "\tAVG_LOSS: 3.971599668264389\n",
      "\tMAIN_LOSS: 3.3862996896107993\n",
      "\tKD_LOSS: 0.1950999932984511\n"
     ]
    },
    {
     "name": "stderr",
     "output_type": "stream",
     "text": [
      "LSM-YOLO summary (fused): 391 layers, 2873048 parameters, 18824 gradients, 12.4 GFLOPs\n",
      "\u001b[34m\u001b[1mval: \u001b[0mScanning /kaggle/working/Br35H-Mask-Prepared/val/labels.cache... 151 images, 225 backgrounds, 0 corrupt: 100%|██████████| 376/376 [00:00<?, ?it/s]\n",
      "                 Class     Images  Instances      Box(P          R      mAP50  mAP50-95): 100%|██████████| 12/12 [00:08<00:00,  1.44it/s]\n",
      "                   all        376        181      0.914      0.801      0.872      0.618\n",
      "/usr/local/lib/python3.11/dist-packages/matplotlib/colors.py:721: RuntimeWarning: invalid value encountered in less\n",
      "  xa[xa < 0] = -1\n",
      "/usr/local/lib/python3.11/dist-packages/matplotlib/colors.py:721: RuntimeWarning: invalid value encountered in less\n",
      "  xa[xa < 0] = -1\n",
      "Speed: 1.8ms preprocess, 16.7ms inference, 0.0ms loss, 0.4ms postprocess per image\n",
      "Results saved to \u001b[1mruns/epoch156\u001b[0m\n"
     ]
    },
    {
     "name": "stdout",
     "output_type": "stream",
     "text": [
      "-------------------- EPOCH 156 END --------------------\n",
      "-------------------- EPOCH 157 START --------------------\n",
      "Training start ...\n",
      "TRAIN:\n",
      "\tAVG_LOSS: 1.7336436374278008\n",
      "\tMAIN_LOSS: 1.1676566231099865\n",
      "\tKD_LOSS: 0.18866233621971518\n",
      "Evaluating start ...\n",
      "VAL:\n",
      "\tAVG_LOSS: 3.968374570210775\n",
      "\tMAIN_LOSS: 3.382789591948191\n",
      "\tKD_LOSS: 0.19519499130547047\n"
     ]
    },
    {
     "name": "stderr",
     "output_type": "stream",
     "text": [
      "LSM-YOLO summary (fused): 391 layers, 2873048 parameters, 18824 gradients, 12.4 GFLOPs\n",
      "\u001b[34m\u001b[1mval: \u001b[0mScanning /kaggle/working/Br35H-Mask-Prepared/val/labels.cache... 151 images, 225 backgrounds, 0 corrupt: 100%|██████████| 376/376 [00:00<?, ?it/s]\n",
      "                 Class     Images  Instances      Box(P          R      mAP50  mAP50-95): 100%|██████████| 12/12 [00:08<00:00,  1.41it/s]\n",
      "                   all        376        181      0.908      0.801       0.88      0.623\n",
      "/usr/local/lib/python3.11/dist-packages/matplotlib/colors.py:721: RuntimeWarning: invalid value encountered in less\n",
      "  xa[xa < 0] = -1\n",
      "/usr/local/lib/python3.11/dist-packages/matplotlib/colors.py:721: RuntimeWarning: invalid value encountered in less\n",
      "  xa[xa < 0] = -1\n",
      "Speed: 2.1ms preprocess, 16.7ms inference, 0.0ms loss, 0.3ms postprocess per image\n",
      "Results saved to \u001b[1mruns/epoch157\u001b[0m\n"
     ]
    },
    {
     "name": "stdout",
     "output_type": "stream",
     "text": [
      "-------------------- EPOCH 157 END --------------------\n",
      "-------------------- EPOCH 158 START --------------------\n",
      "Training start ...\n",
      "TRAIN:\n",
      "\tAVG_LOSS: 1.7069275183013723\n",
      "\tMAIN_LOSS: 1.1407122483736352\n",
      "\tKD_LOSS: 0.1887384230577493\n",
      "Evaluating start ...\n",
      "VAL:\n",
      "\tAVG_LOSS: 4.031146605809529\n",
      "\tMAIN_LOSS: 3.4364475707213082\n",
      "\tKD_LOSS: 0.1982330121099949\n"
     ]
    },
    {
     "name": "stderr",
     "output_type": "stream",
     "text": [
      "LSM-YOLO summary (fused): 391 layers, 2873048 parameters, 18824 gradients, 12.4 GFLOPs\n",
      "\u001b[34m\u001b[1mval: \u001b[0mScanning /kaggle/working/Br35H-Mask-Prepared/val/labels.cache... 151 images, 225 backgrounds, 0 corrupt: 100%|██████████| 376/376 [00:00<?, ?it/s]\n",
      "                 Class     Images  Instances      Box(P          R      mAP50  mAP50-95): 100%|██████████| 12/12 [00:08<00:00,  1.42it/s]\n",
      "                   all        376        181      0.918      0.785      0.876      0.619\n",
      "/usr/local/lib/python3.11/dist-packages/matplotlib/colors.py:721: RuntimeWarning: invalid value encountered in less\n",
      "  xa[xa < 0] = -1\n",
      "/usr/local/lib/python3.11/dist-packages/matplotlib/colors.py:721: RuntimeWarning: invalid value encountered in less\n",
      "  xa[xa < 0] = -1\n",
      "Speed: 2.0ms preprocess, 16.7ms inference, 0.0ms loss, 0.4ms postprocess per image\n",
      "Results saved to \u001b[1mruns/epoch158\u001b[0m\n"
     ]
    },
    {
     "name": "stdout",
     "output_type": "stream",
     "text": [
      "-------------------- EPOCH 158 END --------------------\n",
      "-------------------- EPOCH 159 START --------------------\n",
      "Training start ...\n",
      "TRAIN:\n",
      "\tAVG_LOSS: 1.732919519460654\n",
      "\tMAIN_LOSS: 1.1669672825668431\n",
      "\tKD_LOSS: 0.18865074292768405\n",
      "Evaluating start ...\n",
      "VAL:\n",
      "\tAVG_LOSS: 4.006840268770854\n",
      "\tMAIN_LOSS: 3.4188169836997986\n",
      "\tKD_LOSS: 0.19600775899986425\n"
     ]
    },
    {
     "name": "stderr",
     "output_type": "stream",
     "text": [
      "LSM-YOLO summary (fused): 391 layers, 2873048 parameters, 18824 gradients, 12.4 GFLOPs\n",
      "\u001b[34m\u001b[1mval: \u001b[0mScanning /kaggle/working/Br35H-Mask-Prepared/val/labels.cache... 151 images, 225 backgrounds, 0 corrupt: 100%|██████████| 376/376 [00:00<?, ?it/s]\n",
      "                 Class     Images  Instances      Box(P          R      mAP50  mAP50-95): 100%|██████████| 12/12 [00:08<00:00,  1.43it/s]\n",
      "                   all        376        181      0.952      0.759      0.881      0.624\n",
      "/usr/local/lib/python3.11/dist-packages/matplotlib/colors.py:721: RuntimeWarning: invalid value encountered in less\n",
      "  xa[xa < 0] = -1\n",
      "/usr/local/lib/python3.11/dist-packages/matplotlib/colors.py:721: RuntimeWarning: invalid value encountered in less\n",
      "  xa[xa < 0] = -1\n",
      "Speed: 1.9ms preprocess, 16.7ms inference, 0.0ms loss, 0.4ms postprocess per image\n",
      "Results saved to \u001b[1mruns/epoch159\u001b[0m\n"
     ]
    },
    {
     "name": "stdout",
     "output_type": "stream",
     "text": [
      "-------------------- EPOCH 159 END --------------------\n",
      "-------------------- EPOCH 160 START --------------------\n",
      "Training start ...\n",
      "TRAIN:\n",
      "\tAVG_LOSS: 1.7513482495199275\n",
      "\tMAIN_LOSS: 1.182809448694881\n",
      "\tKD_LOSS: 0.18951293279098558\n",
      "Evaluating start ...\n",
      "VAL:\n",
      "\tAVG_LOSS: 4.012332836786906\n",
      "\tMAIN_LOSS: 3.4234443803628287\n",
      "\tKD_LOSS: 0.19629615110655627\n"
     ]
    },
    {
     "name": "stderr",
     "output_type": "stream",
     "text": [
      "LSM-YOLO summary (fused): 391 layers, 2873048 parameters, 18824 gradients, 12.4 GFLOPs\n",
      "\u001b[34m\u001b[1mval: \u001b[0mScanning /kaggle/working/Br35H-Mask-Prepared/val/labels.cache... 151 images, 225 backgrounds, 0 corrupt: 100%|██████████| 376/376 [00:00<?, ?it/s]\n",
      "                 Class     Images  Instances      Box(P          R      mAP50  mAP50-95): 100%|██████████| 12/12 [00:08<00:00,  1.43it/s]\n",
      "                   all        376        181       0.92      0.773      0.873      0.614\n",
      "/usr/local/lib/python3.11/dist-packages/matplotlib/colors.py:721: RuntimeWarning: invalid value encountered in less\n",
      "  xa[xa < 0] = -1\n",
      "/usr/local/lib/python3.11/dist-packages/matplotlib/colors.py:721: RuntimeWarning: invalid value encountered in less\n",
      "  xa[xa < 0] = -1\n",
      "Speed: 1.8ms preprocess, 16.7ms inference, 0.0ms loss, 0.4ms postprocess per image\n",
      "Results saved to \u001b[1mruns/epoch160\u001b[0m\n"
     ]
    },
    {
     "name": "stdout",
     "output_type": "stream",
     "text": [
      "-------------------- EPOCH 160 END --------------------\n",
      "-------------------- EPOCH 161 START --------------------\n",
      "Training start ...\n",
      "TRAIN:\n",
      "\tAVG_LOSS: 1.764671971526327\n",
      "\tMAIN_LOSS: 1.2013279441036755\n",
      "\tKD_LOSS: 0.18778134165685387\n",
      "Evaluating start ...\n",
      "VAL:\n",
      "\tAVG_LOSS: 4.352834343910217\n",
      "\tMAIN_LOSS: 3.768399884303411\n",
      "\tKD_LOSS: 0.1948114801198244\n"
     ]
    },
    {
     "name": "stderr",
     "output_type": "stream",
     "text": [
      "LSM-YOLO summary (fused): 391 layers, 2873048 parameters, 18824 gradients, 12.4 GFLOPs\n",
      "\u001b[34m\u001b[1mval: \u001b[0mScanning /kaggle/working/Br35H-Mask-Prepared/val/labels.cache... 151 images, 225 backgrounds, 0 corrupt: 100%|██████████| 376/376 [00:00<?, ?it/s]\n",
      "                 Class     Images  Instances      Box(P          R      mAP50  mAP50-95): 100%|██████████| 12/12 [00:08<00:00,  1.43it/s]\n",
      "                   all        376        181      0.959       0.79      0.872       0.62\n",
      "/usr/local/lib/python3.11/dist-packages/matplotlib/colors.py:721: RuntimeWarning: invalid value encountered in less\n",
      "  xa[xa < 0] = -1\n",
      "/usr/local/lib/python3.11/dist-packages/matplotlib/colors.py:721: RuntimeWarning: invalid value encountered in less\n",
      "  xa[xa < 0] = -1\n",
      "Speed: 2.0ms preprocess, 16.7ms inference, 0.0ms loss, 0.3ms postprocess per image\n",
      "Results saved to \u001b[1mruns/epoch161\u001b[0m\n"
     ]
    },
    {
     "name": "stdout",
     "output_type": "stream",
     "text": [
      "-------------------- EPOCH 161 END --------------------\n",
      "-------------------- EPOCH 162 START --------------------\n",
      "Training start ...\n",
      "TRAIN:\n",
      "\tAVG_LOSS: 1.7299130189267895\n",
      "\tMAIN_LOSS: 1.1684301571000981\n",
      "\tKD_LOSS: 0.18716095218175574\n",
      "Evaluating start ...\n",
      "VAL:\n",
      "\tAVG_LOSS: 4.130993882815043\n",
      "\tMAIN_LOSS: 3.539384757479032\n",
      "\tKD_LOSS: 0.1972030426065127\n"
     ]
    },
    {
     "name": "stderr",
     "output_type": "stream",
     "text": [
      "LSM-YOLO summary (fused): 391 layers, 2873048 parameters, 18824 gradients, 12.4 GFLOPs\n",
      "\u001b[34m\u001b[1mval: \u001b[0mScanning /kaggle/working/Br35H-Mask-Prepared/val/labels.cache... 151 images, 225 backgrounds, 0 corrupt: 100%|██████████| 376/376 [00:00<?, ?it/s]\n",
      "                 Class     Images  Instances      Box(P          R      mAP50  mAP50-95): 100%|██████████| 12/12 [00:46<00:00,  3.86s/it]\n",
      "                   all        376        181      0.952      0.773      0.876      0.629\n",
      "/usr/local/lib/python3.11/dist-packages/matplotlib/colors.py:721: RuntimeWarning: invalid value encountered in less\n",
      "  xa[xa < 0] = -1\n",
      "/usr/local/lib/python3.11/dist-packages/matplotlib/colors.py:721: RuntimeWarning: invalid value encountered in less\n",
      "  xa[xa < 0] = -1\n",
      "Speed: 2.0ms preprocess, 17.5ms inference, 0.0ms loss, 0.3ms postprocess per image\n",
      "Results saved to \u001b[1mruns/epoch162\u001b[0m\n"
     ]
    },
    {
     "name": "stdout",
     "output_type": "stream",
     "text": [
      "-------------------- EPOCH 162 END --------------------\n",
      "-------------------- EPOCH 163 START --------------------\n",
      "Training start ...\n",
      "TRAIN:\n",
      "\tAVG_LOSS: 1.7432897739772555\n",
      "\tMAIN_LOSS: 1.1839221806465825\n",
      "\tKD_LOSS: 0.18645586205434195\n",
      "Evaluating start ...\n",
      "VAL:\n",
      "\tAVG_LOSS: 4.026210695505142\n",
      "\tMAIN_LOSS: 3.4136994183063507\n",
      "\tKD_LOSS: 0.204170444359382\n"
     ]
    },
    {
     "name": "stderr",
     "output_type": "stream",
     "text": [
      "LSM-YOLO summary (fused): 391 layers, 2873048 parameters, 18824 gradients, 12.4 GFLOPs\n",
      "\u001b[34m\u001b[1mval: \u001b[0mScanning /kaggle/working/Br35H-Mask-Prepared/val/labels.cache... 151 images, 225 backgrounds, 0 corrupt: 100%|██████████| 376/376 [00:00<?, ?it/s]\n",
      "                 Class     Images  Instances      Box(P          R      mAP50  mAP50-95): 100%|██████████| 12/12 [00:08<00:00,  1.43it/s]\n",
      "                   all        376        181      0.927      0.771      0.876      0.602\n",
      "/usr/local/lib/python3.11/dist-packages/matplotlib/colors.py:721: RuntimeWarning: invalid value encountered in less\n",
      "  xa[xa < 0] = -1\n",
      "/usr/local/lib/python3.11/dist-packages/matplotlib/colors.py:721: RuntimeWarning: invalid value encountered in less\n",
      "  xa[xa < 0] = -1\n",
      "Speed: 1.9ms preprocess, 16.7ms inference, 0.0ms loss, 0.4ms postprocess per image\n",
      "Results saved to \u001b[1mruns/epoch163\u001b[0m\n"
     ]
    },
    {
     "name": "stdout",
     "output_type": "stream",
     "text": [
      "-------------------- EPOCH 163 END --------------------\n",
      "-------------------- EPOCH 164 START --------------------\n",
      "Training start ...\n",
      "TRAIN:\n",
      "\tAVG_LOSS: 1.754845761045625\n",
      "\tMAIN_LOSS: 1.1936206598825092\n",
      "\tKD_LOSS: 0.1870750354815133\n",
      "Evaluating start ...\n",
      "VAL:\n",
      "\tAVG_LOSS: 4.356454352537791\n",
      "\tMAIN_LOSS: 3.7428219417730966\n",
      "\tKD_LOSS: 0.20454414375126362\n"
     ]
    },
    {
     "name": "stderr",
     "output_type": "stream",
     "text": [
      "LSM-YOLO summary (fused): 391 layers, 2873048 parameters, 18824 gradients, 12.4 GFLOPs\n",
      "\u001b[34m\u001b[1mval: \u001b[0mScanning /kaggle/working/Br35H-Mask-Prepared/val/labels.cache... 151 images, 225 backgrounds, 0 corrupt: 100%|██████████| 376/376 [00:00<?, ?it/s]\n",
      "                 Class     Images  Instances      Box(P          R      mAP50  mAP50-95): 100%|██████████| 12/12 [00:08<00:00,  1.42it/s]\n",
      "                   all        376        181      0.903      0.724      0.863      0.589\n",
      "/usr/local/lib/python3.11/dist-packages/matplotlib/colors.py:721: RuntimeWarning: invalid value encountered in less\n",
      "  xa[xa < 0] = -1\n",
      "/usr/local/lib/python3.11/dist-packages/matplotlib/colors.py:721: RuntimeWarning: invalid value encountered in less\n",
      "  xa[xa < 0] = -1\n",
      "Speed: 2.0ms preprocess, 16.7ms inference, 0.0ms loss, 0.4ms postprocess per image\n",
      "Results saved to \u001b[1mruns/epoch164\u001b[0m\n"
     ]
    },
    {
     "name": "stdout",
     "output_type": "stream",
     "text": [
      "-------------------- EPOCH 164 END --------------------\n",
      "-------------------- EPOCH 165 START --------------------\n",
      "Training start ...\n",
      "TRAIN:\n",
      "\tAVG_LOSS: 1.7680461451977114\n",
      "\tMAIN_LOSS: 1.2036387769481804\n",
      "\tKD_LOSS: 0.1881357902967477\n",
      "Evaluating start ...\n",
      "VAL:\n",
      "\tAVG_LOSS: 4.202951997518539\n",
      "\tMAIN_LOSS: 3.5853364070256553\n",
      "\tKD_LOSS: 0.2058718539774418\n"
     ]
    },
    {
     "name": "stderr",
     "output_type": "stream",
     "text": [
      "LSM-YOLO summary (fused): 391 layers, 2873048 parameters, 18824 gradients, 12.4 GFLOPs\n",
      "\u001b[34m\u001b[1mval: \u001b[0mScanning /kaggle/working/Br35H-Mask-Prepared/val/labels.cache... 151 images, 225 backgrounds, 0 corrupt: 100%|██████████| 376/376 [00:00<?, ?it/s]\n",
      "                 Class     Images  Instances      Box(P          R      mAP50  mAP50-95): 100%|██████████| 12/12 [00:08<00:00,  1.45it/s]\n",
      "                   all        376        181      0.931      0.724       0.86      0.607\n",
      "/usr/local/lib/python3.11/dist-packages/matplotlib/colors.py:721: RuntimeWarning: invalid value encountered in less\n",
      "  xa[xa < 0] = -1\n",
      "/usr/local/lib/python3.11/dist-packages/matplotlib/colors.py:721: RuntimeWarning: invalid value encountered in less\n",
      "  xa[xa < 0] = -1\n",
      "Speed: 1.8ms preprocess, 16.8ms inference, 0.0ms loss, 0.4ms postprocess per image\n",
      "Results saved to \u001b[1mruns/epoch165\u001b[0m\n"
     ]
    },
    {
     "name": "stdout",
     "output_type": "stream",
     "text": [
      "-------------------- EPOCH 165 END --------------------\n",
      "-------------------- EPOCH 166 START --------------------\n",
      "Training start ...\n",
      "TRAIN:\n",
      "\tAVG_LOSS: 1.7490423751782767\n",
      "\tMAIN_LOSS: 1.191809261901469\n",
      "\tKD_LOSS: 0.18574436970903904\n",
      "Evaluating start ...\n",
      "VAL:\n",
      "\tAVG_LOSS: 4.06526396671931\n",
      "\tMAIN_LOSS: 3.483117093642553\n",
      "\tKD_LOSS: 0.1940489485859871\n"
     ]
    },
    {
     "name": "stderr",
     "output_type": "stream",
     "text": [
      "LSM-YOLO summary (fused): 391 layers, 2873048 parameters, 18824 gradients, 12.4 GFLOPs\n",
      "\u001b[34m\u001b[1mval: \u001b[0mScanning /kaggle/working/Br35H-Mask-Prepared/val/labels.cache... 151 images, 225 backgrounds, 0 corrupt: 100%|██████████| 376/376 [00:00<?, ?it/s]\n",
      "                 Class     Images  Instances      Box(P          R      mAP50  mAP50-95): 100%|██████████| 12/12 [00:08<00:00,  1.40it/s]\n",
      "                   all        376        181      0.978       0.75       0.87      0.613\n",
      "/usr/local/lib/python3.11/dist-packages/matplotlib/colors.py:721: RuntimeWarning: invalid value encountered in less\n",
      "  xa[xa < 0] = -1\n",
      "/usr/local/lib/python3.11/dist-packages/matplotlib/colors.py:721: RuntimeWarning: invalid value encountered in less\n",
      "  xa[xa < 0] = -1\n",
      "Speed: 2.2ms preprocess, 16.7ms inference, 0.0ms loss, 0.4ms postprocess per image\n",
      "Results saved to \u001b[1mruns/epoch166\u001b[0m\n"
     ]
    },
    {
     "name": "stdout",
     "output_type": "stream",
     "text": [
      "-------------------- EPOCH 166 END --------------------\n",
      "-------------------- EPOCH 167 START --------------------\n",
      "Training start ...\n",
      "TRAIN:\n",
      "\tAVG_LOSS: 1.735063377814957\n",
      "\tMAIN_LOSS: 1.1829630513734455\n",
      "\tKD_LOSS: 0.18403344158130355\n",
      "Evaluating start ...\n",
      "VAL:\n",
      "\tAVG_LOSS: 3.8747844298680625\n",
      "\tMAIN_LOSS: 3.2810217340787253\n",
      "\tKD_LOSS: 0.19792088493704796\n"
     ]
    },
    {
     "name": "stderr",
     "output_type": "stream",
     "text": [
      "LSM-YOLO summary (fused): 391 layers, 2873048 parameters, 18824 gradients, 12.4 GFLOPs\n",
      "\u001b[34m\u001b[1mval: \u001b[0mScanning /kaggle/working/Br35H-Mask-Prepared/val/labels.cache... 151 images, 225 backgrounds, 0 corrupt: 100%|██████████| 376/376 [00:00<?, ?it/s]\n",
      "                 Class     Images  Instances      Box(P          R      mAP50  mAP50-95): 100%|██████████| 12/12 [00:08<00:00,  1.42it/s]\n",
      "                   all        376        181      0.969       0.79      0.877       0.61\n",
      "/usr/local/lib/python3.11/dist-packages/matplotlib/colors.py:721: RuntimeWarning: invalid value encountered in less\n",
      "  xa[xa < 0] = -1\n",
      "/usr/local/lib/python3.11/dist-packages/matplotlib/colors.py:721: RuntimeWarning: invalid value encountered in less\n",
      "  xa[xa < 0] = -1\n",
      "Speed: 1.9ms preprocess, 16.7ms inference, 0.0ms loss, 0.4ms postprocess per image\n",
      "Results saved to \u001b[1mruns/epoch167\u001b[0m\n"
     ]
    },
    {
     "name": "stdout",
     "output_type": "stream",
     "text": [
      "-------------------- EPOCH 167 END --------------------\n",
      "-------------------- EPOCH 168 START --------------------\n",
      "Training start ...\n",
      "TRAIN:\n",
      "\tAVG_LOSS: 1.7530104238775712\n",
      "\tMAIN_LOSS: 1.199193519882009\n",
      "\tKD_LOSS: 0.1846056354196766\n",
      "Evaluating start ...\n",
      "VAL:\n",
      "\tAVG_LOSS: 4.00187752644221\n",
      "\tMAIN_LOSS: 3.4313414792219796\n",
      "\tKD_LOSS: 0.19017868178586164\n"
     ]
    },
    {
     "name": "stderr",
     "output_type": "stream",
     "text": [
      "LSM-YOLO summary (fused): 391 layers, 2873048 parameters, 18824 gradients, 12.4 GFLOPs\n",
      "\u001b[34m\u001b[1mval: \u001b[0mScanning /kaggle/working/Br35H-Mask-Prepared/val/labels.cache... 151 images, 225 backgrounds, 0 corrupt: 100%|██████████| 376/376 [00:00<?, ?it/s]\n",
      "                 Class     Images  Instances      Box(P          R      mAP50  mAP50-95): 100%|██████████| 12/12 [00:08<00:00,  1.42it/s]\n",
      "                   all        376        181      0.957      0.768      0.883       0.62\n",
      "/usr/local/lib/python3.11/dist-packages/matplotlib/colors.py:721: RuntimeWarning: invalid value encountered in less\n",
      "  xa[xa < 0] = -1\n",
      "/usr/local/lib/python3.11/dist-packages/matplotlib/colors.py:721: RuntimeWarning: invalid value encountered in less\n",
      "  xa[xa < 0] = -1\n",
      "Speed: 2.0ms preprocess, 16.7ms inference, 0.0ms loss, 0.4ms postprocess per image\n",
      "Results saved to \u001b[1mruns/epoch168\u001b[0m\n"
     ]
    },
    {
     "name": "stdout",
     "output_type": "stream",
     "text": [
      "-------------------- EPOCH 168 END --------------------\n",
      "-------------------- EPOCH 169 START --------------------\n",
      "Training start ...\n",
      "TRAIN:\n",
      "\tAVG_LOSS: 1.71783545047422\n",
      "\tMAIN_LOSS: 1.1692194667043565\n",
      "\tKD_LOSS: 0.18287199264085746\n",
      "Evaluating start ...\n",
      "VAL:\n",
      "\tAVG_LOSS: 3.9419891138871512\n",
      "\tMAIN_LOSS: 3.365947117408117\n",
      "\tKD_LOSS: 0.19201399572193623\n"
     ]
    },
    {
     "name": "stderr",
     "output_type": "stream",
     "text": [
      "LSM-YOLO summary (fused): 391 layers, 2873048 parameters, 18824 gradients, 12.4 GFLOPs\n",
      "\u001b[34m\u001b[1mval: \u001b[0mScanning /kaggle/working/Br35H-Mask-Prepared/val/labels.cache... 151 images, 225 backgrounds, 0 corrupt: 100%|██████████| 376/376 [00:00<?, ?it/s]\n",
      "                 Class     Images  Instances      Box(P          R      mAP50  mAP50-95): 100%|██████████| 12/12 [00:08<00:00,  1.44it/s]\n",
      "                   all        376        181      0.927      0.768      0.864      0.602\n",
      "/usr/local/lib/python3.11/dist-packages/matplotlib/colors.py:721: RuntimeWarning: invalid value encountered in less\n",
      "  xa[xa < 0] = -1\n",
      "/usr/local/lib/python3.11/dist-packages/matplotlib/colors.py:721: RuntimeWarning: invalid value encountered in less\n",
      "  xa[xa < 0] = -1\n",
      "Speed: 1.8ms preprocess, 16.8ms inference, 0.0ms loss, 0.4ms postprocess per image\n",
      "Results saved to \u001b[1mruns/epoch169\u001b[0m\n"
     ]
    },
    {
     "name": "stdout",
     "output_type": "stream",
     "text": [
      "-------------------- EPOCH 169 END --------------------\n",
      "-------------------- EPOCH 170 START --------------------\n",
      "Training start ...\n",
      "TRAIN:\n",
      "\tAVG_LOSS: 1.734818186186537\n",
      "\tMAIN_LOSS: 1.1804723105853117\n",
      "\tKD_LOSS: 0.18478195897386043\n",
      "Evaluating start ...\n",
      "VAL:\n",
      "\tAVG_LOSS: 4.045957545439403\n",
      "\tMAIN_LOSS: 3.457636003692945\n",
      "\tKD_LOSS: 0.19610718016823134\n"
     ]
    },
    {
     "name": "stderr",
     "output_type": "stream",
     "text": [
      "LSM-YOLO summary (fused): 391 layers, 2873048 parameters, 18824 gradients, 12.4 GFLOPs\n",
      "\u001b[34m\u001b[1mval: \u001b[0mScanning /kaggle/working/Br35H-Mask-Prepared/val/labels.cache... 151 images, 225 backgrounds, 0 corrupt: 100%|██████████| 376/376 [00:00<?, ?it/s]\n",
      "                 Class     Images  Instances      Box(P          R      mAP50  mAP50-95): 100%|██████████| 12/12 [00:08<00:00,  1.44it/s]\n",
      "                   all        376        181      0.883       0.79      0.887      0.622\n",
      "/usr/local/lib/python3.11/dist-packages/matplotlib/colors.py:721: RuntimeWarning: invalid value encountered in less\n",
      "  xa[xa < 0] = -1\n",
      "/usr/local/lib/python3.11/dist-packages/matplotlib/colors.py:721: RuntimeWarning: invalid value encountered in less\n",
      "  xa[xa < 0] = -1\n",
      "Speed: 1.9ms preprocess, 16.7ms inference, 0.0ms loss, 0.3ms postprocess per image\n",
      "Results saved to \u001b[1mruns/epoch170\u001b[0m\n"
     ]
    },
    {
     "name": "stdout",
     "output_type": "stream",
     "text": [
      "-------------------- EPOCH 170 END --------------------\n",
      "-------------------- EPOCH 171 START --------------------\n",
      "Training start ...\n",
      "TRAIN:\n",
      "\tAVG_LOSS: 1.7951339121106304\n",
      "\tMAIN_LOSS: 1.2291771007489554\n",
      "\tKD_LOSS: 0.18865227152275132\n",
      "Evaluating start ...\n",
      "VAL:\n",
      "\tAVG_LOSS: 3.8948378761609397\n",
      "\tMAIN_LOSS: 3.2904971639315286\n",
      "\tKD_LOSS: 0.2014468957980474\n"
     ]
    },
    {
     "name": "stderr",
     "output_type": "stream",
     "text": [
      "LSM-YOLO summary (fused): 391 layers, 2873048 parameters, 18824 gradients, 12.4 GFLOPs\n",
      "\u001b[34m\u001b[1mval: \u001b[0mScanning /kaggle/working/Br35H-Mask-Prepared/val/labels.cache... 151 images, 225 backgrounds, 0 corrupt: 100%|██████████| 376/376 [00:00<?, ?it/s]\n",
      "                 Class     Images  Instances      Box(P          R      mAP50  mAP50-95): 100%|██████████| 12/12 [00:08<00:00,  1.42it/s]\n",
      "                   all        376        181      0.965       0.77      0.868      0.621\n",
      "/usr/local/lib/python3.11/dist-packages/matplotlib/colors.py:721: RuntimeWarning: invalid value encountered in less\n",
      "  xa[xa < 0] = -1\n",
      "/usr/local/lib/python3.11/dist-packages/matplotlib/colors.py:721: RuntimeWarning: invalid value encountered in less\n",
      "  xa[xa < 0] = -1\n",
      "Speed: 1.9ms preprocess, 16.7ms inference, 0.0ms loss, 0.4ms postprocess per image\n",
      "Results saved to \u001b[1mruns/epoch171\u001b[0m\n"
     ]
    },
    {
     "name": "stdout",
     "output_type": "stream",
     "text": [
      "-------------------- EPOCH 171 END --------------------\n",
      "-------------------- EPOCH 172 START --------------------\n",
      "Training start ...\n",
      "TRAIN:\n",
      "\tAVG_LOSS: 1.7976558163196226\n",
      "\tMAIN_LOSS: 1.2362275538565237\n",
      "\tKD_LOSS: 0.1871427557890928\n",
      "Evaluating start ...\n",
      "VAL:\n",
      "\tAVG_LOSS: 4.072616696357727\n",
      "\tMAIN_LOSS: 3.476442982753118\n",
      "\tKD_LOSS: 0.19872457906603813\n"
     ]
    },
    {
     "name": "stderr",
     "output_type": "stream",
     "text": [
      "LSM-YOLO summary (fused): 391 layers, 2873048 parameters, 18824 gradients, 12.4 GFLOPs\n",
      "\u001b[34m\u001b[1mval: \u001b[0mScanning /kaggle/working/Br35H-Mask-Prepared/val/labels.cache... 151 images, 225 backgrounds, 0 corrupt: 100%|██████████| 376/376 [00:00<?, ?it/s]\n",
      "                 Class     Images  Instances      Box(P          R      mAP50  mAP50-95): 100%|██████████| 12/12 [00:08<00:00,  1.41it/s]\n",
      "                   all        376        181      0.934      0.751      0.863      0.609\n",
      "/usr/local/lib/python3.11/dist-packages/matplotlib/colors.py:721: RuntimeWarning: invalid value encountered in less\n",
      "  xa[xa < 0] = -1\n",
      "/usr/local/lib/python3.11/dist-packages/matplotlib/colors.py:721: RuntimeWarning: invalid value encountered in less\n",
      "  xa[xa < 0] = -1\n",
      "Speed: 2.0ms preprocess, 16.7ms inference, 0.0ms loss, 0.4ms postprocess per image\n",
      "Results saved to \u001b[1mruns/epoch172\u001b[0m\n"
     ]
    },
    {
     "name": "stdout",
     "output_type": "stream",
     "text": [
      "-------------------- EPOCH 172 END --------------------\n",
      "-------------------- EPOCH 173 START --------------------\n",
      "Training start ...\n",
      "TRAIN:\n",
      "\tAVG_LOSS: 1.7401268934901757\n",
      "\tMAIN_LOSS: 1.1872714757919312\n",
      "\tKD_LOSS: 0.18428514067885243\n",
      "Evaluating start ...\n",
      "VAL:\n",
      "\tAVG_LOSS: 3.924556920925776\n",
      "\tMAIN_LOSS: 3.3557113806406655\n",
      "\tKD_LOSS: 0.1896151682982842\n"
     ]
    },
    {
     "name": "stderr",
     "output_type": "stream",
     "text": [
      "LSM-YOLO summary (fused): 391 layers, 2873048 parameters, 18824 gradients, 12.4 GFLOPs\n",
      "\u001b[34m\u001b[1mval: \u001b[0mScanning /kaggle/working/Br35H-Mask-Prepared/val/labels.cache... 151 images, 225 backgrounds, 0 corrupt: 100%|██████████| 376/376 [00:00<?, ?it/s]\n",
      "                 Class     Images  Instances      Box(P          R      mAP50  mAP50-95): 100%|██████████| 12/12 [00:08<00:00,  1.43it/s]\n",
      "                   all        376        181      0.921      0.777      0.885      0.634\n",
      "/usr/local/lib/python3.11/dist-packages/matplotlib/colors.py:721: RuntimeWarning: invalid value encountered in less\n",
      "  xa[xa < 0] = -1\n",
      "/usr/local/lib/python3.11/dist-packages/matplotlib/colors.py:721: RuntimeWarning: invalid value encountered in less\n",
      "  xa[xa < 0] = -1\n",
      "Speed: 2.0ms preprocess, 16.8ms inference, 0.0ms loss, 0.3ms postprocess per image\n",
      "Results saved to \u001b[1mruns/epoch173\u001b[0m\n"
     ]
    },
    {
     "name": "stdout",
     "output_type": "stream",
     "text": [
      "Epoch 173: New best mAP: 0.6339, model saved.\n",
      "-------------------- EPOCH 173 END --------------------\n",
      "-------------------- EPOCH 174 START --------------------\n",
      "Training start ...\n",
      "TRAIN:\n",
      "\tAVG_LOSS: 1.7177156028868277\n",
      "\tMAIN_LOSS: 1.1734987263438068\n",
      "\tKD_LOSS: 0.18140562425685836\n",
      "Evaluating start ...\n",
      "VAL:\n",
      "\tAVG_LOSS: 3.9913650155067444\n",
      "\tMAIN_LOSS: 3.4202205737431846\n",
      "\tKD_LOSS: 0.19038147293031216\n"
     ]
    },
    {
     "name": "stderr",
     "output_type": "stream",
     "text": [
      "LSM-YOLO summary (fused): 391 layers, 2873048 parameters, 18824 gradients, 12.4 GFLOPs\n",
      "\u001b[34m\u001b[1mval: \u001b[0mScanning /kaggle/working/Br35H-Mask-Prepared/val/labels.cache... 151 images, 225 backgrounds, 0 corrupt: 100%|██████████| 376/376 [00:00<?, ?it/s]\n",
      "                 Class     Images  Instances      Box(P          R      mAP50  mAP50-95): 100%|██████████| 12/12 [00:08<00:00,  1.43it/s]\n",
      "                   all        376        181      0.937      0.733      0.862      0.617\n",
      "/usr/local/lib/python3.11/dist-packages/matplotlib/colors.py:721: RuntimeWarning: invalid value encountered in less\n",
      "  xa[xa < 0] = -1\n",
      "/usr/local/lib/python3.11/dist-packages/matplotlib/colors.py:721: RuntimeWarning: invalid value encountered in less\n",
      "  xa[xa < 0] = -1\n",
      "Speed: 1.9ms preprocess, 16.7ms inference, 0.0ms loss, 0.4ms postprocess per image\n",
      "Results saved to \u001b[1mruns/epoch174\u001b[0m\n"
     ]
    },
    {
     "name": "stdout",
     "output_type": "stream",
     "text": [
      "-------------------- EPOCH 174 END --------------------\n",
      "-------------------- EPOCH 175 START --------------------\n",
      "Training start ...\n",
      "TRAIN:\n",
      "\tAVG_LOSS: 1.756416228753102\n",
      "\tMAIN_LOSS: 1.2044112395636644\n",
      "\tKD_LOSS: 0.18400166155416756\n",
      "Evaluating start ...\n",
      "VAL:\n",
      "\tAVG_LOSS: 4.030488342046738\n",
      "\tMAIN_LOSS: 3.4589947362740836\n",
      "\tKD_LOSS: 0.1904978690048059\n"
     ]
    },
    {
     "name": "stderr",
     "output_type": "stream",
     "text": [
      "LSM-YOLO summary (fused): 391 layers, 2873048 parameters, 18824 gradients, 12.4 GFLOPs\n",
      "\u001b[34m\u001b[1mval: \u001b[0mScanning /kaggle/working/Br35H-Mask-Prepared/val/labels.cache... 151 images, 225 backgrounds, 0 corrupt: 100%|██████████| 376/376 [00:00<?, ?it/s]\n",
      "                 Class     Images  Instances      Box(P          R      mAP50  mAP50-95): 100%|██████████| 12/12 [00:08<00:00,  1.40it/s]\n",
      "                   all        376        181      0.965      0.773      0.892      0.619\n",
      "/usr/local/lib/python3.11/dist-packages/matplotlib/colors.py:721: RuntimeWarning: invalid value encountered in less\n",
      "  xa[xa < 0] = -1\n",
      "/usr/local/lib/python3.11/dist-packages/matplotlib/colors.py:721: RuntimeWarning: invalid value encountered in less\n",
      "  xa[xa < 0] = -1\n",
      "Speed: 2.1ms preprocess, 16.7ms inference, 0.0ms loss, 0.4ms postprocess per image\n",
      "Results saved to \u001b[1mruns/epoch175\u001b[0m\n"
     ]
    },
    {
     "name": "stdout",
     "output_type": "stream",
     "text": [
      "-------------------- EPOCH 175 END --------------------\n",
      "-------------------- EPOCH 176 START --------------------\n",
      "Training start ...\n",
      "TRAIN:\n",
      "\tAVG_LOSS: 1.7190892786919316\n",
      "\tMAIN_LOSS: 1.1689004392563542\n",
      "\tKD_LOSS: 0.18339627962323685\n",
      "Evaluating start ...\n",
      "VAL:\n",
      "\tAVG_LOSS: 4.033201475938161\n",
      "\tMAIN_LOSS: 3.4572684516509375\n",
      "\tKD_LOSS: 0.19197767972946167\n"
     ]
    },
    {
     "name": "stderr",
     "output_type": "stream",
     "text": [
      "LSM-YOLO summary (fused): 391 layers, 2873048 parameters, 18824 gradients, 12.4 GFLOPs\n",
      "\u001b[34m\u001b[1mval: \u001b[0mScanning /kaggle/working/Br35H-Mask-Prepared/val/labels.cache... 151 images, 225 backgrounds, 0 corrupt: 100%|██████████| 376/376 [00:00<?, ?it/s]\n",
      "                 Class     Images  Instances      Box(P          R      mAP50  mAP50-95): 100%|██████████| 12/12 [00:08<00:00,  1.43it/s]\n",
      "                   all        376        181      0.887      0.796      0.879      0.623\n",
      "/usr/local/lib/python3.11/dist-packages/matplotlib/colors.py:721: RuntimeWarning: invalid value encountered in less\n",
      "  xa[xa < 0] = -1\n",
      "/usr/local/lib/python3.11/dist-packages/matplotlib/colors.py:721: RuntimeWarning: invalid value encountered in less\n",
      "  xa[xa < 0] = -1\n",
      "Speed: 1.9ms preprocess, 16.7ms inference, 0.0ms loss, 0.4ms postprocess per image\n",
      "Results saved to \u001b[1mruns/epoch176\u001b[0m\n"
     ]
    },
    {
     "name": "stdout",
     "output_type": "stream",
     "text": [
      "-------------------- EPOCH 176 END --------------------\n",
      "-------------------- EPOCH 177 START --------------------\n",
      "Training start ...\n",
      "TRAIN:\n",
      "\tAVG_LOSS: 1.7022096831587297\n",
      "\tMAIN_LOSS: 1.1596377439136747\n",
      "\tKD_LOSS: 0.1808573130188109\n",
      "Evaluating start ...\n",
      "VAL:\n",
      "\tAVG_LOSS: 3.9788531064987183\n",
      "\tMAIN_LOSS: 3.4196425080299377\n",
      "\tKD_LOSS: 0.18640354027350745\n"
     ]
    },
    {
     "name": "stderr",
     "output_type": "stream",
     "text": [
      "LSM-YOLO summary (fused): 391 layers, 2873048 parameters, 18824 gradients, 12.4 GFLOPs\n",
      "\u001b[34m\u001b[1mval: \u001b[0mScanning /kaggle/working/Br35H-Mask-Prepared/val/labels.cache... 151 images, 225 backgrounds, 0 corrupt: 100%|██████████| 376/376 [00:00<?, ?it/s]\n",
      "                 Class     Images  Instances      Box(P          R      mAP50  mAP50-95): 100%|██████████| 12/12 [00:08<00:00,  1.45it/s]\n",
      "                   all        376        181      0.932      0.755      0.867      0.617\n",
      "/usr/local/lib/python3.11/dist-packages/matplotlib/colors.py:721: RuntimeWarning: invalid value encountered in less\n",
      "  xa[xa < 0] = -1\n",
      "/usr/local/lib/python3.11/dist-packages/matplotlib/colors.py:721: RuntimeWarning: invalid value encountered in less\n",
      "  xa[xa < 0] = -1\n",
      "Speed: 1.7ms preprocess, 16.8ms inference, 0.0ms loss, 0.4ms postprocess per image\n",
      "Results saved to \u001b[1mruns/epoch177\u001b[0m\n"
     ]
    },
    {
     "name": "stdout",
     "output_type": "stream",
     "text": [
      "-------------------- EPOCH 177 END --------------------\n",
      "-------------------- EPOCH 178 START --------------------\n",
      "Training start ...\n",
      "TRAIN:\n",
      "\tAVG_LOSS: 1.7091187932823277\n",
      "\tMAIN_LOSS: 1.1696117550511904\n",
      "\tKD_LOSS: 0.17983567884451226\n",
      "Evaluating start ...\n",
      "VAL:\n",
      "\tAVG_LOSS: 4.243654529253642\n",
      "\tMAIN_LOSS: 3.6645914812882743\n",
      "\tKD_LOSS: 0.19302102364599705\n"
     ]
    },
    {
     "name": "stderr",
     "output_type": "stream",
     "text": [
      "LSM-YOLO summary (fused): 391 layers, 2873048 parameters, 18824 gradients, 12.4 GFLOPs\n",
      "\u001b[34m\u001b[1mval: \u001b[0mScanning /kaggle/working/Br35H-Mask-Prepared/val/labels.cache... 151 images, 225 backgrounds, 0 corrupt: 100%|██████████| 376/376 [00:00<?, ?it/s]\n",
      "                 Class     Images  Instances      Box(P          R      mAP50  mAP50-95): 100%|██████████| 12/12 [00:08<00:00,  1.43it/s]\n",
      "                   all        376        181      0.932      0.755      0.846      0.593\n",
      "/usr/local/lib/python3.11/dist-packages/matplotlib/colors.py:721: RuntimeWarning: invalid value encountered in less\n",
      "  xa[xa < 0] = -1\n",
      "/usr/local/lib/python3.11/dist-packages/matplotlib/colors.py:721: RuntimeWarning: invalid value encountered in less\n",
      "  xa[xa < 0] = -1\n",
      "Speed: 1.9ms preprocess, 16.7ms inference, 0.0ms loss, 0.4ms postprocess per image\n",
      "Results saved to \u001b[1mruns/epoch178\u001b[0m\n"
     ]
    },
    {
     "name": "stdout",
     "output_type": "stream",
     "text": [
      "-------------------- EPOCH 178 END --------------------\n",
      "-------------------- EPOCH 179 START --------------------\n",
      "Training start ...\n",
      "TRAIN:\n",
      "\tAVG_LOSS: 1.7577730341802669\n",
      "\tMAIN_LOSS: 1.2094785374931143\n",
      "\tKD_LOSS: 0.1827648327320437\n",
      "Evaluating start ...\n",
      "VAL:\n",
      "\tAVG_LOSS: 4.045450518528621\n",
      "\tMAIN_LOSS: 3.4569573203722634\n",
      "\tKD_LOSS: 0.19616438945134482\n"
     ]
    },
    {
     "name": "stderr",
     "output_type": "stream",
     "text": [
      "LSM-YOLO summary (fused): 391 layers, 2873048 parameters, 18824 gradients, 12.4 GFLOPs\n",
      "\u001b[34m\u001b[1mval: \u001b[0mScanning /kaggle/working/Br35H-Mask-Prepared/val/labels.cache... 151 images, 225 backgrounds, 0 corrupt: 100%|██████████| 376/376 [00:00<?, ?it/s]\n",
      "                 Class     Images  Instances      Box(P          R      mAP50  mAP50-95): 100%|██████████| 12/12 [00:08<00:00,  1.42it/s]\n",
      "                   all        376        181      0.962      0.751      0.873      0.631\n",
      "/usr/local/lib/python3.11/dist-packages/matplotlib/colors.py:721: RuntimeWarning: invalid value encountered in less\n",
      "  xa[xa < 0] = -1\n",
      "/usr/local/lib/python3.11/dist-packages/matplotlib/colors.py:721: RuntimeWarning: invalid value encountered in less\n",
      "  xa[xa < 0] = -1\n",
      "Speed: 2.0ms preprocess, 16.7ms inference, 0.0ms loss, 0.4ms postprocess per image\n",
      "Results saved to \u001b[1mruns/epoch179\u001b[0m\n"
     ]
    },
    {
     "name": "stdout",
     "output_type": "stream",
     "text": [
      "-------------------- EPOCH 179 END --------------------\n",
      "-------------------- EPOCH 180 START --------------------\n",
      "Training start ...\n",
      "TRAIN:\n",
      "\tAVG_LOSS: 1.715428027925612\n",
      "\tMAIN_LOSS: 1.1743102654626099\n",
      "\tKD_LOSS: 0.1803725854128222\n",
      "Evaluating start ...\n",
      "VAL:\n",
      "\tAVG_LOSS: 3.906462788581848\n",
      "\tMAIN_LOSS: 3.3422259291013083\n",
      "\tKD_LOSS: 0.18807895543674627\n"
     ]
    },
    {
     "name": "stderr",
     "output_type": "stream",
     "text": [
      "LSM-YOLO summary (fused): 391 layers, 2873048 parameters, 18824 gradients, 12.4 GFLOPs\n",
      "\u001b[34m\u001b[1mval: \u001b[0mScanning /kaggle/working/Br35H-Mask-Prepared/val/labels.cache... 151 images, 225 backgrounds, 0 corrupt: 100%|██████████| 376/376 [00:00<?, ?it/s]\n",
      "                 Class     Images  Instances      Box(P          R      mAP50  mAP50-95): 100%|██████████| 12/12 [00:08<00:00,  1.41it/s]\n",
      "                   all        376        181      0.897      0.768      0.874      0.617\n",
      "/usr/local/lib/python3.11/dist-packages/matplotlib/colors.py:721: RuntimeWarning: invalid value encountered in less\n",
      "  xa[xa < 0] = -1\n",
      "/usr/local/lib/python3.11/dist-packages/matplotlib/colors.py:721: RuntimeWarning: invalid value encountered in less\n",
      "  xa[xa < 0] = -1\n",
      "Speed: 2.1ms preprocess, 16.7ms inference, 0.0ms loss, 0.3ms postprocess per image\n",
      "Results saved to \u001b[1mruns/epoch180\u001b[0m\n"
     ]
    },
    {
     "name": "stdout",
     "output_type": "stream",
     "text": [
      "-------------------- EPOCH 180 END --------------------\n",
      "-------------------- EPOCH 181 START --------------------\n",
      "Training start ...\n",
      "TRAIN:\n",
      "\tAVG_LOSS: 1.7051826353314556\n",
      "\tMAIN_LOSS: 1.1707426354854922\n",
      "\tKD_LOSS: 0.17814666636382478\n",
      "Evaluating start ...\n",
      "VAL:\n",
      "\tAVG_LOSS: 3.9407889346281686\n",
      "\tMAIN_LOSS: 3.3536616265773773\n",
      "\tKD_LOSS: 0.19570910496016344\n"
     ]
    },
    {
     "name": "stderr",
     "output_type": "stream",
     "text": [
      "LSM-YOLO summary (fused): 391 layers, 2873048 parameters, 18824 gradients, 12.4 GFLOPs\n",
      "\u001b[34m\u001b[1mval: \u001b[0mScanning /kaggle/working/Br35H-Mask-Prepared/val/labels.cache... 151 images, 225 backgrounds, 0 corrupt: 100%|██████████| 376/376 [00:00<?, ?it/s]\n",
      "                 Class     Images  Instances      Box(P          R      mAP50  mAP50-95): 100%|██████████| 12/12 [00:08<00:00,  1.45it/s]\n",
      "                   all        376        181      0.882      0.829      0.886      0.626\n",
      "/usr/local/lib/python3.11/dist-packages/matplotlib/colors.py:721: RuntimeWarning: invalid value encountered in less\n",
      "  xa[xa < 0] = -1\n",
      "/usr/local/lib/python3.11/dist-packages/matplotlib/colors.py:721: RuntimeWarning: invalid value encountered in less\n",
      "  xa[xa < 0] = -1\n",
      "Speed: 1.7ms preprocess, 16.7ms inference, 0.0ms loss, 0.4ms postprocess per image\n",
      "Results saved to \u001b[1mruns/epoch181\u001b[0m\n"
     ]
    },
    {
     "name": "stdout",
     "output_type": "stream",
     "text": [
      "-------------------- EPOCH 181 END --------------------\n",
      "-------------------- EPOCH 182 START --------------------\n",
      "Training start ...\n",
      "TRAIN:\n",
      "\tAVG_LOSS: 1.695798557015914\n",
      "\tMAIN_LOSS: 1.1615065426766118\n",
      "\tKD_LOSS: 0.17809733729573746\n",
      "Evaluating start ...\n",
      "VAL:\n",
      "\tAVG_LOSS: 3.9419363935788474\n",
      "\tMAIN_LOSS: 3.3847744464874268\n",
      "\tKD_LOSS: 0.1857206498583158\n"
     ]
    },
    {
     "name": "stderr",
     "output_type": "stream",
     "text": [
      "LSM-YOLO summary (fused): 391 layers, 2873048 parameters, 18824 gradients, 12.4 GFLOPs\n",
      "\u001b[34m\u001b[1mval: \u001b[0mScanning /kaggle/working/Br35H-Mask-Prepared/val/labels.cache... 151 images, 225 backgrounds, 0 corrupt: 100%|██████████| 376/376 [00:00<?, ?it/s]\n",
      "                 Class     Images  Instances      Box(P          R      mAP50  mAP50-95): 100%|██████████| 12/12 [00:08<00:00,  1.43it/s]\n",
      "                   all        376        181      0.902      0.779      0.867      0.609\n",
      "/usr/local/lib/python3.11/dist-packages/matplotlib/colors.py:721: RuntimeWarning: invalid value encountered in less\n",
      "  xa[xa < 0] = -1\n",
      "/usr/local/lib/python3.11/dist-packages/matplotlib/colors.py:721: RuntimeWarning: invalid value encountered in less\n",
      "  xa[xa < 0] = -1\n",
      "Speed: 1.7ms preprocess, 16.8ms inference, 0.0ms loss, 0.4ms postprocess per image\n",
      "Results saved to \u001b[1mruns/epoch182\u001b[0m\n"
     ]
    },
    {
     "name": "stdout",
     "output_type": "stream",
     "text": [
      "-------------------- EPOCH 182 END --------------------\n",
      "-------------------- EPOCH 183 START --------------------\n",
      "Training start ...\n",
      "TRAIN:\n",
      "\tAVG_LOSS: 1.6886823871467687\n",
      "\tMAIN_LOSS: 1.1564657273171823\n",
      "\tKD_LOSS: 0.1774055523962914\n",
      "Evaluating start ...\n",
      "VAL:\n",
      "\tAVG_LOSS: 4.048868238925934\n",
      "\tMAIN_LOSS: 3.492600232362747\n",
      "\tKD_LOSS: 0.18542266885439554\n"
     ]
    },
    {
     "name": "stderr",
     "output_type": "stream",
     "text": [
      "LSM-YOLO summary (fused): 391 layers, 2873048 parameters, 18824 gradients, 12.4 GFLOPs\n",
      "\u001b[34m\u001b[1mval: \u001b[0mScanning /kaggle/working/Br35H-Mask-Prepared/val/labels.cache... 151 images, 225 backgrounds, 0 corrupt: 100%|██████████| 376/376 [00:00<?, ?it/s]\n",
      "                 Class     Images  Instances      Box(P          R      mAP50  mAP50-95): 100%|██████████| 12/12 [00:08<00:00,  1.40it/s]\n",
      "                   all        376        181      0.891      0.768      0.864      0.615\n",
      "/usr/local/lib/python3.11/dist-packages/matplotlib/colors.py:721: RuntimeWarning: invalid value encountered in less\n",
      "  xa[xa < 0] = -1\n",
      "/usr/local/lib/python3.11/dist-packages/matplotlib/colors.py:721: RuntimeWarning: invalid value encountered in less\n",
      "  xa[xa < 0] = -1\n",
      "Speed: 2.1ms preprocess, 16.7ms inference, 0.0ms loss, 0.4ms postprocess per image\n",
      "Results saved to \u001b[1mruns/epoch183\u001b[0m\n"
     ]
    },
    {
     "name": "stdout",
     "output_type": "stream",
     "text": [
      "-------------------- EPOCH 183 END --------------------\n",
      "-------------------- EPOCH 184 START --------------------\n",
      "Training start ...\n",
      "TRAIN:\n",
      "\tAVG_LOSS: 1.6748006343841553\n",
      "\tMAIN_LOSS: 1.1473691757721236\n",
      "\tKD_LOSS: 0.17581048796448526\n",
      "Evaluating start ...\n",
      "VAL:\n",
      "\tAVG_LOSS: 3.926238918056091\n",
      "\tMAIN_LOSS: 3.375447561343511\n",
      "\tKD_LOSS: 0.1835971319427093\n"
     ]
    },
    {
     "name": "stderr",
     "output_type": "stream",
     "text": [
      "LSM-YOLO summary (fused): 391 layers, 2873048 parameters, 18824 gradients, 12.4 GFLOPs\n",
      "\u001b[34m\u001b[1mval: \u001b[0mScanning /kaggle/working/Br35H-Mask-Prepared/val/labels.cache... 151 images, 225 backgrounds, 0 corrupt: 100%|██████████| 376/376 [00:00<?, ?it/s]\n",
      "                 Class     Images  Instances      Box(P          R      mAP50  mAP50-95): 100%|██████████| 12/12 [00:08<00:00,  1.43it/s]\n",
      "                   all        376        181      0.979      0.771       0.89      0.638\n",
      "/usr/local/lib/python3.11/dist-packages/matplotlib/colors.py:721: RuntimeWarning: invalid value encountered in less\n",
      "  xa[xa < 0] = -1\n",
      "/usr/local/lib/python3.11/dist-packages/matplotlib/colors.py:721: RuntimeWarning: invalid value encountered in less\n",
      "  xa[xa < 0] = -1\n",
      "Speed: 2.0ms preprocess, 16.7ms inference, 0.0ms loss, 0.3ms postprocess per image\n",
      "Results saved to \u001b[1mruns/epoch184\u001b[0m\n"
     ]
    },
    {
     "name": "stdout",
     "output_type": "stream",
     "text": [
      "Epoch 184: New best mAP: 0.6377, model saved.\n",
      "-------------------- EPOCH 184 END --------------------\n",
      "-------------------- EPOCH 185 START --------------------\n",
      "Training start ...\n",
      "TRAIN:\n",
      "\tAVG_LOSS: 1.6677682565737375\n",
      "\tMAIN_LOSS: 1.14343727766713\n",
      "\tKD_LOSS: 0.17477699378623238\n",
      "Evaluating start ...\n",
      "VAL:\n",
      "\tAVG_LOSS: 3.857892155647278\n",
      "\tMAIN_LOSS: 3.307963341474533\n",
      "\tKD_LOSS: 0.18330960099895796\n"
     ]
    },
    {
     "name": "stderr",
     "output_type": "stream",
     "text": [
      "LSM-YOLO summary (fused): 391 layers, 2873048 parameters, 18824 gradients, 12.4 GFLOPs\n",
      "\u001b[34m\u001b[1mval: \u001b[0mScanning /kaggle/working/Br35H-Mask-Prepared/val/labels.cache... 151 images, 225 backgrounds, 0 corrupt: 100%|██████████| 376/376 [00:00<?, ?it/s]\n",
      "                 Class     Images  Instances      Box(P          R      mAP50  mAP50-95): 100%|██████████| 12/12 [00:08<00:00,  1.42it/s]\n",
      "                   all        376        181      0.945      0.759      0.878      0.627\n",
      "/usr/local/lib/python3.11/dist-packages/matplotlib/colors.py:721: RuntimeWarning: invalid value encountered in less\n",
      "  xa[xa < 0] = -1\n",
      "/usr/local/lib/python3.11/dist-packages/matplotlib/colors.py:721: RuntimeWarning: invalid value encountered in less\n",
      "  xa[xa < 0] = -1\n",
      "Speed: 1.9ms preprocess, 16.7ms inference, 0.0ms loss, 0.3ms postprocess per image\n",
      "Results saved to \u001b[1mruns/epoch185\u001b[0m\n"
     ]
    },
    {
     "name": "stdout",
     "output_type": "stream",
     "text": [
      "-------------------- EPOCH 185 END --------------------\n",
      "-------------------- EPOCH 186 START --------------------\n",
      "Training start ...\n",
      "TRAIN:\n",
      "\tAVG_LOSS: 1.6617148028144353\n",
      "\tMAIN_LOSS: 1.1350192925598048\n",
      "\tKD_LOSS: 0.17556516958188406\n",
      "Evaluating start ...\n",
      "VAL:\n",
      "\tAVG_LOSS: 4.014167815446854\n",
      "\tMAIN_LOSS: 3.4520053962866464\n",
      "\tKD_LOSS: 0.1873874720185995\n"
     ]
    },
    {
     "name": "stderr",
     "output_type": "stream",
     "text": [
      "LSM-YOLO summary (fused): 391 layers, 2873048 parameters, 18824 gradients, 12.4 GFLOPs\n",
      "\u001b[34m\u001b[1mval: \u001b[0mScanning /kaggle/working/Br35H-Mask-Prepared/val/labels.cache... 151 images, 225 backgrounds, 0 corrupt: 100%|██████████| 376/376 [00:00<?, ?it/s]\n",
      "                 Class     Images  Instances      Box(P          R      mAP50  mAP50-95): 100%|██████████| 12/12 [00:08<00:00,  1.43it/s]\n",
      "                   all        376        181      0.885      0.767      0.863      0.615\n",
      "/usr/local/lib/python3.11/dist-packages/matplotlib/colors.py:721: RuntimeWarning: invalid value encountered in less\n",
      "  xa[xa < 0] = -1\n",
      "/usr/local/lib/python3.11/dist-packages/matplotlib/colors.py:721: RuntimeWarning: invalid value encountered in less\n",
      "  xa[xa < 0] = -1\n",
      "Speed: 2.0ms preprocess, 16.7ms inference, 0.0ms loss, 0.3ms postprocess per image\n",
      "Results saved to \u001b[1mruns/epoch186\u001b[0m\n"
     ]
    },
    {
     "name": "stdout",
     "output_type": "stream",
     "text": [
      "-------------------- EPOCH 186 END --------------------\n",
      "-------------------- EPOCH 187 START --------------------\n",
      "Training start ...\n",
      "TRAIN:\n",
      "\tAVG_LOSS: 1.7020203327830834\n",
      "\tMAIN_LOSS: 1.1708513068247446\n",
      "\tKD_LOSS: 0.17705634330646902\n",
      "Evaluating start ...\n",
      "VAL:\n",
      "\tAVG_LOSS: 4.155746748050054\n",
      "\tMAIN_LOSS: 3.5994954854249954\n",
      "\tKD_LOSS: 0.1854170976827542\n"
     ]
    },
    {
     "name": "stderr",
     "output_type": "stream",
     "text": [
      "LSM-YOLO summary (fused): 391 layers, 2873048 parameters, 18824 gradients, 12.4 GFLOPs\n",
      "\u001b[34m\u001b[1mval: \u001b[0mScanning /kaggle/working/Br35H-Mask-Prepared/val/labels.cache... 151 images, 225 backgrounds, 0 corrupt: 100%|██████████| 376/376 [00:00<?, ?it/s]\n",
      "                 Class     Images  Instances      Box(P          R      mAP50  mAP50-95): 100%|██████████| 12/12 [00:08<00:00,  1.44it/s]\n",
      "                   all        376        181      0.945      0.729      0.858      0.605\n",
      "/usr/local/lib/python3.11/dist-packages/matplotlib/colors.py:721: RuntimeWarning: invalid value encountered in less\n",
      "  xa[xa < 0] = -1\n",
      "/usr/local/lib/python3.11/dist-packages/matplotlib/colors.py:721: RuntimeWarning: invalid value encountered in less\n",
      "  xa[xa < 0] = -1\n",
      "Speed: 1.7ms preprocess, 16.7ms inference, 0.0ms loss, 0.4ms postprocess per image\n",
      "Results saved to \u001b[1mruns/epoch187\u001b[0m\n"
     ]
    },
    {
     "name": "stdout",
     "output_type": "stream",
     "text": [
      "-------------------- EPOCH 187 END --------------------\n",
      "-------------------- EPOCH 188 START --------------------\n",
      "Training start ...\n",
      "TRAIN:\n",
      "\tAVG_LOSS: 1.6609734281708923\n",
      "\tMAIN_LOSS: 1.1342139364797859\n",
      "\tKD_LOSS: 0.17558649635013146\n",
      "Evaluating start ...\n",
      "VAL:\n",
      "\tAVG_LOSS: 3.99555371205012\n",
      "\tMAIN_LOSS: 3.4406486650307975\n",
      "\tKD_LOSS: 0.1849683467298746\n"
     ]
    },
    {
     "name": "stderr",
     "output_type": "stream",
     "text": [
      "LSM-YOLO summary (fused): 391 layers, 2873048 parameters, 18824 gradients, 12.4 GFLOPs\n",
      "\u001b[34m\u001b[1mval: \u001b[0mScanning /kaggle/working/Br35H-Mask-Prepared/val/labels.cache... 151 images, 225 backgrounds, 0 corrupt: 100%|██████████| 376/376 [00:00<?, ?it/s]\n",
      "                 Class     Images  Instances      Box(P          R      mAP50  mAP50-95): 100%|██████████| 12/12 [00:08<00:00,  1.44it/s]\n",
      "                   all        376        181      0.911      0.795      0.875      0.623\n",
      "/usr/local/lib/python3.11/dist-packages/matplotlib/colors.py:721: RuntimeWarning: invalid value encountered in less\n",
      "  xa[xa < 0] = -1\n",
      "/usr/local/lib/python3.11/dist-packages/matplotlib/colors.py:721: RuntimeWarning: invalid value encountered in less\n",
      "  xa[xa < 0] = -1\n",
      "Speed: 1.9ms preprocess, 16.7ms inference, 0.0ms loss, 0.3ms postprocess per image\n",
      "Results saved to \u001b[1mruns/epoch188\u001b[0m\n"
     ]
    },
    {
     "name": "stdout",
     "output_type": "stream",
     "text": [
      "-------------------- EPOCH 188 END --------------------\n",
      "-------------------- EPOCH 189 START --------------------\n",
      "Training start ...\n",
      "TRAIN:\n",
      "\tAVG_LOSS: 1.6960187245018874\n",
      "\tMAIN_LOSS: 1.1663658151143714\n",
      "\tKD_LOSS: 0.17655096778386756\n",
      "Evaluating start ...\n",
      "VAL:\n",
      "\tAVG_LOSS: 4.040072123209636\n",
      "\tMAIN_LOSS: 3.4326282093922296\n",
      "\tKD_LOSS: 0.20248130212227503\n"
     ]
    },
    {
     "name": "stderr",
     "output_type": "stream",
     "text": [
      "LSM-YOLO summary (fused): 391 layers, 2873048 parameters, 18824 gradients, 12.4 GFLOPs\n",
      "\u001b[34m\u001b[1mval: \u001b[0mScanning /kaggle/working/Br35H-Mask-Prepared/val/labels.cache... 151 images, 225 backgrounds, 0 corrupt: 100%|██████████| 376/376 [00:00<?, ?it/s]\n",
      "                 Class     Images  Instances      Box(P          R      mAP50  mAP50-95): 100%|██████████| 12/12 [00:08<00:00,  1.43it/s]\n",
      "                   all        376        181       0.94      0.801      0.878      0.617\n",
      "/usr/local/lib/python3.11/dist-packages/matplotlib/colors.py:721: RuntimeWarning: invalid value encountered in less\n",
      "  xa[xa < 0] = -1\n",
      "/usr/local/lib/python3.11/dist-packages/matplotlib/colors.py:721: RuntimeWarning: invalid value encountered in less\n",
      "  xa[xa < 0] = -1\n",
      "Speed: 2.0ms preprocess, 16.7ms inference, 0.0ms loss, 0.3ms postprocess per image\n",
      "Results saved to \u001b[1mruns/epoch189\u001b[0m\n"
     ]
    },
    {
     "name": "stdout",
     "output_type": "stream",
     "text": [
      "-------------------- EPOCH 189 END --------------------\n",
      "-------------------- EPOCH 190 START --------------------\n",
      "Training start ...\n",
      "TRAIN:\n",
      "\tAVG_LOSS: 1.7133104710639278\n",
      "\tMAIN_LOSS: 1.172652689716484\n",
      "\tKD_LOSS: 0.18021926264974136\n",
      "Evaluating start ...\n",
      "VAL:\n",
      "\tAVG_LOSS: 4.046292831500371\n",
      "\tMAIN_LOSS: 3.4974952240784964\n",
      "\tKD_LOSS: 0.1829325413952271\n"
     ]
    },
    {
     "name": "stderr",
     "output_type": "stream",
     "text": [
      "LSM-YOLO summary (fused): 391 layers, 2873048 parameters, 18824 gradients, 12.4 GFLOPs\n",
      "\u001b[34m\u001b[1mval: \u001b[0mScanning /kaggle/working/Br35H-Mask-Prepared/val/labels.cache... 151 images, 225 backgrounds, 0 corrupt: 100%|██████████| 376/376 [00:00<?, ?it/s]\n",
      "                 Class     Images  Instances      Box(P          R      mAP50  mAP50-95): 100%|██████████| 12/12 [00:08<00:00,  1.41it/s]\n",
      "                   all        376        181      0.972      0.767      0.886      0.627\n",
      "/usr/local/lib/python3.11/dist-packages/matplotlib/colors.py:721: RuntimeWarning: invalid value encountered in less\n",
      "  xa[xa < 0] = -1\n",
      "/usr/local/lib/python3.11/dist-packages/matplotlib/colors.py:721: RuntimeWarning: invalid value encountered in less\n",
      "  xa[xa < 0] = -1\n",
      "Speed: 2.1ms preprocess, 16.7ms inference, 0.0ms loss, 0.4ms postprocess per image\n",
      "Results saved to \u001b[1mruns/epoch190\u001b[0m\n"
     ]
    },
    {
     "name": "stdout",
     "output_type": "stream",
     "text": [
      "-------------------- EPOCH 190 END --------------------\n",
      "-------------------- EPOCH 191 START --------------------\n",
      "Training start ...\n",
      "TRAIN:\n",
      "\tAVG_LOSS: 1.6794071016432364\n",
      "\tMAIN_LOSS: 1.155085169816319\n",
      "\tKD_LOSS: 0.1747739756409126\n",
      "Evaluating start ...\n",
      "VAL:\n",
      "\tAVG_LOSS: 4.111649662256241\n",
      "\tMAIN_LOSS: 3.567509909470876\n",
      "\tKD_LOSS: 0.18137992111345133\n"
     ]
    },
    {
     "name": "stderr",
     "output_type": "stream",
     "text": [
      "LSM-YOLO summary (fused): 391 layers, 2873048 parameters, 18824 gradients, 12.4 GFLOPs\n",
      "\u001b[34m\u001b[1mval: \u001b[0mScanning /kaggle/working/Br35H-Mask-Prepared/val/labels.cache... 151 images, 225 backgrounds, 0 corrupt: 100%|██████████| 376/376 [00:00<?, ?it/s]\n",
      "                 Class     Images  Instances      Box(P          R      mAP50  mAP50-95): 100%|██████████| 12/12 [00:08<00:00,  1.44it/s]\n",
      "                   all        376        181      0.884      0.798      0.879      0.618\n",
      "/usr/local/lib/python3.11/dist-packages/matplotlib/colors.py:721: RuntimeWarning: invalid value encountered in less\n",
      "  xa[xa < 0] = -1\n",
      "/usr/local/lib/python3.11/dist-packages/matplotlib/colors.py:721: RuntimeWarning: invalid value encountered in less\n",
      "  xa[xa < 0] = -1\n",
      "Speed: 1.8ms preprocess, 16.8ms inference, 0.0ms loss, 0.4ms postprocess per image\n",
      "Results saved to \u001b[1mruns/epoch191\u001b[0m\n"
     ]
    },
    {
     "name": "stdout",
     "output_type": "stream",
     "text": [
      "-------------------- EPOCH 191 END --------------------\n",
      "-------------------- EPOCH 192 START --------------------\n",
      "Training start ...\n",
      "TRAIN:\n",
      "\tAVG_LOSS: 1.6530138812487638\n",
      "\tMAIN_LOSS: 1.1347663198845297\n",
      "\tKD_LOSS: 0.17274918605255174\n",
      "Evaluating start ...\n",
      "VAL:\n",
      "\tAVG_LOSS: 4.058327714602153\n",
      "\tMAIN_LOSS: 3.492022693157196\n",
      "\tKD_LOSS: 0.18876833841204643\n"
     ]
    },
    {
     "name": "stderr",
     "output_type": "stream",
     "text": [
      "LSM-YOLO summary (fused): 391 layers, 2873048 parameters, 18824 gradients, 12.4 GFLOPs\n",
      "\u001b[34m\u001b[1mval: \u001b[0mScanning /kaggle/working/Br35H-Mask-Prepared/val/labels.cache... 151 images, 225 backgrounds, 0 corrupt: 100%|██████████| 376/376 [00:00<?, ?it/s]\n",
      "                 Class     Images  Instances      Box(P          R      mAP50  mAP50-95): 100%|██████████| 12/12 [00:08<00:00,  1.42it/s]\n",
      "                   all        376        181      0.899      0.783       0.86      0.604\n",
      "/usr/local/lib/python3.11/dist-packages/matplotlib/colors.py:721: RuntimeWarning: invalid value encountered in less\n",
      "  xa[xa < 0] = -1\n",
      "/usr/local/lib/python3.11/dist-packages/matplotlib/colors.py:721: RuntimeWarning: invalid value encountered in less\n",
      "  xa[xa < 0] = -1\n",
      "Speed: 1.9ms preprocess, 16.7ms inference, 0.0ms loss, 0.4ms postprocess per image\n",
      "Results saved to \u001b[1mruns/epoch192\u001b[0m\n"
     ]
    },
    {
     "name": "stdout",
     "output_type": "stream",
     "text": [
      "-------------------- EPOCH 192 END --------------------\n",
      "-------------------- EPOCH 193 START --------------------\n",
      "Training start ...\n",
      "TRAIN:\n",
      "\tAVG_LOSS: 1.6655959502051148\n",
      "\tMAIN_LOSS: 1.147662107703052\n",
      "\tKD_LOSS: 0.17264461460747296\n",
      "Evaluating start ...\n",
      "VAL:\n",
      "\tAVG_LOSS: 3.9722646673520408\n",
      "\tMAIN_LOSS: 3.4227392872174582\n",
      "\tKD_LOSS: 0.18317513292034468\n"
     ]
    },
    {
     "name": "stderr",
     "output_type": "stream",
     "text": [
      "LSM-YOLO summary (fused): 391 layers, 2873048 parameters, 18824 gradients, 12.4 GFLOPs\n",
      "\u001b[34m\u001b[1mval: \u001b[0mScanning /kaggle/working/Br35H-Mask-Prepared/val/labels.cache... 151 images, 225 backgrounds, 0 corrupt: 100%|██████████| 376/376 [00:00<?, ?it/s]\n",
      "                 Class     Images  Instances      Box(P          R      mAP50  mAP50-95): 100%|██████████| 12/12 [00:08<00:00,  1.42it/s]\n",
      "                   all        376        181      0.899      0.783      0.873      0.617\n",
      "/usr/local/lib/python3.11/dist-packages/matplotlib/colors.py:721: RuntimeWarning: invalid value encountered in less\n",
      "  xa[xa < 0] = -1\n",
      "/usr/local/lib/python3.11/dist-packages/matplotlib/colors.py:721: RuntimeWarning: invalid value encountered in less\n",
      "  xa[xa < 0] = -1\n",
      "Speed: 1.9ms preprocess, 16.7ms inference, 0.0ms loss, 0.3ms postprocess per image\n",
      "Results saved to \u001b[1mruns/epoch193\u001b[0m\n"
     ]
    },
    {
     "name": "stdout",
     "output_type": "stream",
     "text": [
      "-------------------- EPOCH 193 END --------------------\n",
      "-------------------- EPOCH 194 START --------------------\n",
      "Training start ...\n",
      "TRAIN:\n",
      "\tAVG_LOSS: 1.6251040802726262\n",
      "\tMAIN_LOSS: 1.1123062809811364\n",
      "\tKD_LOSS: 0.17093259869497032\n",
      "Evaluating start ...\n",
      "VAL:\n",
      "\tAVG_LOSS: 4.195294916629791\n",
      "\tMAIN_LOSS: 3.6572702328364053\n",
      "\tKD_LOSS: 0.17934157885611057\n"
     ]
    },
    {
     "name": "stderr",
     "output_type": "stream",
     "text": [
      "LSM-YOLO summary (fused): 391 layers, 2873048 parameters, 18824 gradients, 12.4 GFLOPs\n",
      "\u001b[34m\u001b[1mval: \u001b[0mScanning /kaggle/working/Br35H-Mask-Prepared/val/labels.cache... 151 images, 225 backgrounds, 0 corrupt: 100%|██████████| 376/376 [00:00<?, ?it/s]\n",
      "                 Class     Images  Instances      Box(P          R      mAP50  mAP50-95): 100%|██████████| 12/12 [00:08<00:00,  1.42it/s]\n",
      "                   all        376        181      0.867      0.807      0.867       0.61\n",
      "/usr/local/lib/python3.11/dist-packages/matplotlib/colors.py:721: RuntimeWarning: invalid value encountered in less\n",
      "  xa[xa < 0] = -1\n",
      "/usr/local/lib/python3.11/dist-packages/matplotlib/colors.py:721: RuntimeWarning: invalid value encountered in less\n",
      "  xa[xa < 0] = -1\n",
      "Speed: 2.2ms preprocess, 16.7ms inference, 0.0ms loss, 0.3ms postprocess per image\n",
      "Results saved to \u001b[1mruns/epoch194\u001b[0m\n"
     ]
    },
    {
     "name": "stdout",
     "output_type": "stream",
     "text": [
      "-------------------- EPOCH 194 END --------------------\n",
      "-------------------- EPOCH 195 START --------------------\n",
      "Training start ...\n",
      "TRAIN:\n",
      "\tAVG_LOSS: 1.6531646704371972\n",
      "\tMAIN_LOSS: 1.1406567836109596\n",
      "\tKD_LOSS: 0.17083596183529384\n",
      "Evaluating start ...\n",
      "VAL:\n",
      "\tAVG_LOSS: 3.931986848513285\n",
      "\tMAIN_LOSS: 3.3972648282845817\n",
      "\tKD_LOSS: 0.17824067237476507\n"
     ]
    },
    {
     "name": "stderr",
     "output_type": "stream",
     "text": [
      "LSM-YOLO summary (fused): 391 layers, 2873048 parameters, 18824 gradients, 12.4 GFLOPs\n",
      "\u001b[34m\u001b[1mval: \u001b[0mScanning /kaggle/working/Br35H-Mask-Prepared/val/labels.cache... 151 images, 225 backgrounds, 0 corrupt: 100%|██████████| 376/376 [00:00<?, ?it/s]\n",
      "                 Class     Images  Instances      Box(P          R      mAP50  mAP50-95): 100%|██████████| 12/12 [00:08<00:00,  1.44it/s]\n",
      "                   all        376        181      0.899      0.796      0.872      0.619\n",
      "/usr/local/lib/python3.11/dist-packages/matplotlib/colors.py:721: RuntimeWarning: invalid value encountered in less\n",
      "  xa[xa < 0] = -1\n",
      "/usr/local/lib/python3.11/dist-packages/matplotlib/colors.py:721: RuntimeWarning: invalid value encountered in less\n",
      "  xa[xa < 0] = -1\n",
      "Speed: 1.7ms preprocess, 16.8ms inference, 0.0ms loss, 0.4ms postprocess per image\n",
      "Results saved to \u001b[1mruns/epoch195\u001b[0m\n"
     ]
    },
    {
     "name": "stdout",
     "output_type": "stream",
     "text": [
      "-------------------- EPOCH 195 END --------------------\n",
      "-------------------- EPOCH 196 START --------------------\n",
      "Training start ...\n",
      "TRAIN:\n",
      "\tAVG_LOSS: 1.6476844760436047\n",
      "\tMAIN_LOSS: 1.1392969179757033\n",
      "\tKD_LOSS: 0.16946251765836642\n",
      "Evaluating start ...\n",
      "VAL:\n",
      "\tAVG_LOSS: 4.068506687879562\n",
      "\tMAIN_LOSS: 3.527592053016027\n",
      "\tKD_LOSS: 0.18030487125118574\n"
     ]
    },
    {
     "name": "stderr",
     "output_type": "stream",
     "text": [
      "LSM-YOLO summary (fused): 391 layers, 2873048 parameters, 18824 gradients, 12.4 GFLOPs\n",
      "\u001b[34m\u001b[1mval: \u001b[0mScanning /kaggle/working/Br35H-Mask-Prepared/val/labels.cache... 151 images, 225 backgrounds, 0 corrupt: 100%|██████████| 376/376 [00:00<?, ?it/s]\n",
      "                 Class     Images  Instances      Box(P          R      mAP50  mAP50-95): 100%|██████████| 12/12 [00:08<00:00,  1.43it/s]\n",
      "                   all        376        181      0.905      0.796      0.882      0.636\n",
      "/usr/local/lib/python3.11/dist-packages/matplotlib/colors.py:721: RuntimeWarning: invalid value encountered in less\n",
      "  xa[xa < 0] = -1\n",
      "/usr/local/lib/python3.11/dist-packages/matplotlib/colors.py:721: RuntimeWarning: invalid value encountered in less\n",
      "  xa[xa < 0] = -1\n",
      "Speed: 1.9ms preprocess, 16.7ms inference, 0.0ms loss, 0.4ms postprocess per image\n",
      "Results saved to \u001b[1mruns/epoch196\u001b[0m\n"
     ]
    },
    {
     "name": "stdout",
     "output_type": "stream",
     "text": [
      "-------------------- EPOCH 196 END --------------------\n",
      "-------------------- EPOCH 197 START --------------------\n",
      "Training start ...\n",
      "TRAIN:\n",
      "\tAVG_LOSS: 1.6342271136332163\n",
      "\tMAIN_LOSS: 1.121946057186851\n",
      "\tKD_LOSS: 0.17076035164579562\n",
      "Evaluating start ...\n",
      "VAL:\n",
      "\tAVG_LOSS: 4.157656560341517\n",
      "\tMAIN_LOSS: 3.601339270671209\n",
      "\tKD_LOSS: 0.18543908558785915\n"
     ]
    },
    {
     "name": "stderr",
     "output_type": "stream",
     "text": [
      "LSM-YOLO summary (fused): 391 layers, 2873048 parameters, 18824 gradients, 12.4 GFLOPs\n",
      "\u001b[34m\u001b[1mval: \u001b[0mScanning /kaggle/working/Br35H-Mask-Prepared/val/labels.cache... 151 images, 225 backgrounds, 0 corrupt: 100%|██████████| 376/376 [00:00<?, ?it/s]\n",
      "                 Class     Images  Instances      Box(P          R      mAP50  mAP50-95): 100%|██████████| 12/12 [00:08<00:00,  1.43it/s]\n",
      "                   all        376        181      0.911      0.779      0.891      0.622\n",
      "/usr/local/lib/python3.11/dist-packages/matplotlib/colors.py:721: RuntimeWarning: invalid value encountered in less\n",
      "  xa[xa < 0] = -1\n",
      "/usr/local/lib/python3.11/dist-packages/matplotlib/colors.py:721: RuntimeWarning: invalid value encountered in less\n",
      "  xa[xa < 0] = -1\n",
      "Speed: 1.9ms preprocess, 16.7ms inference, 0.0ms loss, 0.3ms postprocess per image\n",
      "Results saved to \u001b[1mruns/epoch197\u001b[0m\n"
     ]
    },
    {
     "name": "stdout",
     "output_type": "stream",
     "text": [
      "-------------------- EPOCH 197 END --------------------\n",
      "-------------------- EPOCH 198 START --------------------\n",
      "Training start ...\n",
      "TRAIN:\n",
      "\tAVG_LOSS: 1.653618128239354\n",
      "\tMAIN_LOSS: 1.1299173635772513\n",
      "\tKD_LOSS: 0.17456691985643363\n",
      "Evaluating start ...\n",
      "VAL:\n",
      "\tAVG_LOSS: 4.033236215511958\n",
      "\tMAIN_LOSS: 3.432550917069117\n",
      "\tKD_LOSS: 0.20022842474281788\n"
     ]
    },
    {
     "name": "stderr",
     "output_type": "stream",
     "text": [
      "LSM-YOLO summary (fused): 391 layers, 2873048 parameters, 18824 gradients, 12.4 GFLOPs\n",
      "\u001b[34m\u001b[1mval: \u001b[0mScanning /kaggle/working/Br35H-Mask-Prepared/val/labels.cache... 151 images, 225 backgrounds, 0 corrupt: 100%|██████████| 376/376 [00:00<?, ?it/s]\n",
      "                 Class     Images  Instances      Box(P          R      mAP50  mAP50-95): 100%|██████████| 12/12 [00:08<00:00,  1.42it/s]\n",
      "                   all        376        181      0.914      0.762      0.845      0.589\n",
      "/usr/local/lib/python3.11/dist-packages/matplotlib/colors.py:721: RuntimeWarning: invalid value encountered in less\n",
      "  xa[xa < 0] = -1\n",
      "/usr/local/lib/python3.11/dist-packages/matplotlib/colors.py:721: RuntimeWarning: invalid value encountered in less\n",
      "  xa[xa < 0] = -1\n",
      "Speed: 2.0ms preprocess, 16.7ms inference, 0.0ms loss, 0.4ms postprocess per image\n",
      "Results saved to \u001b[1mruns/epoch198\u001b[0m\n"
     ]
    },
    {
     "name": "stdout",
     "output_type": "stream",
     "text": [
      "-------------------- EPOCH 198 END --------------------\n",
      "-------------------- EPOCH 199 START --------------------\n",
      "Training start ...\n",
      "TRAIN:\n",
      "\tAVG_LOSS: 1.7268408914155597\n",
      "\tMAIN_LOSS: 1.200048258787469\n",
      "\tKD_LOSS: 0.17559754508960096\n",
      "Evaluating start ...\n",
      "VAL:\n",
      "\tAVG_LOSS: 4.384426226218541\n",
      "\tMAIN_LOSS: 3.8182399769624076\n",
      "\tKD_LOSS: 0.18872875099380812\n"
     ]
    },
    {
     "name": "stderr",
     "output_type": "stream",
     "text": [
      "LSM-YOLO summary (fused): 391 layers, 2873048 parameters, 18824 gradients, 12.4 GFLOPs\n",
      "\u001b[34m\u001b[1mval: \u001b[0mScanning /kaggle/working/Br35H-Mask-Prepared/val/labels.cache... 151 images, 225 backgrounds, 0 corrupt: 100%|██████████| 376/376 [00:00<?, ?it/s]\n",
      "                 Class     Images  Instances      Box(P          R      mAP50  mAP50-95): 100%|██████████| 12/12 [00:08<00:00,  1.41it/s]\n",
      "                   all        376        181       0.89       0.74      0.838      0.592\n",
      "/usr/local/lib/python3.11/dist-packages/matplotlib/colors.py:721: RuntimeWarning: invalid value encountered in less\n",
      "  xa[xa < 0] = -1\n",
      "/usr/local/lib/python3.11/dist-packages/matplotlib/colors.py:721: RuntimeWarning: invalid value encountered in less\n",
      "  xa[xa < 0] = -1\n",
      "Speed: 2.1ms preprocess, 16.7ms inference, 0.0ms loss, 0.4ms postprocess per image\n",
      "Results saved to \u001b[1mruns/epoch199\u001b[0m\n"
     ]
    },
    {
     "name": "stdout",
     "output_type": "stream",
     "text": [
      "-------------------- EPOCH 199 END --------------------\n",
      "-------------------- EPOCH 200 START --------------------\n",
      "Training start ...\n",
      "TRAIN:\n",
      "\tAVG_LOSS: 1.732303729540185\n",
      "\tMAIN_LOSS: 1.2040728051451188\n",
      "\tKD_LOSS: 0.17607697750194162\n",
      "Evaluating start ...\n",
      "VAL:\n",
      "\tAVG_LOSS: 4.00824440519015\n",
      "\tMAIN_LOSS: 3.4623986581961312\n",
      "\tKD_LOSS: 0.18194857239723206\n"
     ]
    },
    {
     "name": "stderr",
     "output_type": "stream",
     "text": [
      "LSM-YOLO summary (fused): 391 layers, 2873048 parameters, 18824 gradients, 12.4 GFLOPs\n",
      "\u001b[34m\u001b[1mval: \u001b[0mScanning /kaggle/working/Br35H-Mask-Prepared/val/labels.cache... 151 images, 225 backgrounds, 0 corrupt: 100%|██████████| 376/376 [00:00<?, ?it/s]\n",
      "                 Class     Images  Instances      Box(P          R      mAP50  mAP50-95): 100%|██████████| 12/12 [00:08<00:00,  1.44it/s]\n",
      "                   all        376        181      0.966      0.777      0.889      0.639\n",
      "/usr/local/lib/python3.11/dist-packages/matplotlib/colors.py:721: RuntimeWarning: invalid value encountered in less\n",
      "  xa[xa < 0] = -1\n",
      "/usr/local/lib/python3.11/dist-packages/matplotlib/colors.py:721: RuntimeWarning: invalid value encountered in less\n",
      "  xa[xa < 0] = -1\n",
      "Speed: 1.8ms preprocess, 16.7ms inference, 0.0ms loss, 0.3ms postprocess per image\n",
      "Results saved to \u001b[1mruns/epoch200\u001b[0m\n"
     ]
    },
    {
     "name": "stdout",
     "output_type": "stream",
     "text": [
      "Epoch 200: New best mAP: 0.6393, model saved.\n",
      "-------------------- EPOCH 200 END --------------------\n",
      "-------------------- EPOCH 201 START --------------------\n",
      "Training start ...\n",
      "TRAIN:\n",
      "\tAVG_LOSS: 1.7095876343642609\n",
      "\tMAIN_LOSS: 1.1894333415393588\n",
      "\tKD_LOSS: 0.1733847637719746\n",
      "Evaluating start ...\n",
      "VAL:\n",
      "\tAVG_LOSS: 4.1535924077034\n",
      "\tMAIN_LOSS: 3.6014724473158517\n",
      "\tKD_LOSS: 0.184039997557799\n"
     ]
    },
    {
     "name": "stderr",
     "output_type": "stream",
     "text": [
      "LSM-YOLO summary (fused): 391 layers, 2873048 parameters, 18824 gradients, 12.4 GFLOPs\n",
      "\u001b[34m\u001b[1mval: \u001b[0mScanning /kaggle/working/Br35H-Mask-Prepared/val/labels.cache... 151 images, 225 backgrounds, 0 corrupt: 100%|██████████| 376/376 [00:00<?, ?it/s]\n",
      "                 Class     Images  Instances      Box(P          R      mAP50  mAP50-95): 100%|██████████| 12/12 [00:08<00:00,  1.42it/s]\n",
      "                   all        376        181      0.906       0.79       0.88      0.622\n",
      "/usr/local/lib/python3.11/dist-packages/matplotlib/colors.py:721: RuntimeWarning: invalid value encountered in less\n",
      "  xa[xa < 0] = -1\n",
      "/usr/local/lib/python3.11/dist-packages/matplotlib/colors.py:721: RuntimeWarning: invalid value encountered in less\n",
      "  xa[xa < 0] = -1\n",
      "Speed: 2.0ms preprocess, 16.8ms inference, 0.0ms loss, 0.3ms postprocess per image\n",
      "Results saved to \u001b[1mruns/epoch201\u001b[0m\n"
     ]
    },
    {
     "name": "stdout",
     "output_type": "stream",
     "text": [
      "-------------------- EPOCH 201 END --------------------\n",
      "-------------------- EPOCH 202 START --------------------\n",
      "Training start ...\n",
      "TRAIN:\n",
      "\tAVG_LOSS: 1.6875323253341867\n",
      "\tMAIN_LOSS: 1.1689849141277844\n",
      "\tKD_LOSS: 0.1728491373831713\n",
      "Evaluating start ...\n",
      "VAL:\n",
      "\tAVG_LOSS: 3.9578984677791595\n",
      "\tMAIN_LOSS: 3.3915629585584006\n",
      "\tKD_LOSS: 0.18877850162486234\n"
     ]
    },
    {
     "name": "stderr",
     "output_type": "stream",
     "text": [
      "LSM-YOLO summary (fused): 391 layers, 2873048 parameters, 18824 gradients, 12.4 GFLOPs\n",
      "\u001b[34m\u001b[1mval: \u001b[0mScanning /kaggle/working/Br35H-Mask-Prepared/val/labels.cache... 151 images, 225 backgrounds, 0 corrupt: 100%|██████████| 376/376 [00:00<?, ?it/s]\n",
      "                 Class     Images  Instances      Box(P          R      mAP50  mAP50-95): 100%|██████████| 12/12 [00:08<00:00,  1.45it/s]\n",
      "                   all        376        181      0.956      0.746      0.863      0.612\n",
      "/usr/local/lib/python3.11/dist-packages/matplotlib/colors.py:721: RuntimeWarning: invalid value encountered in less\n",
      "  xa[xa < 0] = -1\n",
      "/usr/local/lib/python3.11/dist-packages/matplotlib/colors.py:721: RuntimeWarning: invalid value encountered in less\n",
      "  xa[xa < 0] = -1\n",
      "Speed: 1.8ms preprocess, 16.7ms inference, 0.0ms loss, 0.3ms postprocess per image\n",
      "Results saved to \u001b[1mruns/epoch202\u001b[0m\n"
     ]
    },
    {
     "name": "stdout",
     "output_type": "stream",
     "text": [
      "-------------------- EPOCH 202 END --------------------\n",
      "-------------------- EPOCH 203 START --------------------\n",
      "Training start ...\n",
      "TRAIN:\n",
      "\tAVG_LOSS: 1.6784839449049551\n",
      "\tMAIN_LOSS: 1.161791361585448\n",
      "\tKD_LOSS: 0.17223086217536202\n",
      "Evaluating start ...\n",
      "VAL:\n",
      "\tAVG_LOSS: 4.13222982486089\n",
      "\tMAIN_LOSS: 3.5900641481081643\n",
      "\tKD_LOSS: 0.18072188273072243\n"
     ]
    },
    {
     "name": "stderr",
     "output_type": "stream",
     "text": [
      "LSM-YOLO summary (fused): 391 layers, 2873048 parameters, 18824 gradients, 12.4 GFLOPs\n",
      "\u001b[34m\u001b[1mval: \u001b[0mScanning /kaggle/working/Br35H-Mask-Prepared/val/labels.cache... 151 images, 225 backgrounds, 0 corrupt: 100%|██████████| 376/376 [00:00<?, ?it/s]\n",
      "                 Class     Images  Instances      Box(P          R      mAP50  mAP50-95): 100%|██████████| 12/12 [00:08<00:00,  1.42it/s]\n",
      "                   all        376        181      0.933      0.768      0.878      0.625\n",
      "/usr/local/lib/python3.11/dist-packages/matplotlib/colors.py:721: RuntimeWarning: invalid value encountered in less\n",
      "  xa[xa < 0] = -1\n",
      "/usr/local/lib/python3.11/dist-packages/matplotlib/colors.py:721: RuntimeWarning: invalid value encountered in less\n",
      "  xa[xa < 0] = -1\n",
      "Speed: 2.0ms preprocess, 16.7ms inference, 0.0ms loss, 0.3ms postprocess per image\n",
      "Results saved to \u001b[1mruns/epoch203\u001b[0m\n"
     ]
    },
    {
     "name": "stdout",
     "output_type": "stream",
     "text": [
      "-------------------- EPOCH 203 END --------------------\n",
      "-------------------- EPOCH 204 START --------------------\n",
      "Training start ...\n",
      "TRAIN:\n",
      "\tAVG_LOSS: 1.6542641301698322\n",
      "\tMAIN_LOSS: 1.1441799311698237\n",
      "\tKD_LOSS: 0.1700280652016024\n",
      "Evaluating start ...\n",
      "VAL:\n",
      "\tAVG_LOSS: 3.8674978613853455\n",
      "\tMAIN_LOSS: 3.3332321643829346\n",
      "\tKD_LOSS: 0.17808856380482516\n"
     ]
    },
    {
     "name": "stderr",
     "output_type": "stream",
     "text": [
      "LSM-YOLO summary (fused): 391 layers, 2873048 parameters, 18824 gradients, 12.4 GFLOPs\n",
      "\u001b[34m\u001b[1mval: \u001b[0mScanning /kaggle/working/Br35H-Mask-Prepared/val/labels.cache... 151 images, 225 backgrounds, 0 corrupt: 100%|██████████| 376/376 [00:00<?, ?it/s]\n",
      "                 Class     Images  Instances      Box(P          R      mAP50  mAP50-95): 100%|██████████| 12/12 [00:08<00:00,  1.41it/s]\n",
      "                   all        376        181      0.914      0.773       0.86      0.619\n",
      "/usr/local/lib/python3.11/dist-packages/matplotlib/colors.py:721: RuntimeWarning: invalid value encountered in less\n",
      "  xa[xa < 0] = -1\n",
      "/usr/local/lib/python3.11/dist-packages/matplotlib/colors.py:721: RuntimeWarning: invalid value encountered in less\n",
      "  xa[xa < 0] = -1\n",
      "Speed: 2.1ms preprocess, 16.7ms inference, 0.0ms loss, 0.4ms postprocess per image\n",
      "Results saved to \u001b[1mruns/epoch204\u001b[0m\n"
     ]
    },
    {
     "name": "stdout",
     "output_type": "stream",
     "text": [
      "-------------------- EPOCH 204 END --------------------\n",
      "-------------------- EPOCH 205 START --------------------\n",
      "Training start ...\n",
      "TRAIN:\n",
      "\tAVG_LOSS: 1.6568261415143557\n",
      "\tMAIN_LOSS: 1.1509887100775031\n",
      "\tKD_LOSS: 0.16861247922046274\n",
      "Evaluating start ...\n",
      "VAL:\n",
      "\tAVG_LOSS: 3.8724756936232247\n",
      "\tMAIN_LOSS: 3.337927629550298\n",
      "\tKD_LOSS: 0.1781826913356781\n"
     ]
    },
    {
     "name": "stderr",
     "output_type": "stream",
     "text": [
      "LSM-YOLO summary (fused): 391 layers, 2873048 parameters, 18824 gradients, 12.4 GFLOPs\n",
      "\u001b[34m\u001b[1mval: \u001b[0mScanning /kaggle/working/Br35H-Mask-Prepared/val/labels.cache... 151 images, 225 backgrounds, 0 corrupt: 100%|██████████| 376/376 [00:00<?, ?it/s]\n",
      "                 Class     Images  Instances      Box(P          R      mAP50  mAP50-95): 100%|██████████| 12/12 [00:08<00:00,  1.43it/s]\n",
      "                   all        376        181      0.958      0.757      0.882       0.62\n",
      "/usr/local/lib/python3.11/dist-packages/matplotlib/colors.py:721: RuntimeWarning: invalid value encountered in less\n",
      "  xa[xa < 0] = -1\n",
      "/usr/local/lib/python3.11/dist-packages/matplotlib/colors.py:721: RuntimeWarning: invalid value encountered in less\n",
      "  xa[xa < 0] = -1\n",
      "Speed: 2.0ms preprocess, 16.8ms inference, 0.0ms loss, 0.4ms postprocess per image\n",
      "Results saved to \u001b[1mruns/epoch205\u001b[0m\n"
     ]
    },
    {
     "name": "stdout",
     "output_type": "stream",
     "text": [
      "-------------------- EPOCH 205 END --------------------\n",
      "-------------------- EPOCH 206 START --------------------\n",
      "Training start ...\n",
      "TRAIN:\n",
      "\tAVG_LOSS: 1.6675877963440329\n",
      "\tMAIN_LOSS: 1.1546244470379021\n",
      "\tKD_LOSS: 0.1709877854283852\n",
      "Evaluating start ...\n",
      "VAL:\n",
      "\tAVG_LOSS: 3.84181738893191\n",
      "\tMAIN_LOSS: 3.3039087851842246\n",
      "\tKD_LOSS: 0.17930287308990955\n"
     ]
    },
    {
     "name": "stderr",
     "output_type": "stream",
     "text": [
      "LSM-YOLO summary (fused): 391 layers, 2873048 parameters, 18824 gradients, 12.4 GFLOPs\n",
      "\u001b[34m\u001b[1mval: \u001b[0mScanning /kaggle/working/Br35H-Mask-Prepared/val/labels.cache... 151 images, 225 backgrounds, 0 corrupt: 100%|██████████| 376/376 [00:00<?, ?it/s]\n",
      "                 Class     Images  Instances      Box(P          R      mAP50  mAP50-95): 100%|██████████| 12/12 [00:08<00:00,  1.43it/s]\n",
      "                   all        376        181       0.87      0.773      0.858      0.621\n",
      "/usr/local/lib/python3.11/dist-packages/matplotlib/colors.py:721: RuntimeWarning: invalid value encountered in less\n",
      "  xa[xa < 0] = -1\n",
      "/usr/local/lib/python3.11/dist-packages/matplotlib/colors.py:721: RuntimeWarning: invalid value encountered in less\n",
      "  xa[xa < 0] = -1\n",
      "Speed: 2.0ms preprocess, 16.7ms inference, 0.0ms loss, 0.3ms postprocess per image\n",
      "Results saved to \u001b[1mruns/epoch206\u001b[0m\n"
     ]
    },
    {
     "name": "stdout",
     "output_type": "stream",
     "text": [
      "-------------------- EPOCH 206 END --------------------\n",
      "-------------------- EPOCH 207 START --------------------\n",
      "Training start ...\n",
      "TRAIN:\n",
      "\tAVG_LOSS: 1.645253975180131\n",
      "\tMAIN_LOSS: 1.1437761896773229\n",
      "\tKD_LOSS: 0.1671592598851723\n",
      "Evaluating start ...\n",
      "VAL:\n",
      "\tAVG_LOSS: 3.8695856432120004\n",
      "\tMAIN_LOSS: 3.342662533124288\n",
      "\tKD_LOSS: 0.1756410375237465\n"
     ]
    },
    {
     "name": "stderr",
     "output_type": "stream",
     "text": [
      "LSM-YOLO summary (fused): 391 layers, 2873048 parameters, 18824 gradients, 12.4 GFLOPs\n",
      "\u001b[34m\u001b[1mval: \u001b[0mScanning /kaggle/working/Br35H-Mask-Prepared/val/labels.cache... 151 images, 225 backgrounds, 0 corrupt: 100%|██████████| 376/376 [00:00<?, ?it/s]\n",
      "                 Class     Images  Instances      Box(P          R      mAP50  mAP50-95): 100%|██████████| 12/12 [00:08<00:00,  1.44it/s]\n",
      "                   all        376        181      0.944      0.751      0.866      0.631\n",
      "/usr/local/lib/python3.11/dist-packages/matplotlib/colors.py:721: RuntimeWarning: invalid value encountered in less\n",
      "  xa[xa < 0] = -1\n",
      "/usr/local/lib/python3.11/dist-packages/matplotlib/colors.py:721: RuntimeWarning: invalid value encountered in less\n",
      "  xa[xa < 0] = -1\n",
      "Speed: 2.0ms preprocess, 16.7ms inference, 0.0ms loss, 0.3ms postprocess per image\n",
      "Results saved to \u001b[1mruns/epoch207\u001b[0m\n"
     ]
    },
    {
     "name": "stdout",
     "output_type": "stream",
     "text": [
      "-------------------- EPOCH 207 END --------------------\n",
      "-------------------- EPOCH 208 START --------------------\n",
      "Training start ...\n",
      "TRAIN:\n",
      "\tAVG_LOSS: 1.6328164610681655\n",
      "\tMAIN_LOSS: 1.1327903534792647\n",
      "\tKD_LOSS: 0.16667537240287925\n",
      "Evaluating start ...\n",
      "VAL:\n",
      "\tAVG_LOSS: 4.0666224360466\n",
      "\tMAIN_LOSS: 3.5397180716196694\n",
      "\tKD_LOSS: 0.17563479890426\n"
     ]
    },
    {
     "name": "stderr",
     "output_type": "stream",
     "text": [
      "LSM-YOLO summary (fused): 391 layers, 2873048 parameters, 18824 gradients, 12.4 GFLOPs\n",
      "\u001b[34m\u001b[1mval: \u001b[0mScanning /kaggle/working/Br35H-Mask-Prepared/val/labels.cache... 151 images, 225 backgrounds, 0 corrupt: 100%|██████████| 376/376 [00:00<?, ?it/s]\n",
      "                 Class     Images  Instances      Box(P          R      mAP50  mAP50-95): 100%|██████████| 12/12 [00:08<00:00,  1.43it/s]\n",
      "                   all        376        181      0.934       0.78      0.886      0.634\n",
      "/usr/local/lib/python3.11/dist-packages/matplotlib/colors.py:721: RuntimeWarning: invalid value encountered in less\n",
      "  xa[xa < 0] = -1\n",
      "/usr/local/lib/python3.11/dist-packages/matplotlib/colors.py:721: RuntimeWarning: invalid value encountered in less\n",
      "  xa[xa < 0] = -1\n",
      "Speed: 1.9ms preprocess, 16.7ms inference, 0.0ms loss, 0.3ms postprocess per image\n",
      "Results saved to \u001b[1mruns/epoch208\u001b[0m\n"
     ]
    },
    {
     "name": "stdout",
     "output_type": "stream",
     "text": [
      "-------------------- EPOCH 208 END --------------------\n",
      "-------------------- EPOCH 209 START --------------------\n",
      "Training start ...\n",
      "TRAIN:\n",
      "\tAVG_LOSS: 1.6246999155116986\n",
      "\tMAIN_LOSS: 1.127786290042008\n",
      "\tKD_LOSS: 0.16563787490506715\n",
      "Evaluating start ...\n",
      "VAL:\n",
      "\tAVG_LOSS: 3.9875035683314004\n",
      "\tMAIN_LOSS: 3.460780809322993\n",
      "\tKD_LOSS: 0.17557424493134022\n"
     ]
    },
    {
     "name": "stderr",
     "output_type": "stream",
     "text": [
      "LSM-YOLO summary (fused): 391 layers, 2873048 parameters, 18824 gradients, 12.4 GFLOPs\n",
      "\u001b[34m\u001b[1mval: \u001b[0mScanning /kaggle/working/Br35H-Mask-Prepared/val/labels.cache... 151 images, 225 backgrounds, 0 corrupt: 100%|██████████| 376/376 [00:00<?, ?it/s]\n",
      "                 Class     Images  Instances      Box(P          R      mAP50  mAP50-95): 100%|██████████| 12/12 [00:08<00:00,  1.44it/s]\n",
      "                   all        376        181      0.942      0.779      0.878       0.62\n",
      "/usr/local/lib/python3.11/dist-packages/matplotlib/colors.py:721: RuntimeWarning: invalid value encountered in less\n",
      "  xa[xa < 0] = -1\n",
      "/usr/local/lib/python3.11/dist-packages/matplotlib/colors.py:721: RuntimeWarning: invalid value encountered in less\n",
      "  xa[xa < 0] = -1\n",
      "Speed: 1.8ms preprocess, 16.7ms inference, 0.0ms loss, 0.4ms postprocess per image\n",
      "Results saved to \u001b[1mruns/epoch209\u001b[0m\n"
     ]
    },
    {
     "name": "stdout",
     "output_type": "stream",
     "text": [
      "-------------------- EPOCH 209 END --------------------\n",
      "-------------------- EPOCH 210 START --------------------\n",
      "Training start ...\n",
      "TRAIN:\n",
      "\tAVG_LOSS: 1.631411006179037\n",
      "\tMAIN_LOSS: 1.1357386640355558\n",
      "\tKD_LOSS: 0.16522411492806446\n",
      "Evaluating start ...\n",
      "VAL:\n",
      "\tAVG_LOSS: 4.052677532037099\n",
      "\tMAIN_LOSS: 3.526053696870804\n",
      "\tKD_LOSS: 0.17554129163424173\n"
     ]
    },
    {
     "name": "stderr",
     "output_type": "stream",
     "text": [
      "LSM-YOLO summary (fused): 391 layers, 2873048 parameters, 18824 gradients, 12.4 GFLOPs\n",
      "\u001b[34m\u001b[1mval: \u001b[0mScanning /kaggle/working/Br35H-Mask-Prepared/val/labels.cache... 151 images, 225 backgrounds, 0 corrupt: 100%|██████████| 376/376 [00:00<?, ?it/s]\n",
      "                 Class     Images  Instances      Box(P          R      mAP50  mAP50-95): 100%|██████████| 12/12 [00:08<00:00,  1.43it/s]\n",
      "                   all        376        181       0.91      0.796      0.883      0.634\n",
      "/usr/local/lib/python3.11/dist-packages/matplotlib/colors.py:721: RuntimeWarning: invalid value encountered in less\n",
      "  xa[xa < 0] = -1\n",
      "/usr/local/lib/python3.11/dist-packages/matplotlib/colors.py:721: RuntimeWarning: invalid value encountered in less\n",
      "  xa[xa < 0] = -1\n",
      "Speed: 1.9ms preprocess, 16.8ms inference, 0.0ms loss, 0.4ms postprocess per image\n",
      "Results saved to \u001b[1mruns/epoch210\u001b[0m\n"
     ]
    },
    {
     "name": "stdout",
     "output_type": "stream",
     "text": [
      "-------------------- EPOCH 210 END --------------------\n",
      "-------------------- EPOCH 211 START --------------------\n",
      "Training start ...\n",
      "TRAIN:\n",
      "\tAVG_LOSS: 1.6300655444966088\n",
      "\tMAIN_LOSS: 1.1340118171293525\n",
      "\tKD_LOSS: 0.16535124427910092\n",
      "Evaluating start ...\n",
      "VAL:\n",
      "\tAVG_LOSS: 3.98494345943133\n",
      "\tMAIN_LOSS: 3.4700941046079\n",
      "\tKD_LOSS: 0.171616455540061\n"
     ]
    },
    {
     "name": "stderr",
     "output_type": "stream",
     "text": [
      "LSM-YOLO summary (fused): 391 layers, 2873048 parameters, 18824 gradients, 12.4 GFLOPs\n",
      "\u001b[34m\u001b[1mval: \u001b[0mScanning /kaggle/working/Br35H-Mask-Prepared/val/labels.cache... 151 images, 225 backgrounds, 0 corrupt: 100%|██████████| 376/376 [00:00<?, ?it/s]\n",
      "                 Class     Images  Instances      Box(P          R      mAP50  mAP50-95): 100%|██████████| 12/12 [00:08<00:00,  1.44it/s]\n",
      "                   all        376        181       0.94       0.79      0.881      0.629\n",
      "/usr/local/lib/python3.11/dist-packages/matplotlib/colors.py:721: RuntimeWarning: invalid value encountered in less\n",
      "  xa[xa < 0] = -1\n",
      "/usr/local/lib/python3.11/dist-packages/matplotlib/colors.py:721: RuntimeWarning: invalid value encountered in less\n",
      "  xa[xa < 0] = -1\n",
      "Speed: 1.9ms preprocess, 16.7ms inference, 0.0ms loss, 0.3ms postprocess per image\n",
      "Results saved to \u001b[1mruns/epoch211\u001b[0m\n"
     ]
    },
    {
     "name": "stdout",
     "output_type": "stream",
     "text": [
      "-------------------- EPOCH 211 END --------------------\n",
      "-------------------- EPOCH 212 START --------------------\n",
      "Training start ...\n",
      "TRAIN:\n",
      "\tAVG_LOSS: 1.6253140168853952\n",
      "\tMAIN_LOSS: 1.1299996934359586\n",
      "\tKD_LOSS: 0.16510477398015275\n",
      "Evaluating start ...\n",
      "VAL:\n",
      "\tAVG_LOSS: 3.845591127872467\n",
      "\tMAIN_LOSS: 3.3349551409482956\n",
      "\tKD_LOSS: 0.17021198632816473\n"
     ]
    },
    {
     "name": "stderr",
     "output_type": "stream",
     "text": [
      "LSM-YOLO summary (fused): 391 layers, 2873048 parameters, 18824 gradients, 12.4 GFLOPs\n",
      "\u001b[34m\u001b[1mval: \u001b[0mScanning /kaggle/working/Br35H-Mask-Prepared/val/labels.cache... 151 images, 225 backgrounds, 0 corrupt: 100%|██████████| 376/376 [00:00<?, ?it/s]\n",
      "                 Class     Images  Instances      Box(P          R      mAP50  mAP50-95): 100%|██████████| 12/12 [00:08<00:00,  1.43it/s]\n",
      "                   all        376        181      0.905      0.788      0.882      0.634\n",
      "/usr/local/lib/python3.11/dist-packages/matplotlib/colors.py:721: RuntimeWarning: invalid value encountered in less\n",
      "  xa[xa < 0] = -1\n",
      "/usr/local/lib/python3.11/dist-packages/matplotlib/colors.py:721: RuntimeWarning: invalid value encountered in less\n",
      "  xa[xa < 0] = -1\n",
      "Speed: 1.9ms preprocess, 16.7ms inference, 0.0ms loss, 0.3ms postprocess per image\n",
      "Results saved to \u001b[1mruns/epoch212\u001b[0m\n"
     ]
    },
    {
     "name": "stdout",
     "output_type": "stream",
     "text": [
      "-------------------- EPOCH 212 END --------------------\n",
      "-------------------- EPOCH 213 START --------------------\n",
      "Training start ...\n",
      "TRAIN:\n",
      "\tAVG_LOSS: 1.6157674291465856\n",
      "\tMAIN_LOSS: 1.1247426595868943\n",
      "\tKD_LOSS: 0.16367492607877224\n",
      "Evaluating start ...\n",
      "VAL:\n",
      "\tAVG_LOSS: 3.843183197081089\n",
      "\tMAIN_LOSS: 3.3247512181599936\n",
      "\tKD_LOSS: 0.17281066998839378\n"
     ]
    },
    {
     "name": "stderr",
     "output_type": "stream",
     "text": [
      "LSM-YOLO summary (fused): 391 layers, 2873048 parameters, 18824 gradients, 12.4 GFLOPs\n",
      "\u001b[34m\u001b[1mval: \u001b[0mScanning /kaggle/working/Br35H-Mask-Prepared/val/labels.cache... 151 images, 225 backgrounds, 0 corrupt: 100%|██████████| 376/376 [00:00<?, ?it/s]\n",
      "                 Class     Images  Instances      Box(P          R      mAP50  mAP50-95): 100%|██████████| 12/12 [00:08<00:00,  1.39it/s]\n",
      "                   all        376        181      0.929      0.785       0.87      0.614\n",
      "/usr/local/lib/python3.11/dist-packages/matplotlib/colors.py:721: RuntimeWarning: invalid value encountered in less\n",
      "  xa[xa < 0] = -1\n",
      "/usr/local/lib/python3.11/dist-packages/matplotlib/colors.py:721: RuntimeWarning: invalid value encountered in less\n",
      "  xa[xa < 0] = -1\n",
      "Speed: 2.1ms preprocess, 16.7ms inference, 0.0ms loss, 0.4ms postprocess per image\n",
      "Results saved to \u001b[1mruns/epoch213\u001b[0m\n"
     ]
    },
    {
     "name": "stdout",
     "output_type": "stream",
     "text": [
      "-------------------- EPOCH 213 END --------------------\n",
      "-------------------- EPOCH 214 START --------------------\n",
      "Training start ...\n",
      "TRAIN:\n",
      "\tAVG_LOSS: 1.6233059982710247\n",
      "\tMAIN_LOSS: 1.1320472729356983\n",
      "\tKD_LOSS: 0.1637529083822347\n",
      "Evaluating start ...\n",
      "VAL:\n",
      "\tAVG_LOSS: 4.086121728022893\n",
      "\tMAIN_LOSS: 3.5761780937512717\n",
      "\tKD_LOSS: 0.16998121390740076\n"
     ]
    },
    {
     "name": "stderr",
     "output_type": "stream",
     "text": [
      "LSM-YOLO summary (fused): 391 layers, 2873048 parameters, 18824 gradients, 12.4 GFLOPs\n",
      "\u001b[34m\u001b[1mval: \u001b[0mScanning /kaggle/working/Br35H-Mask-Prepared/val/labels.cache... 151 images, 225 backgrounds, 0 corrupt: 100%|██████████| 376/376 [00:00<?, ?it/s]\n",
      "                 Class     Images  Instances      Box(P          R      mAP50  mAP50-95): 100%|██████████| 12/12 [00:08<00:00,  1.44it/s]\n",
      "                   all        376        181      0.923      0.794      0.881      0.635\n",
      "/usr/local/lib/python3.11/dist-packages/matplotlib/colors.py:721: RuntimeWarning: invalid value encountered in less\n",
      "  xa[xa < 0] = -1\n",
      "/usr/local/lib/python3.11/dist-packages/matplotlib/colors.py:721: RuntimeWarning: invalid value encountered in less\n",
      "  xa[xa < 0] = -1\n",
      "Speed: 1.8ms preprocess, 16.7ms inference, 0.0ms loss, 0.3ms postprocess per image\n",
      "Results saved to \u001b[1mruns/epoch214\u001b[0m\n"
     ]
    },
    {
     "name": "stdout",
     "output_type": "stream",
     "text": [
      "-------------------- EPOCH 214 END --------------------\n",
      "-------------------- EPOCH 215 START --------------------\n",
      "Training start ...\n",
      "TRAIN:\n",
      "\tAVG_LOSS: 1.6175154839889914\n",
      "\tMAIN_LOSS: 1.130818576752385\n",
      "\tKD_LOSS: 0.16223230146909062\n",
      "Evaluating start ...\n",
      "VAL:\n",
      "\tAVG_LOSS: 4.11331723133723\n",
      "\tMAIN_LOSS: 3.5983992417653403\n",
      "\tKD_LOSS: 0.17163932075103125\n"
     ]
    },
    {
     "name": "stderr",
     "output_type": "stream",
     "text": [
      "LSM-YOLO summary (fused): 391 layers, 2873048 parameters, 18824 gradients, 12.4 GFLOPs\n",
      "\u001b[34m\u001b[1mval: \u001b[0mScanning /kaggle/working/Br35H-Mask-Prepared/val/labels.cache... 151 images, 225 backgrounds, 0 corrupt: 100%|██████████| 376/376 [00:00<?, ?it/s]\n",
      "                 Class     Images  Instances      Box(P          R      mAP50  mAP50-95): 100%|██████████| 12/12 [00:08<00:00,  1.43it/s]\n",
      "                   all        376        181      0.928      0.778      0.867      0.621\n",
      "/usr/local/lib/python3.11/dist-packages/matplotlib/colors.py:721: RuntimeWarning: invalid value encountered in less\n",
      "  xa[xa < 0] = -1\n",
      "/usr/local/lib/python3.11/dist-packages/matplotlib/colors.py:721: RuntimeWarning: invalid value encountered in less\n",
      "  xa[xa < 0] = -1\n",
      "Speed: 1.9ms preprocess, 16.7ms inference, 0.0ms loss, 0.3ms postprocess per image\n",
      "Results saved to \u001b[1mruns/epoch215\u001b[0m\n"
     ]
    },
    {
     "name": "stdout",
     "output_type": "stream",
     "text": [
      "-------------------- EPOCH 215 END --------------------\n",
      "-------------------- EPOCH 216 START --------------------\n",
      "Training start ...\n",
      "TRAIN:\n",
      "\tAVG_LOSS: 1.610445478294469\n",
      "\tMAIN_LOSS: 1.1211573798445207\n",
      "\tKD_LOSS: 0.1630960350172429\n",
      "Evaluating start ...\n",
      "VAL:\n",
      "\tAVG_LOSS: 4.257496039072673\n",
      "\tMAIN_LOSS: 3.723153680562973\n",
      "\tKD_LOSS: 0.1781141310930252\n"
     ]
    },
    {
     "name": "stderr",
     "output_type": "stream",
     "text": [
      "LSM-YOLO summary (fused): 391 layers, 2873048 parameters, 18824 gradients, 12.4 GFLOPs\n",
      "\u001b[34m\u001b[1mval: \u001b[0mScanning /kaggle/working/Br35H-Mask-Prepared/val/labels.cache... 151 images, 225 backgrounds, 0 corrupt: 100%|██████████| 376/376 [00:00<?, ?it/s]\n",
      "                 Class     Images  Instances      Box(P          R      mAP50  mAP50-95): 100%|██████████| 12/12 [00:08<00:00,  1.42it/s]\n",
      "                   all        376        181      0.873      0.799      0.873      0.606\n",
      "/usr/local/lib/python3.11/dist-packages/matplotlib/colors.py:721: RuntimeWarning: invalid value encountered in less\n",
      "  xa[xa < 0] = -1\n",
      "/usr/local/lib/python3.11/dist-packages/matplotlib/colors.py:721: RuntimeWarning: invalid value encountered in less\n",
      "  xa[xa < 0] = -1\n",
      "Speed: 1.9ms preprocess, 16.7ms inference, 0.0ms loss, 0.3ms postprocess per image\n",
      "Results saved to \u001b[1mruns/epoch216\u001b[0m\n"
     ]
    },
    {
     "name": "stdout",
     "output_type": "stream",
     "text": [
      "-------------------- EPOCH 216 END --------------------\n",
      "-------------------- EPOCH 217 START --------------------\n",
      "Training start ...\n",
      "TRAIN:\n",
      "\tAVG_LOSS: 1.5999484103691728\n",
      "\tMAIN_LOSS: 1.1129597251928305\n",
      "\tKD_LOSS: 0.16232956247993663\n",
      "Evaluating start ...\n",
      "VAL:\n",
      "\tAVG_LOSS: 4.094680776198705\n",
      "\tMAIN_LOSS: 3.573549638191859\n",
      "\tKD_LOSS: 0.17371039216717085\n"
     ]
    },
    {
     "name": "stderr",
     "output_type": "stream",
     "text": [
      "LSM-YOLO summary (fused): 391 layers, 2873048 parameters, 18824 gradients, 12.4 GFLOPs\n",
      "\u001b[34m\u001b[1mval: \u001b[0mScanning /kaggle/working/Br35H-Mask-Prepared/val/labels.cache... 151 images, 225 backgrounds, 0 corrupt: 100%|██████████| 376/376 [00:00<?, ?it/s]\n",
      "                 Class     Images  Instances      Box(P          R      mAP50  mAP50-95): 100%|██████████| 12/12 [00:08<00:00,  1.43it/s]\n",
      "                   all        376        181      0.877      0.746      0.855      0.619\n",
      "/usr/local/lib/python3.11/dist-packages/matplotlib/colors.py:721: RuntimeWarning: invalid value encountered in less\n",
      "  xa[xa < 0] = -1\n",
      "/usr/local/lib/python3.11/dist-packages/matplotlib/colors.py:721: RuntimeWarning: invalid value encountered in less\n",
      "  xa[xa < 0] = -1\n",
      "Speed: 2.0ms preprocess, 16.7ms inference, 0.0ms loss, 0.4ms postprocess per image\n",
      "Results saved to \u001b[1mruns/epoch217\u001b[0m\n"
     ]
    },
    {
     "name": "stdout",
     "output_type": "stream",
     "text": [
      "-------------------- EPOCH 217 END --------------------\n",
      "-------------------- EPOCH 218 START --------------------\n",
      "Training start ...\n",
      "TRAIN:\n",
      "\tAVG_LOSS: 1.5919428837450245\n",
      "\tMAIN_LOSS: 1.110329598565645\n",
      "\tKD_LOSS: 0.1605377638641792\n",
      "Evaluating start ...\n",
      "VAL:\n",
      "\tAVG_LOSS: 3.9851849575837455\n",
      "\tMAIN_LOSS: 3.4724558293819427\n",
      "\tKD_LOSS: 0.17090971892078718\n"
     ]
    },
    {
     "name": "stderr",
     "output_type": "stream",
     "text": [
      "LSM-YOLO summary (fused): 391 layers, 2873048 parameters, 18824 gradients, 12.4 GFLOPs\n",
      "\u001b[34m\u001b[1mval: \u001b[0mScanning /kaggle/working/Br35H-Mask-Prepared/val/labels.cache... 151 images, 225 backgrounds, 0 corrupt: 100%|██████████| 376/376 [00:00<?, ?it/s]\n",
      "                 Class     Images  Instances      Box(P          R      mAP50  mAP50-95): 100%|██████████| 12/12 [00:08<00:00,  1.41it/s]\n",
      "                   all        376        181      0.946      0.751      0.874      0.627\n",
      "/usr/local/lib/python3.11/dist-packages/matplotlib/colors.py:721: RuntimeWarning: invalid value encountered in less\n",
      "  xa[xa < 0] = -1\n",
      "/usr/local/lib/python3.11/dist-packages/matplotlib/colors.py:721: RuntimeWarning: invalid value encountered in less\n",
      "  xa[xa < 0] = -1\n",
      "Speed: 1.9ms preprocess, 16.7ms inference, 0.0ms loss, 0.4ms postprocess per image\n",
      "Results saved to \u001b[1mruns/epoch218\u001b[0m\n"
     ]
    },
    {
     "name": "stdout",
     "output_type": "stream",
     "text": [
      "-------------------- EPOCH 218 END --------------------\n",
      "-------------------- EPOCH 219 START --------------------\n",
      "Training start ...\n",
      "TRAIN:\n",
      "\tAVG_LOSS: 1.5847559216656262\n",
      "\tMAIN_LOSS: 1.1038741197767137\n",
      "\tKD_LOSS: 0.16029393691805344\n",
      "Evaluating start ...\n",
      "VAL:\n",
      "\tAVG_LOSS: 4.127235561609268\n",
      "\tMAIN_LOSS: 3.6176862716674805\n",
      "\tKD_LOSS: 0.1698497465501229\n"
     ]
    },
    {
     "name": "stderr",
     "output_type": "stream",
     "text": [
      "LSM-YOLO summary (fused): 391 layers, 2873048 parameters, 18824 gradients, 12.4 GFLOPs\n",
      "\u001b[34m\u001b[1mval: \u001b[0mScanning /kaggle/working/Br35H-Mask-Prepared/val/labels.cache... 151 images, 225 backgrounds, 0 corrupt: 100%|██████████| 376/376 [00:00<?, ?it/s]\n",
      "                 Class     Images  Instances      Box(P          R      mAP50  mAP50-95): 100%|██████████| 12/12 [00:08<00:00,  1.43it/s]\n",
      "                   all        376        181      0.905      0.785      0.884      0.622\n",
      "/usr/local/lib/python3.11/dist-packages/matplotlib/colors.py:721: RuntimeWarning: invalid value encountered in less\n",
      "  xa[xa < 0] = -1\n",
      "/usr/local/lib/python3.11/dist-packages/matplotlib/colors.py:721: RuntimeWarning: invalid value encountered in less\n",
      "  xa[xa < 0] = -1\n",
      "Speed: 1.9ms preprocess, 16.7ms inference, 0.0ms loss, 0.4ms postprocess per image\n",
      "Results saved to \u001b[1mruns/epoch219\u001b[0m\n"
     ]
    },
    {
     "name": "stdout",
     "output_type": "stream",
     "text": [
      "-------------------- EPOCH 219 END --------------------\n",
      "-------------------- EPOCH 220 START --------------------\n",
      "Training start ...\n",
      "TRAIN:\n",
      "\tAVG_LOSS: 1.60013927236388\n",
      "\tMAIN_LOSS: 1.1162178320220755\n",
      "\tKD_LOSS: 0.16130714646623104\n",
      "Evaluating start ...\n",
      "VAL:\n",
      "\tAVG_LOSS: 3.8154530127843223\n",
      "\tMAIN_LOSS: 3.305013249317805\n",
      "\tKD_LOSS: 0.17014658078551292\n"
     ]
    },
    {
     "name": "stderr",
     "output_type": "stream",
     "text": [
      "LSM-YOLO summary (fused): 391 layers, 2873048 parameters, 18824 gradients, 12.4 GFLOPs\n",
      "\u001b[34m\u001b[1mval: \u001b[0mScanning /kaggle/working/Br35H-Mask-Prepared/val/labels.cache... 151 images, 225 backgrounds, 0 corrupt: 100%|██████████| 376/376 [00:00<?, ?it/s]\n",
      "                 Class     Images  Instances      Box(P          R      mAP50  mAP50-95): 100%|██████████| 12/12 [00:08<00:00,  1.43it/s]\n",
      "                   all        376        181      0.914       0.79      0.885      0.631\n",
      "/usr/local/lib/python3.11/dist-packages/matplotlib/colors.py:721: RuntimeWarning: invalid value encountered in less\n",
      "  xa[xa < 0] = -1\n",
      "/usr/local/lib/python3.11/dist-packages/matplotlib/colors.py:721: RuntimeWarning: invalid value encountered in less\n",
      "  xa[xa < 0] = -1\n",
      "Speed: 1.9ms preprocess, 16.7ms inference, 0.0ms loss, 0.4ms postprocess per image\n",
      "Results saved to \u001b[1mruns/epoch220\u001b[0m\n"
     ]
    },
    {
     "name": "stdout",
     "output_type": "stream",
     "text": [
      "-------------------- EPOCH 220 END --------------------\n",
      "-------------------- EPOCH 221 START --------------------\n",
      "Training start ...\n",
      "TRAIN:\n",
      "\tAVG_LOSS: 1.6049591046345384\n",
      "\tMAIN_LOSS: 1.1128648089457163\n",
      "\tKD_LOSS: 0.1640314318334\n",
      "Evaluating start ...\n",
      "VAL:\n",
      "\tAVG_LOSS: 3.9420289397239685\n",
      "\tMAIN_LOSS: 3.429475804169973\n",
      "\tKD_LOSS: 0.17085105118652186\n"
     ]
    },
    {
     "name": "stderr",
     "output_type": "stream",
     "text": [
      "LSM-YOLO summary (fused): 391 layers, 2873048 parameters, 18824 gradients, 12.4 GFLOPs\n",
      "\u001b[34m\u001b[1mval: \u001b[0mScanning /kaggle/working/Br35H-Mask-Prepared/val/labels.cache... 151 images, 225 backgrounds, 0 corrupt: 100%|██████████| 376/376 [00:00<?, ?it/s]\n",
      "                 Class     Images  Instances      Box(P          R      mAP50  mAP50-95): 100%|██████████| 12/12 [00:08<00:00,  1.42it/s]\n",
      "                   all        376        181      0.948      0.806      0.888      0.629\n",
      "/usr/local/lib/python3.11/dist-packages/matplotlib/colors.py:721: RuntimeWarning: invalid value encountered in less\n",
      "  xa[xa < 0] = -1\n",
      "/usr/local/lib/python3.11/dist-packages/matplotlib/colors.py:721: RuntimeWarning: invalid value encountered in less\n",
      "  xa[xa < 0] = -1\n",
      "Speed: 1.9ms preprocess, 16.7ms inference, 0.0ms loss, 0.3ms postprocess per image\n",
      "Results saved to \u001b[1mruns/epoch221\u001b[0m\n"
     ]
    },
    {
     "name": "stdout",
     "output_type": "stream",
     "text": [
      "-------------------- EPOCH 221 END --------------------\n",
      "-------------------- EPOCH 222 START --------------------\n",
      "Training start ...\n",
      "TRAIN:\n",
      "\tAVG_LOSS: 1.5977221667012083\n",
      "\tMAIN_LOSS: 1.117049995856949\n",
      "\tKD_LOSS: 0.16022405575347853\n",
      "Evaluating start ...\n",
      "VAL:\n",
      "\tAVG_LOSS: 3.9235961039861045\n",
      "\tMAIN_LOSS: 3.421649754047394\n",
      "\tKD_LOSS: 0.16731544894476733\n"
     ]
    },
    {
     "name": "stderr",
     "output_type": "stream",
     "text": [
      "LSM-YOLO summary (fused): 391 layers, 2873048 parameters, 18824 gradients, 12.4 GFLOPs\n",
      "\u001b[34m\u001b[1mval: \u001b[0mScanning /kaggle/working/Br35H-Mask-Prepared/val/labels.cache... 151 images, 225 backgrounds, 0 corrupt: 100%|██████████| 376/376 [00:00<?, ?it/s]\n",
      "                 Class     Images  Instances      Box(P          R      mAP50  mAP50-95): 100%|██████████| 12/12 [00:08<00:00,  1.41it/s]\n",
      "                   all        376        181       0.96       0.79      0.887      0.631\n",
      "/usr/local/lib/python3.11/dist-packages/matplotlib/colors.py:721: RuntimeWarning: invalid value encountered in less\n",
      "  xa[xa < 0] = -1\n",
      "/usr/local/lib/python3.11/dist-packages/matplotlib/colors.py:721: RuntimeWarning: invalid value encountered in less\n",
      "  xa[xa < 0] = -1\n",
      "Speed: 2.1ms preprocess, 16.7ms inference, 0.0ms loss, 0.3ms postprocess per image\n",
      "Results saved to \u001b[1mruns/epoch222\u001b[0m\n"
     ]
    },
    {
     "name": "stdout",
     "output_type": "stream",
     "text": [
      "-------------------- EPOCH 222 END --------------------\n",
      "-------------------- EPOCH 223 START --------------------\n",
      "Training start ...\n",
      "TRAIN:\n",
      "\tAVG_LOSS: 1.593627869328366\n",
      "\tMAIN_LOSS: 1.1158013155188742\n",
      "\tKD_LOSS: 0.15927551894248287\n",
      "Evaluating start ...\n",
      "VAL:\n",
      "\tAVG_LOSS: 3.9963513811429343\n",
      "\tMAIN_LOSS: 3.485220650831858\n",
      "\tKD_LOSS: 0.17037692107260227\n"
     ]
    },
    {
     "name": "stderr",
     "output_type": "stream",
     "text": [
      "LSM-YOLO summary (fused): 391 layers, 2873048 parameters, 18824 gradients, 12.4 GFLOPs\n",
      "\u001b[34m\u001b[1mval: \u001b[0mScanning /kaggle/working/Br35H-Mask-Prepared/val/labels.cache... 151 images, 225 backgrounds, 0 corrupt: 100%|██████████| 376/376 [00:00<?, ?it/s]\n",
      "                 Class     Images  Instances      Box(P          R      mAP50  mAP50-95): 100%|██████████| 12/12 [00:08<00:00,  1.42it/s]\n",
      "                   all        376        181      0.921      0.777      0.868      0.614\n",
      "/usr/local/lib/python3.11/dist-packages/matplotlib/colors.py:721: RuntimeWarning: invalid value encountered in less\n",
      "  xa[xa < 0] = -1\n",
      "/usr/local/lib/python3.11/dist-packages/matplotlib/colors.py:721: RuntimeWarning: invalid value encountered in less\n",
      "  xa[xa < 0] = -1\n",
      "Speed: 2.0ms preprocess, 16.7ms inference, 0.0ms loss, 0.4ms postprocess per image\n",
      "Results saved to \u001b[1mruns/epoch223\u001b[0m\n"
     ]
    },
    {
     "name": "stdout",
     "output_type": "stream",
     "text": [
      "-------------------- EPOCH 223 END --------------------\n",
      "-------------------- EPOCH 224 START --------------------\n",
      "Training start ...\n",
      "TRAIN:\n",
      "\tAVG_LOSS: 1.5717026945910877\n",
      "\tMAIN_LOSS: 1.0956617691848851\n",
      "\tKD_LOSS: 0.15868030922322335\n",
      "Evaluating start ...\n",
      "VAL:\n",
      "\tAVG_LOSS: 3.9677965342998505\n",
      "\tMAIN_LOSS: 3.459193820754687\n",
      "\tKD_LOSS: 0.16953423619270325\n"
     ]
    },
    {
     "name": "stderr",
     "output_type": "stream",
     "text": [
      "LSM-YOLO summary (fused): 391 layers, 2873048 parameters, 18824 gradients, 12.4 GFLOPs\n",
      "\u001b[34m\u001b[1mval: \u001b[0mScanning /kaggle/working/Br35H-Mask-Prepared/val/labels.cache... 151 images, 225 backgrounds, 0 corrupt: 100%|██████████| 376/376 [00:00<?, ?it/s]\n",
      "                 Class     Images  Instances      Box(P          R      mAP50  mAP50-95): 100%|██████████| 12/12 [00:08<00:00,  1.42it/s]\n",
      "                   all        376        181      0.944      0.779      0.865      0.628\n",
      "/usr/local/lib/python3.11/dist-packages/matplotlib/colors.py:721: RuntimeWarning: invalid value encountered in less\n",
      "  xa[xa < 0] = -1\n",
      "/usr/local/lib/python3.11/dist-packages/matplotlib/colors.py:721: RuntimeWarning: invalid value encountered in less\n",
      "  xa[xa < 0] = -1\n",
      "Speed: 1.9ms preprocess, 16.7ms inference, 0.0ms loss, 0.3ms postprocess per image\n",
      "Results saved to \u001b[1mruns/epoch224\u001b[0m\n"
     ]
    },
    {
     "name": "stdout",
     "output_type": "stream",
     "text": [
      "-------------------- EPOCH 224 END --------------------\n",
      "-------------------- EPOCH 225 START --------------------\n",
      "Training start ...\n",
      "TRAIN:\n",
      "\tAVG_LOSS: 1.5822510658940183\n",
      "\tMAIN_LOSS: 1.104345384277875\n",
      "\tKD_LOSS: 0.15930189286606222\n",
      "Evaluating start ...\n",
      "VAL:\n",
      "\tAVG_LOSS: 4.012177914381027\n",
      "\tMAIN_LOSS: 3.504963129758835\n",
      "\tKD_LOSS: 0.16907158307731152\n"
     ]
    },
    {
     "name": "stderr",
     "output_type": "stream",
     "text": [
      "LSM-YOLO summary (fused): 391 layers, 2873048 parameters, 18824 gradients, 12.4 GFLOPs\n",
      "\u001b[34m\u001b[1mval: \u001b[0mScanning /kaggle/working/Br35H-Mask-Prepared/val/labels.cache... 151 images, 225 backgrounds, 0 corrupt: 100%|██████████| 376/376 [00:00<?, ?it/s]\n",
      "                 Class     Images  Instances      Box(P          R      mAP50  mAP50-95): 100%|██████████| 12/12 [00:08<00:00,  1.43it/s]\n",
      "                   all        376        181      0.946      0.768      0.881      0.633\n",
      "/usr/local/lib/python3.11/dist-packages/matplotlib/colors.py:721: RuntimeWarning: invalid value encountered in less\n",
      "  xa[xa < 0] = -1\n",
      "/usr/local/lib/python3.11/dist-packages/matplotlib/colors.py:721: RuntimeWarning: invalid value encountered in less\n",
      "  xa[xa < 0] = -1\n",
      "Speed: 1.9ms preprocess, 16.7ms inference, 0.0ms loss, 0.3ms postprocess per image\n",
      "Results saved to \u001b[1mruns/epoch225\u001b[0m\n"
     ]
    },
    {
     "name": "stdout",
     "output_type": "stream",
     "text": [
      "-------------------- EPOCH 225 END --------------------\n",
      "-------------------- EPOCH 226 START --------------------\n",
      "Training start ...\n",
      "TRAIN:\n",
      "\tAVG_LOSS: 1.6006225038178359\n",
      "\tMAIN_LOSS: 1.1151001227052906\n",
      "\tKD_LOSS: 0.1618407932640631\n",
      "Evaluating start ...\n",
      "VAL:\n",
      "\tAVG_LOSS: 4.096523821353912\n",
      "\tMAIN_LOSS: 3.5808277825514474\n",
      "\tKD_LOSS: 0.1718986885001262\n"
     ]
    },
    {
     "name": "stderr",
     "output_type": "stream",
     "text": [
      "LSM-YOLO summary (fused): 391 layers, 2873048 parameters, 18824 gradients, 12.4 GFLOPs\n",
      "\u001b[34m\u001b[1mval: \u001b[0mScanning /kaggle/working/Br35H-Mask-Prepared/val/labels.cache... 151 images, 225 backgrounds, 0 corrupt: 100%|██████████| 376/376 [00:00<?, ?it/s]\n",
      "                 Class     Images  Instances      Box(P          R      mAP50  mAP50-95): 100%|██████████| 12/12 [00:08<00:00,  1.41it/s]\n",
      "                   all        376        181      0.908      0.768      0.864      0.604\n",
      "/usr/local/lib/python3.11/dist-packages/matplotlib/colors.py:721: RuntimeWarning: invalid value encountered in less\n",
      "  xa[xa < 0] = -1\n",
      "/usr/local/lib/python3.11/dist-packages/matplotlib/colors.py:721: RuntimeWarning: invalid value encountered in less\n",
      "  xa[xa < 0] = -1\n",
      "Speed: 2.2ms preprocess, 16.7ms inference, 0.0ms loss, 0.3ms postprocess per image\n",
      "Results saved to \u001b[1mruns/epoch226\u001b[0m\n"
     ]
    },
    {
     "name": "stdout",
     "output_type": "stream",
     "text": [
      "-------------------- EPOCH 226 END --------------------\n",
      "-------------------- EPOCH 227 START --------------------\n",
      "Training start ...\n",
      "TRAIN:\n",
      "\tAVG_LOSS: 1.5741407961785039\n",
      "\tMAIN_LOSS: 1.0990908553328695\n",
      "\tKD_LOSS: 0.15834998028187813\n",
      "Evaluating start ...\n",
      "VAL:\n",
      "\tAVG_LOSS: 3.7444569704433284\n",
      "\tMAIN_LOSS: 3.252582142750422\n",
      "\tKD_LOSS: 0.16395827817420164\n"
     ]
    },
    {
     "name": "stderr",
     "output_type": "stream",
     "text": [
      "LSM-YOLO summary (fused): 391 layers, 2873048 parameters, 18824 gradients, 12.4 GFLOPs\n",
      "\u001b[34m\u001b[1mval: \u001b[0mScanning /kaggle/working/Br35H-Mask-Prepared/val/labels.cache... 151 images, 225 backgrounds, 0 corrupt: 100%|██████████| 376/376 [00:00<?, ?it/s]\n",
      "                 Class     Images  Instances      Box(P          R      mAP50  mAP50-95): 100%|██████████| 12/12 [00:08<00:00,  1.41it/s]\n",
      "                   all        376        181       0.94      0.785      0.884      0.629\n",
      "/usr/local/lib/python3.11/dist-packages/matplotlib/colors.py:721: RuntimeWarning: invalid value encountered in less\n",
      "  xa[xa < 0] = -1\n",
      "/usr/local/lib/python3.11/dist-packages/matplotlib/colors.py:721: RuntimeWarning: invalid value encountered in less\n",
      "  xa[xa < 0] = -1\n",
      "Speed: 2.0ms preprocess, 16.7ms inference, 0.0ms loss, 0.4ms postprocess per image\n",
      "Results saved to \u001b[1mruns/epoch227\u001b[0m\n"
     ]
    },
    {
     "name": "stdout",
     "output_type": "stream",
     "text": [
      "-------------------- EPOCH 227 END --------------------\n",
      "-------------------- EPOCH 228 START --------------------\n",
      "Training start ...\n",
      "TRAIN:\n",
      "\tAVG_LOSS: 1.5720994306516043\n",
      "\tMAIN_LOSS: 1.0979941992820064\n",
      "\tKD_LOSS: 0.1580350778148144\n",
      "Evaluating start ...\n",
      "VAL:\n",
      "\tAVG_LOSS: 4.147600789864858\n",
      "\tMAIN_LOSS: 3.6378263036410012\n",
      "\tKD_LOSS: 0.1699248297760884\n"
     ]
    },
    {
     "name": "stderr",
     "output_type": "stream",
     "text": [
      "LSM-YOLO summary (fused): 391 layers, 2873048 parameters, 18824 gradients, 12.4 GFLOPs\n",
      "\u001b[34m\u001b[1mval: \u001b[0mScanning /kaggle/working/Br35H-Mask-Prepared/val/labels.cache... 151 images, 225 backgrounds, 0 corrupt: 100%|██████████| 376/376 [00:00<?, ?it/s]\n",
      "                 Class     Images  Instances      Box(P          R      mAP50  mAP50-95): 100%|██████████| 12/12 [00:08<00:00,  1.43it/s]\n",
      "                   all        376        181       0.89      0.762      0.855      0.602\n",
      "/usr/local/lib/python3.11/dist-packages/matplotlib/colors.py:721: RuntimeWarning: invalid value encountered in less\n",
      "  xa[xa < 0] = -1\n",
      "/usr/local/lib/python3.11/dist-packages/matplotlib/colors.py:721: RuntimeWarning: invalid value encountered in less\n",
      "  xa[xa < 0] = -1\n",
      "Speed: 1.9ms preprocess, 16.7ms inference, 0.0ms loss, 0.4ms postprocess per image\n",
      "Results saved to \u001b[1mruns/epoch228\u001b[0m\n"
     ]
    },
    {
     "name": "stdout",
     "output_type": "stream",
     "text": [
      "-------------------- EPOCH 228 END --------------------\n",
      "-------------------- EPOCH 229 START --------------------\n",
      "Training start ...\n",
      "TRAIN:\n",
      "\tAVG_LOSS: 1.598321938062016\n",
      "\tMAIN_LOSS: 1.1134929423090778\n",
      "\tKD_LOSS: 0.16160966663420956\n",
      "Evaluating start ...\n",
      "VAL:\n",
      "\tAVG_LOSS: 3.8616998294989267\n",
      "\tMAIN_LOSS: 3.320520281791687\n",
      "\tKD_LOSS: 0.18039318670829138\n"
     ]
    },
    {
     "name": "stderr",
     "output_type": "stream",
     "text": [
      "LSM-YOLO summary (fused): 391 layers, 2873048 parameters, 18824 gradients, 12.4 GFLOPs\n",
      "\u001b[34m\u001b[1mval: \u001b[0mScanning /kaggle/working/Br35H-Mask-Prepared/val/labels.cache... 151 images, 225 backgrounds, 0 corrupt: 100%|██████████| 376/376 [00:00<?, ?it/s]\n",
      "                 Class     Images  Instances      Box(P          R      mAP50  mAP50-95): 100%|██████████| 12/12 [00:08<00:00,  1.44it/s]\n",
      "                   all        376        181      0.929      0.785      0.857      0.604\n",
      "/usr/local/lib/python3.11/dist-packages/matplotlib/colors.py:721: RuntimeWarning: invalid value encountered in less\n",
      "  xa[xa < 0] = -1\n",
      "/usr/local/lib/python3.11/dist-packages/matplotlib/colors.py:721: RuntimeWarning: invalid value encountered in less\n",
      "  xa[xa < 0] = -1\n",
      "Speed: 1.9ms preprocess, 16.8ms inference, 0.0ms loss, 0.4ms postprocess per image\n",
      "Results saved to \u001b[1mruns/epoch229\u001b[0m\n"
     ]
    },
    {
     "name": "stdout",
     "output_type": "stream",
     "text": [
      "-------------------- EPOCH 229 END --------------------\n",
      "-------------------- EPOCH 230 START --------------------\n",
      "Training start ...\n",
      "TRAIN:\n",
      "\tAVG_LOSS: 1.6203517974177493\n",
      "\tMAIN_LOSS: 1.1332973332344731\n",
      "\tKD_LOSS: 0.1623514868036101\n",
      "Evaluating start ...\n",
      "VAL:\n",
      "\tAVG_LOSS: 4.118660181760788\n",
      "\tMAIN_LOSS: 3.6085408329963684\n",
      "\tKD_LOSS: 0.17003978105882803\n"
     ]
    },
    {
     "name": "stderr",
     "output_type": "stream",
     "text": [
      "LSM-YOLO summary (fused): 391 layers, 2873048 parameters, 18824 gradients, 12.4 GFLOPs\n",
      "\u001b[34m\u001b[1mval: \u001b[0mScanning /kaggle/working/Br35H-Mask-Prepared/val/labels.cache... 151 images, 225 backgrounds, 0 corrupt: 100%|██████████| 376/376 [00:00<?, ?it/s]\n",
      "                 Class     Images  Instances      Box(P          R      mAP50  mAP50-95): 100%|██████████| 12/12 [00:08<00:00,  1.43it/s]\n",
      "                   all        376        181      0.952       0.77       0.87      0.618\n",
      "/usr/local/lib/python3.11/dist-packages/matplotlib/colors.py:721: RuntimeWarning: invalid value encountered in less\n",
      "  xa[xa < 0] = -1\n",
      "/usr/local/lib/python3.11/dist-packages/matplotlib/colors.py:721: RuntimeWarning: invalid value encountered in less\n",
      "  xa[xa < 0] = -1\n",
      "Speed: 1.9ms preprocess, 16.7ms inference, 0.0ms loss, 0.3ms postprocess per image\n",
      "Results saved to \u001b[1mruns/epoch230\u001b[0m\n"
     ]
    },
    {
     "name": "stdout",
     "output_type": "stream",
     "text": [
      "-------------------- EPOCH 230 END --------------------\n",
      "-------------------- EPOCH 231 START --------------------\n",
      "Training start ...\n",
      "TRAIN:\n",
      "\tAVG_LOSS: 1.5986994542653048\n",
      "\tMAIN_LOSS: 1.1213888865482957\n",
      "\tKD_LOSS: 0.15910352332682548\n",
      "Evaluating start ...\n",
      "VAL:\n",
      "\tAVG_LOSS: 4.052280445893605\n",
      "\tMAIN_LOSS: 3.5368166267871857\n",
      "\tKD_LOSS: 0.17182127634684244\n"
     ]
    },
    {
     "name": "stderr",
     "output_type": "stream",
     "text": [
      "LSM-YOLO summary (fused): 391 layers, 2873048 parameters, 18824 gradients, 12.4 GFLOPs\n",
      "\u001b[34m\u001b[1mval: \u001b[0mScanning /kaggle/working/Br35H-Mask-Prepared/val/labels.cache... 151 images, 225 backgrounds, 0 corrupt: 100%|██████████| 376/376 [00:00<?, ?it/s]\n",
      "                 Class     Images  Instances      Box(P          R      mAP50  mAP50-95): 100%|██████████| 12/12 [00:08<00:00,  1.43it/s]\n",
      "                   all        376        181      0.966      0.796      0.888      0.628\n",
      "/usr/local/lib/python3.11/dist-packages/matplotlib/colors.py:721: RuntimeWarning: invalid value encountered in less\n",
      "  xa[xa < 0] = -1\n",
      "/usr/local/lib/python3.11/dist-packages/matplotlib/colors.py:721: RuntimeWarning: invalid value encountered in less\n",
      "  xa[xa < 0] = -1\n",
      "Speed: 2.0ms preprocess, 16.7ms inference, 0.0ms loss, 0.3ms postprocess per image\n",
      "Results saved to \u001b[1mruns/epoch231\u001b[0m\n"
     ]
    },
    {
     "name": "stdout",
     "output_type": "stream",
     "text": [
      "-------------------- EPOCH 231 END --------------------\n",
      "-------------------- EPOCH 232 START --------------------\n",
      "Training start ...\n",
      "TRAIN:\n",
      "\tAVG_LOSS: 1.5797487195534041\n",
      "\tMAIN_LOSS: 1.109337403804441\n",
      "\tKD_LOSS: 0.15680376940135715\n",
      "Evaluating start ...\n",
      "VAL:\n",
      "\tAVG_LOSS: 3.640388856331507\n",
      "\tMAIN_LOSS: 3.147077073653539\n",
      "\tKD_LOSS: 0.16443725489079952\n"
     ]
    },
    {
     "name": "stderr",
     "output_type": "stream",
     "text": [
      "LSM-YOLO summary (fused): 391 layers, 2873048 parameters, 18824 gradients, 12.4 GFLOPs\n",
      "\u001b[34m\u001b[1mval: \u001b[0mScanning /kaggle/working/Br35H-Mask-Prepared/val/labels.cache... 151 images, 225 backgrounds, 0 corrupt: 100%|██████████| 376/376 [00:00<?, ?it/s]\n",
      "                 Class     Images  Instances      Box(P          R      mAP50  mAP50-95): 100%|██████████| 12/12 [00:08<00:00,  1.42it/s]\n",
      "                   all        376        181      0.934      0.785      0.886      0.634\n",
      "/usr/local/lib/python3.11/dist-packages/matplotlib/colors.py:721: RuntimeWarning: invalid value encountered in less\n",
      "  xa[xa < 0] = -1\n",
      "/usr/local/lib/python3.11/dist-packages/matplotlib/colors.py:721: RuntimeWarning: invalid value encountered in less\n",
      "  xa[xa < 0] = -1\n",
      "Speed: 2.0ms preprocess, 16.7ms inference, 0.0ms loss, 0.3ms postprocess per image\n",
      "Results saved to \u001b[1mruns/epoch232\u001b[0m\n"
     ]
    },
    {
     "name": "stdout",
     "output_type": "stream",
     "text": [
      "-------------------- EPOCH 232 END --------------------\n",
      "-------------------- EPOCH 233 START --------------------\n",
      "Training start ...\n",
      "TRAIN:\n",
      "\tAVG_LOSS: 1.5741131366053713\n",
      "\tMAIN_LOSS: 1.104348682150056\n",
      "\tKD_LOSS: 0.15658814959888218\n",
      "Evaluating start ...\n",
      "VAL:\n",
      "\tAVG_LOSS: 4.115755081176758\n",
      "\tMAIN_LOSS: 3.6223975817362466\n",
      "\tKD_LOSS: 0.16445249505341053\n"
     ]
    },
    {
     "name": "stderr",
     "output_type": "stream",
     "text": [
      "LSM-YOLO summary (fused): 391 layers, 2873048 parameters, 18824 gradients, 12.4 GFLOPs\n",
      "\u001b[34m\u001b[1mval: \u001b[0mScanning /kaggle/working/Br35H-Mask-Prepared/val/labels.cache... 151 images, 225 backgrounds, 0 corrupt: 100%|██████████| 376/376 [00:00<?, ?it/s]\n",
      "                 Class     Images  Instances      Box(P          R      mAP50  mAP50-95): 100%|██████████| 12/12 [00:08<00:00,  1.44it/s]\n",
      "                   all        376        181       0.91      0.778      0.863       0.62\n",
      "/usr/local/lib/python3.11/dist-packages/matplotlib/colors.py:721: RuntimeWarning: invalid value encountered in less\n",
      "  xa[xa < 0] = -1\n",
      "/usr/local/lib/python3.11/dist-packages/matplotlib/colors.py:721: RuntimeWarning: invalid value encountered in less\n",
      "  xa[xa < 0] = -1\n",
      "Speed: 1.9ms preprocess, 16.8ms inference, 0.0ms loss, 0.3ms postprocess per image\n",
      "Results saved to \u001b[1mruns/epoch233\u001b[0m\n"
     ]
    },
    {
     "name": "stdout",
     "output_type": "stream",
     "text": [
      "-------------------- EPOCH 233 END --------------------\n",
      "-------------------- EPOCH 234 START --------------------\n",
      "Training start ...\n",
      "TRAIN:\n",
      "\tAVG_LOSS: 1.5851065886171558\n",
      "\tMAIN_LOSS: 1.1119605340535128\n",
      "\tKD_LOSS: 0.1577153502008583\n",
      "Evaluating start ...\n",
      "VAL:\n",
      "\tAVG_LOSS: 3.941705127557119\n",
      "\tMAIN_LOSS: 3.427239845196406\n",
      "\tKD_LOSS: 0.17148842724661031\n"
     ]
    },
    {
     "name": "stderr",
     "output_type": "stream",
     "text": [
      "LSM-YOLO summary (fused): 391 layers, 2873048 parameters, 18824 gradients, 12.4 GFLOPs\n",
      "\u001b[34m\u001b[1mval: \u001b[0mScanning /kaggle/working/Br35H-Mask-Prepared/val/labels.cache... 151 images, 225 backgrounds, 0 corrupt: 100%|██████████| 376/376 [00:00<?, ?it/s]\n",
      "                 Class     Images  Instances      Box(P          R      mAP50  mAP50-95): 100%|██████████| 12/12 [00:08<00:00,  1.44it/s]\n",
      "                   all        376        181      0.896       0.79      0.871       0.62\n",
      "/usr/local/lib/python3.11/dist-packages/matplotlib/colors.py:721: RuntimeWarning: invalid value encountered in less\n",
      "  xa[xa < 0] = -1\n",
      "/usr/local/lib/python3.11/dist-packages/matplotlib/colors.py:721: RuntimeWarning: invalid value encountered in less\n",
      "  xa[xa < 0] = -1\n",
      "Speed: 1.8ms preprocess, 16.7ms inference, 0.0ms loss, 0.3ms postprocess per image\n",
      "Results saved to \u001b[1mruns/epoch234\u001b[0m\n"
     ]
    },
    {
     "name": "stdout",
     "output_type": "stream",
     "text": [
      "-------------------- EPOCH 234 END --------------------\n",
      "-------------------- EPOCH 235 START --------------------\n",
      "Training start ...\n",
      "TRAIN:\n",
      "\tAVG_LOSS: 1.5746646259404435\n",
      "\tMAIN_LOSS: 1.1014411079732678\n",
      "\tKD_LOSS: 0.15774117372458493\n",
      "Evaluating start ...\n",
      "VAL:\n",
      "\tAVG_LOSS: 3.939477950334549\n",
      "\tMAIN_LOSS: 3.44432399670283\n",
      "\tKD_LOSS: 0.1650513205677271\n"
     ]
    },
    {
     "name": "stderr",
     "output_type": "stream",
     "text": [
      "LSM-YOLO summary (fused): 391 layers, 2873048 parameters, 18824 gradients, 12.4 GFLOPs\n",
      "\u001b[34m\u001b[1mval: \u001b[0mScanning /kaggle/working/Br35H-Mask-Prepared/val/labels.cache... 151 images, 225 backgrounds, 0 corrupt: 100%|██████████| 376/376 [00:00<?, ?it/s]\n",
      "                 Class     Images  Instances      Box(P          R      mAP50  mAP50-95): 100%|██████████| 12/12 [00:08<00:00,  1.42it/s]\n",
      "                   all        376        181      0.922      0.788       0.89      0.631\n",
      "/usr/local/lib/python3.11/dist-packages/matplotlib/colors.py:721: RuntimeWarning: invalid value encountered in less\n",
      "  xa[xa < 0] = -1\n",
      "/usr/local/lib/python3.11/dist-packages/matplotlib/colors.py:721: RuntimeWarning: invalid value encountered in less\n",
      "  xa[xa < 0] = -1\n",
      "Speed: 1.9ms preprocess, 16.7ms inference, 0.0ms loss, 0.4ms postprocess per image\n",
      "Results saved to \u001b[1mruns/epoch235\u001b[0m\n"
     ]
    },
    {
     "name": "stdout",
     "output_type": "stream",
     "text": [
      "-------------------- EPOCH 235 END --------------------\n",
      "-------------------- EPOCH 236 START --------------------\n",
      "Training start ...\n",
      "TRAIN:\n",
      "\tAVG_LOSS: 1.5635337437255472\n",
      "\tMAIN_LOSS: 1.0944528640071047\n",
      "\tKD_LOSS: 0.1563602940568441\n",
      "Evaluating start ...\n",
      "VAL:\n",
      "\tAVG_LOSS: 3.9763337771097818\n",
      "\tMAIN_LOSS: 3.4844556152820587\n",
      "\tKD_LOSS: 0.16395936782161394\n"
     ]
    },
    {
     "name": "stderr",
     "output_type": "stream",
     "text": [
      "LSM-YOLO summary (fused): 391 layers, 2873048 parameters, 18824 gradients, 12.4 GFLOPs\n",
      "\u001b[34m\u001b[1mval: \u001b[0mScanning /kaggle/working/Br35H-Mask-Prepared/val/labels.cache... 151 images, 225 backgrounds, 0 corrupt: 100%|██████████| 376/376 [00:00<?, ?it/s]\n",
      "                 Class     Images  Instances      Box(P          R      mAP50  mAP50-95): 100%|██████████| 12/12 [00:08<00:00,  1.42it/s]\n",
      "                   all        376        181      0.944      0.762      0.877      0.639\n",
      "/usr/local/lib/python3.11/dist-packages/matplotlib/colors.py:721: RuntimeWarning: invalid value encountered in less\n",
      "  xa[xa < 0] = -1\n",
      "/usr/local/lib/python3.11/dist-packages/matplotlib/colors.py:721: RuntimeWarning: invalid value encountered in less\n",
      "  xa[xa < 0] = -1\n",
      "Speed: 1.8ms preprocess, 16.7ms inference, 0.0ms loss, 0.3ms postprocess per image\n",
      "Results saved to \u001b[1mruns/epoch236\u001b[0m\n"
     ]
    },
    {
     "name": "stdout",
     "output_type": "stream",
     "text": [
      "-------------------- EPOCH 236 END --------------------\n",
      "-------------------- EPOCH 237 START --------------------\n",
      "Training start ...\n",
      "TRAIN:\n",
      "\tAVG_LOSS: 1.567958812170391\n",
      "\tMAIN_LOSS: 1.1014425166045563\n",
      "\tKD_LOSS: 0.15550543273551554\n",
      "Evaluating start ...\n",
      "VAL:\n",
      "\tAVG_LOSS: 3.898343692223231\n",
      "\tMAIN_LOSS: 3.4087354938189187\n",
      "\tKD_LOSS: 0.16320272162556648\n"
     ]
    },
    {
     "name": "stderr",
     "output_type": "stream",
     "text": [
      "LSM-YOLO summary (fused): 391 layers, 2873048 parameters, 18824 gradients, 12.4 GFLOPs\n",
      "\u001b[34m\u001b[1mval: \u001b[0mScanning /kaggle/working/Br35H-Mask-Prepared/val/labels.cache... 151 images, 225 backgrounds, 0 corrupt: 100%|██████████| 376/376 [00:00<?, ?it/s]\n",
      "                 Class     Images  Instances      Box(P          R      mAP50  mAP50-95): 100%|██████████| 12/12 [00:08<00:00,  1.44it/s]\n",
      "                   all        376        181      0.951      0.753      0.876      0.646\n",
      "/usr/local/lib/python3.11/dist-packages/matplotlib/colors.py:721: RuntimeWarning: invalid value encountered in less\n",
      "  xa[xa < 0] = -1\n",
      "/usr/local/lib/python3.11/dist-packages/matplotlib/colors.py:721: RuntimeWarning: invalid value encountered in less\n",
      "  xa[xa < 0] = -1\n",
      "Speed: 1.8ms preprocess, 16.8ms inference, 0.0ms loss, 0.3ms postprocess per image\n",
      "Results saved to \u001b[1mruns/epoch237\u001b[0m\n"
     ]
    },
    {
     "name": "stdout",
     "output_type": "stream",
     "text": [
      "Epoch 237: New best mAP: 0.6459, model saved.\n",
      "-------------------- EPOCH 237 END --------------------\n",
      "-------------------- EPOCH 238 START --------------------\n",
      "Training start ...\n",
      "TRAIN:\n",
      "\tAVG_LOSS: 1.5941844952257374\n",
      "\tMAIN_LOSS: 1.119905308077607\n",
      "\tKD_LOSS: 0.15809306238271012\n",
      "Evaluating start ...\n",
      "VAL:\n",
      "\tAVG_LOSS: 3.94788392384847\n",
      "\tMAIN_LOSS: 3.431074778238932\n",
      "\tKD_LOSS: 0.17226971996327242\n"
     ]
    },
    {
     "name": "stderr",
     "output_type": "stream",
     "text": [
      "LSM-YOLO summary (fused): 391 layers, 2873048 parameters, 18824 gradients, 12.4 GFLOPs\n",
      "\u001b[34m\u001b[1mval: \u001b[0mScanning /kaggle/working/Br35H-Mask-Prepared/val/labels.cache... 151 images, 225 backgrounds, 0 corrupt: 100%|██████████| 376/376 [00:00<?, ?it/s]\n",
      "                 Class     Images  Instances      Box(P          R      mAP50  mAP50-95): 100%|██████████| 12/12 [00:08<00:00,  1.42it/s]\n",
      "                   all        376        181       0.89      0.757      0.851      0.614\n",
      "/usr/local/lib/python3.11/dist-packages/matplotlib/colors.py:721: RuntimeWarning: invalid value encountered in less\n",
      "  xa[xa < 0] = -1\n",
      "/usr/local/lib/python3.11/dist-packages/matplotlib/colors.py:721: RuntimeWarning: invalid value encountered in less\n",
      "  xa[xa < 0] = -1\n",
      "Speed: 2.0ms preprocess, 16.7ms inference, 0.0ms loss, 0.3ms postprocess per image\n",
      "Results saved to \u001b[1mruns/epoch238\u001b[0m\n"
     ]
    },
    {
     "name": "stdout",
     "output_type": "stream",
     "text": [
      "-------------------- EPOCH 238 END --------------------\n",
      "-------------------- EPOCH 239 START --------------------\n",
      "Training start ...\n",
      "TRAIN:\n",
      "\tAVG_LOSS: 1.5870060754727713\n",
      "\tMAIN_LOSS: 1.1141988393626636\n",
      "\tKD_LOSS: 0.1576024118480803\n",
      "Evaluating start ...\n",
      "VAL:\n",
      "\tAVG_LOSS: 3.9407509664694467\n",
      "\tMAIN_LOSS: 3.434719050923983\n",
      "\tKD_LOSS: 0.1686773163576921\n"
     ]
    },
    {
     "name": "stderr",
     "output_type": "stream",
     "text": [
      "LSM-YOLO summary (fused): 391 layers, 2873048 parameters, 18824 gradients, 12.4 GFLOPs\n",
      "\u001b[34m\u001b[1mval: \u001b[0mScanning /kaggle/working/Br35H-Mask-Prepared/val/labels.cache... 151 images, 225 backgrounds, 0 corrupt: 100%|██████████| 376/376 [00:00<?, ?it/s]\n",
      "                 Class     Images  Instances      Box(P          R      mAP50  mAP50-95): 100%|██████████| 12/12 [00:08<00:00,  1.42it/s]\n",
      "                   all        376        181      0.937      0.785      0.883      0.634\n",
      "/usr/local/lib/python3.11/dist-packages/matplotlib/colors.py:721: RuntimeWarning: invalid value encountered in less\n",
      "  xa[xa < 0] = -1\n",
      "/usr/local/lib/python3.11/dist-packages/matplotlib/colors.py:721: RuntimeWarning: invalid value encountered in less\n",
      "  xa[xa < 0] = -1\n",
      "Speed: 1.9ms preprocess, 16.7ms inference, 0.0ms loss, 0.3ms postprocess per image\n",
      "Results saved to \u001b[1mruns/epoch239\u001b[0m\n"
     ]
    },
    {
     "name": "stdout",
     "output_type": "stream",
     "text": [
      "-------------------- EPOCH 239 END --------------------\n",
      "-------------------- EPOCH 240 START --------------------\n",
      "Training start ...\n",
      "TRAIN:\n",
      "\tAVG_LOSS: 1.5702213626119155\n",
      "\tMAIN_LOSS: 1.1012805790840825\n",
      "\tKD_LOSS: 0.1563135936290403\n",
      "Evaluating start ...\n",
      "VAL:\n",
      "\tAVG_LOSS: 4.11098234852155\n",
      "\tMAIN_LOSS: 3.6286984582742057\n",
      "\tKD_LOSS: 0.1607612930238247\n"
     ]
    },
    {
     "name": "stderr",
     "output_type": "stream",
     "text": [
      "LSM-YOLO summary (fused): 391 layers, 2873048 parameters, 18824 gradients, 12.4 GFLOPs\n",
      "\u001b[34m\u001b[1mval: \u001b[0mScanning /kaggle/working/Br35H-Mask-Prepared/val/labels.cache... 151 images, 225 backgrounds, 0 corrupt: 100%|██████████| 376/376 [00:00<?, ?it/s]\n",
      "                 Class     Images  Instances      Box(P          R      mAP50  mAP50-95): 100%|██████████| 12/12 [00:08<00:00,  1.42it/s]\n",
      "                   all        376        181      0.946      0.772      0.873      0.643\n",
      "/usr/local/lib/python3.11/dist-packages/matplotlib/colors.py:721: RuntimeWarning: invalid value encountered in less\n",
      "  xa[xa < 0] = -1\n",
      "/usr/local/lib/python3.11/dist-packages/matplotlib/colors.py:721: RuntimeWarning: invalid value encountered in less\n",
      "  xa[xa < 0] = -1\n",
      "Speed: 2.1ms preprocess, 16.7ms inference, 0.0ms loss, 0.3ms postprocess per image\n",
      "Results saved to \u001b[1mruns/epoch240\u001b[0m\n"
     ]
    },
    {
     "name": "stdout",
     "output_type": "stream",
     "text": [
      "-------------------- EPOCH 240 END --------------------\n",
      "-------------------- EPOCH 241 START --------------------\n",
      "Training start ...\n",
      "TRAIN:\n",
      "\tAVG_LOSS: 1.6095296008677422\n",
      "\tMAIN_LOSS: 1.1245382035834879\n",
      "\tKD_LOSS: 0.16166379915762552\n",
      "Evaluating start ...\n",
      "VAL:\n",
      "\tAVG_LOSS: 3.9922297994295755\n",
      "\tMAIN_LOSS: 3.4605000813802085\n",
      "\tKD_LOSS: 0.1772432296226422\n"
     ]
    },
    {
     "name": "stderr",
     "output_type": "stream",
     "text": [
      "LSM-YOLO summary (fused): 391 layers, 2873048 parameters, 18824 gradients, 12.4 GFLOPs\n",
      "\u001b[34m\u001b[1mval: \u001b[0mScanning /kaggle/working/Br35H-Mask-Prepared/val/labels.cache... 151 images, 225 backgrounds, 0 corrupt: 100%|██████████| 376/376 [00:00<?, ?it/s]\n",
      "                 Class     Images  Instances      Box(P          R      mAP50  mAP50-95): 100%|██████████| 12/12 [00:08<00:00,  1.41it/s]\n",
      "                   all        376        181      0.943      0.751      0.874      0.599\n",
      "/usr/local/lib/python3.11/dist-packages/matplotlib/colors.py:721: RuntimeWarning: invalid value encountered in less\n",
      "  xa[xa < 0] = -1\n",
      "/usr/local/lib/python3.11/dist-packages/matplotlib/colors.py:721: RuntimeWarning: invalid value encountered in less\n",
      "  xa[xa < 0] = -1\n",
      "Speed: 2.0ms preprocess, 16.7ms inference, 0.0ms loss, 0.4ms postprocess per image\n",
      "Results saved to \u001b[1mruns/epoch241\u001b[0m\n"
     ]
    },
    {
     "name": "stdout",
     "output_type": "stream",
     "text": [
      "-------------------- EPOCH 241 END --------------------\n",
      "-------------------- EPOCH 242 START --------------------\n",
      "Training start ...\n",
      "TRAIN:\n",
      "\tAVG_LOSS: 1.603615317163588\n",
      "\tMAIN_LOSS: 1.1273142046566251\n",
      "\tKD_LOSS: 0.1587670377538174\n",
      "Evaluating start ...\n",
      "VAL:\n",
      "\tAVG_LOSS: 3.88420241077741\n",
      "\tMAIN_LOSS: 3.3891792744398117\n",
      "\tKD_LOSS: 0.16500771356125674\n"
     ]
    },
    {
     "name": "stderr",
     "output_type": "stream",
     "text": [
      "LSM-YOLO summary (fused): 391 layers, 2873048 parameters, 18824 gradients, 12.4 GFLOPs\n",
      "\u001b[34m\u001b[1mval: \u001b[0mScanning /kaggle/working/Br35H-Mask-Prepared/val/labels.cache... 151 images, 225 backgrounds, 0 corrupt: 100%|██████████| 376/376 [00:00<?, ?it/s]\n",
      "                 Class     Images  Instances      Box(P          R      mAP50  mAP50-95): 100%|██████████| 12/12 [00:08<00:00,  1.43it/s]\n",
      "                   all        376        181      0.922      0.757      0.861      0.618\n",
      "/usr/local/lib/python3.11/dist-packages/matplotlib/colors.py:721: RuntimeWarning: invalid value encountered in less\n",
      "  xa[xa < 0] = -1\n",
      "/usr/local/lib/python3.11/dist-packages/matplotlib/colors.py:721: RuntimeWarning: invalid value encountered in less\n",
      "  xa[xa < 0] = -1\n",
      "Speed: 2.1ms preprocess, 16.7ms inference, 0.0ms loss, 0.3ms postprocess per image\n",
      "Results saved to \u001b[1mruns/epoch242\u001b[0m\n"
     ]
    },
    {
     "name": "stdout",
     "output_type": "stream",
     "text": [
      "-------------------- EPOCH 242 END --------------------\n",
      "-------------------- EPOCH 243 START --------------------\n",
      "Training start ...\n",
      "TRAIN:\n",
      "\tAVG_LOSS: 1.5777391165117673\n",
      "\tMAIN_LOSS: 1.1127848874164532\n",
      "\tKD_LOSS: 0.1549847420257858\n",
      "Evaluating start ...\n",
      "VAL:\n",
      "\tAVG_LOSS: 3.8632767299811044\n",
      "\tMAIN_LOSS: 3.3688412408034005\n",
      "\tKD_LOSS: 0.16481181917091212\n"
     ]
    },
    {
     "name": "stderr",
     "output_type": "stream",
     "text": [
      "LSM-YOLO summary (fused): 391 layers, 2873048 parameters, 18824 gradients, 12.4 GFLOPs\n",
      "\u001b[34m\u001b[1mval: \u001b[0mScanning /kaggle/working/Br35H-Mask-Prepared/val/labels.cache... 151 images, 225 backgrounds, 0 corrupt: 100%|██████████| 376/376 [00:00<?, ?it/s]\n",
      "                 Class     Images  Instances      Box(P          R      mAP50  mAP50-95): 100%|██████████| 12/12 [00:08<00:00,  1.44it/s]\n",
      "                   all        376        181      0.869      0.785      0.864      0.616\n",
      "/usr/local/lib/python3.11/dist-packages/matplotlib/colors.py:721: RuntimeWarning: invalid value encountered in less\n",
      "  xa[xa < 0] = -1\n",
      "/usr/local/lib/python3.11/dist-packages/matplotlib/colors.py:721: RuntimeWarning: invalid value encountered in less\n",
      "  xa[xa < 0] = -1\n",
      "Speed: 1.9ms preprocess, 16.7ms inference, 0.0ms loss, 0.3ms postprocess per image\n",
      "Results saved to \u001b[1mruns/epoch243\u001b[0m\n"
     ]
    },
    {
     "name": "stdout",
     "output_type": "stream",
     "text": [
      "-------------------- EPOCH 243 END --------------------\n",
      "-------------------- EPOCH 244 START --------------------\n",
      "Training start ...\n",
      "TRAIN:\n",
      "\tAVG_LOSS: 1.5471820740760127\n",
      "\tMAIN_LOSS: 1.0869227979756608\n",
      "\tKD_LOSS: 0.15341975964322874\n",
      "Evaluating start ...\n",
      "VAL:\n",
      "\tAVG_LOSS: 3.94630899031957\n",
      "\tMAIN_LOSS: 3.4231964747111\n",
      "\tKD_LOSS: 0.17437083957095942\n"
     ]
    },
    {
     "name": "stderr",
     "output_type": "stream",
     "text": [
      "LSM-YOLO summary (fused): 391 layers, 2873048 parameters, 18824 gradients, 12.4 GFLOPs\n",
      "\u001b[34m\u001b[1mval: \u001b[0mScanning /kaggle/working/Br35H-Mask-Prepared/val/labels.cache... 151 images, 225 backgrounds, 0 corrupt: 100%|██████████| 376/376 [00:00<?, ?it/s]\n",
      "                 Class     Images  Instances      Box(P          R      mAP50  mAP50-95): 100%|██████████| 12/12 [00:08<00:00,  1.44it/s]\n",
      "                   all        376        181      0.939       0.76      0.871      0.638\n",
      "/usr/local/lib/python3.11/dist-packages/matplotlib/colors.py:721: RuntimeWarning: invalid value encountered in less\n",
      "  xa[xa < 0] = -1\n",
      "/usr/local/lib/python3.11/dist-packages/matplotlib/colors.py:721: RuntimeWarning: invalid value encountered in less\n",
      "  xa[xa < 0] = -1\n",
      "Speed: 2.0ms preprocess, 16.7ms inference, 0.0ms loss, 0.3ms postprocess per image\n",
      "Results saved to \u001b[1mruns/epoch244\u001b[0m\n"
     ]
    },
    {
     "name": "stdout",
     "output_type": "stream",
     "text": [
      "-------------------- EPOCH 244 END --------------------\n",
      "-------------------- EPOCH 245 START --------------------\n",
      "Training start ...\n",
      "TRAIN:\n",
      "\tAVG_LOSS: 1.8501657896404025\n",
      "\tMAIN_LOSS: 1.2854086190839358\n",
      "\tKD_LOSS: 0.18825238886513287\n",
      "Evaluating start ...\n",
      "VAL:\n",
      "\tAVG_LOSS: 3.86854887008667\n",
      "\tMAIN_LOSS: 3.3200595130523047\n",
      "\tKD_LOSS: 0.18282978050410748\n"
     ]
    },
    {
     "name": "stderr",
     "output_type": "stream",
     "text": [
      "LSM-YOLO summary (fused): 391 layers, 2873048 parameters, 18824 gradients, 12.4 GFLOPs\n",
      "\u001b[34m\u001b[1mval: \u001b[0mScanning /kaggle/working/Br35H-Mask-Prepared/val/labels.cache... 151 images, 225 backgrounds, 0 corrupt: 100%|██████████| 376/376 [00:00<?, ?it/s]\n",
      "                 Class     Images  Instances      Box(P          R      mAP50  mAP50-95): 100%|██████████| 12/12 [00:08<00:00,  1.40it/s]\n",
      "                   all        376        181      0.953      0.768      0.858      0.597\n",
      "/usr/local/lib/python3.11/dist-packages/matplotlib/colors.py:721: RuntimeWarning: invalid value encountered in less\n",
      "  xa[xa < 0] = -1\n",
      "/usr/local/lib/python3.11/dist-packages/matplotlib/colors.py:721: RuntimeWarning: invalid value encountered in less\n",
      "  xa[xa < 0] = -1\n",
      "Speed: 2.0ms preprocess, 16.7ms inference, 0.0ms loss, 0.5ms postprocess per image\n",
      "Results saved to \u001b[1mruns/epoch245\u001b[0m\n"
     ]
    },
    {
     "name": "stdout",
     "output_type": "stream",
     "text": [
      "-------------------- EPOCH 245 END --------------------\n",
      "-------------------- EPOCH 246 START --------------------\n",
      "Training start ...\n",
      "TRAIN:\n",
      "\tAVG_LOSS: 1.6952027927471112\n",
      "\tMAIN_LOSS: 1.1933742821971072\n",
      "\tKD_LOSS: 0.16727616798274125\n",
      "Evaluating start ...\n",
      "VAL:\n",
      "\tAVG_LOSS: 4.020218541224797\n",
      "\tMAIN_LOSS: 3.485836694637934\n",
      "\tKD_LOSS: 0.17812729813158512\n"
     ]
    },
    {
     "name": "stderr",
     "output_type": "stream",
     "text": [
      "LSM-YOLO summary (fused): 391 layers, 2873048 parameters, 18824 gradients, 12.4 GFLOPs\n",
      "\u001b[34m\u001b[1mval: \u001b[0mScanning /kaggle/working/Br35H-Mask-Prepared/val/labels.cache... 151 images, 225 backgrounds, 0 corrupt: 100%|██████████| 376/376 [00:00<?, ?it/s]\n",
      "                 Class     Images  Instances      Box(P          R      mAP50  mAP50-95): 100%|██████████| 12/12 [00:08<00:00,  1.43it/s]\n",
      "                   all        376        181      0.965      0.761      0.843      0.592\n",
      "/usr/local/lib/python3.11/dist-packages/matplotlib/colors.py:721: RuntimeWarning: invalid value encountered in less\n",
      "  xa[xa < 0] = -1\n",
      "/usr/local/lib/python3.11/dist-packages/matplotlib/colors.py:721: RuntimeWarning: invalid value encountered in less\n",
      "  xa[xa < 0] = -1\n",
      "Speed: 1.8ms preprocess, 16.8ms inference, 0.0ms loss, 0.4ms postprocess per image\n",
      "Results saved to \u001b[1mruns/epoch246\u001b[0m\n"
     ]
    },
    {
     "name": "stdout",
     "output_type": "stream",
     "text": [
      "-------------------- EPOCH 246 END --------------------\n",
      "-------------------- EPOCH 247 START --------------------\n",
      "Training start ...\n",
      "TRAIN:\n",
      "\tAVG_LOSS: 1.6268783355061012\n",
      "\tMAIN_LOSS: 1.1404281334031987\n",
      "\tKD_LOSS: 0.16215006573290763\n",
      "Evaluating start ...\n",
      "VAL:\n",
      "\tAVG_LOSS: 3.879140535990397\n",
      "\tMAIN_LOSS: 3.372039943933487\n",
      "\tKD_LOSS: 0.16903354662160078\n"
     ]
    },
    {
     "name": "stderr",
     "output_type": "stream",
     "text": [
      "LSM-YOLO summary (fused): 391 layers, 2873048 parameters, 18824 gradients, 12.4 GFLOPs\n",
      "\u001b[34m\u001b[1mval: \u001b[0mScanning /kaggle/working/Br35H-Mask-Prepared/val/labels.cache... 151 images, 225 backgrounds, 0 corrupt: 100%|██████████| 376/376 [00:00<?, ?it/s]\n",
      "                 Class     Images  Instances      Box(P          R      mAP50  mAP50-95): 100%|██████████| 12/12 [00:08<00:00,  1.43it/s]\n",
      "                   all        376        181      0.919       0.79      0.878      0.618\n",
      "/usr/local/lib/python3.11/dist-packages/matplotlib/colors.py:721: RuntimeWarning: invalid value encountered in less\n",
      "  xa[xa < 0] = -1\n",
      "/usr/local/lib/python3.11/dist-packages/matplotlib/colors.py:721: RuntimeWarning: invalid value encountered in less\n",
      "  xa[xa < 0] = -1\n",
      "Speed: 1.8ms preprocess, 16.8ms inference, 0.0ms loss, 0.4ms postprocess per image\n",
      "Results saved to \u001b[1mruns/epoch247\u001b[0m\n"
     ]
    },
    {
     "name": "stdout",
     "output_type": "stream",
     "text": [
      "-------------------- EPOCH 247 END --------------------\n",
      "-------------------- EPOCH 248 START --------------------\n",
      "Training start ...\n",
      "TRAIN:\n",
      "\tAVG_LOSS: 1.5855014475086067\n",
      "\tMAIN_LOSS: 1.1111284411406215\n",
      "\tKD_LOSS: 0.15812433558174327\n",
      "Evaluating start ...\n",
      "VAL:\n",
      "\tAVG_LOSS: 3.790885160366694\n",
      "\tMAIN_LOSS: 3.2893225948015847\n",
      "\tKD_LOSS: 0.167187529305617\n"
     ]
    },
    {
     "name": "stderr",
     "output_type": "stream",
     "text": [
      "LSM-YOLO summary (fused): 391 layers, 2873048 parameters, 18824 gradients, 12.4 GFLOPs\n",
      "\u001b[34m\u001b[1mval: \u001b[0mScanning /kaggle/working/Br35H-Mask-Prepared/val/labels.cache... 151 images, 225 backgrounds, 0 corrupt: 100%|██████████| 376/376 [00:00<?, ?it/s]\n",
      "                 Class     Images  Instances      Box(P          R      mAP50  mAP50-95): 100%|██████████| 12/12 [00:08<00:00,  1.45it/s]\n",
      "                   all        376        181      0.948      0.768      0.873      0.627\n",
      "/usr/local/lib/python3.11/dist-packages/matplotlib/colors.py:721: RuntimeWarning: invalid value encountered in less\n",
      "  xa[xa < 0] = -1\n",
      "/usr/local/lib/python3.11/dist-packages/matplotlib/colors.py:721: RuntimeWarning: invalid value encountered in less\n",
      "  xa[xa < 0] = -1\n",
      "Speed: 1.7ms preprocess, 16.7ms inference, 0.0ms loss, 0.4ms postprocess per image\n",
      "Results saved to \u001b[1mruns/epoch248\u001b[0m\n"
     ]
    },
    {
     "name": "stdout",
     "output_type": "stream",
     "text": [
      "-------------------- EPOCH 248 END --------------------\n",
      "-------------------- EPOCH 249 START --------------------\n",
      "Training start ...\n",
      "TRAIN:\n",
      "\tAVG_LOSS: 1.5614209280738347\n",
      "\tMAIN_LOSS: 1.0934804376167586\n",
      "\tKD_LOSS: 0.1559801612850986\n",
      "Evaluating start ...\n",
      "VAL:\n",
      "\tAVG_LOSS: 3.8334206342697144\n",
      "\tMAIN_LOSS: 3.344973067442576\n",
      "\tKD_LOSS: 0.16281585271159807\n"
     ]
    },
    {
     "name": "stderr",
     "output_type": "stream",
     "text": [
      "LSM-YOLO summary (fused): 391 layers, 2873048 parameters, 18824 gradients, 12.4 GFLOPs\n",
      "\u001b[34m\u001b[1mval: \u001b[0mScanning /kaggle/working/Br35H-Mask-Prepared/val/labels.cache... 151 images, 225 backgrounds, 0 corrupt: 100%|██████████| 376/376 [00:00<?, ?it/s]\n",
      "                 Class     Images  Instances      Box(P          R      mAP50  mAP50-95): 100%|██████████| 12/12 [00:08<00:00,  1.42it/s]\n",
      "                   all        376        181      0.951      0.773      0.878      0.628\n",
      "/usr/local/lib/python3.11/dist-packages/matplotlib/colors.py:721: RuntimeWarning: invalid value encountered in less\n",
      "  xa[xa < 0] = -1\n",
      "/usr/local/lib/python3.11/dist-packages/matplotlib/colors.py:721: RuntimeWarning: invalid value encountered in less\n",
      "  xa[xa < 0] = -1\n",
      "Speed: 2.1ms preprocess, 16.7ms inference, 0.0ms loss, 0.4ms postprocess per image\n",
      "Results saved to \u001b[1mruns/epoch249\u001b[0m\n"
     ]
    },
    {
     "name": "stdout",
     "output_type": "stream",
     "text": [
      "-------------------- EPOCH 249 END --------------------\n",
      "-------------------- EPOCH 250 START --------------------\n",
      "Training start ...\n",
      "TRAIN:\n",
      "\tAVG_LOSS: 1.5264896569372732\n",
      "\tMAIN_LOSS: 1.0653875326808495\n",
      "\tKD_LOSS: 0.1537007108519349\n",
      "Evaluating start ...\n",
      "VAL:\n",
      "\tAVG_LOSS: 3.850724011659622\n",
      "\tMAIN_LOSS: 3.3756357530752816\n",
      "\tKD_LOSS: 0.1583627431342999\n"
     ]
    },
    {
     "name": "stderr",
     "output_type": "stream",
     "text": [
      "LSM-YOLO summary (fused): 391 layers, 2873048 parameters, 18824 gradients, 12.4 GFLOPs\n",
      "\u001b[34m\u001b[1mval: \u001b[0mScanning /kaggle/working/Br35H-Mask-Prepared/val/labels.cache... 151 images, 225 backgrounds, 0 corrupt: 100%|██████████| 376/376 [00:00<?, ?it/s]\n",
      "                 Class     Images  Instances      Box(P          R      mAP50  mAP50-95): 100%|██████████| 12/12 [00:08<00:00,  1.44it/s]\n",
      "                   all        376        181      0.918       0.79      0.878      0.635\n",
      "/usr/local/lib/python3.11/dist-packages/matplotlib/colors.py:721: RuntimeWarning: invalid value encountered in less\n",
      "  xa[xa < 0] = -1\n",
      "/usr/local/lib/python3.11/dist-packages/matplotlib/colors.py:721: RuntimeWarning: invalid value encountered in less\n",
      "  xa[xa < 0] = -1\n",
      "Speed: 1.7ms preprocess, 16.7ms inference, 0.0ms loss, 0.3ms postprocess per image\n",
      "Results saved to \u001b[1mruns/epoch250\u001b[0m\n"
     ]
    },
    {
     "name": "stdout",
     "output_type": "stream",
     "text": [
      "-------------------- EPOCH 250 END --------------------\n",
      "-------------------- EPOCH 251 START --------------------\n",
      "Training start ...\n",
      "TRAIN:\n",
      "\tAVG_LOSS: 1.5226816738708109\n",
      "\tMAIN_LOSS: 1.068997003609621\n",
      "\tKD_LOSS: 0.15122822379764123\n",
      "Evaluating start ...\n",
      "VAL:\n",
      "\tAVG_LOSS: 3.8793951968352\n",
      "\tMAIN_LOSS: 3.4083972175916037\n",
      "\tKD_LOSS: 0.15699932103355727\n"
     ]
    },
    {
     "name": "stderr",
     "output_type": "stream",
     "text": [
      "LSM-YOLO summary (fused): 391 layers, 2873048 parameters, 18824 gradients, 12.4 GFLOPs\n",
      "\u001b[34m\u001b[1mval: \u001b[0mScanning /kaggle/working/Br35H-Mask-Prepared/val/labels.cache... 151 images, 225 backgrounds, 0 corrupt: 100%|██████████| 376/376 [00:00<?, ?it/s]\n",
      "                 Class     Images  Instances      Box(P          R      mAP50  mAP50-95): 100%|██████████| 12/12 [00:08<00:00,  1.44it/s]\n",
      "                   all        376        181      0.905       0.79      0.875      0.632\n",
      "/usr/local/lib/python3.11/dist-packages/matplotlib/colors.py:721: RuntimeWarning: invalid value encountered in less\n",
      "  xa[xa < 0] = -1\n",
      "/usr/local/lib/python3.11/dist-packages/matplotlib/colors.py:721: RuntimeWarning: invalid value encountered in less\n",
      "  xa[xa < 0] = -1\n",
      "Speed: 1.8ms preprocess, 16.7ms inference, 0.0ms loss, 0.3ms postprocess per image\n",
      "Results saved to \u001b[1mruns/epoch251\u001b[0m\n"
     ]
    },
    {
     "name": "stdout",
     "output_type": "stream",
     "text": [
      "-------------------- EPOCH 251 END --------------------\n",
      "-------------------- EPOCH 252 START --------------------\n",
      "Training start ...\n",
      "TRAIN:\n",
      "\tAVG_LOSS: 1.513138182555573\n",
      "\tMAIN_LOSS: 1.0610426166389562\n",
      "\tKD_LOSS: 0.1506985237326803\n",
      "Evaluating start ...\n",
      "VAL:\n",
      "\tAVG_LOSS: 3.8516564667224884\n",
      "\tMAIN_LOSS: 3.376264125108719\n",
      "\tKD_LOSS: 0.1584641064206759\n"
     ]
    },
    {
     "name": "stderr",
     "output_type": "stream",
     "text": [
      "LSM-YOLO summary (fused): 391 layers, 2873048 parameters, 18824 gradients, 12.4 GFLOPs\n",
      "\u001b[34m\u001b[1mval: \u001b[0mScanning /kaggle/working/Br35H-Mask-Prepared/val/labels.cache... 151 images, 225 backgrounds, 0 corrupt: 100%|██████████| 376/376 [00:00<?, ?it/s]\n",
      "                 Class     Images  Instances      Box(P          R      mAP50  mAP50-95): 100%|██████████| 12/12 [00:08<00:00,  1.44it/s]\n",
      "                   all        376        181      0.916       0.78      0.872      0.629\n",
      "/usr/local/lib/python3.11/dist-packages/matplotlib/colors.py:721: RuntimeWarning: invalid value encountered in less\n",
      "  xa[xa < 0] = -1\n",
      "/usr/local/lib/python3.11/dist-packages/matplotlib/colors.py:721: RuntimeWarning: invalid value encountered in less\n",
      "  xa[xa < 0] = -1\n",
      "Speed: 1.8ms preprocess, 16.7ms inference, 0.0ms loss, 0.4ms postprocess per image\n",
      "Results saved to \u001b[1mruns/epoch252\u001b[0m\n"
     ]
    },
    {
     "name": "stdout",
     "output_type": "stream",
     "text": [
      "-------------------- EPOCH 252 END --------------------\n",
      "-------------------- EPOCH 253 START --------------------\n",
      "Training start ...\n",
      "TRAIN:\n",
      "\tAVG_LOSS: 1.487662854828412\n",
      "\tMAIN_LOSS: 1.0382898185826555\n",
      "\tKD_LOSS: 0.1497910135908972\n",
      "Evaluating start ...\n",
      "VAL:\n",
      "\tAVG_LOSS: 3.816400557756424\n",
      "\tMAIN_LOSS: 3.3466662764549255\n",
      "\tKD_LOSS: 0.1565780850748221\n"
     ]
    },
    {
     "name": "stderr",
     "output_type": "stream",
     "text": [
      "LSM-YOLO summary (fused): 391 layers, 2873048 parameters, 18824 gradients, 12.4 GFLOPs\n",
      "\u001b[34m\u001b[1mval: \u001b[0mScanning /kaggle/working/Br35H-Mask-Prepared/val/labels.cache... 151 images, 225 backgrounds, 0 corrupt: 100%|██████████| 376/376 [00:00<?, ?it/s]\n",
      "                 Class     Images  Instances      Box(P          R      mAP50  mAP50-95): 100%|██████████| 12/12 [00:08<00:00,  1.42it/s]\n",
      "                   all        376        181      0.914      0.768      0.875      0.631\n",
      "/usr/local/lib/python3.11/dist-packages/matplotlib/colors.py:721: RuntimeWarning: invalid value encountered in less\n",
      "  xa[xa < 0] = -1\n",
      "/usr/local/lib/python3.11/dist-packages/matplotlib/colors.py:721: RuntimeWarning: invalid value encountered in less\n",
      "  xa[xa < 0] = -1\n",
      "Speed: 2.0ms preprocess, 16.7ms inference, 0.0ms loss, 0.4ms postprocess per image\n",
      "Results saved to \u001b[1mruns/epoch253\u001b[0m\n"
     ]
    },
    {
     "name": "stdout",
     "output_type": "stream",
     "text": [
      "-------------------- EPOCH 253 END --------------------\n",
      "-------------------- EPOCH 254 START --------------------\n",
      "Training start ...\n",
      "TRAIN:\n",
      "\tAVG_LOSS: 1.5184522882292542\n",
      "\tMAIN_LOSS: 1.0675109526779079\n",
      "\tKD_LOSS: 0.15031377839136728\n",
      "Evaluating start ...\n",
      "VAL:\n",
      "\tAVG_LOSS: 3.8575276732444763\n",
      "\tMAIN_LOSS: 3.3790347079435983\n",
      "\tKD_LOSS: 0.1594976627578338\n"
     ]
    },
    {
     "name": "stderr",
     "output_type": "stream",
     "text": [
      "LSM-YOLO summary (fused): 391 layers, 2873048 parameters, 18824 gradients, 12.4 GFLOPs\n",
      "\u001b[34m\u001b[1mval: \u001b[0mScanning /kaggle/working/Br35H-Mask-Prepared/val/labels.cache... 151 images, 225 backgrounds, 0 corrupt: 100%|██████████| 376/376 [00:00<?, ?it/s]\n",
      "                 Class     Images  Instances      Box(P          R      mAP50  mAP50-95): 100%|██████████| 12/12 [00:08<00:00,  1.43it/s]\n",
      "                   all        376        181      0.922      0.782      0.879      0.633\n",
      "/usr/local/lib/python3.11/dist-packages/matplotlib/colors.py:721: RuntimeWarning: invalid value encountered in less\n",
      "  xa[xa < 0] = -1\n",
      "/usr/local/lib/python3.11/dist-packages/matplotlib/colors.py:721: RuntimeWarning: invalid value encountered in less\n",
      "  xa[xa < 0] = -1\n",
      "Speed: 1.8ms preprocess, 16.7ms inference, 0.0ms loss, 0.3ms postprocess per image\n",
      "Results saved to \u001b[1mruns/epoch254\u001b[0m\n"
     ]
    },
    {
     "name": "stdout",
     "output_type": "stream",
     "text": [
      "-------------------- EPOCH 254 END --------------------\n",
      "-------------------- EPOCH 255 START --------------------\n",
      "Training start ...\n",
      "TRAIN:\n",
      "\tAVG_LOSS: 1.4981822454476659\n",
      "\tMAIN_LOSS: 1.0509049869790863\n",
      "\tKD_LOSS: 0.14909241886078556\n",
      "Evaluating start ...\n",
      "VAL:\n",
      "\tAVG_LOSS: 4.049249351024628\n",
      "\tMAIN_LOSS: 3.5820798774560294\n",
      "\tKD_LOSS: 0.15572315889100233\n"
     ]
    },
    {
     "name": "stderr",
     "output_type": "stream",
     "text": [
      "LSM-YOLO summary (fused): 391 layers, 2873048 parameters, 18824 gradients, 12.4 GFLOPs\n",
      "\u001b[34m\u001b[1mval: \u001b[0mScanning /kaggle/working/Br35H-Mask-Prepared/val/labels.cache... 151 images, 225 backgrounds, 0 corrupt: 100%|██████████| 376/376 [00:00<?, ?it/s]\n",
      "                 Class     Images  Instances      Box(P          R      mAP50  mAP50-95): 100%|██████████| 12/12 [00:08<00:00,  1.42it/s]\n",
      "                   all        376        181      0.895      0.807      0.874      0.631\n",
      "/usr/local/lib/python3.11/dist-packages/matplotlib/colors.py:721: RuntimeWarning: invalid value encountered in less\n",
      "  xa[xa < 0] = -1\n",
      "/usr/local/lib/python3.11/dist-packages/matplotlib/colors.py:721: RuntimeWarning: invalid value encountered in less\n",
      "  xa[xa < 0] = -1\n",
      "Speed: 2.0ms preprocess, 16.8ms inference, 0.0ms loss, 0.4ms postprocess per image\n",
      "Results saved to \u001b[1mruns/epoch255\u001b[0m\n"
     ]
    },
    {
     "name": "stdout",
     "output_type": "stream",
     "text": [
      "-------------------- EPOCH 255 END --------------------\n",
      "-------------------- EPOCH 256 START --------------------\n",
      "Training start ...\n",
      "TRAIN:\n",
      "\tAVG_LOSS: 1.4950186919562425\n",
      "\tMAIN_LOSS: 1.0515798134139822\n",
      "\tKD_LOSS: 0.14781296026857593\n",
      "Evaluating start ...\n",
      "VAL:\n",
      "\tAVG_LOSS: 3.807852248350779\n",
      "\tMAIN_LOSS: 3.3437436719735465\n",
      "\tKD_LOSS: 0.15470285713672638\n"
     ]
    },
    {
     "name": "stderr",
     "output_type": "stream",
     "text": [
      "LSM-YOLO summary (fused): 391 layers, 2873048 parameters, 18824 gradients, 12.4 GFLOPs\n",
      "\u001b[34m\u001b[1mval: \u001b[0mScanning /kaggle/working/Br35H-Mask-Prepared/val/labels.cache... 151 images, 225 backgrounds, 0 corrupt: 100%|██████████| 376/376 [00:00<?, ?it/s]\n",
      "                 Class     Images  Instances      Box(P          R      mAP50  mAP50-95): 100%|██████████| 12/12 [00:08<00:00,  1.42it/s]\n",
      "                   all        376        181      0.958       0.76      0.867      0.634\n",
      "/usr/local/lib/python3.11/dist-packages/matplotlib/colors.py:721: RuntimeWarning: invalid value encountered in less\n",
      "  xa[xa < 0] = -1\n",
      "/usr/local/lib/python3.11/dist-packages/matplotlib/colors.py:721: RuntimeWarning: invalid value encountered in less\n",
      "  xa[xa < 0] = -1\n",
      "Speed: 2.1ms preprocess, 16.7ms inference, 0.0ms loss, 0.3ms postprocess per image\n",
      "Results saved to \u001b[1mruns/epoch256\u001b[0m\n"
     ]
    },
    {
     "name": "stdout",
     "output_type": "stream",
     "text": [
      "-------------------- EPOCH 256 END --------------------\n",
      "-------------------- EPOCH 257 START --------------------\n",
      "Training start ...\n",
      "TRAIN:\n",
      "\tAVG_LOSS: 1.5002959302709074\n",
      "\tMAIN_LOSS: 1.0557195695140693\n",
      "\tKD_LOSS: 0.14819211956066422\n",
      "Evaluating start ...\n",
      "VAL:\n",
      "\tAVG_LOSS: 3.785748372475306\n",
      "\tMAIN_LOSS: 3.3214591443538666\n",
      "\tKD_LOSS: 0.15476308142145476\n"
     ]
    },
    {
     "name": "stderr",
     "output_type": "stream",
     "text": [
      "LSM-YOLO summary (fused): 391 layers, 2873048 parameters, 18824 gradients, 12.4 GFLOPs\n",
      "\u001b[34m\u001b[1mval: \u001b[0mScanning /kaggle/working/Br35H-Mask-Prepared/val/labels.cache... 151 images, 225 backgrounds, 0 corrupt: 100%|██████████| 376/376 [00:00<?, ?it/s]\n",
      "                 Class     Images  Instances      Box(P          R      mAP50  mAP50-95): 100%|██████████| 12/12 [00:08<00:00,  1.45it/s]\n",
      "                   all        376        181      0.939      0.773      0.879      0.633\n",
      "/usr/local/lib/python3.11/dist-packages/matplotlib/colors.py:721: RuntimeWarning: invalid value encountered in less\n",
      "  xa[xa < 0] = -1\n",
      "/usr/local/lib/python3.11/dist-packages/matplotlib/colors.py:721: RuntimeWarning: invalid value encountered in less\n",
      "  xa[xa < 0] = -1\n",
      "Speed: 1.7ms preprocess, 16.7ms inference, 0.0ms loss, 0.4ms postprocess per image\n",
      "Results saved to \u001b[1mruns/epoch257\u001b[0m\n"
     ]
    },
    {
     "name": "stdout",
     "output_type": "stream",
     "text": [
      "-------------------- EPOCH 257 END --------------------\n",
      "-------------------- EPOCH 258 START --------------------\n",
      "Training start ...\n",
      "TRAIN:\n",
      "\tAVG_LOSS: 1.4980628083023844\n",
      "\tMAIN_LOSS: 1.0558111169670201\n",
      "\tKD_LOSS: 0.14741722956488404\n",
      "Evaluating start ...\n",
      "VAL:\n",
      "\tAVG_LOSS: 3.7633492747942605\n",
      "\tMAIN_LOSS: 3.297809590895971\n",
      "\tKD_LOSS: 0.15517988801002502\n"
     ]
    },
    {
     "name": "stderr",
     "output_type": "stream",
     "text": [
      "LSM-YOLO summary (fused): 391 layers, 2873048 parameters, 18824 gradients, 12.4 GFLOPs\n",
      "\u001b[34m\u001b[1mval: \u001b[0mScanning /kaggle/working/Br35H-Mask-Prepared/val/labels.cache... 151 images, 225 backgrounds, 0 corrupt: 100%|██████████| 376/376 [00:00<?, ?it/s]\n",
      "                 Class     Images  Instances      Box(P          R      mAP50  mAP50-95): 100%|██████████| 12/12 [00:08<00:00,  1.43it/s]\n",
      "                   all        376        181      0.915       0.79      0.876      0.628\n",
      "/usr/local/lib/python3.11/dist-packages/matplotlib/colors.py:721: RuntimeWarning: invalid value encountered in less\n",
      "  xa[xa < 0] = -1\n",
      "/usr/local/lib/python3.11/dist-packages/matplotlib/colors.py:721: RuntimeWarning: invalid value encountered in less\n",
      "  xa[xa < 0] = -1\n",
      "Speed: 2.0ms preprocess, 16.7ms inference, 0.0ms loss, 0.3ms postprocess per image\n",
      "Results saved to \u001b[1mruns/epoch258\u001b[0m\n"
     ]
    },
    {
     "name": "stdout",
     "output_type": "stream",
     "text": [
      "-------------------- EPOCH 258 END --------------------\n",
      "-------------------- EPOCH 259 START --------------------\n",
      "Training start ...\n",
      "TRAIN:\n",
      "\tAVG_LOSS: 1.5110605457161046\n",
      "\tMAIN_LOSS: 1.0683872722372223\n",
      "\tKD_LOSS: 0.14755775807779045\n",
      "Evaluating start ...\n",
      "VAL:\n",
      "\tAVG_LOSS: 3.946996957063675\n",
      "\tMAIN_LOSS: 3.444920023282369\n",
      "\tKD_LOSS: 0.16735899137953916\n"
     ]
    },
    {
     "name": "stderr",
     "output_type": "stream",
     "text": [
      "LSM-YOLO summary (fused): 391 layers, 2873048 parameters, 18824 gradients, 12.4 GFLOPs\n",
      "\u001b[34m\u001b[1mval: \u001b[0mScanning /kaggle/working/Br35H-Mask-Prepared/val/labels.cache... 151 images, 225 backgrounds, 0 corrupt: 100%|██████████| 376/376 [00:00<?, ?it/s]\n",
      "                 Class     Images  Instances      Box(P          R      mAP50  mAP50-95): 100%|██████████| 12/12 [00:08<00:00,  1.43it/s]\n",
      "                   all        376        181      0.909      0.801      0.888      0.633\n",
      "/usr/local/lib/python3.11/dist-packages/matplotlib/colors.py:721: RuntimeWarning: invalid value encountered in less\n",
      "  xa[xa < 0] = -1\n",
      "/usr/local/lib/python3.11/dist-packages/matplotlib/colors.py:721: RuntimeWarning: invalid value encountered in less\n",
      "  xa[xa < 0] = -1\n",
      "Speed: 2.0ms preprocess, 16.7ms inference, 0.0ms loss, 0.4ms postprocess per image\n",
      "Results saved to \u001b[1mruns/epoch259\u001b[0m\n"
     ]
    },
    {
     "name": "stdout",
     "output_type": "stream",
     "text": [
      "-------------------- EPOCH 259 END --------------------\n",
      "-------------------- EPOCH 260 START --------------------\n",
      "Training start ...\n",
      "TRAIN:\n",
      "\tAVG_LOSS: 1.5187560621696183\n",
      "\tMAIN_LOSS: 1.0691739577281325\n",
      "\tKD_LOSS: 0.1498607010403766\n",
      "Evaluating start ...\n",
      "VAL:\n",
      "\tAVG_LOSS: 3.780923346678416\n",
      "\tMAIN_LOSS: 3.3126361270745597\n",
      "\tKD_LOSS: 0.15609575000902018\n"
     ]
    },
    {
     "name": "stderr",
     "output_type": "stream",
     "text": [
      "LSM-YOLO summary (fused): 391 layers, 2873048 parameters, 18824 gradients, 12.4 GFLOPs\n",
      "\u001b[34m\u001b[1mval: \u001b[0mScanning /kaggle/working/Br35H-Mask-Prepared/val/labels.cache... 151 images, 225 backgrounds, 0 corrupt: 100%|██████████| 376/376 [00:00<?, ?it/s]\n",
      "                 Class     Images  Instances      Box(P          R      mAP50  mAP50-95): 100%|██████████| 12/12 [00:08<00:00,  1.42it/s]\n",
      "                   all        376        181      0.928      0.787      0.877      0.641\n",
      "/usr/local/lib/python3.11/dist-packages/matplotlib/colors.py:721: RuntimeWarning: invalid value encountered in less\n",
      "  xa[xa < 0] = -1\n",
      "/usr/local/lib/python3.11/dist-packages/matplotlib/colors.py:721: RuntimeWarning: invalid value encountered in less\n",
      "  xa[xa < 0] = -1\n",
      "Speed: 2.0ms preprocess, 16.7ms inference, 0.0ms loss, 0.4ms postprocess per image\n",
      "Results saved to \u001b[1mruns/epoch260\u001b[0m\n"
     ]
    },
    {
     "name": "stdout",
     "output_type": "stream",
     "text": [
      "-------------------- EPOCH 260 END --------------------\n",
      "-------------------- EPOCH 261 START --------------------\n",
      "Training start ...\n",
      "TRAIN:\n",
      "\tAVG_LOSS: 1.512973047509978\n",
      "\tMAIN_LOSS: 1.0708056937290142\n",
      "\tKD_LOSS: 0.1473891156006463\n",
      "Evaluating start ...\n",
      "VAL:\n",
      "\tAVG_LOSS: 4.026145766178767\n",
      "\tMAIN_LOSS: 3.553854395945867\n",
      "\tKD_LOSS: 0.15743047247330347\n"
     ]
    },
    {
     "name": "stderr",
     "output_type": "stream",
     "text": [
      "LSM-YOLO summary (fused): 391 layers, 2873048 parameters, 18824 gradients, 12.4 GFLOPs\n",
      "\u001b[34m\u001b[1mval: \u001b[0mScanning /kaggle/working/Br35H-Mask-Prepared/val/labels.cache... 151 images, 225 backgrounds, 0 corrupt: 100%|██████████| 376/376 [00:00<?, ?it/s]\n",
      "                 Class     Images  Instances      Box(P          R      mAP50  mAP50-95): 100%|██████████| 12/12 [00:08<00:00,  1.43it/s]\n",
      "                   all        376        181      0.891      0.785      0.888      0.649\n",
      "/usr/local/lib/python3.11/dist-packages/matplotlib/colors.py:721: RuntimeWarning: invalid value encountered in less\n",
      "  xa[xa < 0] = -1\n",
      "/usr/local/lib/python3.11/dist-packages/matplotlib/colors.py:721: RuntimeWarning: invalid value encountered in less\n",
      "  xa[xa < 0] = -1\n",
      "Speed: 2.0ms preprocess, 16.7ms inference, 0.0ms loss, 0.3ms postprocess per image\n",
      "Results saved to \u001b[1mruns/epoch261\u001b[0m\n"
     ]
    },
    {
     "name": "stdout",
     "output_type": "stream",
     "text": [
      "Epoch 261: New best mAP: 0.6493, model saved.\n",
      "-------------------- EPOCH 261 END --------------------\n",
      "-------------------- EPOCH 262 START --------------------\n",
      "Training start ...\n",
      "TRAIN:\n",
      "\tAVG_LOSS: 1.5235350267796577\n",
      "\tMAIN_LOSS: 1.0794276640385012\n",
      "\tKD_LOSS: 0.14803578864924516\n",
      "Evaluating start ...\n",
      "VAL:\n",
      "\tAVG_LOSS: 3.8019743859767914\n",
      "\tMAIN_LOSS: 3.33983384569486\n",
      "\tKD_LOSS: 0.15404684096574783\n"
     ]
    },
    {
     "name": "stderr",
     "output_type": "stream",
     "text": [
      "LSM-YOLO summary (fused): 391 layers, 2873048 parameters, 18824 gradients, 12.4 GFLOPs\n",
      "\u001b[34m\u001b[1mval: \u001b[0mScanning /kaggle/working/Br35H-Mask-Prepared/val/labels.cache... 151 images, 225 backgrounds, 0 corrupt: 100%|██████████| 376/376 [00:00<?, ?it/s]\n",
      "                 Class     Images  Instances      Box(P          R      mAP50  mAP50-95): 100%|██████████| 12/12 [00:08<00:00,  1.43it/s]\n",
      "                   all        376        181      0.928      0.788      0.885      0.632\n",
      "/usr/local/lib/python3.11/dist-packages/matplotlib/colors.py:721: RuntimeWarning: invalid value encountered in less\n",
      "  xa[xa < 0] = -1\n",
      "/usr/local/lib/python3.11/dist-packages/matplotlib/colors.py:721: RuntimeWarning: invalid value encountered in less\n",
      "  xa[xa < 0] = -1\n",
      "Speed: 2.1ms preprocess, 16.7ms inference, 0.0ms loss, 0.3ms postprocess per image\n",
      "Results saved to \u001b[1mruns/epoch262\u001b[0m\n"
     ]
    },
    {
     "name": "stdout",
     "output_type": "stream",
     "text": [
      "-------------------- EPOCH 262 END --------------------\n",
      "-------------------- EPOCH 263 START --------------------\n",
      "Training start ...\n",
      "TRAIN:\n",
      "\tAVG_LOSS: 1.5059153837493704\n",
      "\tMAIN_LOSS: 1.0665315683883956\n",
      "\tKD_LOSS: 0.1464612731073476\n",
      "Evaluating start ...\n",
      "VAL:\n",
      "\tAVG_LOSS: 3.75925878683726\n",
      "\tMAIN_LOSS: 3.297099287311236\n",
      "\tKD_LOSS: 0.15405316837131977\n"
     ]
    },
    {
     "name": "stderr",
     "output_type": "stream",
     "text": [
      "LSM-YOLO summary (fused): 391 layers, 2873048 parameters, 18824 gradients, 12.4 GFLOPs\n",
      "\u001b[34m\u001b[1mval: \u001b[0mScanning /kaggle/working/Br35H-Mask-Prepared/val/labels.cache... 151 images, 225 backgrounds, 0 corrupt: 100%|██████████| 376/376 [00:00<?, ?it/s]\n",
      "                 Class     Images  Instances      Box(P          R      mAP50  mAP50-95): 100%|██████████| 12/12 [00:08<00:00,  1.41it/s]\n",
      "                   all        376        181      0.916      0.785      0.881      0.641\n",
      "/usr/local/lib/python3.11/dist-packages/matplotlib/colors.py:721: RuntimeWarning: invalid value encountered in less\n",
      "  xa[xa < 0] = -1\n",
      "/usr/local/lib/python3.11/dist-packages/matplotlib/colors.py:721: RuntimeWarning: invalid value encountered in less\n",
      "  xa[xa < 0] = -1\n",
      "Speed: 2.0ms preprocess, 16.7ms inference, 0.0ms loss, 0.4ms postprocess per image\n",
      "Results saved to \u001b[1mruns/epoch263\u001b[0m\n"
     ]
    },
    {
     "name": "stdout",
     "output_type": "stream",
     "text": [
      "-------------------- EPOCH 263 END --------------------\n",
      "-------------------- EPOCH 264 START --------------------\n",
      "Training start ...\n",
      "TRAIN:\n",
      "\tAVG_LOSS: 1.5245981661579278\n",
      "\tMAIN_LOSS: 1.0748463454125803\n",
      "\tKD_LOSS: 0.14991727320453788\n",
      "Evaluating start ...\n",
      "VAL:\n",
      "\tAVG_LOSS: 4.1123640437920885\n",
      "\tMAIN_LOSS: 3.541084041198095\n",
      "\tKD_LOSS: 0.1904266712566217\n"
     ]
    },
    {
     "name": "stderr",
     "output_type": "stream",
     "text": [
      "LSM-YOLO summary (fused): 391 layers, 2873048 parameters, 18824 gradients, 12.4 GFLOPs\n",
      "\u001b[34m\u001b[1mval: \u001b[0mScanning /kaggle/working/Br35H-Mask-Prepared/val/labels.cache... 151 images, 225 backgrounds, 0 corrupt: 100%|██████████| 376/376 [00:00<?, ?it/s]\n",
      "                 Class     Images  Instances      Box(P          R      mAP50  mAP50-95): 100%|██████████| 12/12 [00:08<00:00,  1.44it/s]\n",
      "                   all        376        181      0.972      0.718      0.856      0.614\n",
      "/usr/local/lib/python3.11/dist-packages/matplotlib/colors.py:721: RuntimeWarning: invalid value encountered in less\n",
      "  xa[xa < 0] = -1\n",
      "/usr/local/lib/python3.11/dist-packages/matplotlib/colors.py:721: RuntimeWarning: invalid value encountered in less\n",
      "  xa[xa < 0] = -1\n",
      "Speed: 1.9ms preprocess, 16.7ms inference, 0.0ms loss, 0.3ms postprocess per image\n",
      "Results saved to \u001b[1mruns/epoch264\u001b[0m\n"
     ]
    },
    {
     "name": "stdout",
     "output_type": "stream",
     "text": [
      "-------------------- EPOCH 264 END --------------------\n",
      "-------------------- EPOCH 265 START --------------------\n",
      "Training start ...\n",
      "TRAIN:\n",
      "\tAVG_LOSS: 1.7184378240681901\n",
      "\tMAIN_LOSS: 1.2169890132131456\n",
      "\tKD_LOSS: 0.16714960412134097\n",
      "Evaluating start ...\n",
      "VAL:\n",
      "\tAVG_LOSS: 4.01531199614207\n",
      "\tMAIN_LOSS: 3.4382951805988946\n",
      "\tKD_LOSS: 0.19233892175058523\n"
     ]
    },
    {
     "name": "stderr",
     "output_type": "stream",
     "text": [
      "LSM-YOLO summary (fused): 391 layers, 2873048 parameters, 18824 gradients, 12.4 GFLOPs\n",
      "\u001b[34m\u001b[1mval: \u001b[0mScanning /kaggle/working/Br35H-Mask-Prepared/val/labels.cache... 151 images, 225 backgrounds, 0 corrupt: 100%|██████████| 376/376 [00:00<?, ?it/s]\n",
      "                 Class     Images  Instances      Box(P          R      mAP50  mAP50-95): 100%|██████████| 12/12 [00:08<00:00,  1.43it/s]\n",
      "                   all        376        181      0.921      0.735       0.84      0.555\n",
      "/usr/local/lib/python3.11/dist-packages/matplotlib/colors.py:721: RuntimeWarning: invalid value encountered in less\n",
      "  xa[xa < 0] = -1\n",
      "/usr/local/lib/python3.11/dist-packages/matplotlib/colors.py:721: RuntimeWarning: invalid value encountered in less\n",
      "  xa[xa < 0] = -1\n",
      "Speed: 1.8ms preprocess, 16.8ms inference, 0.0ms loss, 0.4ms postprocess per image\n",
      "Results saved to \u001b[1mruns/epoch265\u001b[0m\n"
     ]
    },
    {
     "name": "stdout",
     "output_type": "stream",
     "text": [
      "-------------------- EPOCH 265 END --------------------\n",
      "-------------------- EPOCH 266 START --------------------\n",
      "Training start ...\n",
      "TRAIN:\n",
      "\tAVG_LOSS: 1.6650587984278231\n",
      "\tMAIN_LOSS: 1.1782444836218147\n",
      "\tKD_LOSS: 0.162271436633943\n",
      "Evaluating start ...\n",
      "VAL:\n",
      "\tAVG_LOSS: 3.9629560808340707\n",
      "\tMAIN_LOSS: 3.472533086935679\n",
      "\tKD_LOSS: 0.16347432819505534\n"
     ]
    },
    {
     "name": "stderr",
     "output_type": "stream",
     "text": [
      "LSM-YOLO summary (fused): 391 layers, 2873048 parameters, 18824 gradients, 12.4 GFLOPs\n",
      "\u001b[34m\u001b[1mval: \u001b[0mScanning /kaggle/working/Br35H-Mask-Prepared/val/labels.cache... 151 images, 225 backgrounds, 0 corrupt: 100%|██████████| 376/376 [00:00<?, ?it/s]\n",
      "                 Class     Images  Instances      Box(P          R      mAP50  mAP50-95): 100%|██████████| 12/12 [00:08<00:00,  1.42it/s]\n",
      "                   all        376        181       0.89      0.762      0.866      0.606\n",
      "/usr/local/lib/python3.11/dist-packages/matplotlib/colors.py:721: RuntimeWarning: invalid value encountered in less\n",
      "  xa[xa < 0] = -1\n",
      "/usr/local/lib/python3.11/dist-packages/matplotlib/colors.py:721: RuntimeWarning: invalid value encountered in less\n",
      "  xa[xa < 0] = -1\n",
      "Speed: 2.0ms preprocess, 16.7ms inference, 0.0ms loss, 0.4ms postprocess per image\n",
      "Results saved to \u001b[1mruns/epoch266\u001b[0m\n"
     ]
    },
    {
     "name": "stdout",
     "output_type": "stream",
     "text": [
      "-------------------- EPOCH 266 END --------------------\n",
      "-------------------- EPOCH 267 START --------------------\n",
      "Training start ...\n",
      "TRAIN:\n",
      "\tAVG_LOSS: 1.5823632192008104\n",
      "\tMAIN_LOSS: 1.1190179073357884\n",
      "\tKD_LOSS: 0.15444843735121475\n",
      "Evaluating start ...\n",
      "VAL:\n",
      "\tAVG_LOSS: 3.699155086030563\n",
      "\tMAIN_LOSS: 3.214234600464503\n",
      "\tKD_LOSS: 0.16164016164839268\n"
     ]
    },
    {
     "name": "stderr",
     "output_type": "stream",
     "text": [
      "LSM-YOLO summary (fused): 391 layers, 2873048 parameters, 18824 gradients, 12.4 GFLOPs\n",
      "\u001b[34m\u001b[1mval: \u001b[0mScanning /kaggle/working/Br35H-Mask-Prepared/val/labels.cache... 151 images, 225 backgrounds, 0 corrupt: 100%|██████████| 376/376 [00:00<?, ?it/s]\n",
      "                 Class     Images  Instances      Box(P          R      mAP50  mAP50-95): 100%|██████████| 12/12 [00:08<00:00,  1.42it/s]\n",
      "                   all        376        181      0.911       0.79      0.876      0.631\n",
      "/usr/local/lib/python3.11/dist-packages/matplotlib/colors.py:721: RuntimeWarning: invalid value encountered in less\n",
      "  xa[xa < 0] = -1\n",
      "/usr/local/lib/python3.11/dist-packages/matplotlib/colors.py:721: RuntimeWarning: invalid value encountered in less\n",
      "  xa[xa < 0] = -1\n",
      "Speed: 2.0ms preprocess, 16.8ms inference, 0.0ms loss, 0.4ms postprocess per image\n",
      "Results saved to \u001b[1mruns/epoch267\u001b[0m\n"
     ]
    },
    {
     "name": "stdout",
     "output_type": "stream",
     "text": [
      "-------------------- EPOCH 267 END --------------------\n",
      "-------------------- EPOCH 268 START --------------------\n",
      "Training start ...\n",
      "TRAIN:\n",
      "\tAVG_LOSS: 1.5471405394469635\n",
      "\tMAIN_LOSS: 1.093879884556879\n",
      "\tKD_LOSS: 0.15108688496336153\n",
      "Evaluating start ...\n",
      "VAL:\n",
      "\tAVG_LOSS: 4.0751793384552\n",
      "\tMAIN_LOSS: 3.604642689228058\n",
      "\tKD_LOSS: 0.1568455509841442\n"
     ]
    },
    {
     "name": "stderr",
     "output_type": "stream",
     "text": [
      "LSM-YOLO summary (fused): 391 layers, 2873048 parameters, 18824 gradients, 12.4 GFLOPs\n",
      "\u001b[34m\u001b[1mval: \u001b[0mScanning /kaggle/working/Br35H-Mask-Prepared/val/labels.cache... 151 images, 225 backgrounds, 0 corrupt: 100%|██████████| 376/376 [00:00<?, ?it/s]\n",
      "                 Class     Images  Instances      Box(P          R      mAP50  mAP50-95): 100%|██████████| 12/12 [00:08<00:00,  1.42it/s]\n",
      "                   all        376        181      0.926       0.76      0.869      0.625\n",
      "/usr/local/lib/python3.11/dist-packages/matplotlib/colors.py:721: RuntimeWarning: invalid value encountered in less\n",
      "  xa[xa < 0] = -1\n",
      "/usr/local/lib/python3.11/dist-packages/matplotlib/colors.py:721: RuntimeWarning: invalid value encountered in less\n",
      "  xa[xa < 0] = -1\n",
      "Speed: 1.9ms preprocess, 16.7ms inference, 0.0ms loss, 0.3ms postprocess per image\n",
      "Results saved to \u001b[1mruns/epoch268\u001b[0m\n"
     ]
    },
    {
     "name": "stdout",
     "output_type": "stream",
     "text": [
      "-------------------- EPOCH 268 END --------------------\n",
      "-------------------- EPOCH 269 START --------------------\n",
      "Training start ...\n",
      "TRAIN:\n",
      "\tAVG_LOSS: 1.5414142412475393\n",
      "\tMAIN_LOSS: 1.0944983068900773\n",
      "\tKD_LOSS: 0.14897197654730157\n",
      "Evaluating start ...\n",
      "VAL:\n",
      "\tAVG_LOSS: 4.017069727182388\n",
      "\tMAIN_LOSS: 3.5492854615052543\n",
      "\tKD_LOSS: 0.1559280933191379\n"
     ]
    },
    {
     "name": "stderr",
     "output_type": "stream",
     "text": [
      "LSM-YOLO summary (fused): 391 layers, 2873048 parameters, 18824 gradients, 12.4 GFLOPs\n",
      "\u001b[34m\u001b[1mval: \u001b[0mScanning /kaggle/working/Br35H-Mask-Prepared/val/labels.cache... 151 images, 225 backgrounds, 0 corrupt: 100%|██████████| 376/376 [00:00<?, ?it/s]\n",
      "                 Class     Images  Instances      Box(P          R      mAP50  mAP50-95): 100%|██████████| 12/12 [00:08<00:00,  1.44it/s]\n",
      "                   all        376        181      0.874      0.802      0.874      0.629\n",
      "/usr/local/lib/python3.11/dist-packages/matplotlib/colors.py:721: RuntimeWarning: invalid value encountered in less\n",
      "  xa[xa < 0] = -1\n",
      "/usr/local/lib/python3.11/dist-packages/matplotlib/colors.py:721: RuntimeWarning: invalid value encountered in less\n",
      "  xa[xa < 0] = -1\n",
      "Speed: 1.8ms preprocess, 16.8ms inference, 0.0ms loss, 0.4ms postprocess per image\n",
      "Results saved to \u001b[1mruns/epoch269\u001b[0m\n"
     ]
    },
    {
     "name": "stdout",
     "output_type": "stream",
     "text": [
      "-------------------- EPOCH 269 END --------------------\n",
      "-------------------- EPOCH 270 START --------------------\n",
      "Training start ...\n",
      "TRAIN:\n",
      "\tAVG_LOSS: 1.5038295969178406\n",
      "\tMAIN_LOSS: 1.06068395964707\n",
      "\tKD_LOSS: 0.14771521355532394\n",
      "Evaluating start ...\n",
      "VAL:\n",
      "\tAVG_LOSS: 3.9226887126763663\n",
      "\tMAIN_LOSS: 3.4606038133303323\n",
      "\tKD_LOSS: 0.1540282896409432\n"
     ]
    },
    {
     "name": "stderr",
     "output_type": "stream",
     "text": [
      "LSM-YOLO summary (fused): 391 layers, 2873048 parameters, 18824 gradients, 12.4 GFLOPs\n",
      "\u001b[34m\u001b[1mval: \u001b[0mScanning /kaggle/working/Br35H-Mask-Prepared/val/labels.cache... 151 images, 225 backgrounds, 0 corrupt: 100%|██████████| 376/376 [00:00<?, ?it/s]\n",
      "                 Class     Images  Instances      Box(P          R      mAP50  mAP50-95): 100%|██████████| 12/12 [00:08<00:00,  1.43it/s]\n",
      "                   all        376        181      0.929      0.789      0.879      0.634\n",
      "/usr/local/lib/python3.11/dist-packages/matplotlib/colors.py:721: RuntimeWarning: invalid value encountered in less\n",
      "  xa[xa < 0] = -1\n",
      "/usr/local/lib/python3.11/dist-packages/matplotlib/colors.py:721: RuntimeWarning: invalid value encountered in less\n",
      "  xa[xa < 0] = -1\n",
      "Speed: 2.0ms preprocess, 16.7ms inference, 0.0ms loss, 0.3ms postprocess per image\n",
      "Results saved to \u001b[1mruns/epoch270\u001b[0m\n"
     ]
    },
    {
     "name": "stdout",
     "output_type": "stream",
     "text": [
      "-------------------- EPOCH 270 END --------------------\n",
      "-------------------- EPOCH 271 START --------------------\n",
      "Training start ...\n",
      "TRAIN:\n",
      "\tAVG_LOSS: 1.5031124232690545\n",
      "\tMAIN_LOSS: 1.0572881585435023\n",
      "\tKD_LOSS: 0.1486080875502357\n",
      "Evaluating start ...\n",
      "VAL:\n",
      "\tAVG_LOSS: 3.9185456335544586\n",
      "\tMAIN_LOSS: 3.448594868183136\n",
      "\tKD_LOSS: 0.1566502625743548\n"
     ]
    },
    {
     "name": "stderr",
     "output_type": "stream",
     "text": [
      "LSM-YOLO summary (fused): 391 layers, 2873048 parameters, 18824 gradients, 12.4 GFLOPs\n",
      "\u001b[34m\u001b[1mval: \u001b[0mScanning /kaggle/working/Br35H-Mask-Prepared/val/labels.cache... 151 images, 225 backgrounds, 0 corrupt: 100%|██████████| 376/376 [00:00<?, ?it/s]\n",
      "                 Class     Images  Instances      Box(P          R      mAP50  mAP50-95): 100%|██████████| 12/12 [00:08<00:00,  1.44it/s]\n",
      "                   all        376        181       0.94      0.777      0.866      0.625\n",
      "/usr/local/lib/python3.11/dist-packages/matplotlib/colors.py:721: RuntimeWarning: invalid value encountered in less\n",
      "  xa[xa < 0] = -1\n",
      "/usr/local/lib/python3.11/dist-packages/matplotlib/colors.py:721: RuntimeWarning: invalid value encountered in less\n",
      "  xa[xa < 0] = -1\n",
      "Speed: 1.9ms preprocess, 16.7ms inference, 0.0ms loss, 0.3ms postprocess per image\n",
      "Results saved to \u001b[1mruns/epoch271\u001b[0m\n"
     ]
    },
    {
     "name": "stdout",
     "output_type": "stream",
     "text": [
      "-------------------- EPOCH 271 END --------------------\n",
      "-------------------- EPOCH 272 START --------------------\n",
      "Training start ...\n",
      "TRAIN:\n",
      "\tAVG_LOSS: 1.4755439637582513\n",
      "\tMAIN_LOSS: 1.038904140267191\n",
      "\tKD_LOSS: 0.14554660776747932\n",
      "Evaluating start ...\n",
      "VAL:\n",
      "\tAVG_LOSS: 3.898645887772242\n",
      "\tMAIN_LOSS: 3.4414654870827994\n",
      "\tKD_LOSS: 0.15239346461991468\n"
     ]
    },
    {
     "name": "stderr",
     "output_type": "stream",
     "text": [
      "LSM-YOLO summary (fused): 391 layers, 2873048 parameters, 18824 gradients, 12.4 GFLOPs\n",
      "\u001b[34m\u001b[1mval: \u001b[0mScanning /kaggle/working/Br35H-Mask-Prepared/val/labels.cache... 151 images, 225 backgrounds, 0 corrupt: 100%|██████████| 376/376 [00:00<?, ?it/s]\n",
      "                 Class     Images  Instances      Box(P          R      mAP50  mAP50-95): 100%|██████████| 12/12 [00:08<00:00,  1.42it/s]\n",
      "                   all        376        181      0.932      0.757      0.862      0.625\n",
      "/usr/local/lib/python3.11/dist-packages/matplotlib/colors.py:721: RuntimeWarning: invalid value encountered in less\n",
      "  xa[xa < 0] = -1\n",
      "/usr/local/lib/python3.11/dist-packages/matplotlib/colors.py:721: RuntimeWarning: invalid value encountered in less\n",
      "  xa[xa < 0] = -1\n",
      "Speed: 2.1ms preprocess, 16.7ms inference, 0.0ms loss, 0.3ms postprocess per image\n",
      "Results saved to \u001b[1mruns/epoch272\u001b[0m\n"
     ]
    },
    {
     "name": "stdout",
     "output_type": "stream",
     "text": [
      "-------------------- EPOCH 272 END --------------------\n",
      "-------------------- EPOCH 273 START --------------------\n",
      "Training start ...\n",
      "TRAIN:\n",
      "\tAVG_LOSS: 1.4691265549840806\n",
      "\tMAIN_LOSS: 1.036031646064565\n",
      "\tKD_LOSS: 0.14436496982846078\n",
      "Evaluating start ...\n",
      "VAL:\n",
      "\tAVG_LOSS: 3.888627996047338\n",
      "\tMAIN_LOSS: 3.43708835542202\n",
      "\tKD_LOSS: 0.15051321126520634\n"
     ]
    },
    {
     "name": "stderr",
     "output_type": "stream",
     "text": [
      "LSM-YOLO summary (fused): 391 layers, 2873048 parameters, 18824 gradients, 12.4 GFLOPs\n",
      "\u001b[34m\u001b[1mval: \u001b[0mScanning /kaggle/working/Br35H-Mask-Prepared/val/labels.cache... 151 images, 225 backgrounds, 0 corrupt: 100%|██████████| 376/376 [00:00<?, ?it/s]\n",
      "                 Class     Images  Instances      Box(P          R      mAP50  mAP50-95): 100%|██████████| 12/12 [00:08<00:00,  1.43it/s]\n",
      "                   all        376        181      0.909       0.79      0.879      0.624\n",
      "/usr/local/lib/python3.11/dist-packages/matplotlib/colors.py:721: RuntimeWarning: invalid value encountered in less\n",
      "  xa[xa < 0] = -1\n",
      "/usr/local/lib/python3.11/dist-packages/matplotlib/colors.py:721: RuntimeWarning: invalid value encountered in less\n",
      "  xa[xa < 0] = -1\n",
      "Speed: 2.0ms preprocess, 16.7ms inference, 0.0ms loss, 0.4ms postprocess per image\n",
      "Results saved to \u001b[1mruns/epoch273\u001b[0m\n"
     ]
    },
    {
     "name": "stdout",
     "output_type": "stream",
     "text": [
      "-------------------- EPOCH 273 END --------------------\n",
      "-------------------- EPOCH 274 START --------------------\n",
      "Training start ...\n",
      "TRAIN:\n",
      "\tAVG_LOSS: 1.4810053683534454\n",
      "\tMAIN_LOSS: 1.049568785142295\n",
      "\tKD_LOSS: 0.14381219484383548\n",
      "Evaluating start ...\n",
      "VAL:\n",
      "\tAVG_LOSS: 3.925475537776947\n",
      "\tMAIN_LOSS: 3.4629237949848175\n",
      "\tKD_LOSS: 0.15418391736845175\n"
     ]
    },
    {
     "name": "stderr",
     "output_type": "stream",
     "text": [
      "LSM-YOLO summary (fused): 391 layers, 2873048 parameters, 18824 gradients, 12.4 GFLOPs\n",
      "\u001b[34m\u001b[1mval: \u001b[0mScanning /kaggle/working/Br35H-Mask-Prepared/val/labels.cache... 151 images, 225 backgrounds, 0 corrupt: 100%|██████████| 376/376 [00:00<?, ?it/s]\n",
      "                 Class     Images  Instances      Box(P          R      mAP50  mAP50-95): 100%|██████████| 12/12 [00:08<00:00,  1.42it/s]\n",
      "                   all        376        181      0.926      0.779      0.881      0.636\n",
      "/usr/local/lib/python3.11/dist-packages/matplotlib/colors.py:721: RuntimeWarning: invalid value encountered in less\n",
      "  xa[xa < 0] = -1\n",
      "/usr/local/lib/python3.11/dist-packages/matplotlib/colors.py:721: RuntimeWarning: invalid value encountered in less\n",
      "  xa[xa < 0] = -1\n",
      "Speed: 2.1ms preprocess, 16.8ms inference, 0.0ms loss, 0.3ms postprocess per image\n",
      "Results saved to \u001b[1mruns/epoch274\u001b[0m\n"
     ]
    },
    {
     "name": "stdout",
     "output_type": "stream",
     "text": [
      "-------------------- EPOCH 274 END --------------------\n",
      "-------------------- EPOCH 275 START --------------------\n",
      "Training start ...\n",
      "TRAIN:\n",
      "\tAVG_LOSS: 1.4893462084516693\n",
      "\tMAIN_LOSS: 1.0553788210772261\n",
      "\tKD_LOSS: 0.14465579447112506\n",
      "Evaluating start ...\n",
      "VAL:\n",
      "\tAVG_LOSS: 3.8688391943772635\n",
      "\tMAIN_LOSS: 3.4106035629908242\n",
      "\tKD_LOSS: 0.1527452108760675\n"
     ]
    },
    {
     "name": "stderr",
     "output_type": "stream",
     "text": [
      "LSM-YOLO summary (fused): 391 layers, 2873048 parameters, 18824 gradients, 12.4 GFLOPs\n",
      "\u001b[34m\u001b[1mval: \u001b[0mScanning /kaggle/working/Br35H-Mask-Prepared/val/labels.cache... 151 images, 225 backgrounds, 0 corrupt: 100%|██████████| 376/376 [00:00<?, ?it/s]\n",
      "                 Class     Images  Instances      Box(P          R      mAP50  mAP50-95): 100%|██████████| 12/12 [00:08<00:00,  1.44it/s]\n",
      "                   all        376        181      0.922      0.786       0.88      0.622\n",
      "/usr/local/lib/python3.11/dist-packages/matplotlib/colors.py:721: RuntimeWarning: invalid value encountered in less\n",
      "  xa[xa < 0] = -1\n",
      "/usr/local/lib/python3.11/dist-packages/matplotlib/colors.py:721: RuntimeWarning: invalid value encountered in less\n",
      "  xa[xa < 0] = -1\n",
      "Speed: 1.8ms preprocess, 16.7ms inference, 0.0ms loss, 0.3ms postprocess per image\n",
      "Results saved to \u001b[1mruns/epoch275\u001b[0m\n"
     ]
    },
    {
     "name": "stdout",
     "output_type": "stream",
     "text": [
      "-------------------- EPOCH 275 END --------------------\n",
      "-------------------- EPOCH 276 START --------------------\n",
      "Training start ...\n",
      "TRAIN:\n",
      "\tAVG_LOSS: 1.4867408818836454\n",
      "\tMAIN_LOSS: 1.0527355618114713\n",
      "\tKD_LOSS: 0.14466843537137478\n",
      "Evaluating start ...\n",
      "VAL:\n",
      "\tAVG_LOSS: 3.8093648155530295\n",
      "\tMAIN_LOSS: 3.3408252149820328\n",
      "\tKD_LOSS: 0.1561798652013143\n"
     ]
    },
    {
     "name": "stderr",
     "output_type": "stream",
     "text": [
      "LSM-YOLO summary (fused): 391 layers, 2873048 parameters, 18824 gradients, 12.4 GFLOPs\n",
      "\u001b[34m\u001b[1mval: \u001b[0mScanning /kaggle/working/Br35H-Mask-Prepared/val/labels.cache... 151 images, 225 backgrounds, 0 corrupt: 100%|██████████| 376/376 [00:00<?, ?it/s]\n",
      "                 Class     Images  Instances      Box(P          R      mAP50  mAP50-95): 100%|██████████| 12/12 [00:08<00:00,  1.45it/s]\n",
      "                   all        376        181      0.898      0.778      0.868      0.621\n",
      "/usr/local/lib/python3.11/dist-packages/matplotlib/colors.py:721: RuntimeWarning: invalid value encountered in less\n",
      "  xa[xa < 0] = -1\n",
      "/usr/local/lib/python3.11/dist-packages/matplotlib/colors.py:721: RuntimeWarning: invalid value encountered in less\n",
      "  xa[xa < 0] = -1\n",
      "Speed: 1.8ms preprocess, 16.7ms inference, 0.0ms loss, 0.3ms postprocess per image\n",
      "Results saved to \u001b[1mruns/epoch276\u001b[0m\n"
     ]
    },
    {
     "name": "stdout",
     "output_type": "stream",
     "text": [
      "-------------------- EPOCH 276 END --------------------\n",
      "-------------------- EPOCH 277 START --------------------\n",
      "Training start ...\n",
      "TRAIN:\n",
      "\tAVG_LOSS: 1.5158770084381104\n",
      "\tMAIN_LOSS: 1.0641866816750056\n",
      "\tKD_LOSS: 0.15056343885916698\n",
      "Evaluating start ...\n",
      "VAL:\n",
      "\tAVG_LOSS: 3.9602277676264444\n",
      "\tMAIN_LOSS: 3.3818492591381073\n",
      "\tKD_LOSS: 0.19279283719758192\n"
     ]
    },
    {
     "name": "stderr",
     "output_type": "stream",
     "text": [
      "LSM-YOLO summary (fused): 391 layers, 2873048 parameters, 18824 gradients, 12.4 GFLOPs\n",
      "\u001b[34m\u001b[1mval: \u001b[0mScanning /kaggle/working/Br35H-Mask-Prepared/val/labels.cache... 151 images, 225 backgrounds, 0 corrupt: 100%|██████████| 376/376 [00:00<?, ?it/s]\n",
      "                 Class     Images  Instances      Box(P          R      mAP50  mAP50-95): 100%|██████████| 12/12 [00:08<00:00,  1.44it/s]\n",
      "                   all        376        181       0.89      0.761      0.851      0.605\n",
      "/usr/local/lib/python3.11/dist-packages/matplotlib/colors.py:721: RuntimeWarning: invalid value encountered in less\n",
      "  xa[xa < 0] = -1\n",
      "/usr/local/lib/python3.11/dist-packages/matplotlib/colors.py:721: RuntimeWarning: invalid value encountered in less\n",
      "  xa[xa < 0] = -1\n",
      "Speed: 1.7ms preprocess, 16.7ms inference, 0.0ms loss, 0.4ms postprocess per image\n",
      "Results saved to \u001b[1mruns/epoch277\u001b[0m\n"
     ]
    },
    {
     "name": "stdout",
     "output_type": "stream",
     "text": [
      "-------------------- EPOCH 277 END --------------------\n",
      "-------------------- EPOCH 278 START --------------------\n",
      "Training start ...\n",
      "TRAIN:\n",
      "\tAVG_LOSS: 1.8195871597603908\n",
      "\tMAIN_LOSS: 1.298153635821765\n",
      "\tKD_LOSS: 0.17381117238274105\n",
      "Evaluating start ...\n",
      "VAL:\n",
      "\tAVG_LOSS: 4.019154936075211\n",
      "\tMAIN_LOSS: 3.4795797566572824\n",
      "\tKD_LOSS: 0.17985839893420538\n"
     ]
    },
    {
     "name": "stderr",
     "output_type": "stream",
     "text": [
      "LSM-YOLO summary (fused): 391 layers, 2873048 parameters, 18824 gradients, 12.4 GFLOPs\n",
      "\u001b[34m\u001b[1mval: \u001b[0mScanning /kaggle/working/Br35H-Mask-Prepared/val/labels.cache... 151 images, 225 backgrounds, 0 corrupt: 100%|██████████| 376/376 [00:00<?, ?it/s]\n",
      "                 Class     Images  Instances      Box(P          R      mAP50  mAP50-95): 100%|██████████| 12/12 [00:08<00:00,  1.44it/s]\n",
      "                   all        376        181      0.881       0.79      0.861      0.592\n",
      "/usr/local/lib/python3.11/dist-packages/matplotlib/colors.py:721: RuntimeWarning: invalid value encountered in less\n",
      "  xa[xa < 0] = -1\n",
      "/usr/local/lib/python3.11/dist-packages/matplotlib/colors.py:721: RuntimeWarning: invalid value encountered in less\n",
      "  xa[xa < 0] = -1\n",
      "Speed: 1.7ms preprocess, 16.8ms inference, 0.0ms loss, 0.4ms postprocess per image\n",
      "Results saved to \u001b[1mruns/epoch278\u001b[0m\n"
     ]
    },
    {
     "name": "stdout",
     "output_type": "stream",
     "text": [
      "-------------------- EPOCH 278 END --------------------\n",
      "-------------------- EPOCH 279 START --------------------\n",
      "Training start ...\n",
      "TRAIN:\n",
      "\tAVG_LOSS: 1.6624773484242112\n",
      "\tMAIN_LOSS: 1.1839730875401557\n",
      "\tKD_LOSS: 0.1595014197916924\n",
      "Evaluating start ...\n",
      "VAL:\n",
      "\tAVG_LOSS: 3.945278078317642\n",
      "\tMAIN_LOSS: 3.375784029563268\n",
      "\tKD_LOSS: 0.18983135682841143\n"
     ]
    },
    {
     "name": "stderr",
     "output_type": "stream",
     "text": [
      "LSM-YOLO summary (fused): 391 layers, 2873048 parameters, 18824 gradients, 12.4 GFLOPs\n",
      "\u001b[34m\u001b[1mval: \u001b[0mScanning /kaggle/working/Br35H-Mask-Prepared/val/labels.cache... 151 images, 225 backgrounds, 0 corrupt: 100%|██████████| 376/376 [00:00<?, ?it/s]\n",
      "                 Class     Images  Instances      Box(P          R      mAP50  mAP50-95): 100%|██████████| 12/12 [00:08<00:00,  1.43it/s]\n",
      "                   all        376        181      0.897      0.768      0.857      0.592\n",
      "/usr/local/lib/python3.11/dist-packages/matplotlib/colors.py:721: RuntimeWarning: invalid value encountered in less\n",
      "  xa[xa < 0] = -1\n",
      "/usr/local/lib/python3.11/dist-packages/matplotlib/colors.py:721: RuntimeWarning: invalid value encountered in less\n",
      "  xa[xa < 0] = -1\n",
      "Speed: 1.8ms preprocess, 16.7ms inference, 0.0ms loss, 0.4ms postprocess per image\n",
      "Results saved to \u001b[1mruns/epoch279\u001b[0m\n"
     ]
    },
    {
     "name": "stdout",
     "output_type": "stream",
     "text": [
      "-------------------- EPOCH 279 END --------------------\n",
      "-------------------- EPOCH 280 START --------------------\n",
      "Training start ...\n",
      "TRAIN:\n",
      "\tAVG_LOSS: 1.5628103561039213\n",
      "\tMAIN_LOSS: 1.103094211862057\n",
      "\tKD_LOSS: 0.15323871675925918\n",
      "Evaluating start ...\n",
      "VAL:\n",
      "\tAVG_LOSS: 3.848319182793299\n",
      "\tMAIN_LOSS: 3.3754126081864038\n",
      "\tKD_LOSS: 0.15763552486896515\n"
     ]
    },
    {
     "name": "stderr",
     "output_type": "stream",
     "text": [
      "LSM-YOLO summary (fused): 391 layers, 2873048 parameters, 18824 gradients, 12.4 GFLOPs\n",
      "\u001b[34m\u001b[1mval: \u001b[0mScanning /kaggle/working/Br35H-Mask-Prepared/val/labels.cache... 151 images, 225 backgrounds, 0 corrupt: 100%|██████████| 376/376 [00:00<?, ?it/s]\n",
      "                 Class     Images  Instances      Box(P          R      mAP50  mAP50-95): 100%|██████████| 12/12 [00:08<00:00,  1.43it/s]\n",
      "                   all        376        181      0.917      0.779      0.873      0.634\n",
      "/usr/local/lib/python3.11/dist-packages/matplotlib/colors.py:721: RuntimeWarning: invalid value encountered in less\n",
      "  xa[xa < 0] = -1\n",
      "/usr/local/lib/python3.11/dist-packages/matplotlib/colors.py:721: RuntimeWarning: invalid value encountered in less\n",
      "  xa[xa < 0] = -1\n",
      "Speed: 1.8ms preprocess, 16.8ms inference, 0.0ms loss, 0.3ms postprocess per image\n",
      "Results saved to \u001b[1mruns/epoch280\u001b[0m\n"
     ]
    },
    {
     "name": "stdout",
     "output_type": "stream",
     "text": [
      "-------------------- EPOCH 280 END --------------------\n",
      "-------------------- EPOCH 281 START --------------------\n",
      "Training start ...\n",
      "TRAIN:\n",
      "\tAVG_LOSS: 1.4883650073522254\n",
      "\tMAIN_LOSS: 1.0451933726479736\n",
      "\tKD_LOSS: 0.14772387678864635\n",
      "Evaluating start ...\n",
      "VAL:\n",
      "\tAVG_LOSS: 3.8534387052059174\n",
      "\tMAIN_LOSS: 3.3882954915364585\n",
      "\tKD_LOSS: 0.15504774078726768\n"
     ]
    },
    {
     "name": "stderr",
     "output_type": "stream",
     "text": [
      "LSM-YOLO summary (fused): 391 layers, 2873048 parameters, 18824 gradients, 12.4 GFLOPs\n",
      "\u001b[34m\u001b[1mval: \u001b[0mScanning /kaggle/working/Br35H-Mask-Prepared/val/labels.cache... 151 images, 225 backgrounds, 0 corrupt: 100%|██████████| 376/376 [00:00<?, ?it/s]\n",
      "                 Class     Images  Instances      Box(P          R      mAP50  mAP50-95): 100%|██████████| 12/12 [00:08<00:00,  1.43it/s]\n",
      "                   all        376        181      0.922      0.783      0.871      0.627\n",
      "/usr/local/lib/python3.11/dist-packages/matplotlib/colors.py:721: RuntimeWarning: invalid value encountered in less\n",
      "  xa[xa < 0] = -1\n",
      "/usr/local/lib/python3.11/dist-packages/matplotlib/colors.py:721: RuntimeWarning: invalid value encountered in less\n",
      "  xa[xa < 0] = -1\n",
      "Speed: 2.0ms preprocess, 16.8ms inference, 0.0ms loss, 0.4ms postprocess per image\n",
      "Results saved to \u001b[1mruns/epoch281\u001b[0m\n"
     ]
    },
    {
     "name": "stdout",
     "output_type": "stream",
     "text": [
      "-------------------- EPOCH 281 END --------------------\n",
      "-------------------- EPOCH 282 START --------------------\n",
      "Training start ...\n",
      "TRAIN:\n",
      "\tAVG_LOSS: 1.4717305642140062\n",
      "\tMAIN_LOSS: 1.0360840860801408\n",
      "\tKD_LOSS: 0.1452154905735692\n",
      "Evaluating start ...\n",
      "VAL:\n",
      "\tAVG_LOSS: 3.907312572002411\n",
      "\tMAIN_LOSS: 3.452928066253662\n",
      "\tKD_LOSS: 0.15146148763597012\n"
     ]
    },
    {
     "name": "stderr",
     "output_type": "stream",
     "text": [
      "LSM-YOLO summary (fused): 391 layers, 2873048 parameters, 18824 gradients, 12.4 GFLOPs\n",
      "\u001b[34m\u001b[1mval: \u001b[0mScanning /kaggle/working/Br35H-Mask-Prepared/val/labels.cache... 151 images, 225 backgrounds, 0 corrupt: 100%|██████████| 376/376 [00:00<?, ?it/s]\n",
      "                 Class     Images  Instances      Box(P          R      mAP50  mAP50-95): 100%|██████████| 12/12 [00:08<00:00,  1.43it/s]\n",
      "                   all        376        181       0.94      0.762      0.886      0.641\n",
      "/usr/local/lib/python3.11/dist-packages/matplotlib/colors.py:721: RuntimeWarning: invalid value encountered in less\n",
      "  xa[xa < 0] = -1\n",
      "/usr/local/lib/python3.11/dist-packages/matplotlib/colors.py:721: RuntimeWarning: invalid value encountered in less\n",
      "  xa[xa < 0] = -1\n",
      "Speed: 1.9ms preprocess, 16.7ms inference, 0.0ms loss, 0.3ms postprocess per image\n",
      "Results saved to \u001b[1mruns/epoch282\u001b[0m\n"
     ]
    },
    {
     "name": "stdout",
     "output_type": "stream",
     "text": [
      "-------------------- EPOCH 282 END --------------------\n",
      "-------------------- EPOCH 283 START --------------------\n",
      "Training start ...\n",
      "TRAIN:\n",
      "\tAVG_LOSS: 1.4904639630378047\n",
      "\tMAIN_LOSS: 1.0549377225622345\n",
      "\tKD_LOSS: 0.14517541437209408\n",
      "Evaluating start ...\n",
      "VAL:\n",
      "\tAVG_LOSS: 3.7351055443286896\n",
      "\tMAIN_LOSS: 3.284845530986786\n",
      "\tKD_LOSS: 0.15008667297661304\n"
     ]
    },
    {
     "name": "stderr",
     "output_type": "stream",
     "text": [
      "LSM-YOLO summary (fused): 391 layers, 2873048 parameters, 18824 gradients, 12.4 GFLOPs\n",
      "\u001b[34m\u001b[1mval: \u001b[0mScanning /kaggle/working/Br35H-Mask-Prepared/val/labels.cache... 151 images, 225 backgrounds, 0 corrupt: 100%|██████████| 376/376 [00:00<?, ?it/s]\n",
      "                 Class     Images  Instances      Box(P          R      mAP50  mAP50-95): 100%|██████████| 12/12 [00:08<00:00,  1.44it/s]\n",
      "                   all        376        181      0.903      0.807      0.884      0.632\n",
      "/usr/local/lib/python3.11/dist-packages/matplotlib/colors.py:721: RuntimeWarning: invalid value encountered in less\n",
      "  xa[xa < 0] = -1\n",
      "/usr/local/lib/python3.11/dist-packages/matplotlib/colors.py:721: RuntimeWarning: invalid value encountered in less\n",
      "  xa[xa < 0] = -1\n",
      "Speed: 1.8ms preprocess, 16.7ms inference, 0.0ms loss, 0.4ms postprocess per image\n",
      "Results saved to \u001b[1mruns/epoch283\u001b[0m\n"
     ]
    },
    {
     "name": "stdout",
     "output_type": "stream",
     "text": [
      "-------------------- EPOCH 283 END --------------------\n",
      "-------------------- EPOCH 284 START --------------------\n",
      "Training start ...\n",
      "TRAIN:\n",
      "\tAVG_LOSS: 1.4811787001694305\n",
      "\tMAIN_LOSS: 1.0499091857596288\n",
      "\tKD_LOSS: 0.14375650467751902\n",
      "Evaluating start ...\n",
      "VAL:\n",
      "\tAVG_LOSS: 3.7632616261641183\n",
      "\tMAIN_LOSS: 3.311955784757932\n",
      "\tKD_LOSS: 0.1504352819174528\n"
     ]
    },
    {
     "name": "stderr",
     "output_type": "stream",
     "text": [
      "LSM-YOLO summary (fused): 391 layers, 2873048 parameters, 18824 gradients, 12.4 GFLOPs\n",
      "\u001b[34m\u001b[1mval: \u001b[0mScanning /kaggle/working/Br35H-Mask-Prepared/val/labels.cache... 151 images, 225 backgrounds, 0 corrupt: 100%|██████████| 376/376 [00:00<?, ?it/s]\n",
      "                 Class     Images  Instances      Box(P          R      mAP50  mAP50-95): 100%|██████████| 12/12 [00:08<00:00,  1.44it/s]\n",
      "                   all        376        181      0.917       0.79      0.885      0.638\n",
      "/usr/local/lib/python3.11/dist-packages/matplotlib/colors.py:721: RuntimeWarning: invalid value encountered in less\n",
      "  xa[xa < 0] = -1\n",
      "/usr/local/lib/python3.11/dist-packages/matplotlib/colors.py:721: RuntimeWarning: invalid value encountered in less\n",
      "  xa[xa < 0] = -1\n",
      "Speed: 1.9ms preprocess, 16.8ms inference, 0.0ms loss, 0.3ms postprocess per image\n",
      "Results saved to \u001b[1mruns/epoch284\u001b[0m\n"
     ]
    },
    {
     "name": "stdout",
     "output_type": "stream",
     "text": [
      "-------------------- EPOCH 284 END --------------------\n",
      "-------------------- EPOCH 285 START --------------------\n",
      "Training start ...\n",
      "TRAIN:\n",
      "\tAVG_LOSS: 1.4808006407339362\n",
      "\tMAIN_LOSS: 1.0512386220919936\n",
      "\tKD_LOSS: 0.14318733992455882\n",
      "Evaluating start ...\n",
      "VAL:\n",
      "\tAVG_LOSS: 3.613611767689387\n",
      "\tMAIN_LOSS: 3.1587842106819153\n",
      "\tKD_LOSS: 0.15160918546219668\n"
     ]
    },
    {
     "name": "stderr",
     "output_type": "stream",
     "text": [
      "LSM-YOLO summary (fused): 391 layers, 2873048 parameters, 18824 gradients, 12.4 GFLOPs\n",
      "\u001b[34m\u001b[1mval: \u001b[0mScanning /kaggle/working/Br35H-Mask-Prepared/val/labels.cache... 151 images, 225 backgrounds, 0 corrupt: 100%|██████████| 376/376 [00:00<?, ?it/s]\n",
      "                 Class     Images  Instances      Box(P          R      mAP50  mAP50-95): 100%|██████████| 12/12 [00:08<00:00,  1.44it/s]\n",
      "                   all        376        181      0.933      0.785      0.883      0.637\n",
      "/usr/local/lib/python3.11/dist-packages/matplotlib/colors.py:721: RuntimeWarning: invalid value encountered in less\n",
      "  xa[xa < 0] = -1\n",
      "/usr/local/lib/python3.11/dist-packages/matplotlib/colors.py:721: RuntimeWarning: invalid value encountered in less\n",
      "  xa[xa < 0] = -1\n",
      "Speed: 1.7ms preprocess, 16.7ms inference, 0.0ms loss, 0.3ms postprocess per image\n",
      "Results saved to \u001b[1mruns/epoch285\u001b[0m\n"
     ]
    },
    {
     "name": "stdout",
     "output_type": "stream",
     "text": [
      "-------------------- EPOCH 285 END --------------------\n",
      "-------------------- EPOCH 286 START --------------------\n",
      "Training start ...\n",
      "TRAIN:\n",
      "\tAVG_LOSS: 1.4656548560420168\n",
      "\tMAIN_LOSS: 1.0398277074475832\n",
      "\tKD_LOSS: 0.14194238346211518\n",
      "Evaluating start ...\n",
      "VAL:\n",
      "\tAVG_LOSS: 3.636939818660418\n",
      "\tMAIN_LOSS: 3.19608827928702\n",
      "\tKD_LOSS: 0.14695051064093909\n"
     ]
    },
    {
     "name": "stderr",
     "output_type": "stream",
     "text": [
      "LSM-YOLO summary (fused): 391 layers, 2873048 parameters, 18824 gradients, 12.4 GFLOPs\n",
      "\u001b[34m\u001b[1mval: \u001b[0mScanning /kaggle/working/Br35H-Mask-Prepared/val/labels.cache... 151 images, 225 backgrounds, 0 corrupt: 100%|██████████| 376/376 [00:00<?, ?it/s]\n",
      "                 Class     Images  Instances      Box(P          R      mAP50  mAP50-95): 100%|██████████| 12/12 [00:08<00:00,  1.41it/s]\n",
      "                   all        376        181      0.907      0.796       0.88      0.646\n",
      "/usr/local/lib/python3.11/dist-packages/matplotlib/colors.py:721: RuntimeWarning: invalid value encountered in less\n",
      "  xa[xa < 0] = -1\n",
      "/usr/local/lib/python3.11/dist-packages/matplotlib/colors.py:721: RuntimeWarning: invalid value encountered in less\n",
      "  xa[xa < 0] = -1\n",
      "Speed: 1.9ms preprocess, 16.8ms inference, 0.0ms loss, 0.4ms postprocess per image\n",
      "Results saved to \u001b[1mruns/epoch286\u001b[0m\n"
     ]
    },
    {
     "name": "stdout",
     "output_type": "stream",
     "text": [
      "-------------------- EPOCH 286 END --------------------\n",
      "-------------------- EPOCH 287 START --------------------\n",
      "Training start ...\n",
      "TRAIN:\n",
      "\tAVG_LOSS: 1.4732240317743035\n",
      "\tMAIN_LOSS: 1.045923646492294\n",
      "\tKD_LOSS: 0.1424334622636626\n",
      "Evaluating start ...\n",
      "VAL:\n",
      "\tAVG_LOSS: 3.792980213960012\n",
      "\tMAIN_LOSS: 3.349347233772278\n",
      "\tKD_LOSS: 0.14787766616791487\n"
     ]
    },
    {
     "name": "stderr",
     "output_type": "stream",
     "text": [
      "LSM-YOLO summary (fused): 391 layers, 2873048 parameters, 18824 gradients, 12.4 GFLOPs\n",
      "\u001b[34m\u001b[1mval: \u001b[0mScanning /kaggle/working/Br35H-Mask-Prepared/val/labels.cache... 151 images, 225 backgrounds, 0 corrupt: 100%|██████████| 376/376 [00:00<?, ?it/s]\n",
      "                 Class     Images  Instances      Box(P          R      mAP50  mAP50-95): 100%|██████████| 12/12 [00:08<00:00,  1.42it/s]\n",
      "                   all        376        181      0.921      0.777      0.866       0.62\n",
      "/usr/local/lib/python3.11/dist-packages/matplotlib/colors.py:721: RuntimeWarning: invalid value encountered in less\n",
      "  xa[xa < 0] = -1\n",
      "/usr/local/lib/python3.11/dist-packages/matplotlib/colors.py:721: RuntimeWarning: invalid value encountered in less\n",
      "  xa[xa < 0] = -1\n",
      "Speed: 2.0ms preprocess, 16.7ms inference, 0.0ms loss, 0.4ms postprocess per image\n",
      "Results saved to \u001b[1mruns/epoch287\u001b[0m\n"
     ]
    },
    {
     "name": "stdout",
     "output_type": "stream",
     "text": [
      "-------------------- EPOCH 287 END --------------------\n",
      "-------------------- EPOCH 288 START --------------------\n",
      "Training start ...\n",
      "TRAIN:\n",
      "\tAVG_LOSS: 1.4770790459234504\n",
      "\tMAIN_LOSS: 1.0513892098318172\n",
      "\tKD_LOSS: 0.1418966139796414\n",
      "Evaluating start ...\n",
      "VAL:\n",
      "\tAVG_LOSS: 3.768866926431656\n",
      "\tMAIN_LOSS: 3.3197517096996307\n",
      "\tKD_LOSS: 0.14970507907370725\n"
     ]
    },
    {
     "name": "stderr",
     "output_type": "stream",
     "text": [
      "LSM-YOLO summary (fused): 391 layers, 2873048 parameters, 18824 gradients, 12.4 GFLOPs\n",
      "\u001b[34m\u001b[1mval: \u001b[0mScanning /kaggle/working/Br35H-Mask-Prepared/val/labels.cache... 151 images, 225 backgrounds, 0 corrupt: 100%|██████████| 376/376 [00:00<?, ?it/s]\n",
      "                 Class     Images  Instances      Box(P          R      mAP50  mAP50-95): 100%|██████████| 12/12 [00:08<00:00,  1.43it/s]\n",
      "                   all        376        181      0.919      0.785      0.877      0.644\n",
      "/usr/local/lib/python3.11/dist-packages/matplotlib/colors.py:721: RuntimeWarning: invalid value encountered in less\n",
      "  xa[xa < 0] = -1\n",
      "/usr/local/lib/python3.11/dist-packages/matplotlib/colors.py:721: RuntimeWarning: invalid value encountered in less\n",
      "  xa[xa < 0] = -1\n",
      "Speed: 1.9ms preprocess, 16.7ms inference, 0.0ms loss, 0.3ms postprocess per image\n",
      "Results saved to \u001b[1mruns/epoch288\u001b[0m\n"
     ]
    },
    {
     "name": "stdout",
     "output_type": "stream",
     "text": [
      "-------------------- EPOCH 288 END --------------------\n",
      "-------------------- EPOCH 289 START --------------------\n",
      "Training start ...\n",
      "TRAIN:\n",
      "\tAVG_LOSS: 1.5207152136518984\n",
      "\tMAIN_LOSS: 1.0793935203854041\n",
      "\tKD_LOSS: 0.14710723165469833\n",
      "Evaluating start ...\n",
      "VAL:\n",
      "\tAVG_LOSS: 3.901511321465174\n",
      "\tMAIN_LOSS: 3.4489542742570243\n",
      "\tKD_LOSS: 0.15085235983133316\n"
     ]
    },
    {
     "name": "stderr",
     "output_type": "stream",
     "text": [
      "LSM-YOLO summary (fused): 391 layers, 2873048 parameters, 18824 gradients, 12.4 GFLOPs\n",
      "\u001b[34m\u001b[1mval: \u001b[0mScanning /kaggle/working/Br35H-Mask-Prepared/val/labels.cache... 151 images, 225 backgrounds, 0 corrupt: 100%|██████████| 376/376 [00:00<?, ?it/s]\n",
      "                 Class     Images  Instances      Box(P          R      mAP50  mAP50-95): 100%|██████████| 12/12 [00:08<00:00,  1.43it/s]\n",
      "                   all        376        181      0.925      0.768      0.859      0.622\n",
      "/usr/local/lib/python3.11/dist-packages/matplotlib/colors.py:721: RuntimeWarning: invalid value encountered in less\n",
      "  xa[xa < 0] = -1\n",
      "/usr/local/lib/python3.11/dist-packages/matplotlib/colors.py:721: RuntimeWarning: invalid value encountered in less\n",
      "  xa[xa < 0] = -1\n",
      "Speed: 2.0ms preprocess, 16.7ms inference, 0.0ms loss, 0.3ms postprocess per image\n",
      "Results saved to \u001b[1mruns/epoch289\u001b[0m\n"
     ]
    },
    {
     "name": "stdout",
     "output_type": "stream",
     "text": [
      "-------------------- EPOCH 289 END --------------------\n",
      "-------------------- EPOCH 290 START --------------------\n",
      "Training start ...\n",
      "TRAIN:\n",
      "\tAVG_LOSS: 1.4999957522259484\n",
      "\tMAIN_LOSS: 1.0741756218898146\n",
      "\tKD_LOSS: 0.14194004218789597\n",
      "Evaluating start ...\n",
      "VAL:\n",
      "\tAVG_LOSS: 3.7548200289408364\n",
      "\tMAIN_LOSS: 3.3025207221508026\n",
      "\tKD_LOSS: 0.1507664422194163\n"
     ]
    },
    {
     "name": "stderr",
     "output_type": "stream",
     "text": [
      "LSM-YOLO summary (fused): 391 layers, 2873048 parameters, 18824 gradients, 12.4 GFLOPs\n",
      "\u001b[34m\u001b[1mval: \u001b[0mScanning /kaggle/working/Br35H-Mask-Prepared/val/labels.cache... 151 images, 225 backgrounds, 0 corrupt: 100%|██████████| 376/376 [00:00<?, ?it/s]\n",
      "                 Class     Images  Instances      Box(P          R      mAP50  mAP50-95): 100%|██████████| 12/12 [00:08<00:00,  1.44it/s]\n",
      "                   all        376        181       0.91       0.79      0.872      0.639\n",
      "/usr/local/lib/python3.11/dist-packages/matplotlib/colors.py:721: RuntimeWarning: invalid value encountered in less\n",
      "  xa[xa < 0] = -1\n",
      "/usr/local/lib/python3.11/dist-packages/matplotlib/colors.py:721: RuntimeWarning: invalid value encountered in less\n",
      "  xa[xa < 0] = -1\n",
      "Speed: 2.0ms preprocess, 16.7ms inference, 0.0ms loss, 0.3ms postprocess per image\n",
      "Results saved to \u001b[1mruns/epoch290\u001b[0m\n"
     ]
    },
    {
     "name": "stdout",
     "output_type": "stream",
     "text": [
      "-------------------- EPOCH 290 END --------------------\n",
      "-------------------- EPOCH 291 START --------------------\n",
      "Training start ...\n",
      "TRAIN:\n",
      "\tAVG_LOSS: 1.497091756591314\n",
      "\tMAIN_LOSS: 1.0664398934267745\n",
      "\tKD_LOSS: 0.14355062268957308\n",
      "Evaluating start ...\n",
      "VAL:\n",
      "\tAVG_LOSS: 3.9870156248410544\n",
      "\tMAIN_LOSS: 3.5335916777451835\n",
      "\tKD_LOSS: 0.15114132252832255\n"
     ]
    },
    {
     "name": "stderr",
     "output_type": "stream",
     "text": [
      "LSM-YOLO summary (fused): 391 layers, 2873048 parameters, 18824 gradients, 12.4 GFLOPs\n",
      "\u001b[34m\u001b[1mval: \u001b[0mScanning /kaggle/working/Br35H-Mask-Prepared/val/labels.cache... 151 images, 225 backgrounds, 0 corrupt: 100%|██████████| 376/376 [00:00<?, ?it/s]\n",
      "                 Class     Images  Instances      Box(P          R      mAP50  mAP50-95): 100%|██████████| 12/12 [00:08<00:00,  1.42it/s]\n",
      "                   all        376        181      0.908       0.76      0.861      0.622\n",
      "/usr/local/lib/python3.11/dist-packages/matplotlib/colors.py:721: RuntimeWarning: invalid value encountered in less\n",
      "  xa[xa < 0] = -1\n",
      "/usr/local/lib/python3.11/dist-packages/matplotlib/colors.py:721: RuntimeWarning: invalid value encountered in less\n",
      "  xa[xa < 0] = -1\n",
      "Speed: 2.0ms preprocess, 16.7ms inference, 0.0ms loss, 0.3ms postprocess per image\n",
      "Results saved to \u001b[1mruns/epoch291\u001b[0m\n"
     ]
    },
    {
     "name": "stdout",
     "output_type": "stream",
     "text": [
      "-------------------- EPOCH 291 END --------------------\n",
      "-------------------- EPOCH 292 START --------------------\n",
      "Training start ...\n",
      "TRAIN:\n",
      "\tAVG_LOSS: 1.504655681078947\n",
      "\tMAIN_LOSS: 1.0747404973718184\n",
      "\tKD_LOSS: 0.14330506258750264\n",
      "Evaluating start ...\n",
      "VAL:\n",
      "\tAVG_LOSS: 3.7539231181144714\n",
      "\tMAIN_LOSS: 3.2913878013690314\n",
      "\tKD_LOSS: 0.1541784442961216\n"
     ]
    },
    {
     "name": "stderr",
     "output_type": "stream",
     "text": [
      "LSM-YOLO summary (fused): 391 layers, 2873048 parameters, 18824 gradients, 12.4 GFLOPs\n",
      "\u001b[34m\u001b[1mval: \u001b[0mScanning /kaggle/working/Br35H-Mask-Prepared/val/labels.cache... 151 images, 225 backgrounds, 0 corrupt: 100%|██████████| 376/376 [00:00<?, ?it/s]\n",
      "                 Class     Images  Instances      Box(P          R      mAP50  mAP50-95): 100%|██████████| 12/12 [00:08<00:00,  1.41it/s]\n",
      "                   all        376        181       0.89      0.805      0.882      0.633\n",
      "/usr/local/lib/python3.11/dist-packages/matplotlib/colors.py:721: RuntimeWarning: invalid value encountered in less\n",
      "  xa[xa < 0] = -1\n",
      "/usr/local/lib/python3.11/dist-packages/matplotlib/colors.py:721: RuntimeWarning: invalid value encountered in less\n",
      "  xa[xa < 0] = -1\n",
      "Speed: 2.0ms preprocess, 16.7ms inference, 0.0ms loss, 0.3ms postprocess per image\n",
      "Results saved to \u001b[1mruns/epoch292\u001b[0m\n"
     ]
    },
    {
     "name": "stdout",
     "output_type": "stream",
     "text": [
      "-------------------- EPOCH 292 END --------------------\n",
      "-------------------- EPOCH 293 START --------------------\n",
      "Training start ...\n",
      "TRAIN:\n",
      "\tAVG_LOSS: 1.4818580905093421\n",
      "\tMAIN_LOSS: 1.0537928999224795\n",
      "\tKD_LOSS: 0.14268839661079116\n",
      "Evaluating start ...\n",
      "VAL:\n",
      "\tAVG_LOSS: 3.826053579648336\n",
      "\tMAIN_LOSS: 3.3801674842834473\n",
      "\tKD_LOSS: 0.14862869990368685\n"
     ]
    },
    {
     "name": "stderr",
     "output_type": "stream",
     "text": [
      "LSM-YOLO summary (fused): 391 layers, 2873048 parameters, 18824 gradients, 12.4 GFLOPs\n",
      "\u001b[34m\u001b[1mval: \u001b[0mScanning /kaggle/working/Br35H-Mask-Prepared/val/labels.cache... 151 images, 225 backgrounds, 0 corrupt: 100%|██████████| 376/376 [00:00<?, ?it/s]\n",
      "                 Class     Images  Instances      Box(P          R      mAP50  mAP50-95): 100%|██████████| 12/12 [00:08<00:00,  1.43it/s]\n",
      "                   all        376        181      0.925       0.75      0.869      0.618\n",
      "/usr/local/lib/python3.11/dist-packages/matplotlib/colors.py:721: RuntimeWarning: invalid value encountered in less\n",
      "  xa[xa < 0] = -1\n",
      "/usr/local/lib/python3.11/dist-packages/matplotlib/colors.py:721: RuntimeWarning: invalid value encountered in less\n",
      "  xa[xa < 0] = -1\n",
      "Speed: 2.0ms preprocess, 16.7ms inference, 0.0ms loss, 0.3ms postprocess per image\n",
      "Results saved to \u001b[1mruns/epoch293\u001b[0m\n"
     ]
    },
    {
     "name": "stdout",
     "output_type": "stream",
     "text": [
      "-------------------- EPOCH 293 END --------------------\n",
      "-------------------- EPOCH 294 START --------------------\n",
      "Training start ...\n",
      "TRAIN:\n",
      "\tAVG_LOSS: 1.4494357923918133\n",
      "\tMAIN_LOSS: 1.0286269037029412\n",
      "\tKD_LOSS: 0.14026963088331343\n",
      "Evaluating start ...\n",
      "VAL:\n",
      "\tAVG_LOSS: 3.69646746913592\n",
      "\tMAIN_LOSS: 3.2491345504919686\n",
      "\tKD_LOSS: 0.1491109784692526\n"
     ]
    },
    {
     "name": "stderr",
     "output_type": "stream",
     "text": [
      "LSM-YOLO summary (fused): 391 layers, 2873048 parameters, 18824 gradients, 12.4 GFLOPs\n",
      "\u001b[34m\u001b[1mval: \u001b[0mScanning /kaggle/working/Br35H-Mask-Prepared/val/labels.cache... 151 images, 225 backgrounds, 0 corrupt: 100%|██████████| 376/376 [00:00<?, ?it/s]\n",
      "                 Class     Images  Instances      Box(P          R      mAP50  mAP50-95): 100%|██████████| 12/12 [00:08<00:00,  1.42it/s]\n",
      "                   all        376        181      0.939      0.762       0.87      0.629\n",
      "/usr/local/lib/python3.11/dist-packages/matplotlib/colors.py:721: RuntimeWarning: invalid value encountered in less\n",
      "  xa[xa < 0] = -1\n",
      "/usr/local/lib/python3.11/dist-packages/matplotlib/colors.py:721: RuntimeWarning: invalid value encountered in less\n",
      "  xa[xa < 0] = -1\n",
      "Speed: 2.0ms preprocess, 16.7ms inference, 0.0ms loss, 0.3ms postprocess per image\n",
      "Results saved to \u001b[1mruns/epoch294\u001b[0m\n"
     ]
    },
    {
     "name": "stdout",
     "output_type": "stream",
     "text": [
      "-------------------- EPOCH 294 END --------------------\n",
      "-------------------- EPOCH 295 START --------------------\n",
      "Training start ...\n",
      "TRAIN:\n",
      "\tAVG_LOSS: 1.4432745613629305\n",
      "\tMAIN_LOSS: 1.0241528787190401\n",
      "\tKD_LOSS: 0.13970722861682314\n",
      "Evaluating start ...\n",
      "VAL:\n",
      "\tAVG_LOSS: 3.9086653689543405\n",
      "\tMAIN_LOSS: 3.4509530266126\n",
      "\tKD_LOSS: 0.15257078843812147\n"
     ]
    },
    {
     "name": "stderr",
     "output_type": "stream",
     "text": [
      "LSM-YOLO summary (fused): 391 layers, 2873048 parameters, 18824 gradients, 12.4 GFLOPs\n",
      "\u001b[34m\u001b[1mval: \u001b[0mScanning /kaggle/working/Br35H-Mask-Prepared/val/labels.cache... 151 images, 225 backgrounds, 0 corrupt: 100%|██████████| 376/376 [00:00<?, ?it/s]\n",
      "                 Class     Images  Instances      Box(P          R      mAP50  mAP50-95): 100%|██████████| 12/12 [00:08<00:00,  1.43it/s]\n",
      "                   all        376        181      0.855      0.762      0.858      0.621\n",
      "/usr/local/lib/python3.11/dist-packages/matplotlib/colors.py:721: RuntimeWarning: invalid value encountered in less\n",
      "  xa[xa < 0] = -1\n",
      "/usr/local/lib/python3.11/dist-packages/matplotlib/colors.py:721: RuntimeWarning: invalid value encountered in less\n",
      "  xa[xa < 0] = -1\n",
      "Speed: 1.9ms preprocess, 16.7ms inference, 0.0ms loss, 0.3ms postprocess per image\n",
      "Results saved to \u001b[1mruns/epoch295\u001b[0m\n"
     ]
    },
    {
     "name": "stdout",
     "output_type": "stream",
     "text": [
      "-------------------- EPOCH 295 END --------------------\n",
      "-------------------- EPOCH 296 START --------------------\n",
      "Training start ...\n",
      "TRAIN:\n",
      "\tAVG_LOSS: 1.4282339087015465\n",
      "\tMAIN_LOSS: 1.0107628235334083\n",
      "\tKD_LOSS: 0.13915702615734898\n",
      "Evaluating start ...\n",
      "VAL:\n",
      "\tAVG_LOSS: 3.818507840236028\n",
      "\tMAIN_LOSS: 3.381835415959358\n",
      "\tKD_LOSS: 0.14555746813615164\n"
     ]
    },
    {
     "name": "stderr",
     "output_type": "stream",
     "text": [
      "LSM-YOLO summary (fused): 391 layers, 2873048 parameters, 18824 gradients, 12.4 GFLOPs\n",
      "\u001b[34m\u001b[1mval: \u001b[0mScanning /kaggle/working/Br35H-Mask-Prepared/val/labels.cache... 151 images, 225 backgrounds, 0 corrupt: 100%|██████████| 376/376 [00:00<?, ?it/s]\n",
      "                 Class     Images  Instances      Box(P          R      mAP50  mAP50-95): 100%|██████████| 12/12 [00:08<00:00,  1.43it/s]\n",
      "                   all        376        181      0.897      0.779      0.871      0.628\n",
      "/usr/local/lib/python3.11/dist-packages/matplotlib/colors.py:721: RuntimeWarning: invalid value encountered in less\n",
      "  xa[xa < 0] = -1\n",
      "/usr/local/lib/python3.11/dist-packages/matplotlib/colors.py:721: RuntimeWarning: invalid value encountered in less\n",
      "  xa[xa < 0] = -1\n",
      "Speed: 1.9ms preprocess, 16.8ms inference, 0.0ms loss, 0.3ms postprocess per image\n",
      "Results saved to \u001b[1mruns/epoch296\u001b[0m\n"
     ]
    },
    {
     "name": "stdout",
     "output_type": "stream",
     "text": [
      "-------------------- EPOCH 296 END --------------------\n",
      "-------------------- EPOCH 297 START --------------------\n",
      "Training start ...\n",
      "TRAIN:\n",
      "\tAVG_LOSS: 1.4504607553723492\n",
      "\tMAIN_LOSS: 1.034075205839133\n",
      "\tKD_LOSS: 0.138795183334924\n",
      "Evaluating start ...\n",
      "VAL:\n",
      "\tAVG_LOSS: 3.6125350358585515\n",
      "\tMAIN_LOSS: 3.173343539237976\n",
      "\tKD_LOSS: 0.14639715912441412\n"
     ]
    },
    {
     "name": "stderr",
     "output_type": "stream",
     "text": [
      "LSM-YOLO summary (fused): 391 layers, 2873048 parameters, 18824 gradients, 12.4 GFLOPs\n",
      "\u001b[34m\u001b[1mval: \u001b[0mScanning /kaggle/working/Br35H-Mask-Prepared/val/labels.cache... 151 images, 225 backgrounds, 0 corrupt: 100%|██████████| 376/376 [00:00<?, ?it/s]\n",
      "                 Class     Images  Instances      Box(P          R      mAP50  mAP50-95): 100%|██████████| 12/12 [00:08<00:00,  1.45it/s]\n",
      "                   all        376        181      0.928      0.781      0.881      0.638\n",
      "/usr/local/lib/python3.11/dist-packages/matplotlib/colors.py:721: RuntimeWarning: invalid value encountered in less\n",
      "  xa[xa < 0] = -1\n",
      "/usr/local/lib/python3.11/dist-packages/matplotlib/colors.py:721: RuntimeWarning: invalid value encountered in less\n",
      "  xa[xa < 0] = -1\n",
      "Speed: 1.8ms preprocess, 16.7ms inference, 0.0ms loss, 0.3ms postprocess per image\n",
      "Results saved to \u001b[1mruns/epoch297\u001b[0m\n"
     ]
    },
    {
     "name": "stdout",
     "output_type": "stream",
     "text": [
      "-------------------- EPOCH 297 END --------------------\n",
      "-------------------- EPOCH 298 START --------------------\n",
      "Training start ...\n",
      "TRAIN:\n",
      "\tAVG_LOSS: 1.4428820776034006\n",
      "\tMAIN_LOSS: 1.027026718930353\n",
      "\tKD_LOSS: 0.1386184548086758\n",
      "Evaluating start ...\n",
      "VAL:\n",
      "\tAVG_LOSS: 3.8123622834682465\n",
      "\tMAIN_LOSS: 3.3810814718405404\n",
      "\tKD_LOSS: 0.14376026888688406\n"
     ]
    },
    {
     "name": "stderr",
     "output_type": "stream",
     "text": [
      "LSM-YOLO summary (fused): 391 layers, 2873048 parameters, 18824 gradients, 12.4 GFLOPs\n",
      "\u001b[34m\u001b[1mval: \u001b[0mScanning /kaggle/working/Br35H-Mask-Prepared/val/labels.cache... 151 images, 225 backgrounds, 0 corrupt: 100%|██████████| 376/376 [00:00<?, ?it/s]\n",
      "                 Class     Images  Instances      Box(P          R      mAP50  mAP50-95): 100%|██████████| 12/12 [00:08<00:00,  1.44it/s]\n",
      "                   all        376        181      0.891       0.79      0.875      0.627\n",
      "/usr/local/lib/python3.11/dist-packages/matplotlib/colors.py:721: RuntimeWarning: invalid value encountered in less\n",
      "  xa[xa < 0] = -1\n",
      "/usr/local/lib/python3.11/dist-packages/matplotlib/colors.py:721: RuntimeWarning: invalid value encountered in less\n",
      "  xa[xa < 0] = -1\n",
      "Speed: 1.9ms preprocess, 16.7ms inference, 0.0ms loss, 0.4ms postprocess per image\n",
      "Results saved to \u001b[1mruns/epoch298\u001b[0m\n"
     ]
    },
    {
     "name": "stdout",
     "output_type": "stream",
     "text": [
      "-------------------- EPOCH 298 END --------------------\n",
      "-------------------- EPOCH 299 START --------------------\n",
      "Training start ...\n",
      "TRAIN:\n",
      "\tAVG_LOSS: 1.427992750572253\n",
      "\tMAIN_LOSS: 1.0150103425677819\n",
      "\tKD_LOSS: 0.1376608029196534\n",
      "Evaluating start ...\n",
      "VAL:\n",
      "\tAVG_LOSS: 3.800172130266825\n",
      "\tMAIN_LOSS: 3.366276423136393\n",
      "\tKD_LOSS: 0.14463188871741295\n"
     ]
    },
    {
     "name": "stderr",
     "output_type": "stream",
     "text": [
      "LSM-YOLO summary (fused): 391 layers, 2873048 parameters, 18824 gradients, 12.4 GFLOPs\n",
      "\u001b[34m\u001b[1mval: \u001b[0mScanning /kaggle/working/Br35H-Mask-Prepared/val/labels.cache... 151 images, 225 backgrounds, 0 corrupt: 100%|██████████| 376/376 [00:00<?, ?it/s]\n",
      "                 Class     Images  Instances      Box(P          R      mAP50  mAP50-95): 100%|██████████| 12/12 [00:08<00:00,  1.42it/s]\n",
      "                   all        376        181      0.913      0.779      0.872      0.639\n",
      "/usr/local/lib/python3.11/dist-packages/matplotlib/colors.py:721: RuntimeWarning: invalid value encountered in less\n",
      "  xa[xa < 0] = -1\n",
      "/usr/local/lib/python3.11/dist-packages/matplotlib/colors.py:721: RuntimeWarning: invalid value encountered in less\n",
      "  xa[xa < 0] = -1\n",
      "Speed: 2.1ms preprocess, 16.7ms inference, 0.0ms loss, 0.3ms postprocess per image\n",
      "Results saved to \u001b[1mruns/epoch299\u001b[0m\n"
     ]
    },
    {
     "name": "stdout",
     "output_type": "stream",
     "text": [
      "-------------------- EPOCH 299 END --------------------\n",
      "-------------------- EPOCH 300 START --------------------\n",
      "Training start ...\n",
      "TRAIN:\n",
      "\tAVG_LOSS: 1.430712735351128\n",
      "\tMAIN_LOSS: 1.0177372173417973\n",
      "\tKD_LOSS: 0.13765850493425055\n",
      "Evaluating start ...\n",
      "VAL:\n",
      "\tAVG_LOSS: 3.8738101720809937\n",
      "\tMAIN_LOSS: 3.439344217379888\n",
      "\tKD_LOSS: 0.14482197165489197\n"
     ]
    },
    {
     "name": "stderr",
     "output_type": "stream",
     "text": [
      "LSM-YOLO summary (fused): 391 layers, 2873048 parameters, 18824 gradients, 12.4 GFLOPs\n",
      "\u001b[34m\u001b[1mval: \u001b[0mScanning /kaggle/working/Br35H-Mask-Prepared/val/labels.cache... 151 images, 225 backgrounds, 0 corrupt: 100%|██████████| 376/376 [00:00<?, ?it/s]\n",
      "                 Class     Images  Instances      Box(P          R      mAP50  mAP50-95): 100%|██████████| 12/12 [00:08<00:00,  1.43it/s]\n",
      "                   all        376        181      0.931      0.762      0.876      0.633\n",
      "/usr/local/lib/python3.11/dist-packages/matplotlib/colors.py:721: RuntimeWarning: invalid value encountered in less\n",
      "  xa[xa < 0] = -1\n",
      "/usr/local/lib/python3.11/dist-packages/matplotlib/colors.py:721: RuntimeWarning: invalid value encountered in less\n",
      "  xa[xa < 0] = -1\n",
      "Speed: 2.0ms preprocess, 16.7ms inference, 0.0ms loss, 0.4ms postprocess per image\n",
      "Results saved to \u001b[1mruns/epoch300\u001b[0m\n"
     ]
    },
    {
     "name": "stdout",
     "output_type": "stream",
     "text": [
      "-------------------- EPOCH 300 END --------------------\n",
      "Training finished.\n"
     ]
    }
   ],
   "source": [
    "# 6. Training loop\n",
    "num_epochs = 300\n",
    "lambda_kd = 3 # distillation loss weight\n",
    "\n",
    "best_map = 0\n",
    "maps = []\n",
    "train_avg_losses = []\n",
    "train_main_losses = []\n",
    "train_kd_losses = []\n",
    "val_avg_losses = []\n",
    "val_main_losses = []\n",
    "val_kd_losses = []\n",
    "\n",
    "print(f'***** START TRAINING WITH {num_epochs} EPOCHS, KD {model_name}, LAMBDA_KD {lambda_kd}')\n",
    "for epoch in range(num_epochs):\n",
    "    print('-' * 20 + f' EPOCH {epoch+1} START ' + '-' * 20)\n",
    "    # TRAIN\n",
    "    print('Training start ...')\n",
    "    train_avg_loss, train_main_loss, train_kd_loss = train_one_epoch(\n",
    "        kd_model, student_loss_fn, optimizer, train_dataloader, device, lambda_kd, epoch, num_epochs\n",
    "    )\n",
    "    print(f'TRAIN:\\n\\tAVG_LOSS: {train_avg_loss}\\n\\tMAIN_LOSS: {train_main_loss}\\n\\tKD_LOSS: {train_kd_loss}')\n",
    "    train_avg_losses.append(train_avg_loss)\n",
    "    train_main_losses.append(train_main_loss)\n",
    "    train_kd_losses.append(train_kd_loss)\n",
    "\n",
    "    # EVALUATE\n",
    "    print('Evaluating start ...')\n",
    "    val_avg_loss, val_main_loss, val_kd_loss = evaluate(\n",
    "        kd_model, val_dataloader, student_loss_fn, device, lambda_kd, epoch, num_epochs\n",
    "    )\n",
    "    print(f'VAL:\\n\\tAVG_LOSS: {val_avg_loss}\\n\\tMAIN_LOSS: {val_main_loss}\\n\\tKD_LOSS: {val_kd_loss}')\n",
    "    val_avg_losses.append(val_avg_loss)\n",
    "    val_main_losses.append(val_main_loss)\n",
    "    val_kd_losses.append(val_kd_loss)\n",
    "\n",
    "    with torch.no_grad():\n",
    "        metrics = kd_model.val('/kaggle/working/Br35H-Mask-Prepared/data.yaml', split='val', project='runs', name='epoch', save=False)\n",
    "\n",
    "    maps.append(metrics.box.map)\n",
    "\n",
    "    if best_map <= metrics.box.map:\n",
    "        best_map = metrics.box.map\n",
    "        torch.save(kd_model.student.model.state_dict(), 'lsm_best.pt')\n",
    "        print(f\"Epoch {epoch+1}: New best mAP: {best_map:.4f}, model saved.\")\n",
    "    print('-' * 20 + f' EPOCH {epoch+1} END ' + '-' * 20)\n",
    "    \n",
    "torch.save(kd_model.student.model.state_dict(), 'lsm_last.pt')\n",
    "    \n",
    "print(\"Training finished.\")"
   ]
  },
  {
   "cell_type": "code",
   "execution_count": 10,
   "id": "199f47e1",
   "metadata": {
    "execution": {
     "iopub.execute_input": "2025-05-18T10:47:59.342469Z",
     "iopub.status.busy": "2025-05-18T10:47:59.341109Z",
     "iopub.status.idle": "2025-05-18T10:48:00.809224Z",
     "shell.execute_reply": "2025-05-18T10:48:00.808514Z"
    },
    "papermill": {
     "duration": 1.879264,
     "end_time": "2025-05-18T10:48:00.810602",
     "exception": false,
     "start_time": "2025-05-18T10:47:58.931338",
     "status": "completed"
    },
    "tags": []
   },
   "outputs": [
    {
     "data": {
      "image/png": "[encoded data removed]",
      "text/plain": [
       "<Figure size 1600x1200 with 4 Axes>"
      ]
     },
     "metadata": {},
     "output_type": "display_data"
    },
    {
     "name": "stdout",
     "output_type": "stream",
     "text": [
      "Plots saved as /kaggle/working/training_validation_metrics_log_scale.png\n"
     ]
    },
    {
     "data": {
      "text/plain": [
       "<Figure size 640x480 with 0 Axes>"
      ]
     },
     "metadata": {},
     "output_type": "display_data"
    }
   ],
   "source": [
    "import matplotlib.pyplot as plt\n",
    "\n",
    "# Tạo một range cho trục x (số epochs)\n",
    "epochs_plot = range(1, num_epochs + 1)\n",
    "\n",
    "# Tạo figure và các subplots\n",
    "fig, axs = plt.subplots(2, 2, figsize=(16, 12)) # Tăng kích thước một chút\n",
    "fig.suptitle('Training and Validation Metrics', fontsize=16)\n",
    "\n",
    "# 1. Plot Average Losses\n",
    "axs[0, 0].plot(epochs_plot, train_avg_losses, 'bo-', label='Train Avg Loss')\n",
    "axs[0, 0].plot(epochs_plot, val_avg_losses, 'ro-', label='Val Avg Loss')\n",
    "axs[0, 0].set_title('Average Losses')\n",
    "axs[0, 0].set_xlabel('Epoch')\n",
    "axs[0, 0].set_ylabel('Loss (log scale)')\n",
    "axs[0, 0].set_yscale('log') # <<< ÁP DỤNG THANG ĐO LOGARIT\n",
    "axs[0, 0].legend()\n",
    "axs[0, 0].grid(True, which=\"both\", ls=\"-\") # Grid cho cả major và minor ticks\n",
    "\n",
    "# 2. Plot Main Losses\n",
    "axs[0, 1].plot(epochs_plot, train_main_losses, 'bs-', label='Train Main Loss')\n",
    "axs[0, 1].plot(epochs_plot, val_main_losses, 'rs-', label='Val Main Loss')\n",
    "axs[0, 1].set_title('Main Losses (Student Task Loss)')\n",
    "axs[0, 1].set_xlabel('Epoch')\n",
    "axs[0, 1].set_ylabel('Loss (log scale)')\n",
    "axs[0, 1].set_yscale('log') # <<< ÁP DỤNG THANG ĐO LOGARIT\n",
    "axs[0, 1].legend()\n",
    "axs[0, 1].grid(True, which=\"both\", ls=\"-\")\n",
    "\n",
    "# 3. Plot KD Losses\n",
    "axs[1, 0].plot(epochs_plot, train_kd_losses, 'bv-', label='Train KD Loss')\n",
    "axs[1, 0].plot(epochs_plot, val_kd_losses, 'rv-', label='Val KD Loss')\n",
    "axs[1, 0].set_title('Knowledge Distillation Losses')\n",
    "axs[1, 0].set_xlabel('Epoch')\n",
    "axs[1, 0].set_ylabel('Loss (log scale)')\n",
    "axs[1, 0].set_yscale('log') # <<< ÁP DỤNG THANG ĐO LOGARIT\n",
    "axs[1, 0].legend()\n",
    "axs[1, 0].grid(True, which=\"both\", ls=\"-\")\n",
    "\n",
    "# 4. Plot mAP\n",
    "axs[1, 1].plot(epochs_plot, maps, 'go-', label='Validation mAP')\n",
    "axs[1, 1].set_title('Validation mAP')\n",
    "axs[1, 1].set_xlabel('Epoch')\n",
    "axs[1, 1].set_ylabel('mAP')\n",
    "# Đánh dấu epoch có mAP tốt nhất\n",
    "if maps:\n",
    "    best_map_value_plot = max(maps)\n",
    "    # Kiểm tra xem có giá trị nào không phải là số không (ví dụ như từ epoch đầu nếu mAP chưa tính)\n",
    "    valid_maps = [m for m in maps if isinstance(m, (int, float))]\n",
    "    if valid_maps:\n",
    "        best_map_value_plot = max(valid_maps)\n",
    "        try:\n",
    "            # Tìm index của best_map_value_plot trong list maps gốc\n",
    "            best_epoch_idx = maps.index(best_map_value_plot)\n",
    "            axs[1, 1].plot(epochs_plot[best_epoch_idx], best_map_value_plot, 'y*', markersize=15, label=f'Best mAP: {best_map_value_plot:.4f}')\n",
    "        except ValueError:\n",
    "            print(\"Warning: Best mAP value not found in the original 'maps' list for plotting marker.\")\n",
    "\n",
    "axs[1, 1].legend()\n",
    "axs[1, 1].grid(True)\n",
    "\n",
    "# Điều chỉnh layout để không bị chồng chéo\n",
    "plt.tight_layout(rect=[0, 0, 1, 0.96]) # rect để chừa chỗ cho suptitle\n",
    "\n",
    "# Hiển thị plot\n",
    "plt.show()\n",
    "\n",
    "# Lưu biểu đồ (tùy chọn)\n",
    "try:\n",
    "    save_path = os.path.join(working_dir, 'training_validation_metrics_log_scale.png')\n",
    "    plt.savefig(save_path)\n",
    "    print(f\"Plots saved as {save_path}\")\n",
    "except Exception as e:\n",
    "    print(f\"Error saving plot: {e}\")"
   ]
  },
  {
   "cell_type": "code",
   "execution_count": 11,
   "id": "c53162a3",
   "metadata": {
    "execution": {
     "iopub.execute_input": "2025-05-18T10:48:01.720526Z",
     "iopub.status.busy": "2025-05-18T10:48:01.720252Z",
     "iopub.status.idle": "2025-05-18T10:48:28.147989Z",
     "shell.execute_reply": "2025-05-18T10:48:28.146828Z"
    },
    "papermill": {
     "duration": 26.833108,
     "end_time": "2025-05-18T10:48:28.149404",
     "exception": false,
     "start_time": "2025-05-18T10:48:01.316296",
     "status": "completed"
    },
    "tags": []
   },
   "outputs": [
    {
     "name": "stderr",
     "output_type": "stream",
     "text": [
      "WARNING ⚠️ no model scale passed. Assuming scale='n'.\n",
      "\n",
      "                   from  n    params  module                                       arguments                     \n",
      "  0                  -1  1       788  lsmyolo.nn.modules.RFAConv.RFAConv           [3, 16, 3, 2]                 \n",
      "  1                  -1  1      6400  lsmyolo.nn.modules.RFAConv.RFAConv           [16, 32, 3, 2]                \n",
      "  2                  -1  1      8736  lsmyolo.nn.modules.block.MSFM                [32, 32, 1, True]             \n",
      "  3                  -1  1     19776  lsmyolo.nn.modules.block.LAE                 [32]                          \n",
      "  4                  -1  2     58240  lsmyolo.nn.modules.block.MSFM                [32, 64, 2, True]             \n",
      "  5                  -1  1     41600  lsmyolo.nn.modules.block.LAE                 [64]                          \n",
      "  6                  -1  2    231168  lsmyolo.nn.modules.block.MSFM                [64, 128, 2, True]            \n",
      "  7                  -1  1     91392  lsmyolo.nn.modules.block.LAE                 [128]                         \n",
      "  8                  -1  1    510208  lsmyolo.nn.modules.block.MSFM                [128, 256, 1, True]           \n",
      "  9                  -1  1    164608  lsmyolo.nn.modules.block.SPPF                [256, 256, 5]                 \n",
      " 10                  -1  1         0  torch.nn.modules.upsampling.Upsample         [None, 2, 'nearest']          \n",
      " 11             [-1, 6]  1         0  lsmyolo.nn.modules.conv.Concat               [1]                           \n",
      " 12                  -1  1    169088  lsmyolo.nn.modules.block.MSFM                [384, 128, 1]                 \n",
      " 13                  -1  1         0  torch.nn.modules.upsampling.Upsample         [None, 2, 'nearest']          \n",
      " 14             [-1, 4]  1         0  lsmyolo.nn.modules.conv.Concat               [1]                           \n",
      " 15                  -1  1     42560  lsmyolo.nn.modules.block.MSFM                [192, 64, 1]                  \n",
      " 16                  -1  1         0  torch.nn.modules.upsampling.Upsample         [None, 2, 'nearest']          \n",
      " 17             [-1, 2]  1         0  lsmyolo.nn.modules.conv.Concat               [1]                           \n",
      " 18                  -1  1     10784  lsmyolo.nn.modules.block.MSFM                [96, 32, 1]                   \n",
      " 19                  -1  1     19776  lsmyolo.nn.modules.block.LAE                 [32]                          \n",
      " 20            [-1, 15]  1         0  lsmyolo.nn.modules.conv.Concat               [1]                           \n",
      " 21                  -1  1     36416  lsmyolo.nn.modules.block.MSFM                [96, 64, 1]                   \n",
      " 22                  -1  1     41600  lsmyolo.nn.modules.block.LAE                 [64]                          \n",
      " 23            [-1, 12]  1         0  lsmyolo.nn.modules.conv.Concat               [1]                           \n",
      " 24                  -1  1    144512  lsmyolo.nn.modules.block.MSFM                [192, 128, 1]                 \n",
      " 25                  -1  1     91392  lsmyolo.nn.modules.block.LAE                 [128]                         \n",
      " 26             [-1, 9]  1         0  lsmyolo.nn.modules.conv.Concat               [1]                           \n",
      " 27                  -1  1    575744  lsmyolo.nn.modules.block.MSFM                [384, 256, 1]                 \n",
      " 28    [18, 21, 24, 27]  1    617364  lsmyolo.nn.modules.head.Detect               [1, [32, 64, 128, 256]]       \n",
      "LSM-YOLO summary: 503 layers, 2882152 parameters, 2882136 gradients, 12.6 GFLOPs\n",
      "\n",
      "Ultralytics YOLOv8.0.202 🚀 Python-3.11.11 torch-2.6.0+cu124 CUDA:0 (Tesla T4, 15095MiB)\n",
      "LSM-YOLO summary (fused): 391 layers, 2873048 parameters, 18824 gradients, 12.4 GFLOPs\n",
      "\u001b[34m\u001b[1mval: \u001b[0mScanning /kaggle/working/Br35H-Mask-Prepared/val/labels.cache... 151 images, 225 backgrounds, 0 corrupt: 100%|██████████| 376/376 [00:00<?, ?it/s]\n",
      "                 Class     Images  Instances      Box(P          R      mAP50  mAP50-95): 100%|██████████| 12/12 [00:08<00:00,  1.43it/s]\n",
      "                   all        376        181      0.891      0.785      0.888      0.649\n",
      "/usr/local/lib/python3.11/dist-packages/matplotlib/colors.py:721: RuntimeWarning: invalid value encountered in less\n",
      "  xa[xa < 0] = -1\n",
      "/usr/local/lib/python3.11/dist-packages/matplotlib/colors.py:721: RuntimeWarning: invalid value encountered in less\n",
      "  xa[xa < 0] = -1\n",
      "Speed: 2.0ms preprocess, 16.7ms inference, 0.0ms loss, 0.3ms postprocess per image\n",
      "Results saved to \u001b[1mruns/val\u001b[0m\n",
      "Ultralytics YOLOv8.0.202 🚀 Python-3.11.11 torch-2.6.0+cu124 CUDA:0 (Tesla T4, 15095MiB)\n",
      "\u001b[34m\u001b[1mval: \u001b[0mScanning /kaggle/working/Br35H-Mask-Prepared/test/labels... 150 images, 226 backgrounds, 0 corrupt: 100%|██████████| 376/376 [00:00<00:00, 967.44it/s]\n",
      "\u001b[34m\u001b[1mval: \u001b[0mNew cache created: /kaggle/working/Br35H-Mask-Prepared/test/labels.cache\n",
      "                 Class     Images  Instances      Box(P          R      mAP50  mAP50-95): 100%|██████████| 12/12 [00:08<00:00,  1.41it/s]\n",
      "                   all        376        186      0.939       0.72      0.845       0.62\n",
      "/usr/local/lib/python3.11/dist-packages/matplotlib/colors.py:721: RuntimeWarning: invalid value encountered in less\n",
      "  xa[xa < 0] = -1\n",
      "/usr/local/lib/python3.11/dist-packages/matplotlib/colors.py:721: RuntimeWarning: invalid value encountered in less\n",
      "  xa[xa < 0] = -1\n",
      "Speed: 2.0ms preprocess, 17.1ms inference, 0.0ms loss, 0.3ms postprocess per image\n",
      "Results saved to \u001b[1mruns/test\u001b[0m\n"
     ]
    },
    {
     "data": {
      "text/plain": [
       "''"
      ]
     },
     "execution_count": 11,
     "metadata": {},
     "output_type": "execute_result"
    }
   ],
   "source": [
    "\n",
    "best_model = YOLO_lsm('LSM-YOLO/LSM-YOLO.yaml')\n",
    "best_model.model.load_state_dict(torch.load('lsm_best.pt'))\n",
    "best_model.val(data=data_yaml_path, split='val', project='runs', name='val')\n",
    "best_model.val(data=data_yaml_path, split='test', project='runs', name='test')\n",
    "\"\""
   ]
  },
  {
   "cell_type": "code",
   "execution_count": null,
   "id": "bc23f81f",
   "metadata": {
    "papermill": {
     "duration": 0.414771,
     "end_time": "2025-05-18T10:48:28.988034",
     "exception": false,
     "start_time": "2025-05-18T10:48:28.573263",
     "status": "completed"
    },
    "tags": []
   },
   "outputs": [],
   "source": []
  }
 ],
 "metadata": {
  "kaggle": {
   "accelerator": "nvidiaTeslaT4",
   "dataSources": [
    {
     "datasetId": 7432452,
     "sourceId": 11830903,
     "sourceType": "datasetVersion"
    }
   ],
   "dockerImageVersionId": 31041,
   "isGpuEnabled": true,
   "isInternetEnabled": true,
   "language": "python",
   "sourceType": "notebook"
  },
  "kernelspec": {
   "display_name": "Python 3",
   "language": "python",
   "name": "python3"
  },
  "language_info": {
   "codemirror_mode": {
    "name": "ipython",
    "version": 3
   },
   "file_extension": ".py",
   "mimetype": "text/x-python",
   "name": "python",
   "nbconvert_exporter": "python",
   "pygments_lexer": "ipython3",
   "version": "3.11.11"
  },
  "papermill": {
   "default_parameters": {},
   "duration": 33296.983525,
   "end_time": "2025-05-18T10:48:33.075204",
   "environment_variables": {},
   "exception": null,
   "input_path": "__notebook__.ipynb",
   "output_path": "__notebook__.ipynb",
   "parameters": {},
   "start_time": "2025-05-18T01:33:36.091679",
   "version": "2.6.0"
  }
 },
 "nbformat": 4,
 "nbformat_minor": 5
}
